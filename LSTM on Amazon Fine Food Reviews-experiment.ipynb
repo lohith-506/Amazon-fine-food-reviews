{
 "cells": [
  {
   "cell_type": "markdown",
   "metadata": {
    "colab_type": "text",
    "id": "X-cp_kAxCAY2"
   },
   "source": [
    "# Amazon Fine Food Reviews Analysis\n",
    "\n",
    "\n",
    "Data Source: https://www.kaggle.com/snap/amazon-fine-food-reviews <br>\n",
    "\n",
    "EDA: https://nycdatascience.com/blog/student-works/amazon-fine-foods-visualization/\n",
    "\n",
    "\n",
    "The Amazon Fine Food Reviews dataset consists of reviews of fine foods from Amazon.<br>\n",
    "\n",
    "Number of reviews: 568,454<br>\n",
    "Number of users: 256,059<br>\n",
    "Number of products: 74,258<br>\n",
    "Timespan: Oct 1999 - Oct 2012<br>\n",
    "Number of Attributes/Columns in data: 10 \n",
    "\n",
    "Attribute Information:\n",
    "\n",
    "1. Id\n",
    "2. ProductId - unique identifier for the product\n",
    "3. UserId - unqiue identifier for the user\n",
    "4. ProfileName\n",
    "5. HelpfulnessNumerator - number of users who found the review helpful\n",
    "6. HelpfulnessDenominator - number of users who indicated whether they found the review helpful or not\n",
    "7. Score - rating between 1 and 5\n",
    "8. Time - timestamp for the review\n",
    "9. Summary - brief summary of the review\n",
    "10. Text - text of the review\n",
    "\n",
    "\n",
    "#### Objective:\n",
    "Given a review, determine whether the review is positive (Rating of 4 or 5) or negative (rating of 1 or 2).\n",
    "\n",
    "<br>\n",
    "[Q] How to determine if a review is positive or negative?<br>\n",
    "<br> \n",
    "[Ans] We could use the Score/Rating. A rating of 4 or 5 could be cosnidered a positive review. A review of 1 or 2 could be considered negative. A review of 3 is nuetral and ignored. This is an approximate and proxy way of determining the polarity (positivity/negativity) of a review.\n",
    "\n",
    "\n"
   ]
  },
  {
   "cell_type": "markdown",
   "metadata": {
    "colab_type": "text",
    "id": "WHC_UQTuCAY4"
   },
   "source": [
    "## Loading the data\n",
    "\n",
    "The dataset is available in two forms\n",
    "1. .csv file\n",
    "2. SQLite Database\n",
    "\n",
    "In order to load the data, We have used the SQLITE dataset as it easier to query the data and visualise the data efficiently.\n",
    "<br> \n",
    "\n",
    "Here as we only want to get the global sentiment of the recommendations (positive or negative), we will purposefully ignore all Scores equal to 3. If the score id above 3, then the recommendation wil be set to \"positive\". Otherwise, it will be set to \"negative\"."
   ]
  },
  {
   "cell_type": "code",
   "execution_count": 1,
   "metadata": {
    "colab": {},
    "colab_type": "code",
    "id": "PvDdRsHgCAY5",
    "outputId": "65b237f2-2ead-4721-f95a-15ed0bb06d04"
   },
   "outputs": [],
   "source": [
    "%matplotlib inline\n",
    "import warnings\n",
    "warnings.filterwarnings(\"ignore\")\n",
    "\n",
    "\n",
    "\n",
    "import sqlite3\n",
    "import pandas as pd\n",
    "import numpy as np\n",
    "import nltk\n",
    "import string\n",
    "import matplotlib.pyplot as plt\n",
    "import seaborn as sns\n",
    "from sklearn.feature_extraction.text import TfidfTransformer\n",
    "from sklearn.feature_extraction.text import TfidfVectorizer\n",
    "\n",
    "from sklearn.feature_extraction.text import CountVectorizer\n",
    "from sklearn.metrics import confusion_matrix\n",
    "from sklearn import metrics\n",
    "from sklearn.metrics import roc_curve, auc\n",
    "from nltk.stem.porter import PorterStemmer\n",
    "\n",
    "import re\n",
    "# Tutorial about Python regular expressions: https://pymotw.com/2/re/\n",
    "import string\n",
    "from nltk.corpus import stopwords\n",
    "from nltk.stem import PorterStemmer\n",
    "from nltk.stem.wordnet import WordNetLemmatizer\n",
    "\n",
    "from gensim.models import Word2Vec\n",
    "from gensim.models import KeyedVectors\n",
    "import pickle\n",
    "\n",
    "from tqdm import tqdm\n",
    "import os"
   ]
  },
  {
   "cell_type": "code",
   "execution_count": 2,
   "metadata": {},
   "outputs": [
    {
     "name": "stderr",
     "output_type": "stream",
     "text": [
      "Using TensorFlow backend.\n"
     ]
    }
   ],
   "source": [
    "import numpy\n",
    "from keras.datasets import imdb\n",
    "from keras.models import Sequential\n",
    "from keras.layers import Dense\n",
    "from keras.layers import LSTM\n",
    "from keras.layers.embeddings import Embedding\n",
    "from keras.preprocessing import sequence\n",
    "# fix random seed for reproducibility\n",
    "numpy.random.seed(7)"
   ]
  },
  {
   "cell_type": "markdown",
   "metadata": {
    "colab_type": "text",
    "id": "QOI7X2YgCAY_"
   },
   "source": [
    "# [1]. Reading Data"
   ]
  },
  {
   "cell_type": "code",
   "execution_count": 3,
   "metadata": {
    "colab": {},
    "colab_type": "code",
    "id": "3iYH2p1ECAZA",
    "outputId": "3feca330-8e21-4173-ad7c-88eb4d81668e"
   },
   "outputs": [
    {
     "name": "stdout",
     "output_type": "stream",
     "text": [
      "Number of data points in our data (50000, 10)\n"
     ]
    },
    {
     "data": {
      "text/html": [
       "<div>\n",
       "<style scoped>\n",
       "    .dataframe tbody tr th:only-of-type {\n",
       "        vertical-align: middle;\n",
       "    }\n",
       "\n",
       "    .dataframe tbody tr th {\n",
       "        vertical-align: top;\n",
       "    }\n",
       "\n",
       "    .dataframe thead th {\n",
       "        text-align: right;\n",
       "    }\n",
       "</style>\n",
       "<table border=\"1\" class=\"dataframe\">\n",
       "  <thead>\n",
       "    <tr style=\"text-align: right;\">\n",
       "      <th></th>\n",
       "      <th>Id</th>\n",
       "      <th>ProductId</th>\n",
       "      <th>UserId</th>\n",
       "      <th>ProfileName</th>\n",
       "      <th>HelpfulnessNumerator</th>\n",
       "      <th>HelpfulnessDenominator</th>\n",
       "      <th>Score</th>\n",
       "      <th>Time</th>\n",
       "      <th>Summary</th>\n",
       "      <th>Text</th>\n",
       "    </tr>\n",
       "  </thead>\n",
       "  <tbody>\n",
       "    <tr>\n",
       "      <th>0</th>\n",
       "      <td>1</td>\n",
       "      <td>B001E4KFG0</td>\n",
       "      <td>A3SGXH7AUHU8GW</td>\n",
       "      <td>delmartian</td>\n",
       "      <td>1</td>\n",
       "      <td>1</td>\n",
       "      <td>1</td>\n",
       "      <td>1303862400</td>\n",
       "      <td>Good Quality Dog Food</td>\n",
       "      <td>I have bought several of the Vitality canned d...</td>\n",
       "    </tr>\n",
       "    <tr>\n",
       "      <th>1</th>\n",
       "      <td>2</td>\n",
       "      <td>B00813GRG4</td>\n",
       "      <td>A1D87F6ZCVE5NK</td>\n",
       "      <td>dll pa</td>\n",
       "      <td>0</td>\n",
       "      <td>0</td>\n",
       "      <td>0</td>\n",
       "      <td>1346976000</td>\n",
       "      <td>Not as Advertised</td>\n",
       "      <td>Product arrived labeled as Jumbo Salted Peanut...</td>\n",
       "    </tr>\n",
       "    <tr>\n",
       "      <th>2</th>\n",
       "      <td>3</td>\n",
       "      <td>B000LQOCH0</td>\n",
       "      <td>ABXLMWJIXXAIN</td>\n",
       "      <td>Natalia Corres \"Natalia Corres\"</td>\n",
       "      <td>1</td>\n",
       "      <td>1</td>\n",
       "      <td>1</td>\n",
       "      <td>1219017600</td>\n",
       "      <td>\"Delight\" says it all</td>\n",
       "      <td>This is a confection that has been around a fe...</td>\n",
       "    </tr>\n",
       "  </tbody>\n",
       "</table>\n",
       "</div>"
      ],
      "text/plain": [
       "   Id   ProductId          UserId                      ProfileName  \\\n",
       "0   1  B001E4KFG0  A3SGXH7AUHU8GW                       delmartian   \n",
       "1   2  B00813GRG4  A1D87F6ZCVE5NK                           dll pa   \n",
       "2   3  B000LQOCH0   ABXLMWJIXXAIN  Natalia Corres \"Natalia Corres\"   \n",
       "\n",
       "   HelpfulnessNumerator  HelpfulnessDenominator  Score        Time  \\\n",
       "0                     1                       1      1  1303862400   \n",
       "1                     0                       0      0  1346976000   \n",
       "2                     1                       1      1  1219017600   \n",
       "\n",
       "                 Summary                                               Text  \n",
       "0  Good Quality Dog Food  I have bought several of the Vitality canned d...  \n",
       "1      Not as Advertised  Product arrived labeled as Jumbo Salted Peanut...  \n",
       "2  \"Delight\" says it all  This is a confection that has been around a fe...  "
      ]
     },
     "execution_count": 3,
     "metadata": {},
     "output_type": "execute_result"
    }
   ],
   "source": [
    "\n",
    "# using the SQLite Table to read data.\n",
    "con = sqlite3.connect('database.sqlite') \n",
    "#filtering only positive and negative reviews i.e. \n",
    "# not taking into consideration those reviews with Score=3\n",
    "# SELECT * FROM Reviews WHERE Score != 3 LIMIT 500000, will give top 500000 data points\n",
    "# you can change the number to any other number based on your computing power\n",
    "\n",
    "# filtered_data = pd.read_sql_query(\"\"\" SELECT * FROM Reviews WHERE Score != 3 LIMIT 500000\"\"\", con) \n",
    "# for tsne assignment you can take 5k data points\n",
    "\n",
    "filtered_data = pd.read_sql_query(\"\"\" SELECT * FROM Reviews WHERE Score != 3 LIMIT 50000\"\"\", con) \n",
    "\n",
    "# Give reviews with Score>3 a positive rating, and reviews with a score<3 a negative rating.\n",
    "def partition(x):\n",
    "    if x < 3:\n",
    "        return 0\n",
    "    return 1\n",
    "\n",
    "#changing reviews with score less than 3 to be positive and vice-versa\n",
    "actualScore = filtered_data['Score']\n",
    "positiveNegative = actualScore.map(partition) \n",
    "filtered_data['Score'] = positiveNegative\n",
    "print(\"Number of data points in our data\", filtered_data.shape)\n",
    "filtered_data.head(3)"
   ]
  },
  {
   "cell_type": "code",
   "execution_count": 4,
   "metadata": {
    "colab": {},
    "colab_type": "code",
    "id": "I1jf03kECAZF"
   },
   "outputs": [],
   "source": [
    "display = pd.read_sql_query(\"\"\"\n",
    "SELECT UserId, ProductId, ProfileName, Time, Score, Text, COUNT(*)\n",
    "FROM Reviews\n",
    "GROUP BY UserId\n",
    "HAVING COUNT(*)>1\n",
    "\"\"\", con)"
   ]
  },
  {
   "cell_type": "code",
   "execution_count": 5,
   "metadata": {
    "colab": {},
    "colab_type": "code",
    "id": "Ja8xSefOCAZH",
    "outputId": "2cbd0705-618b-47cf-ce18-f3d0d4063cbf"
   },
   "outputs": [
    {
     "name": "stdout",
     "output_type": "stream",
     "text": [
      "(80668, 7)\n"
     ]
    },
    {
     "data": {
      "text/html": [
       "<div>\n",
       "<style scoped>\n",
       "    .dataframe tbody tr th:only-of-type {\n",
       "        vertical-align: middle;\n",
       "    }\n",
       "\n",
       "    .dataframe tbody tr th {\n",
       "        vertical-align: top;\n",
       "    }\n",
       "\n",
       "    .dataframe thead th {\n",
       "        text-align: right;\n",
       "    }\n",
       "</style>\n",
       "<table border=\"1\" class=\"dataframe\">\n",
       "  <thead>\n",
       "    <tr style=\"text-align: right;\">\n",
       "      <th></th>\n",
       "      <th>UserId</th>\n",
       "      <th>ProductId</th>\n",
       "      <th>ProfileName</th>\n",
       "      <th>Time</th>\n",
       "      <th>Score</th>\n",
       "      <th>Text</th>\n",
       "      <th>COUNT(*)</th>\n",
       "    </tr>\n",
       "  </thead>\n",
       "  <tbody>\n",
       "    <tr>\n",
       "      <th>0</th>\n",
       "      <td>#oc-R115TNMSPFT9I7</td>\n",
       "      <td>B007Y59HVM</td>\n",
       "      <td>Breyton</td>\n",
       "      <td>1331510400</td>\n",
       "      <td>2</td>\n",
       "      <td>Overall its just OK when considering the price...</td>\n",
       "      <td>2</td>\n",
       "    </tr>\n",
       "    <tr>\n",
       "      <th>1</th>\n",
       "      <td>#oc-R11D9D7SHXIJB9</td>\n",
       "      <td>B005HG9ET0</td>\n",
       "      <td>Louis E. Emory \"hoppy\"</td>\n",
       "      <td>1342396800</td>\n",
       "      <td>5</td>\n",
       "      <td>My wife has recurring extreme muscle spasms, u...</td>\n",
       "      <td>3</td>\n",
       "    </tr>\n",
       "    <tr>\n",
       "      <th>2</th>\n",
       "      <td>#oc-R11DNU2NBKQ23Z</td>\n",
       "      <td>B007Y59HVM</td>\n",
       "      <td>Kim Cieszykowski</td>\n",
       "      <td>1348531200</td>\n",
       "      <td>1</td>\n",
       "      <td>This coffee is horrible and unfortunately not ...</td>\n",
       "      <td>2</td>\n",
       "    </tr>\n",
       "    <tr>\n",
       "      <th>3</th>\n",
       "      <td>#oc-R11O5J5ZVQE25C</td>\n",
       "      <td>B005HG9ET0</td>\n",
       "      <td>Penguin Chick</td>\n",
       "      <td>1346889600</td>\n",
       "      <td>5</td>\n",
       "      <td>This will be the bottle that you grab from the...</td>\n",
       "      <td>3</td>\n",
       "    </tr>\n",
       "    <tr>\n",
       "      <th>4</th>\n",
       "      <td>#oc-R12KPBODL2B5ZD</td>\n",
       "      <td>B007OSBE1U</td>\n",
       "      <td>Christopher P. Presta</td>\n",
       "      <td>1348617600</td>\n",
       "      <td>1</td>\n",
       "      <td>I didnt like this coffee. Instead of telling y...</td>\n",
       "      <td>2</td>\n",
       "    </tr>\n",
       "  </tbody>\n",
       "</table>\n",
       "</div>"
      ],
      "text/plain": [
       "               UserId   ProductId             ProfileName        Time  Score  \\\n",
       "0  #oc-R115TNMSPFT9I7  B007Y59HVM                 Breyton  1331510400      2   \n",
       "1  #oc-R11D9D7SHXIJB9  B005HG9ET0  Louis E. Emory \"hoppy\"  1342396800      5   \n",
       "2  #oc-R11DNU2NBKQ23Z  B007Y59HVM        Kim Cieszykowski  1348531200      1   \n",
       "3  #oc-R11O5J5ZVQE25C  B005HG9ET0           Penguin Chick  1346889600      5   \n",
       "4  #oc-R12KPBODL2B5ZD  B007OSBE1U   Christopher P. Presta  1348617600      1   \n",
       "\n",
       "                                                Text  COUNT(*)  \n",
       "0  Overall its just OK when considering the price...         2  \n",
       "1  My wife has recurring extreme muscle spasms, u...         3  \n",
       "2  This coffee is horrible and unfortunately not ...         2  \n",
       "3  This will be the bottle that you grab from the...         3  \n",
       "4  I didnt like this coffee. Instead of telling y...         2  "
      ]
     },
     "execution_count": 5,
     "metadata": {},
     "output_type": "execute_result"
    }
   ],
   "source": [
    "print(display.shape)\n",
    "display.head()"
   ]
  },
  {
   "cell_type": "code",
   "execution_count": 6,
   "metadata": {
    "colab": {},
    "colab_type": "code",
    "id": "u5ctUTW-CAZK",
    "outputId": "41439570-0ff9-44bb-9c05-e87bcb3dd6b7"
   },
   "outputs": [
    {
     "data": {
      "text/html": [
       "<div>\n",
       "<style scoped>\n",
       "    .dataframe tbody tr th:only-of-type {\n",
       "        vertical-align: middle;\n",
       "    }\n",
       "\n",
       "    .dataframe tbody tr th {\n",
       "        vertical-align: top;\n",
       "    }\n",
       "\n",
       "    .dataframe thead th {\n",
       "        text-align: right;\n",
       "    }\n",
       "</style>\n",
       "<table border=\"1\" class=\"dataframe\">\n",
       "  <thead>\n",
       "    <tr style=\"text-align: right;\">\n",
       "      <th></th>\n",
       "      <th>UserId</th>\n",
       "      <th>ProductId</th>\n",
       "      <th>ProfileName</th>\n",
       "      <th>Time</th>\n",
       "      <th>Score</th>\n",
       "      <th>Text</th>\n",
       "      <th>COUNT(*)</th>\n",
       "    </tr>\n",
       "  </thead>\n",
       "  <tbody>\n",
       "    <tr>\n",
       "      <th>80638</th>\n",
       "      <td>AZY10LLTJ71NX</td>\n",
       "      <td>B006P7E5ZI</td>\n",
       "      <td>undertheshrine \"undertheshrine\"</td>\n",
       "      <td>1334707200</td>\n",
       "      <td>5</td>\n",
       "      <td>I was recommended to try green tea extract to ...</td>\n",
       "      <td>5</td>\n",
       "    </tr>\n",
       "  </tbody>\n",
       "</table>\n",
       "</div>"
      ],
      "text/plain": [
       "              UserId   ProductId                      ProfileName        Time  \\\n",
       "80638  AZY10LLTJ71NX  B006P7E5ZI  undertheshrine \"undertheshrine\"  1334707200   \n",
       "\n",
       "       Score                                               Text  COUNT(*)  \n",
       "80638      5  I was recommended to try green tea extract to ...         5  "
      ]
     },
     "execution_count": 6,
     "metadata": {},
     "output_type": "execute_result"
    }
   ],
   "source": [
    "display[display['UserId']=='AZY10LLTJ71NX']"
   ]
  },
  {
   "cell_type": "code",
   "execution_count": 7,
   "metadata": {
    "colab": {},
    "colab_type": "code",
    "id": "tiaXnkZxCAZO",
    "outputId": "0bbd60e6-e66b-4f20-9060-bf0cfe143b1f"
   },
   "outputs": [
    {
     "data": {
      "text/plain": [
       "393063"
      ]
     },
     "execution_count": 7,
     "metadata": {},
     "output_type": "execute_result"
    }
   ],
   "source": [
    "display['COUNT(*)'].sum()"
   ]
  },
  {
   "cell_type": "markdown",
   "metadata": {
    "colab_type": "text",
    "id": "TX5b3dc5CAZS"
   },
   "source": [
    "#  Exploratory Data Analysis\n",
    "\n",
    "## [2] Data Cleaning: Deduplication\n",
    "\n",
    "It is observed (as shown in the table below) that the reviews data had many duplicate entries. Hence it was necessary to remove duplicates in order to get unbiased results for the analysis of the data.  Following is an example:"
   ]
  },
  {
   "cell_type": "code",
   "execution_count": 8,
   "metadata": {
    "colab": {},
    "colab_type": "code",
    "id": "4jW_0WxCCAZT",
    "outputId": "4e526ab2-98f3-46ae-93dc-3e061cb06d59",
    "scrolled": false
   },
   "outputs": [
    {
     "data": {
      "text/html": [
       "<div>\n",
       "<style scoped>\n",
       "    .dataframe tbody tr th:only-of-type {\n",
       "        vertical-align: middle;\n",
       "    }\n",
       "\n",
       "    .dataframe tbody tr th {\n",
       "        vertical-align: top;\n",
       "    }\n",
       "\n",
       "    .dataframe thead th {\n",
       "        text-align: right;\n",
       "    }\n",
       "</style>\n",
       "<table border=\"1\" class=\"dataframe\">\n",
       "  <thead>\n",
       "    <tr style=\"text-align: right;\">\n",
       "      <th></th>\n",
       "      <th>Id</th>\n",
       "      <th>ProductId</th>\n",
       "      <th>UserId</th>\n",
       "      <th>ProfileName</th>\n",
       "      <th>HelpfulnessNumerator</th>\n",
       "      <th>HelpfulnessDenominator</th>\n",
       "      <th>Score</th>\n",
       "      <th>Time</th>\n",
       "      <th>Summary</th>\n",
       "      <th>Text</th>\n",
       "    </tr>\n",
       "  </thead>\n",
       "  <tbody>\n",
       "    <tr>\n",
       "      <th>0</th>\n",
       "      <td>78445</td>\n",
       "      <td>B000HDL1RQ</td>\n",
       "      <td>AR5J8UI46CURR</td>\n",
       "      <td>Geetha Krishnan</td>\n",
       "      <td>2</td>\n",
       "      <td>2</td>\n",
       "      <td>5</td>\n",
       "      <td>1199577600</td>\n",
       "      <td>LOACKER QUADRATINI VANILLA WAFERS</td>\n",
       "      <td>DELICIOUS WAFERS. I FIND THAT EUROPEAN WAFERS ...</td>\n",
       "    </tr>\n",
       "    <tr>\n",
       "      <th>1</th>\n",
       "      <td>138317</td>\n",
       "      <td>B000HDOPYC</td>\n",
       "      <td>AR5J8UI46CURR</td>\n",
       "      <td>Geetha Krishnan</td>\n",
       "      <td>2</td>\n",
       "      <td>2</td>\n",
       "      <td>5</td>\n",
       "      <td>1199577600</td>\n",
       "      <td>LOACKER QUADRATINI VANILLA WAFERS</td>\n",
       "      <td>DELICIOUS WAFERS. I FIND THAT EUROPEAN WAFERS ...</td>\n",
       "    </tr>\n",
       "    <tr>\n",
       "      <th>2</th>\n",
       "      <td>138277</td>\n",
       "      <td>B000HDOPYM</td>\n",
       "      <td>AR5J8UI46CURR</td>\n",
       "      <td>Geetha Krishnan</td>\n",
       "      <td>2</td>\n",
       "      <td>2</td>\n",
       "      <td>5</td>\n",
       "      <td>1199577600</td>\n",
       "      <td>LOACKER QUADRATINI VANILLA WAFERS</td>\n",
       "      <td>DELICIOUS WAFERS. I FIND THAT EUROPEAN WAFERS ...</td>\n",
       "    </tr>\n",
       "    <tr>\n",
       "      <th>3</th>\n",
       "      <td>73791</td>\n",
       "      <td>B000HDOPZG</td>\n",
       "      <td>AR5J8UI46CURR</td>\n",
       "      <td>Geetha Krishnan</td>\n",
       "      <td>2</td>\n",
       "      <td>2</td>\n",
       "      <td>5</td>\n",
       "      <td>1199577600</td>\n",
       "      <td>LOACKER QUADRATINI VANILLA WAFERS</td>\n",
       "      <td>DELICIOUS WAFERS. I FIND THAT EUROPEAN WAFERS ...</td>\n",
       "    </tr>\n",
       "    <tr>\n",
       "      <th>4</th>\n",
       "      <td>155049</td>\n",
       "      <td>B000PAQ75C</td>\n",
       "      <td>AR5J8UI46CURR</td>\n",
       "      <td>Geetha Krishnan</td>\n",
       "      <td>2</td>\n",
       "      <td>2</td>\n",
       "      <td>5</td>\n",
       "      <td>1199577600</td>\n",
       "      <td>LOACKER QUADRATINI VANILLA WAFERS</td>\n",
       "      <td>DELICIOUS WAFERS. I FIND THAT EUROPEAN WAFERS ...</td>\n",
       "    </tr>\n",
       "  </tbody>\n",
       "</table>\n",
       "</div>"
      ],
      "text/plain": [
       "       Id   ProductId         UserId      ProfileName  HelpfulnessNumerator  \\\n",
       "0   78445  B000HDL1RQ  AR5J8UI46CURR  Geetha Krishnan                     2   \n",
       "1  138317  B000HDOPYC  AR5J8UI46CURR  Geetha Krishnan                     2   \n",
       "2  138277  B000HDOPYM  AR5J8UI46CURR  Geetha Krishnan                     2   \n",
       "3   73791  B000HDOPZG  AR5J8UI46CURR  Geetha Krishnan                     2   \n",
       "4  155049  B000PAQ75C  AR5J8UI46CURR  Geetha Krishnan                     2   \n",
       "\n",
       "   HelpfulnessDenominator  Score        Time  \\\n",
       "0                       2      5  1199577600   \n",
       "1                       2      5  1199577600   \n",
       "2                       2      5  1199577600   \n",
       "3                       2      5  1199577600   \n",
       "4                       2      5  1199577600   \n",
       "\n",
       "                             Summary  \\\n",
       "0  LOACKER QUADRATINI VANILLA WAFERS   \n",
       "1  LOACKER QUADRATINI VANILLA WAFERS   \n",
       "2  LOACKER QUADRATINI VANILLA WAFERS   \n",
       "3  LOACKER QUADRATINI VANILLA WAFERS   \n",
       "4  LOACKER QUADRATINI VANILLA WAFERS   \n",
       "\n",
       "                                                Text  \n",
       "0  DELICIOUS WAFERS. I FIND THAT EUROPEAN WAFERS ...  \n",
       "1  DELICIOUS WAFERS. I FIND THAT EUROPEAN WAFERS ...  \n",
       "2  DELICIOUS WAFERS. I FIND THAT EUROPEAN WAFERS ...  \n",
       "3  DELICIOUS WAFERS. I FIND THAT EUROPEAN WAFERS ...  \n",
       "4  DELICIOUS WAFERS. I FIND THAT EUROPEAN WAFERS ...  "
      ]
     },
     "execution_count": 8,
     "metadata": {},
     "output_type": "execute_result"
    }
   ],
   "source": [
    "display= pd.read_sql_query(\"\"\"\n",
    "SELECT *\n",
    "FROM Reviews\n",
    "WHERE Score != 3 AND UserId=\"AR5J8UI46CURR\"\n",
    "ORDER BY ProductID\n",
    "\"\"\", con)\n",
    "display.head()"
   ]
  },
  {
   "cell_type": "markdown",
   "metadata": {
    "colab_type": "text",
    "id": "BzVTlHiMCAZV"
   },
   "source": [
    "As can be seen above the same user has multiple reviews of the with the same values for HelpfulnessNumerator, HelpfulnessDenominator, Score, Time, Summary and Text  and on doing analysis it was found that <br>\n",
    "<br> \n",
    "ProductId=B000HDOPZG was Loacker Quadratini Vanilla Wafer Cookies, 8.82-Ounce Packages (Pack of 8)<br>\n",
    "<br> \n",
    "ProductId=B000HDL1RQ was Loacker Quadratini Lemon Wafer Cookies, 8.82-Ounce Packages (Pack of 8) and so on<br>\n",
    "\n",
    "It was inferred after analysis that reviews with same parameters other than ProductId belonged to the same product just having different flavour or quantity. Hence in order to reduce redundancy it was decided to eliminate the rows having same parameters.<br>\n",
    "\n",
    "The method used for the same was that we first sort the data according to ProductId and then just keep the first similar product review and delelte the others. for eg. in the above just the review for ProductId=B000HDL1RQ remains. This method ensures that there is only one representative for each product and deduplication without sorting would lead to possibility of different representatives still existing for the same product."
   ]
  },
  {
   "cell_type": "code",
   "execution_count": 9,
   "metadata": {
    "colab": {},
    "colab_type": "code",
    "id": "DGy2NM7BCAZX"
   },
   "outputs": [],
   "source": [
    "#Sorting data according to ProductId in ascending order\n",
    "sorted_data=filtered_data.sort_values('Time', axis=0, ascending=True, inplace=False, kind='quicksort', na_position='last')"
   ]
  },
  {
   "cell_type": "code",
   "execution_count": 10,
   "metadata": {
    "colab": {},
    "colab_type": "code",
    "id": "8b-O13XVCAZZ",
    "outputId": "12b254d4-826d-4cfc-bb6d-455f4d5b2a4f"
   },
   "outputs": [
    {
     "data": {
      "text/plain": [
       "(46072, 10)"
      ]
     },
     "execution_count": 10,
     "metadata": {},
     "output_type": "execute_result"
    }
   ],
   "source": [
    "#Deduplication of entries\n",
    "final=sorted_data.drop_duplicates(subset={\"UserId\",\"ProfileName\",\"Time\",\"Text\"}, keep='first', inplace=False)\n",
    "final.shape"
   ]
  },
  {
   "cell_type": "code",
   "execution_count": 11,
   "metadata": {
    "colab": {},
    "colab_type": "code",
    "id": "S72Yh-rHCAZc",
    "outputId": "146c067f-081c-4e26-f527-71442ff83b8d"
   },
   "outputs": [
    {
     "data": {
      "text/plain": [
       "92.144"
      ]
     },
     "execution_count": 11,
     "metadata": {},
     "output_type": "execute_result"
    }
   ],
   "source": [
    "#Checking to see how much % of data still remains\n",
    "(final['Id'].size*1.0)/(filtered_data['Id'].size*1.0)*100"
   ]
  },
  {
   "cell_type": "markdown",
   "metadata": {
    "colab_type": "text",
    "id": "LO5nLKeFCAZf"
   },
   "source": [
    "<b>Observation:-</b> It was also seen that in two rows given below the value of HelpfulnessNumerator is greater than HelpfulnessDenominator which is not practically possible hence these two rows too are removed from calcualtions"
   ]
  },
  {
   "cell_type": "code",
   "execution_count": 12,
   "metadata": {
    "colab": {},
    "colab_type": "code",
    "id": "L9z5lrsiCAZh",
    "outputId": "1a0dfa7c-62f4-4469-a97b-38f77fa3b2ab"
   },
   "outputs": [
    {
     "data": {
      "text/html": [
       "<div>\n",
       "<style scoped>\n",
       "    .dataframe tbody tr th:only-of-type {\n",
       "        vertical-align: middle;\n",
       "    }\n",
       "\n",
       "    .dataframe tbody tr th {\n",
       "        vertical-align: top;\n",
       "    }\n",
       "\n",
       "    .dataframe thead th {\n",
       "        text-align: right;\n",
       "    }\n",
       "</style>\n",
       "<table border=\"1\" class=\"dataframe\">\n",
       "  <thead>\n",
       "    <tr style=\"text-align: right;\">\n",
       "      <th></th>\n",
       "      <th>Id</th>\n",
       "      <th>ProductId</th>\n",
       "      <th>UserId</th>\n",
       "      <th>ProfileName</th>\n",
       "      <th>HelpfulnessNumerator</th>\n",
       "      <th>HelpfulnessDenominator</th>\n",
       "      <th>Score</th>\n",
       "      <th>Time</th>\n",
       "      <th>Summary</th>\n",
       "      <th>Text</th>\n",
       "    </tr>\n",
       "  </thead>\n",
       "  <tbody>\n",
       "    <tr>\n",
       "      <th>0</th>\n",
       "      <td>64422</td>\n",
       "      <td>B000MIDROQ</td>\n",
       "      <td>A161DK06JJMCYF</td>\n",
       "      <td>J. E. Stephens \"Jeanne\"</td>\n",
       "      <td>3</td>\n",
       "      <td>1</td>\n",
       "      <td>5</td>\n",
       "      <td>1224892800</td>\n",
       "      <td>Bought This for My Son at College</td>\n",
       "      <td>My son loves spaghetti so I didn't hesitate or...</td>\n",
       "    </tr>\n",
       "    <tr>\n",
       "      <th>1</th>\n",
       "      <td>44737</td>\n",
       "      <td>B001EQ55RW</td>\n",
       "      <td>A2V0I904FH7ABY</td>\n",
       "      <td>Ram</td>\n",
       "      <td>3</td>\n",
       "      <td>2</td>\n",
       "      <td>4</td>\n",
       "      <td>1212883200</td>\n",
       "      <td>Pure cocoa taste with crunchy almonds inside</td>\n",
       "      <td>It was almost a 'love at first bite' - the per...</td>\n",
       "    </tr>\n",
       "  </tbody>\n",
       "</table>\n",
       "</div>"
      ],
      "text/plain": [
       "      Id   ProductId          UserId              ProfileName  \\\n",
       "0  64422  B000MIDROQ  A161DK06JJMCYF  J. E. Stephens \"Jeanne\"   \n",
       "1  44737  B001EQ55RW  A2V0I904FH7ABY                      Ram   \n",
       "\n",
       "   HelpfulnessNumerator  HelpfulnessDenominator  Score        Time  \\\n",
       "0                     3                       1      5  1224892800   \n",
       "1                     3                       2      4  1212883200   \n",
       "\n",
       "                                        Summary  \\\n",
       "0             Bought This for My Son at College   \n",
       "1  Pure cocoa taste with crunchy almonds inside   \n",
       "\n",
       "                                                Text  \n",
       "0  My son loves spaghetti so I didn't hesitate or...  \n",
       "1  It was almost a 'love at first bite' - the per...  "
      ]
     },
     "execution_count": 12,
     "metadata": {},
     "output_type": "execute_result"
    }
   ],
   "source": [
    "display= pd.read_sql_query(\"\"\"\n",
    "SELECT *\n",
    "FROM Reviews\n",
    "WHERE Score != 3 AND Id=44737 OR Id=64422\n",
    "ORDER BY ProductID\n",
    "\"\"\", con)\n",
    "\n",
    "display.head()"
   ]
  },
  {
   "cell_type": "code",
   "execution_count": 13,
   "metadata": {
    "colab": {},
    "colab_type": "code",
    "id": "8Tphk1piCAZk"
   },
   "outputs": [],
   "source": [
    "final=final[final.HelpfulnessNumerator<=final.HelpfulnessDenominator]"
   ]
  },
  {
   "cell_type": "code",
   "execution_count": 14,
   "metadata": {
    "colab": {},
    "colab_type": "code",
    "id": "8TpsGDdJCAZm",
    "outputId": "287c6c08-d222-4848-b677-c9a5e769d0b1"
   },
   "outputs": [
    {
     "name": "stdout",
     "output_type": "stream",
     "text": [
      "(46071, 10)\n"
     ]
    },
    {
     "data": {
      "text/plain": [
       "1    38479\n",
       "0     7592\n",
       "Name: Score, dtype: int64"
      ]
     },
     "execution_count": 14,
     "metadata": {},
     "output_type": "execute_result"
    }
   ],
   "source": [
    "#Before starting the next phase of preprocessing lets see the number of entries left\n",
    "print(final.shape)\n",
    "\n",
    "#How many positive and negative reviews are present in our dataset?\n",
    "final['Score'].value_counts()"
   ]
  },
  {
   "cell_type": "markdown",
   "metadata": {
    "colab_type": "text",
    "id": "RxBsuBylCAZr"
   },
   "source": [
    "# [3].  Text Preprocessing.\n",
    "\n",
    "Now that we have finished deduplication our data requires some preprocessing before we go on further with analysis and making the prediction model.\n",
    "\n",
    "Hence in the Preprocessing phase we do the following in the order below:-\n",
    "\n",
    "1. Begin by removing the html tags\n",
    "2. Remove any punctuations or limited set of special characters like , or . or # etc.\n",
    "3. Check if the word is made up of english letters and is not alpha-numeric\n",
    "4. Check to see if the length of the word is greater than 2 (as it was researched that there is no adjective in 2-letters)\n",
    "5. Convert the word to lowercase\n",
    "6. Remove Stopwords\n",
    "7. Finally Snowball Stemming the word (it was obsereved to be better than Porter Stemming)<br>\n",
    "\n",
    "After which we collect the words used to describe positive and negative reviews"
   ]
  },
  {
   "cell_type": "code",
   "execution_count": 15,
   "metadata": {
    "colab": {},
    "colab_type": "code",
    "id": "laOGMFB7CAZt",
    "outputId": "49d82795-cea4-4695-9834-45978266f6f4"
   },
   "outputs": [
    {
     "name": "stdout",
     "output_type": "stream",
     "text": [
      "This was a really good idea and the final product is outstanding. I use the decals on my car window and everybody asks where i bought the decals i made.  Two thumbs up!\n",
      "==================================================\n",
      "If your trying to do a low carb product.  This works out great.  There are receipies on tova's website on how to make poundcake, pancakes, and a variety of other items.  They turn out pretty great.<br /><br />Try it.  It's a great product.<br /><br /> ~Donna\n",
      "==================================================\n",
      "The orange and lemon peels make this tea very hippy.  Despite  the initial oohing and ahing over the pretty blue flowers, this is a regrettable purchase.  I was hoping for a stronger bergamot component than Twinings' Earl Grey but instead I got something that seems very herbal.  Blech.  I disagree with the positive reviews.\n",
      "==================================================\n",
      "I tried to change my review to 4 stars, but I don't seem able to do that.  These are 3 oz cans of 4 different flavors of fish based catfood.  Chicken and rabbit are often more recommended for cats.  The first ingredient is fish broth, making it somewhat high in moisture.  I've heard that cats often need more water than they drink, so I'd assume its a good thing to get more moisture down them, but this is an expensive way to do it (you could just add a little water to their food).  The good news is that there appears to be no grains in the ingredient list, looks like almost all meat based (except for the usual additives).  The grains in most catfoods are thought to not be good for the cats.  This catfood is not cheap, but it appears to be a better than usual cat food.\n",
      "==================================================\n"
     ]
    }
   ],
   "source": [
    "# printing some random reviews\n",
    "sent_0 = final['Text'].values[0]\n",
    "print(sent_0)\n",
    "print(\"=\"*50)\n",
    "\n",
    "sent_1000 = final['Text'].values[1000]\n",
    "print(sent_1000)\n",
    "print(\"=\"*50)\n",
    "\n",
    "sent_1500 = final['Text'].values[1500]\n",
    "print(sent_1500)\n",
    "print(\"=\"*50)\n",
    "\n",
    "sent_4900 = final['Text'].values[4900]\n",
    "print(sent_4900)\n",
    "print(\"=\"*50)"
   ]
  },
  {
   "cell_type": "code",
   "execution_count": 16,
   "metadata": {
    "colab": {},
    "colab_type": "code",
    "id": "MvD0JaQ9CAZx",
    "outputId": "dcc683d4-6014-4430-fb91-f9526bca4475"
   },
   "outputs": [
    {
     "name": "stdout",
     "output_type": "stream",
     "text": [
      "This was a really good idea and the final product is outstanding. I use the decals on my car window and everybody asks where i bought the decals i made.  Two thumbs up!\n"
     ]
    }
   ],
   "source": [
    "# remove urls from text python: https://stackoverflow.com/a/40823105/4084039\n",
    "sent_0 = re.sub(r\"http\\S+\", \"\", sent_0)\n",
    "sent_1000 = re.sub(r\"http\\S+\", \"\", sent_1000)\n",
    "sent_150 = re.sub(r\"http\\S+\", \"\", sent_1500)\n",
    "sent_4900 = re.sub(r\"http\\S+\", \"\", sent_4900)\n",
    "\n",
    "print(sent_0)"
   ]
  },
  {
   "cell_type": "code",
   "execution_count": 17,
   "metadata": {
    "colab": {},
    "colab_type": "code",
    "id": "Liu2zNFLCAZ0",
    "outputId": "f66770ef-17d3-4a99-df7f-75242858701d"
   },
   "outputs": [
    {
     "name": "stdout",
     "output_type": "stream",
     "text": [
      "This was a really good idea and the final product is outstanding. I use the decals on my car window and everybody asks where i bought the decals i made.  Two thumbs up!\n",
      "==================================================\n",
      "If your trying to do a low carb product.  This works out great.  There are receipies on tova's website on how to make poundcake, pancakes, and a variety of other items.  They turn out pretty great.Try it.  It's a great product. ~Donna\n",
      "==================================================\n",
      "The orange and lemon peels make this tea very hippy.  Despite  the initial oohing and ahing over the pretty blue flowers, this is a regrettable purchase.  I was hoping for a stronger bergamot component than Twinings' Earl Grey but instead I got something that seems very herbal.  Blech.  I disagree with the positive reviews.\n",
      "==================================================\n",
      "I tried to change my review to 4 stars, but I don't seem able to do that.  These are 3 oz cans of 4 different flavors of fish based catfood.  Chicken and rabbit are often more recommended for cats.  The first ingredient is fish broth, making it somewhat high in moisture.  I've heard that cats often need more water than they drink, so I'd assume its a good thing to get more moisture down them, but this is an expensive way to do it (you could just add a little water to their food).  The good news is that there appears to be no grains in the ingredient list, looks like almost all meat based (except for the usual additives).  The grains in most catfoods are thought to not be good for the cats.  This catfood is not cheap, but it appears to be a better than usual cat food.\n"
     ]
    }
   ],
   "source": [
    "# https://stackoverflow.com/questions/16206380/python-beautifulsoup-how-to-remove-all-tags-from-an-element\n",
    "from bs4 import BeautifulSoup\n",
    "\n",
    "soup = BeautifulSoup(sent_0, 'lxml')\n",
    "text = soup.get_text()\n",
    "print(text)\n",
    "print(\"=\"*50)\n",
    "\n",
    "soup = BeautifulSoup(sent_1000, 'lxml')\n",
    "text = soup.get_text()\n",
    "print(text)\n",
    "print(\"=\"*50)\n",
    "\n",
    "soup = BeautifulSoup(sent_1500, 'lxml')\n",
    "text = soup.get_text()\n",
    "print(text)\n",
    "print(\"=\"*50)\n",
    "\n",
    "soup = BeautifulSoup(sent_4900, 'lxml')\n",
    "text = soup.get_text()\n",
    "print(text)"
   ]
  },
  {
   "cell_type": "code",
   "execution_count": 18,
   "metadata": {
    "colab": {},
    "colab_type": "code",
    "id": "lNHWbzBaCAZ3"
   },
   "outputs": [],
   "source": [
    "# https://stackoverflow.com/a/47091490/4084039\n",
    "import re\n",
    "\n",
    "def decontracted(phrase):\n",
    "    # specific\n",
    "    phrase = re.sub(r\"won't\", \"will not\", phrase)\n",
    "    phrase = re.sub(r\"can\\'t\", \"can not\", phrase)\n",
    "\n",
    "    # general\n",
    "    phrase = re.sub(r\"n\\'t\", \" not\", phrase)\n",
    "    phrase = re.sub(r\"\\'re\", \" are\", phrase)\n",
    "    phrase = re.sub(r\"\\'s\", \" is\", phrase)\n",
    "    phrase = re.sub(r\"\\'d\", \" would\", phrase)\n",
    "    phrase = re.sub(r\"\\'ll\", \" will\", phrase)\n",
    "    phrase = re.sub(r\"\\'t\", \" not\", phrase)\n",
    "    phrase = re.sub(r\"\\'ve\", \" have\", phrase)\n",
    "    phrase = re.sub(r\"\\'m\", \" am\", phrase)\n",
    "    return phrase"
   ]
  },
  {
   "cell_type": "code",
   "execution_count": 19,
   "metadata": {
    "colab": {},
    "colab_type": "code",
    "id": "y7v1fmngCAZ5",
    "outputId": "22e3fcb6-c2e6-4c92-be48-f65543b1140f"
   },
   "outputs": [
    {
     "name": "stdout",
     "output_type": "stream",
     "text": [
      "The orange and lemon peels make this tea very hippy.  Despite  the initial oohing and ahing over the pretty blue flowers, this is a regrettable purchase.  I was hoping for a stronger bergamot component than Twinings' Earl Grey but instead I got something that seems very herbal.  Blech.  I disagree with the positive reviews.\n",
      "==================================================\n"
     ]
    }
   ],
   "source": [
    "sent_1500 = decontracted(sent_1500)\n",
    "print(sent_1500)\n",
    "print(\"=\"*50)"
   ]
  },
  {
   "cell_type": "code",
   "execution_count": 20,
   "metadata": {
    "colab": {},
    "colab_type": "code",
    "id": "jKIBLrAjCAZ7",
    "outputId": "376f1e55-511a-4352-c345-a39f1d2a2224"
   },
   "outputs": [
    {
     "name": "stdout",
     "output_type": "stream",
     "text": [
      "This was a really good idea and the final product is outstanding. I use the decals on my car window and everybody asks where i bought the decals i made.  Two thumbs up!\n"
     ]
    }
   ],
   "source": [
    "#remove words with numbers python: https://stackoverflow.com/a/18082370/4084039\n",
    "sent_0 = re.sub(\"\\S*\\d\\S*\", \"\", sent_0).strip()\n",
    "print(sent_0)"
   ]
  },
  {
   "cell_type": "code",
   "execution_count": 21,
   "metadata": {
    "colab": {},
    "colab_type": "code",
    "id": "sU3eY6geCAZ9",
    "outputId": "90d91c93-0d77-47c0-e496-77d1611a86fb"
   },
   "outputs": [
    {
     "name": "stdout",
     "output_type": "stream",
     "text": [
      "The orange and lemon peels make this tea very hippy Despite the initial oohing and ahing over the pretty blue flowers this is a regrettable purchase I was hoping for a stronger bergamot component than Twinings Earl Grey but instead I got something that seems very herbal Blech I disagree with the positive reviews \n"
     ]
    }
   ],
   "source": [
    "#remove spacial character: https://stackoverflow.com/a/5843547/4084039\n",
    "sent_1500 = re.sub('[^A-Za-z0-9]+', ' ', sent_1500)\n",
    "print(sent_1500)"
   ]
  },
  {
   "cell_type": "code",
   "execution_count": 22,
   "metadata": {
    "colab": {},
    "colab_type": "code",
    "id": "Xsr4xHkJCAaA"
   },
   "outputs": [],
   "source": [
    "# https://gist.github.com/sebleier/554280\n",
    "# we are removing the words from the stop words list: 'no', 'nor', 'not'\n",
    "# <br /><br /> ==> after the above steps, we are getting \"br br\"\n",
    "# we are including them into stop words list\n",
    "# instead of <br /> if we have <br/> these tags would have revmoved in the 1st step\n",
    "\n",
    "stopwords= set(['br', 'the', 'i', 'me', 'my', 'myself', 'we', 'our', 'ours', 'ourselves', 'you', \"you're\", \"you've\",\\\n",
    "            \"you'll\", \"you'd\", 'your', 'yours', 'yourself', 'yourselves', 'he', 'him', 'his', 'himself', \\\n",
    "            'she', \"she's\", 'her', 'hers', 'herself', 'it', \"it's\", 'its', 'itself', 'they', 'them', 'their',\\\n",
    "            'theirs', 'themselves', 'what', 'which', 'who', 'whom', 'this', 'that', \"that'll\", 'these', 'those', \\\n",
    "            'am', 'is', 'are', 'was', 'were', 'be', 'been', 'being', 'have', 'has', 'had', 'having', 'do', 'does', \\\n",
    "            'did', 'doing', 'a', 'an', 'the', 'and', 'but', 'if', 'or', 'because', 'as', 'until', 'while', 'of', \\\n",
    "            'at', 'by', 'for', 'with', 'about', 'against', 'between', 'into', 'through', 'during', 'before', 'after',\\\n",
    "            'above', 'below', 'to', 'from', 'up', 'down', 'in', 'out', 'on', 'off', 'over', 'under', 'again', 'further',\\\n",
    "            'then', 'once', 'here', 'there', 'when', 'where', 'why', 'how', 'all', 'any', 'both', 'each', 'few', 'more',\\\n",
    "            'most', 'other', 'some', 'such', 'only', 'own', 'same', 'so', 'than', 'too', 'very', \\\n",
    "            's', 't', 'can', 'will', 'just', 'don', \"don't\", 'should', \"should've\", 'now', 'd', 'll', 'm', 'o', 're', \\\n",
    "            've', 'y', 'ain', 'aren', \"aren't\", 'couldn', \"couldn't\", 'didn', \"didn't\", 'doesn', \"doesn't\", 'hadn',\\\n",
    "            \"hadn't\", 'hasn', \"hasn't\", 'haven', \"haven't\", 'isn', \"isn't\", 'ma', 'mightn', \"mightn't\", 'mustn',\\\n",
    "            \"mustn't\", 'needn', \"needn't\", 'shan', \"shan't\", 'shouldn', \"shouldn't\", 'wasn', \"wasn't\", 'weren', \"weren't\", \\\n",
    "            'won', \"won't\", 'wouldn', \"wouldn't\"])"
   ]
  },
  {
   "cell_type": "code",
   "execution_count": 23,
   "metadata": {
    "colab": {},
    "colab_type": "code",
    "id": "MgsJ09NpCAaB",
    "outputId": "1d7ef7e7-d03e-4bff-850a-a2aef70af7d9"
   },
   "outputs": [
    {
     "name": "stderr",
     "output_type": "stream",
     "text": [
      "100%|███████████████████████████████████| 46071/46071 [00:55<00:00, 834.65it/s]\n"
     ]
    }
   ],
   "source": [
    "# Combining all the above stundents \n",
    "from tqdm import tqdm\n",
    "preprocessed_reviews = []\n",
    "# tqdm is for printing the status bar\n",
    "for sentance in tqdm(final['Text'].values):\n",
    "    sentance = re.sub(r\"http\\S+\", \"\", sentance)\n",
    "    sentance = BeautifulSoup(sentance, 'lxml').get_text()\n",
    "    sentance = decontracted(sentance)\n",
    "    sentance = re.sub(\"\\S*\\d\\S*\", \"\", sentance).strip()\n",
    "    sentance = re.sub('[^A-Za-z]+', ' ', sentance)\n",
    "    # https://gist.github.com/sebleier/554280\n",
    "    sentance = ' '.join(e.lower() for e in sentance.split() if e.lower() not in stopwords)\n",
    "    preprocessed_reviews.append(sentance.strip())"
   ]
  },
  {
   "cell_type": "code",
   "execution_count": 24,
   "metadata": {
    "colab": {},
    "colab_type": "code",
    "id": "f_zfwXXWCAaE",
    "outputId": "a8ba4cbf-3a4c-4447-f06a-2b639e1a5f88"
   },
   "outputs": [
    {
     "data": {
      "text/plain": [
       "'orange lemon peels make tea hippy despite initial oohing ahing pretty blue flowers regrettable purchase hoping stronger bergamot component twinings earl grey instead got something seems herbal blech disagree positive reviews'"
      ]
     },
     "execution_count": 24,
     "metadata": {},
     "output_type": "execute_result"
    }
   ],
   "source": [
    "preprocessed_reviews[1500]"
   ]
  },
  {
   "cell_type": "code",
   "execution_count": 25,
   "metadata": {},
   "outputs": [],
   "source": [
    "score=final['Score'].values"
   ]
  },
  {
   "cell_type": "markdown",
   "metadata": {
    "colab_type": "text",
    "id": "tmeU-LoVCAaI"
   },
   "source": [
    "<h2><font color='red'>[3.2] Preprocess Summary</font></h2>"
   ]
  },
  {
   "cell_type": "code",
   "execution_count": 26,
   "metadata": {
    "colab": {},
    "colab_type": "code",
    "id": "wtJ2hcy9CAaI"
   },
   "outputs": [],
   "source": [
    "## Similartly you can do preprocessing for review summary also."
   ]
  },
  {
   "cell_type": "code",
   "execution_count": 27,
   "metadata": {},
   "outputs": [],
   "source": [
    "from sklearn.model_selection import train_test_split\n",
    "#from sklearn.cross_validation import train_test_split\n",
    "X_tr, X_test, y_tr, y_test = train_test_split(preprocessed_reviews, score, test_size=0.3, random_state=0)\n"
   ]
  },
  {
   "cell_type": "code",
   "execution_count": 28,
   "metadata": {},
   "outputs": [],
   "source": [
    "#https://keras.io/preprocessing/text/\n",
    "#https://stackoverflow.com/questions/51956000/what-does-keras-tokenizer-method-exactly-do\n",
    "\n",
    "from keras.preprocessing.text import Tokenizer\n",
    "top_words=5000\n",
    "tokenizer = Tokenizer(num_words=5000)\n",
    "tokenizer.fit_on_texts(X_tr)\n",
    "\n",
    "X_train = tokenizer.texts_to_sequences(X_tr)"
   ]
  },
  {
   "cell_type": "code",
   "execution_count": 29,
   "metadata": {},
   "outputs": [],
   "source": [
    "X_test = tokenizer.texts_to_sequences(X_test)"
   ]
  },
  {
   "cell_type": "code",
   "execution_count": 30,
   "metadata": {},
   "outputs": [
    {
     "name": "stdout",
     "output_type": "stream",
     "text": [
      "[1399, 746, 396, 431, 4, 57, 3990, 4452, 1577, 376, 119, 3090, 15, 1236, 427, 3910, 431, 4, 6, 3]\n",
      "<class 'list'>\n",
      "20\n"
     ]
    }
   ],
   "source": [
    "print(X_train[45])\n",
    "print(type(X_train[45]))\n",
    "print(len(X_train[45]))\n",
    "\n"
   ]
  },
  {
   "cell_type": "code",
   "execution_count": 31,
   "metadata": {},
   "outputs": [
    {
     "name": "stdout",
     "output_type": "stream",
     "text": [
      "(32249, 600)\n",
      "[   0    0    0    0    0    0    0    0    0    0    0    0    0    0\n",
      "    0    0    0    0    0    0    0    0    0    0    0    0    0    0\n",
      "    0    0    0    0    0    0    0    0    0    0    0    0    0    0\n",
      "    0    0    0    0    0    0    0    0    0    0    0    0    0    0\n",
      "    0    0    0    0    0    0    0    0    0    0    0    0    0    0\n",
      "    0    0    0    0    0    0    0    0    0    0    0    0    0    0\n",
      "    0    0    0    0    0    0    0    0    0    0    0    0    0    0\n",
      "    0    0    0    0    0    0    0    0    0    0    0    0    0    0\n",
      "    0    0    0    0    0    0    0    0    0    0    0    0    0    0\n",
      "    0    0    0    0    0    0    0    0    0    0    0    0    0    0\n",
      "    0    0    0    0    0    0    0    0    0    0    0    0    0    0\n",
      "    0    0    0    0    0    0    0    0    0    0    0    0    0    0\n",
      "    0    0    0    0    0    0    0    0    0    0    0    0    0    0\n",
      "    0    0    0    0    0    0    0    0    0    0    0    0    0    0\n",
      "    0    0    0    0    0    0    0    0    0    0    0    0    0    0\n",
      "    0    0    0    0    0    0    0    0    0    0    0    0    0    0\n",
      "    0    0    0    0    0    0    0    0    0    0    0    0    0    0\n",
      "    0    0    0    0    0    0    0    0    0    0    0    0    0    0\n",
      "    0    0    0    0    0    0    0    0    0    0    0    0    0    0\n",
      "    0    0    0    0    0    0    0    0    0    0    0    0    0    0\n",
      "    0    0    0    0    0    0    0    0    0    0    0    0    0    0\n",
      "    0    0    0    0    0    0    0    0    0    0    0    0    0    0\n",
      "    0    0    0    0    0    0    0    0    0    0    0    0    0    0\n",
      "    0    0    0    0    0    0    0    0    0    0    0    0    0    0\n",
      "    0    0    0    0    0    0    0    0    0    0    0    0    0    0\n",
      "    0    0    0    0    0    0    0    0    0    0    0    0    0    0\n",
      "    0    0    0    0    0    0    0    0    0    0    0    0    0    0\n",
      "    0    0    0    0    0    0    0    0    0    0    0    0    0    0\n",
      "    0    0    0    0    0    0    0    0    0    0    0    0    0    0\n",
      "    0    0    0    0    0    0    0    0    0    0    0    0    0    0\n",
      "    0    0    0    0    0    0    0    0    0    0    0    0    0    0\n",
      "    0    0    0    0    0    0    0    0    0    0    0    0    0    0\n",
      "    0    0    0    0    0    0    0    0    0    0    0    0    0    0\n",
      "    0    0    0    0    0    0    0    0    0    0    0    0    0    0\n",
      "    0    0    0    0    0    0    0    0    0    0    0    0    0    0\n",
      "    0    0    0    0    0    0    0    0    0    0    0    0    0    0\n",
      "    0    0    0    0    0    0    0    0    0    0    0    0    0    0\n",
      "    0    0    0    0    0    0    0    0    0    0    0    0    0    0\n",
      "    0    0    0    0    0    0    0    0    0    0    0    0    0    0\n",
      "    0    0    0    0    0    0    0    0    0    0    0    0    0    0\n",
      "    0    0    0    0    0    0    0    0    0    0    0    0    0    0\n",
      "    0    0    0    0    0    0 1399  746  396  431    4   57 3990 4452\n",
      " 1577  376  119 3090   15 1236  427 3910  431    4    6    3]\n"
     ]
    }
   ],
   "source": [
    "max_review_length = 600\n",
    "X_train = sequence.pad_sequences(X_train, maxlen=max_review_length)\n",
    "X_test = sequence.pad_sequences(X_test, maxlen=max_review_length)\n",
    "\n",
    "print(X_train.shape)\n",
    "print(X_train[45])\n"
   ]
  },
  {
   "cell_type": "code",
   "execution_count": 33,
   "metadata": {},
   "outputs": [
    {
     "name": "stdout",
     "output_type": "stream",
     "text": [
      "_________________________________________________________________\n",
      "Layer (type)                 Output Shape              Param #   \n",
      "=================================================================\n",
      "embedding_2 (Embedding)      (None, 600, 32)           160032    \n",
      "_________________________________________________________________\n",
      "lstm_2 (LSTM)                (None, 100)               53200     \n",
      "_________________________________________________________________\n",
      "dense_2 (Dense)              (None, 1)                 101       \n",
      "=================================================================\n",
      "Total params: 213,333\n",
      "Trainable params: 213,333\n",
      "Non-trainable params: 0\n",
      "_________________________________________________________________\n",
      "None\n"
     ]
    }
   ],
   "source": [
    "embedding_vecor_length = 32\n",
    "model = Sequential()\n",
    "model.add(Embedding(top_words+1, embedding_vecor_length, input_length=max_review_length))\n",
    "model.add(LSTM(100))\n",
    "model.add(Dense(1, activation='sigmoid'))\n",
    "model.compile(loss='binary_crossentropy', optimizer='adam', metrics=['accuracy'])\n",
    "print(model.summary())"
   ]
  },
  {
   "cell_type": "code",
   "execution_count": 41,
   "metadata": {},
   "outputs": [
    {
     "name": "stdout",
     "output_type": "stream",
     "text": [
      "Train on 32249 samples, validate on 13822 samples\n",
      "Epoch 1/5\n"
     ]
    },
    {
     "name": "stdout",
     "output_type": "stream",
     "text": [
      "12992/32249 [===========>..................] - ETA: 18:12 - loss: 0.1201 - acc: 0.95 - ETA: 20:10 - loss: 0.1680 - acc: 0.92 - ETA: 20:13 - loss: 0.1446 - acc: 0.94 - ETA: 18:59 - loss: 0.1305 - acc: 0.95 - ETA: 18:07 - loss: 0.1132 - acc: 0.95 - ETA: 17:30 - loss: 0.1083 - acc: 0.96 - ETA: 17:03 - loss: 0.1127 - acc: 0.96 - ETA: 16:45 - loss: 0.1126 - acc: 0.96 - ETA: 16:48 - loss: 0.1054 - acc: 0.96 - ETA: 17:09 - loss: 0.0982 - acc: 0.97 - ETA: 17:06 - loss: 0.1044 - acc: 0.97 - ETA: 17:17 - loss: 0.1026 - acc: 0.97 - ETA: 17:23 - loss: 0.1053 - acc: 0.96 - ETA: 17:17 - loss: 0.1049 - acc: 0.96 - ETA: 17:11 - loss: 0.1138 - acc: 0.96 - ETA: 17:34 - loss: 0.1151 - acc: 0.96 - ETA: 17:41 - loss: 0.1116 - acc: 0.96 - ETA: 17:36 - loss: 0.1115 - acc: 0.96 - ETA: 17:51 - loss: 0.1110 - acc: 0.96 - ETA: 18:17 - loss: 0.1148 - acc: 0.96 - ETA: 18:38 - loss: 0.1148 - acc: 0.96 - ETA: 18:54 - loss: 0.1119 - acc: 0.96 - ETA: 19:05 - loss: 0.1113 - acc: 0.96 - ETA: 19:26 - loss: 0.1117 - acc: 0.96 - ETA: 19:39 - loss: 0.1096 - acc: 0.96 - ETA: 19:52 - loss: 0.1119 - acc: 0.96 - ETA: 20:00 - loss: 0.1096 - acc: 0.96 - ETA: 20:11 - loss: 0.1070 - acc: 0.96 - ETA: 20:25 - loss: 0.1063 - acc: 0.96 - ETA: 20:28 - loss: 0.1044 - acc: 0.96 - ETA: 20:21 - loss: 0.1080 - acc: 0.96 - ETA: 20:07 - loss: 0.1069 - acc: 0.96 - ETA: 19:57 - loss: 0.1095 - acc: 0.96 - ETA: 19:48 - loss: 0.1090 - acc: 0.96 - ETA: 19:38 - loss: 0.1086 - acc: 0.96 - ETA: 19:27 - loss: 0.1074 - acc: 0.96 - ETA: 19:16 - loss: 0.1065 - acc: 0.96 - ETA: 19:08 - loss: 0.1065 - acc: 0.96 - ETA: 19:08 - loss: 0.1087 - acc: 0.96 - ETA: 19:01 - loss: 0.1071 - acc: 0.96 - ETA: 18:52 - loss: 0.1073 - acc: 0.96 - ETA: 18:43 - loss: 0.1075 - acc: 0.96 - ETA: 18:33 - loss: 0.1102 - acc: 0.96 - ETA: 18:24 - loss: 0.1116 - acc: 0.96 - ETA: 18:15 - loss: 0.1112 - acc: 0.96 - ETA: 18:06 - loss: 0.1126 - acc: 0.96 - ETA: 17:58 - loss: 0.1118 - acc: 0.96 - ETA: 17:50 - loss: 0.1111 - acc: 0.96 - ETA: 17:42 - loss: 0.1119 - acc: 0.96 - ETA: 17:34 - loss: 0.1119 - acc: 0.96 - ETA: 17:27 - loss: 0.1121 - acc: 0.96 - ETA: 17:20 - loss: 0.1115 - acc: 0.96 - ETA: 17:13 - loss: 0.1107 - acc: 0.96 - ETA: 17:08 - loss: 0.1108 - acc: 0.96 - ETA: 17:08 - loss: 0.1110 - acc: 0.96 - ETA: 17:06 - loss: 0.1101 - acc: 0.96 - ETA: 17:03 - loss: 0.1095 - acc: 0.96 - ETA: 16:58 - loss: 0.1099 - acc: 0.96 - ETA: 16:55 - loss: 0.1095 - acc: 0.96 - ETA: 16:52 - loss: 0.1089 - acc: 0.96 - ETA: 16:52 - loss: 0.1080 - acc: 0.96 - ETA: 16:50 - loss: 0.1081 - acc: 0.96 - ETA: 16:49 - loss: 0.1070 - acc: 0.96 - ETA: 16:47 - loss: 0.1067 - acc: 0.96 - ETA: 16:44 - loss: 0.1061 - acc: 0.96 - ETA: 16:43 - loss: 0.1058 - acc: 0.96 - ETA: 16:41 - loss: 0.1049 - acc: 0.96 - ETA: 16:40 - loss: 0.1063 - acc: 0.96 - ETA: 16:36 - loss: 0.1058 - acc: 0.96 - ETA: 16:36 - loss: 0.1055 - acc: 0.96 - ETA: 16:33 - loss: 0.1051 - acc: 0.96 - ETA: 16:34 - loss: 0.1045 - acc: 0.96 - ETA: 16:33 - loss: 0.1079 - acc: 0.96 - ETA: 16:36 - loss: 0.1079 - acc: 0.96 - ETA: 16:37 - loss: 0.1084 - acc: 0.96 - ETA: 16:37 - loss: 0.1080 - acc: 0.96 - ETA: 16:34 - loss: 0.1069 - acc: 0.96 - ETA: 16:30 - loss: 0.1067 - acc: 0.96 - ETA: 16:30 - loss: 0.1062 - acc: 0.96 - ETA: 16:26 - loss: 0.1064 - acc: 0.96 - ETA: 16:21 - loss: 0.1066 - acc: 0.96 - ETA: 16:16 - loss: 0.1063 - acc: 0.96 - ETA: 16:13 - loss: 0.1056 - acc: 0.96 - ETA: 16:09 - loss: 0.1051 - acc: 0.96 - ETA: 16:04 - loss: 0.1045 - acc: 0.96 - ETA: 15:59 - loss: 0.1037 - acc: 0.96 - ETA: 15:55 - loss: 0.1036 - acc: 0.96 - ETA: 15:50 - loss: 0.1050 - acc: 0.96 - ETA: 15:46 - loss: 0.1063 - acc: 0.96 - ETA: 15:41 - loss: 0.1064 - acc: 0.96 - ETA: 15:37 - loss: 0.1067 - acc: 0.96 - ETA: 15:32 - loss: 0.1071 - acc: 0.96 - ETA: 15:28 - loss: 0.1069 - acc: 0.96 - ETA: 15:23 - loss: 0.1069 - acc: 0.96 - ETA: 15:19 - loss: 0.1072 - acc: 0.96 - ETA: 15:14 - loss: 0.1080 - acc: 0.96 - ETA: 15:10 - loss: 0.1075 - acc: 0.96 - ETA: 15:06 - loss: 0.1068 - acc: 0.96 - ETA: 15:02 - loss: 0.1068 - acc: 0.96 - ETA: 14:58 - loss: 0.1067 - acc: 0.96 - ETA: 14:54 - loss: 0.1065 - acc: 0.96 - ETA: 14:50 - loss: 0.1066 - acc: 0.96 - ETA: 14:46 - loss: 0.1059 - acc: 0.96 - ETA: 14:42 - loss: 0.1059 - acc: 0.96 - ETA: 14:38 - loss: 0.1056 - acc: 0.96 - ETA: 14:34 - loss: 0.1057 - acc: 0.96 - ETA: 14:30 - loss: 0.1052 - acc: 0.96 - ETA: 14:27 - loss: 0.1056 - acc: 0.96 - ETA: 14:23 - loss: 0.1060 - acc: 0.96 - ETA: 14:19 - loss: 0.1058 - acc: 0.96 - ETA: 14:16 - loss: 0.1059 - acc: 0.96 - ETA: 14:12 - loss: 0.1062 - acc: 0.96 - ETA: 14:08 - loss: 0.1062 - acc: 0.96 - ETA: 14:05 - loss: 0.1057 - acc: 0.96 - ETA: 14:01 - loss: 0.1070 - acc: 0.96 - ETA: 13:57 - loss: 0.1067 - acc: 0.96 - ETA: 13:54 - loss: 0.1067 - acc: 0.96 - ETA: 13:50 - loss: 0.1061 - acc: 0.96 - ETA: 13:47 - loss: 0.1058 - acc: 0.96 - ETA: 13:43 - loss: 0.1077 - acc: 0.96 - ETA: 13:40 - loss: 0.1073 - acc: 0.96 - ETA: 13:37 - loss: 0.1070 - acc: 0.96 - ETA: 13:33 - loss: 0.1066 - acc: 0.96 - ETA: 13:30 - loss: 0.1061 - acc: 0.96 - ETA: 13:27 - loss: 0.1061 - acc: 0.96 - ETA: 13:24 - loss: 0.1060 - acc: 0.96 - ETA: 13:20 - loss: 0.1058 - acc: 0.96 - ETA: 13:17 - loss: 0.1067 - acc: 0.96 - ETA: 13:14 - loss: 0.1069 - acc: 0.96 - ETA: 13:11 - loss: 0.1071 - acc: 0.96 - ETA: 13:08 - loss: 0.1068 - acc: 0.96 - ETA: 13:05 - loss: 0.1074 - acc: 0.96 - ETA: 13:02 - loss: 0.1073 - acc: 0.96 - ETA: 12:59 - loss: 0.1073 - acc: 0.96 - ETA: 12:56 - loss: 0.1069 - acc: 0.96 - ETA: 12:52 - loss: 0.1070 - acc: 0.96 - ETA: 12:49 - loss: 0.1076 - acc: 0.96 - ETA: 12:46 - loss: 0.1072 - acc: 0.96 - ETA: 12:44 - loss: 0.1074 - acc: 0.96 - ETA: 12:41 - loss: 0.1069 - acc: 0.96 - ETA: 12:38 - loss: 0.1076 - acc: 0.96 - ETA: 12:35 - loss: 0.1076 - acc: 0.96 - ETA: 12:33 - loss: 0.1079 - acc: 0.96 - ETA: 12:30 - loss: 0.1076 - acc: 0.96 - ETA: 12:27 - loss: 0.1073 - acc: 0.96 - ETA: 12:24 - loss: 0.1073 - acc: 0.96 - ETA: 12:22 - loss: 0.1075 - acc: 0.96 - ETA: 12:19 - loss: 0.1076 - acc: 0.96 - ETA: 12:16 - loss: 0.1076 - acc: 0.96 - ETA: 12:14 - loss: 0.1077 - acc: 0.96 - ETA: 12:12 - loss: 0.1082 - acc: 0.96 - ETA: 12:09 - loss: 0.1083 - acc: 0.96 - ETA: 12:06 - loss: 0.1086 - acc: 0.96 - ETA: 12:03 - loss: 0.1082 - acc: 0.96 - ETA: 12:01 - loss: 0.1081 - acc: 0.96 - ETA: 11:58 - loss: 0.1079 - acc: 0.96 - ETA: 11:55 - loss: 0.1079 - acc: 0.96 - ETA: 11:53 - loss: 0.1078 - acc: 0.96 - ETA: 11:50 - loss: 0.1079 - acc: 0.96 - ETA: 11:48 - loss: 0.1076 - acc: 0.96 - ETA: 11:45 - loss: 0.1074 - acc: 0.96 - ETA: 11:42 - loss: 0.1076 - acc: 0.96 - ETA: 11:40 - loss: 0.1076 - acc: 0.96 - ETA: 11:37 - loss: 0.1082 - acc: 0.96 - ETA: 11:35 - loss: 0.1086 - acc: 0.96 - ETA: 11:33 - loss: 0.1085 - acc: 0.96 - ETA: 11:30 - loss: 0.1086 - acc: 0.96 - ETA: 11:28 - loss: 0.1082 - acc: 0.96 - ETA: 11:26 - loss: 0.1079 - acc: 0.96 - ETA: 11:23 - loss: 0.1084 - acc: 0.96 - ETA: 11:21 - loss: 0.1082 - acc: 0.96 - ETA: 11:18 - loss: 0.1080 - acc: 0.96 - ETA: 11:16 - loss: 0.1081 - acc: 0.96 - ETA: 11:13 - loss: 0.1077 - acc: 0.96 - ETA: 11:11 - loss: 0.1081 - acc: 0.96 - ETA: 11:08 - loss: 0.1078 - acc: 0.96 - ETA: 11:06 - loss: 0.1080 - acc: 0.96 - ETA: 11:03 - loss: 0.1083 - acc: 0.96 - ETA: 11:01 - loss: 0.1079 - acc: 0.96 - ETA: 10:59 - loss: 0.1084 - acc: 0.96 - ETA: 10:57 - loss: 0.1080 - acc: 0.96 - ETA: 10:54 - loss: 0.1082 - acc: 0.96 - ETA: 10:52 - loss: 0.1081 - acc: 0.96 - ETA: 10:49 - loss: 0.1079 - acc: 0.96 - ETA: 10:47 - loss: 0.1080 - acc: 0.96 - ETA: 10:45 - loss: 0.1078 - acc: 0.96 - ETA: 10:43 - loss: 0.1074 - acc: 0.96 - ETA: 10:42 - loss: 0.1071 - acc: 0.96 - ETA: 10:40 - loss: 0.1071 - acc: 0.96 - ETA: 10:39 - loss: 0.1070 - acc: 0.96 - ETA: 10:37 - loss: 0.1068 - acc: 0.96 - ETA: 10:35 - loss: 0.1066 - acc: 0.96 - ETA: 10:32 - loss: 0.1064 - acc: 0.96 - ETA: 10:30 - loss: 0.1062 - acc: 0.96 - ETA: 10:28 - loss: 0.1064 - acc: 0.96 - ETA: 10:27 - loss: 0.1063 - acc: 0.96 - ETA: 10:26 - loss: 0.1063 - acc: 0.96 - ETA: 10:24 - loss: 0.1064 - acc: 0.96 - ETA: 10:24 - loss: 0.1063 - acc: 0.96 - ETA: 10:23 - loss: 0.1062 - acc: 0.96 - ETA: 10:21 - loss: 0.1067 - acc: 0.96 - ETA: 10:19 - loss: 0.1072 - acc: 0.96 - ETA: 10:17 - loss: 0.1069 - acc: 0.9626048/32249 [=======================>......] - ETA: 10:15 - loss: 0.1074 - acc: 0.96 - ETA: 10:14 - loss: 0.1076 - acc: 0.96 - ETA: 10:12 - loss: 0.1073 - acc: 0.96 - ETA: 10:10 - loss: 0.1076 - acc: 0.96 - ETA: 10:09 - loss: 0.1073 - acc: 0.96 - ETA: 10:07 - loss: 0.1072 - acc: 0.96 - ETA: 10:05 - loss: 0.1072 - acc: 0.96 - ETA: 10:03 - loss: 0.1074 - acc: 0.96 - ETA: 10:01 - loss: 0.1074 - acc: 0.96 - ETA: 9:59 - loss: 0.1075 - acc: 0.9627 - ETA: 9:57 - loss: 0.1073 - acc: 0.962 - ETA: 9:55 - loss: 0.1076 - acc: 0.962 - ETA: 9:53 - loss: 0.1073 - acc: 0.962 - ETA: 9:51 - loss: 0.1073 - acc: 0.962 - ETA: 9:49 - loss: 0.1071 - acc: 0.962 - ETA: 9:47 - loss: 0.1070 - acc: 0.963 - ETA: 9:45 - loss: 0.1067 - acc: 0.963 - ETA: 9:44 - loss: 0.1066 - acc: 0.963 - ETA: 9:42 - loss: 0.1065 - acc: 0.963 - ETA: 9:39 - loss: 0.1065 - acc: 0.962 - ETA: 9:37 - loss: 0.1067 - acc: 0.962 - ETA: 9:35 - loss: 0.1068 - acc: 0.962 - ETA: 9:33 - loss: 0.1067 - acc: 0.962 - ETA: 9:31 - loss: 0.1066 - acc: 0.962 - ETA: 9:28 - loss: 0.1062 - acc: 0.962 - ETA: 9:27 - loss: 0.1061 - acc: 0.962 - ETA: 9:25 - loss: 0.1062 - acc: 0.962 - ETA: 9:23 - loss: 0.1060 - acc: 0.962 - ETA: 9:20 - loss: 0.1062 - acc: 0.962 - ETA: 9:18 - loss: 0.1066 - acc: 0.962 - ETA: 9:16 - loss: 0.1064 - acc: 0.962 - ETA: 9:13 - loss: 0.1063 - acc: 0.962 - ETA: 9:11 - loss: 0.1064 - acc: 0.962 - ETA: 9:09 - loss: 0.1064 - acc: 0.962 - ETA: 9:07 - loss: 0.1062 - acc: 0.962 - ETA: 9:05 - loss: 0.1061 - acc: 0.962 - ETA: 9:02 - loss: 0.1060 - acc: 0.962 - ETA: 9:00 - loss: 0.1061 - acc: 0.962 - ETA: 8:58 - loss: 0.1059 - acc: 0.962 - ETA: 8:56 - loss: 0.1058 - acc: 0.962 - ETA: 8:55 - loss: 0.1058 - acc: 0.962 - ETA: 8:53 - loss: 0.1058 - acc: 0.962 - ETA: 8:52 - loss: 0.1062 - acc: 0.962 - ETA: 8:50 - loss: 0.1061 - acc: 0.962 - ETA: 8:48 - loss: 0.1062 - acc: 0.962 - ETA: 8:46 - loss: 0.1060 - acc: 0.962 - ETA: 8:43 - loss: 0.1068 - acc: 0.962 - ETA: 8:41 - loss: 0.1066 - acc: 0.962 - ETA: 8:38 - loss: 0.1068 - acc: 0.962 - ETA: 8:36 - loss: 0.1071 - acc: 0.962 - ETA: 8:34 - loss: 0.1071 - acc: 0.962 - ETA: 8:31 - loss: 0.1070 - acc: 0.962 - ETA: 8:29 - loss: 0.1068 - acc: 0.962 - ETA: 8:27 - loss: 0.1069 - acc: 0.962 - ETA: 8:24 - loss: 0.1069 - acc: 0.962 - ETA: 8:22 - loss: 0.1070 - acc: 0.962 - ETA: 8:19 - loss: 0.1069 - acc: 0.962 - ETA: 8:17 - loss: 0.1068 - acc: 0.962 - ETA: 8:15 - loss: 0.1072 - acc: 0.962 - ETA: 8:12 - loss: 0.1076 - acc: 0.962 - ETA: 8:10 - loss: 0.1081 - acc: 0.962 - ETA: 8:08 - loss: 0.1079 - acc: 0.962 - ETA: 8:05 - loss: 0.1078 - acc: 0.962 - ETA: 8:03 - loss: 0.1076 - acc: 0.962 - ETA: 8:01 - loss: 0.1074 - acc: 0.962 - ETA: 7:59 - loss: 0.1075 - acc: 0.962 - ETA: 7:58 - loss: 0.1076 - acc: 0.962 - ETA: 7:56 - loss: 0.1076 - acc: 0.962 - ETA: 7:53 - loss: 0.1080 - acc: 0.962 - ETA: 7:51 - loss: 0.1078 - acc: 0.962 - ETA: 7:49 - loss: 0.1080 - acc: 0.962 - ETA: 7:46 - loss: 0.1079 - acc: 0.962 - ETA: 7:44 - loss: 0.1082 - acc: 0.962 - ETA: 7:42 - loss: 0.1078 - acc: 0.962 - ETA: 7:40 - loss: 0.1079 - acc: 0.962 - ETA: 7:38 - loss: 0.1077 - acc: 0.962 - ETA: 7:36 - loss: 0.1075 - acc: 0.962 - ETA: 7:34 - loss: 0.1077 - acc: 0.962 - ETA: 7:33 - loss: 0.1080 - acc: 0.962 - ETA: 7:31 - loss: 0.1079 - acc: 0.962 - ETA: 7:29 - loss: 0.1080 - acc: 0.962 - ETA: 7:27 - loss: 0.1081 - acc: 0.962 - ETA: 7:26 - loss: 0.1079 - acc: 0.962 - ETA: 7:24 - loss: 0.1079 - acc: 0.962 - ETA: 7:21 - loss: 0.1083 - acc: 0.962 - ETA: 7:19 - loss: 0.1085 - acc: 0.961 - ETA: 7:17 - loss: 0.1085 - acc: 0.962 - ETA: 7:15 - loss: 0.1083 - acc: 0.962 - ETA: 7:13 - loss: 0.1081 - acc: 0.962 - ETA: 7:10 - loss: 0.1081 - acc: 0.962 - ETA: 7:08 - loss: 0.1080 - acc: 0.962 - ETA: 7:06 - loss: 0.1079 - acc: 0.962 - ETA: 7:04 - loss: 0.1079 - acc: 0.962 - ETA: 7:01 - loss: 0.1077 - acc: 0.962 - ETA: 6:59 - loss: 0.1081 - acc: 0.962 - ETA: 6:57 - loss: 0.1081 - acc: 0.962 - ETA: 6:55 - loss: 0.1079 - acc: 0.962 - ETA: 6:52 - loss: 0.1078 - acc: 0.962 - ETA: 6:50 - loss: 0.1077 - acc: 0.962 - ETA: 6:48 - loss: 0.1074 - acc: 0.962 - ETA: 6:46 - loss: 0.1073 - acc: 0.962 - ETA: 6:43 - loss: 0.1071 - acc: 0.962 - ETA: 6:41 - loss: 0.1073 - acc: 0.962 - ETA: 6:39 - loss: 0.1074 - acc: 0.962 - ETA: 6:37 - loss: 0.1075 - acc: 0.962 - ETA: 6:35 - loss: 0.1075 - acc: 0.962 - ETA: 6:32 - loss: 0.1078 - acc: 0.962 - ETA: 6:30 - loss: 0.1078 - acc: 0.962 - ETA: 6:28 - loss: 0.1079 - acc: 0.962 - ETA: 6:26 - loss: 0.1079 - acc: 0.962 - ETA: 6:24 - loss: 0.1080 - acc: 0.962 - ETA: 6:22 - loss: 0.1079 - acc: 0.962 - ETA: 6:20 - loss: 0.1079 - acc: 0.962 - ETA: 6:18 - loss: 0.1078 - acc: 0.962 - ETA: 6:15 - loss: 0.1078 - acc: 0.962 - ETA: 6:13 - loss: 0.1080 - acc: 0.962 - ETA: 6:11 - loss: 0.1081 - acc: 0.962 - ETA: 6:09 - loss: 0.1080 - acc: 0.962 - ETA: 6:07 - loss: 0.1082 - acc: 0.962 - ETA: 6:05 - loss: 0.1082 - acc: 0.962 - ETA: 6:03 - loss: 0.1081 - acc: 0.962 - ETA: 6:01 - loss: 0.1079 - acc: 0.962 - ETA: 5:58 - loss: 0.1078 - acc: 0.962 - ETA: 5:56 - loss: 0.1077 - acc: 0.962 - ETA: 5:54 - loss: 0.1077 - acc: 0.962 - ETA: 5:52 - loss: 0.1077 - acc: 0.962 - ETA: 5:50 - loss: 0.1076 - acc: 0.962 - ETA: 5:48 - loss: 0.1076 - acc: 0.962 - ETA: 5:46 - loss: 0.1076 - acc: 0.962 - ETA: 5:44 - loss: 0.1077 - acc: 0.962 - ETA: 5:42 - loss: 0.1076 - acc: 0.962 - ETA: 5:39 - loss: 0.1076 - acc: 0.962 - ETA: 5:37 - loss: 0.1073 - acc: 0.962 - ETA: 5:35 - loss: 0.1074 - acc: 0.962 - ETA: 5:33 - loss: 0.1076 - acc: 0.962 - ETA: 5:31 - loss: 0.1078 - acc: 0.962 - ETA: 5:29 - loss: 0.1078 - acc: 0.962 - ETA: 5:27 - loss: 0.1078 - acc: 0.962 - ETA: 5:25 - loss: 0.1079 - acc: 0.962 - ETA: 5:22 - loss: 0.1078 - acc: 0.962 - ETA: 5:21 - loss: 0.1080 - acc: 0.962 - ETA: 5:19 - loss: 0.1082 - acc: 0.961 - ETA: 5:17 - loss: 0.1081 - acc: 0.961 - ETA: 5:16 - loss: 0.1083 - acc: 0.961 - ETA: 5:14 - loss: 0.1083 - acc: 0.961 - ETA: 5:12 - loss: 0.1085 - acc: 0.961 - ETA: 5:10 - loss: 0.1084 - acc: 0.961 - ETA: 5:08 - loss: 0.1087 - acc: 0.961 - ETA: 5:06 - loss: 0.1088 - acc: 0.961 - ETA: 5:04 - loss: 0.1088 - acc: 0.961 - ETA: 5:03 - loss: 0.1088 - acc: 0.961 - ETA: 5:01 - loss: 0.1092 - acc: 0.961 - ETA: 4:59 - loss: 0.1092 - acc: 0.961 - ETA: 4:57 - loss: 0.1092 - acc: 0.961 - ETA: 4:55 - loss: 0.1093 - acc: 0.961 - ETA: 4:53 - loss: 0.1092 - acc: 0.961 - ETA: 4:50 - loss: 0.1093 - acc: 0.961 - ETA: 4:48 - loss: 0.1093 - acc: 0.961 - ETA: 4:46 - loss: 0.1092 - acc: 0.961 - ETA: 4:44 - loss: 0.1093 - acc: 0.961 - ETA: 4:42 - loss: 0.1091 - acc: 0.961 - ETA: 4:40 - loss: 0.1090 - acc: 0.961 - ETA: 4:38 - loss: 0.1089 - acc: 0.961 - ETA: 4:36 - loss: 0.1089 - acc: 0.961 - ETA: 4:34 - loss: 0.1089 - acc: 0.961 - ETA: 4:31 - loss: 0.1090 - acc: 0.961 - ETA: 4:29 - loss: 0.1090 - acc: 0.961 - ETA: 4:27 - loss: 0.1094 - acc: 0.961 - ETA: 4:25 - loss: 0.1092 - acc: 0.961 - ETA: 4:23 - loss: 0.1090 - acc: 0.961 - ETA: 4:21 - loss: 0.1090 - acc: 0.961 - ETA: 4:19 - loss: 0.1089 - acc: 0.961 - ETA: 4:17 - loss: 0.1089 - acc: 0.961 - ETA: 4:15 - loss: 0.1089 - acc: 0.961 - ETA: 4:13 - loss: 0.1086 - acc: 0.961 - ETA: 4:10 - loss: 0.1087 - acc: 0.961 - ETA: 4:08 - loss: 0.1088 - acc: 0.961 - ETA: 4:06 - loss: 0.1087 - acc: 0.961 - ETA: 4:04 - loss: 0.1088 - acc: 0.961 - ETA: 4:02 - loss: 0.1088 - acc: 0.961 - ETA: 4:01 - loss: 0.1090 - acc: 0.961 - ETA: 3:59 - loss: 0.1088 - acc: 0.961 - ETA: 3:57 - loss: 0.1087 - acc: 0.961 - ETA: 3:55 - loss: 0.1085 - acc: 0.961 - ETA: 3:53 - loss: 0.1085 - acc: 0.961 - ETA: 3:51 - loss: 0.1084 - acc: 0.961 - ETA: 3:49 - loss: 0.1087 - acc: 0.961 - ETA: 3:47 - loss: 0.1086 - acc: 0.961 - ETA: 3:45 - loss: 0.1085 - acc: 0.961 - ETA: 3:43 - loss: 0.1088 - acc: 0.961 - ETA: 3:41 - loss: 0.1087 - acc: 0.961 - ETA: 3:39 - loss: 0.1085 - acc: 0.961 - ETA: 3:38 - loss: 0.1084 - acc: 0.961 - ETA: 3:35 - loss: 0.1082 - acc: 0.961 - ETA: 3:33 - loss: 0.1083 - acc: 0.961 - ETA: 3:31 - loss: 0.1085 - acc: 0.961 - ETA: 3:29 - loss: 0.1088 - acc: 0.961 - ETA: 3:27 - loss: 0.1087 - acc: 0.961 - ETA: 3:25 - loss: 0.1086 - acc: 0.961 - ETA: 3:23 - loss: 0.1087 - acc: 0.961 - ETA: 3:21 - loss: 0.1090 - acc: 0.961 - ETA: 3:19 - loss: 0.1090 - acc: 0.961 - ETA: 3:17 - loss: 0.1090 - acc: 0.961 - ETA: 3:15 - loss: 0.1091 - acc: 0.9614"
     ]
    },
    {
     "name": "stdout",
     "output_type": "stream",
     "text": [
      "32249/32249 [==============================] - ETA: 3:13 - loss: 0.1089 - acc: 0.961 - ETA: 3:11 - loss: 0.1088 - acc: 0.961 - ETA: 3:09 - loss: 0.1090 - acc: 0.961 - ETA: 3:06 - loss: 0.1090 - acc: 0.961 - ETA: 3:04 - loss: 0.1089 - acc: 0.961 - ETA: 3:02 - loss: 0.1091 - acc: 0.961 - ETA: 3:00 - loss: 0.1090 - acc: 0.961 - ETA: 2:58 - loss: 0.1091 - acc: 0.961 - ETA: 2:56 - loss: 0.1092 - acc: 0.961 - ETA: 2:54 - loss: 0.1090 - acc: 0.961 - ETA: 2:52 - loss: 0.1094 - acc: 0.961 - ETA: 2:50 - loss: 0.1094 - acc: 0.961 - ETA: 2:48 - loss: 0.1095 - acc: 0.961 - ETA: 2:46 - loss: 0.1096 - acc: 0.961 - ETA: 2:44 - loss: 0.1095 - acc: 0.961 - ETA: 2:42 - loss: 0.1097 - acc: 0.961 - ETA: 2:40 - loss: 0.1096 - acc: 0.961 - ETA: 2:38 - loss: 0.1095 - acc: 0.961 - ETA: 2:36 - loss: 0.1094 - acc: 0.961 - ETA: 2:34 - loss: 0.1096 - acc: 0.961 - ETA: 2:31 - loss: 0.1095 - acc: 0.961 - ETA: 2:29 - loss: 0.1094 - acc: 0.961 - ETA: 2:27 - loss: 0.1095 - acc: 0.961 - ETA: 2:25 - loss: 0.1094 - acc: 0.961 - ETA: 2:23 - loss: 0.1095 - acc: 0.961 - ETA: 2:21 - loss: 0.1095 - acc: 0.961 - ETA: 2:19 - loss: 0.1095 - acc: 0.961 - ETA: 2:17 - loss: 0.1097 - acc: 0.961 - ETA: 2:15 - loss: 0.1100 - acc: 0.961 - ETA: 2:13 - loss: 0.1099 - acc: 0.961 - ETA: 2:11 - loss: 0.1099 - acc: 0.961 - ETA: 2:09 - loss: 0.1097 - acc: 0.961 - ETA: 2:07 - loss: 0.1098 - acc: 0.961 - ETA: 2:05 - loss: 0.1098 - acc: 0.961 - ETA: 2:03 - loss: 0.1099 - acc: 0.960 - ETA: 2:01 - loss: 0.1100 - acc: 0.960 - ETA: 1:59 - loss: 0.1100 - acc: 0.960 - ETA: 1:57 - loss: 0.1100 - acc: 0.960 - ETA: 1:55 - loss: 0.1102 - acc: 0.960 - ETA: 1:53 - loss: 0.1102 - acc: 0.960 - ETA: 1:51 - loss: 0.1102 - acc: 0.960 - ETA: 1:49 - loss: 0.1101 - acc: 0.960 - ETA: 1:47 - loss: 0.1101 - acc: 0.960 - ETA: 1:45 - loss: 0.1102 - acc: 0.960 - ETA: 1:43 - loss: 0.1104 - acc: 0.960 - ETA: 1:41 - loss: 0.1105 - acc: 0.960 - ETA: 1:39 - loss: 0.1105 - acc: 0.960 - ETA: 1:37 - loss: 0.1104 - acc: 0.960 - ETA: 1:35 - loss: 0.1104 - acc: 0.960 - ETA: 1:33 - loss: 0.1104 - acc: 0.960 - ETA: 1:31 - loss: 0.1105 - acc: 0.960 - ETA: 1:29 - loss: 0.1105 - acc: 0.960 - ETA: 1:27 - loss: 0.1106 - acc: 0.960 - ETA: 1:25 - loss: 0.1105 - acc: 0.960 - ETA: 1:23 - loss: 0.1105 - acc: 0.960 - ETA: 1:21 - loss: 0.1105 - acc: 0.960 - ETA: 1:19 - loss: 0.1105 - acc: 0.960 - ETA: 1:17 - loss: 0.1105 - acc: 0.960 - ETA: 1:15 - loss: 0.1105 - acc: 0.960 - ETA: 1:13 - loss: 0.1104 - acc: 0.960 - ETA: 1:11 - loss: 0.1103 - acc: 0.960 - ETA: 1:09 - loss: 0.1103 - acc: 0.960 - ETA: 1:07 - loss: 0.1102 - acc: 0.960 - ETA: 1:05 - loss: 0.1103 - acc: 0.960 - ETA: 1:03 - loss: 0.1102 - acc: 0.960 - ETA: 1:01 - loss: 0.1102 - acc: 0.960 - ETA: 59s - loss: 0.1103 - acc: 0.960 - ETA: 57s - loss: 0.1103 - acc: 0.96 - ETA: 55s - loss: 0.1105 - acc: 0.96 - ETA: 53s - loss: 0.1105 - acc: 0.96 - ETA: 51s - loss: 0.1107 - acc: 0.96 - ETA: 49s - loss: 0.1107 - acc: 0.96 - ETA: 47s - loss: 0.1109 - acc: 0.96 - ETA: 45s - loss: 0.1109 - acc: 0.96 - ETA: 43s - loss: 0.1109 - acc: 0.96 - ETA: 41s - loss: 0.1109 - acc: 0.96 - ETA: 39s - loss: 0.1111 - acc: 0.96 - ETA: 37s - loss: 0.1110 - acc: 0.96 - ETA: 35s - loss: 0.1109 - acc: 0.96 - ETA: 33s - loss: 0.1109 - acc: 0.96 - ETA: 31s - loss: 0.1110 - acc: 0.96 - ETA: 29s - loss: 0.1110 - acc: 0.96 - ETA: 27s - loss: 0.1113 - acc: 0.96 - ETA: 25s - loss: 0.1112 - acc: 0.96 - ETA: 23s - loss: 0.1111 - acc: 0.96 - ETA: 21s - loss: 0.1112 - acc: 0.96 - ETA: 19s - loss: 0.1111 - acc: 0.96 - ETA: 17s - loss: 0.1111 - acc: 0.96 - ETA: 15s - loss: 0.1111 - acc: 0.96 - ETA: 13s - loss: 0.1111 - acc: 0.96 - ETA: 11s - loss: 0.1112 - acc: 0.96 - ETA: 9s - loss: 0.1113 - acc: 0.9603 - ETA: 7s - loss: 0.1111 - acc: 0.960 - ETA: 5s - loss: 0.1112 - acc: 0.960 - ETA: 3s - loss: 0.1111 - acc: 0.960 - ETA: 1s - loss: 0.1109 - acc: 0.960 - 1126s 35ms/step - loss: 0.1110 - acc: 0.9604 - val_loss: 0.2749 - val_acc: 0.9018\n",
      "Epoch 2/5\n"
     ]
    },
    {
     "name": "stdout",
     "output_type": "stream",
     "text": [
      "13056/32249 [===========>..................] - ETA: 20:36 - loss: 0.1763 - acc: 0.92 - ETA: 19:44 - loss: 0.1463 - acc: 0.93 - ETA: 19:09 - loss: 0.1386 - acc: 0.94 - ETA: 18:49 - loss: 0.1237 - acc: 0.95 - ETA: 18:38 - loss: 0.1080 - acc: 0.95 - ETA: 18:33 - loss: 0.1024 - acc: 0.95 - ETA: 18:32 - loss: 0.1003 - acc: 0.95 - ETA: 19:30 - loss: 0.0980 - acc: 0.95 - ETA: 20:27 - loss: 0.0929 - acc: 0.96 - ETA: 21:07 - loss: 0.1017 - acc: 0.95 - ETA: 21:37 - loss: 0.1113 - acc: 0.95 - ETA: 21:58 - loss: 0.1074 - acc: 0.95 - ETA: 22:15 - loss: 0.1026 - acc: 0.95 - ETA: 22:28 - loss: 0.1016 - acc: 0.96 - ETA: 22:40 - loss: 0.1027 - acc: 0.96 - ETA: 22:55 - loss: 0.1030 - acc: 0.96 - ETA: 22:57 - loss: 0.0999 - acc: 0.96 - ETA: 23:04 - loss: 0.0965 - acc: 0.96 - ETA: 22:55 - loss: 0.0936 - acc: 0.96 - ETA: 22:59 - loss: 0.0957 - acc: 0.96 - ETA: 22:36 - loss: 0.0952 - acc: 0.96 - ETA: 22:13 - loss: 0.0926 - acc: 0.96 - ETA: 22:08 - loss: 0.0921 - acc: 0.96 - ETA: 21:51 - loss: 0.0919 - acc: 0.96 - ETA: 21:38 - loss: 0.0939 - acc: 0.96 - ETA: 21:35 - loss: 0.0946 - acc: 0.96 - ETA: 21:30 - loss: 0.0950 - acc: 0.96 - ETA: 21:23 - loss: 0.0944 - acc: 0.96 - ETA: 21:10 - loss: 0.0940 - acc: 0.96 - ETA: 21:09 - loss: 0.0965 - acc: 0.96 - ETA: 21:01 - loss: 0.0946 - acc: 0.96 - ETA: 20:48 - loss: 0.0923 - acc: 0.96 - ETA: 20:33 - loss: 0.0907 - acc: 0.97 - ETA: 20:18 - loss: 0.0888 - acc: 0.97 - ETA: 20:07 - loss: 0.0913 - acc: 0.97 - ETA: 19:56 - loss: 0.0895 - acc: 0.97 - ETA: 19:51 - loss: 0.0898 - acc: 0.97 - ETA: 19:51 - loss: 0.0933 - acc: 0.97 - ETA: 19:39 - loss: 0.0913 - acc: 0.97 - ETA: 19:38 - loss: 0.0901 - acc: 0.97 - ETA: 19:31 - loss: 0.0906 - acc: 0.97 - ETA: 19:27 - loss: 0.0899 - acc: 0.97 - ETA: 19:21 - loss: 0.0897 - acc: 0.97 - ETA: 19:27 - loss: 0.0898 - acc: 0.97 - ETA: 19:31 - loss: 0.0889 - acc: 0.97 - ETA: 19:34 - loss: 0.0899 - acc: 0.97 - ETA: 19:34 - loss: 0.0898 - acc: 0.97 - ETA: 19:31 - loss: 0.0892 - acc: 0.97 - ETA: 19:28 - loss: 0.0885 - acc: 0.97 - ETA: 19:25 - loss: 0.0880 - acc: 0.97 - ETA: 19:23 - loss: 0.0868 - acc: 0.97 - ETA: 19:20 - loss: 0.0873 - acc: 0.97 - ETA: 19:16 - loss: 0.0866 - acc: 0.97 - ETA: 19:14 - loss: 0.0873 - acc: 0.97 - ETA: 19:12 - loss: 0.0862 - acc: 0.97 - ETA: 19:14 - loss: 0.0853 - acc: 0.97 - ETA: 19:13 - loss: 0.0848 - acc: 0.97 - ETA: 19:11 - loss: 0.0852 - acc: 0.97 - ETA: 19:07 - loss: 0.0842 - acc: 0.97 - ETA: 19:10 - loss: 0.0848 - acc: 0.97 - ETA: 19:13 - loss: 0.0855 - acc: 0.97 - ETA: 19:15 - loss: 0.0848 - acc: 0.97 - ETA: 19:16 - loss: 0.0848 - acc: 0.97 - ETA: 19:19 - loss: 0.0860 - acc: 0.97 - ETA: 19:27 - loss: 0.0867 - acc: 0.97 - ETA: 19:29 - loss: 0.0875 - acc: 0.96 - ETA: 19:34 - loss: 0.0866 - acc: 0.97 - ETA: 19:36 - loss: 0.0870 - acc: 0.96 - ETA: 19:38 - loss: 0.0873 - acc: 0.96 - ETA: 19:37 - loss: 0.0885 - acc: 0.96 - ETA: 19:36 - loss: 0.0886 - acc: 0.96 - ETA: 19:37 - loss: 0.0882 - acc: 0.96 - ETA: 19:37 - loss: 0.0877 - acc: 0.96 - ETA: 19:35 - loss: 0.0878 - acc: 0.96 - ETA: 19:31 - loss: 0.0873 - acc: 0.96 - ETA: 19:29 - loss: 0.0872 - acc: 0.96 - ETA: 19:25 - loss: 0.0877 - acc: 0.96 - ETA: 19:21 - loss: 0.0875 - acc: 0.96 - ETA: 19:17 - loss: 0.0869 - acc: 0.96 - ETA: 19:13 - loss: 0.0865 - acc: 0.96 - ETA: 19:08 - loss: 0.0861 - acc: 0.96 - ETA: 19:04 - loss: 0.0869 - acc: 0.96 - ETA: 19:00 - loss: 0.0868 - acc: 0.96 - ETA: 18:57 - loss: 0.0864 - acc: 0.96 - ETA: 18:54 - loss: 0.0859 - acc: 0.96 - ETA: 18:50 - loss: 0.0858 - acc: 0.96 - ETA: 18:46 - loss: 0.0855 - acc: 0.97 - ETA: 18:43 - loss: 0.0862 - acc: 0.97 - ETA: 18:39 - loss: 0.0856 - acc: 0.97 - ETA: 18:35 - loss: 0.0859 - acc: 0.97 - ETA: 18:31 - loss: 0.0854 - acc: 0.97 - ETA: 18:27 - loss: 0.0868 - acc: 0.96 - ETA: 18:23 - loss: 0.0863 - acc: 0.97 - ETA: 18:19 - loss: 0.0867 - acc: 0.97 - ETA: 18:15 - loss: 0.0869 - acc: 0.97 - ETA: 18:12 - loss: 0.0867 - acc: 0.97 - ETA: 18:08 - loss: 0.0860 - acc: 0.97 - ETA: 18:04 - loss: 0.0859 - acc: 0.97 - ETA: 18:00 - loss: 0.0859 - acc: 0.97 - ETA: 17:56 - loss: 0.0856 - acc: 0.97 - ETA: 17:52 - loss: 0.0864 - acc: 0.97 - ETA: 17:49 - loss: 0.0858 - acc: 0.97 - ETA: 17:45 - loss: 0.0854 - acc: 0.97 - ETA: 17:41 - loss: 0.0851 - acc: 0.97 - ETA: 17:38 - loss: 0.0856 - acc: 0.97 - ETA: 17:34 - loss: 0.0858 - acc: 0.97 - ETA: 17:31 - loss: 0.0855 - acc: 0.97 - ETA: 17:28 - loss: 0.0856 - acc: 0.97 - ETA: 17:25 - loss: 0.0856 - acc: 0.97 - ETA: 17:21 - loss: 0.0858 - acc: 0.97 - ETA: 17:18 - loss: 0.0857 - acc: 0.97 - ETA: 17:14 - loss: 0.0854 - acc: 0.97 - ETA: 17:11 - loss: 0.0850 - acc: 0.97 - ETA: 17:08 - loss: 0.0861 - acc: 0.97 - ETA: 17:05 - loss: 0.0864 - acc: 0.97 - ETA: 17:01 - loss: 0.0860 - acc: 0.97 - ETA: 16:58 - loss: 0.0862 - acc: 0.97 - ETA: 16:54 - loss: 0.0864 - acc: 0.97 - ETA: 16:51 - loss: 0.0863 - acc: 0.97 - ETA: 16:47 - loss: 0.0865 - acc: 0.96 - ETA: 16:44 - loss: 0.0861 - acc: 0.97 - ETA: 16:41 - loss: 0.0858 - acc: 0.97 - ETA: 16:38 - loss: 0.0860 - acc: 0.97 - ETA: 16:34 - loss: 0.0865 - acc: 0.97 - ETA: 16:31 - loss: 0.0862 - acc: 0.97 - ETA: 16:30 - loss: 0.0866 - acc: 0.97 - ETA: 16:30 - loss: 0.0866 - acc: 0.97 - ETA: 16:28 - loss: 0.0873 - acc: 0.96 - ETA: 16:27 - loss: 0.0874 - acc: 0.96 - ETA: 16:26 - loss: 0.0875 - acc: 0.96 - ETA: 16:27 - loss: 0.0876 - acc: 0.96 - ETA: 16:29 - loss: 0.0879 - acc: 0.96 - ETA: 16:27 - loss: 0.0879 - acc: 0.96 - ETA: 16:25 - loss: 0.0877 - acc: 0.96 - ETA: 16:23 - loss: 0.0872 - acc: 0.96 - ETA: 16:18 - loss: 0.0877 - acc: 0.96 - ETA: 16:14 - loss: 0.0878 - acc: 0.96 - ETA: 16:09 - loss: 0.0880 - acc: 0.96 - ETA: 16:04 - loss: 0.0881 - acc: 0.96 - ETA: 16:00 - loss: 0.0879 - acc: 0.96 - ETA: 15:55 - loss: 0.0877 - acc: 0.96 - ETA: 15:50 - loss: 0.0877 - acc: 0.96 - ETA: 15:46 - loss: 0.0873 - acc: 0.96 - ETA: 15:41 - loss: 0.0870 - acc: 0.96 - ETA: 15:37 - loss: 0.0878 - acc: 0.96 - ETA: 15:32 - loss: 0.0874 - acc: 0.96 - ETA: 15:28 - loss: 0.0877 - acc: 0.96 - ETA: 15:23 - loss: 0.0873 - acc: 0.96 - ETA: 15:19 - loss: 0.0878 - acc: 0.96 - ETA: 15:15 - loss: 0.0877 - acc: 0.96 - ETA: 15:12 - loss: 0.0885 - acc: 0.96 - ETA: 15:08 - loss: 0.0892 - acc: 0.96 - ETA: 15:05 - loss: 0.0893 - acc: 0.96 - ETA: 15:01 - loss: 0.0895 - acc: 0.96 - ETA: 14:57 - loss: 0.0892 - acc: 0.96 - ETA: 14:55 - loss: 0.0888 - acc: 0.96 - ETA: 14:52 - loss: 0.0884 - acc: 0.96 - ETA: 14:48 - loss: 0.0883 - acc: 0.96 - ETA: 14:44 - loss: 0.0881 - acc: 0.96 - ETA: 14:41 - loss: 0.0887 - acc: 0.96 - ETA: 14:39 - loss: 0.0891 - acc: 0.96 - ETA: 14:37 - loss: 0.0891 - acc: 0.96 - ETA: 14:34 - loss: 0.0890 - acc: 0.96 - ETA: 14:30 - loss: 0.0888 - acc: 0.96 - ETA: 14:26 - loss: 0.0890 - acc: 0.96 - ETA: 14:22 - loss: 0.0887 - acc: 0.96 - ETA: 14:18 - loss: 0.0885 - acc: 0.96 - ETA: 14:16 - loss: 0.0885 - acc: 0.96 - ETA: 14:12 - loss: 0.0885 - acc: 0.96 - ETA: 14:09 - loss: 0.0882 - acc: 0.96 - ETA: 14:06 - loss: 0.0882 - acc: 0.96 - ETA: 14:03 - loss: 0.0878 - acc: 0.96 - ETA: 14:00 - loss: 0.0875 - acc: 0.96 - ETA: 13:57 - loss: 0.0876 - acc: 0.96 - ETA: 13:54 - loss: 0.0876 - acc: 0.96 - ETA: 13:52 - loss: 0.0874 - acc: 0.96 - ETA: 13:49 - loss: 0.0873 - acc: 0.96 - ETA: 13:48 - loss: 0.0877 - acc: 0.96 - ETA: 13:46 - loss: 0.0875 - acc: 0.96 - ETA: 13:44 - loss: 0.0872 - acc: 0.96 - ETA: 13:43 - loss: 0.0870 - acc: 0.96 - ETA: 13:43 - loss: 0.0866 - acc: 0.97 - ETA: 13:47 - loss: 0.0866 - acc: 0.97 - ETA: 13:50 - loss: 0.0865 - acc: 0.97 - ETA: 13:48 - loss: 0.0863 - acc: 0.97 - ETA: 13:47 - loss: 0.0868 - acc: 0.97 - ETA: 13:46 - loss: 0.0866 - acc: 0.97 - ETA: 13:45 - loss: 0.0866 - acc: 0.97 - ETA: 13:44 - loss: 0.0865 - acc: 0.97 - ETA: 13:41 - loss: 0.0865 - acc: 0.97 - ETA: 13:39 - loss: 0.0870 - acc: 0.96 - ETA: 13:37 - loss: 0.0871 - acc: 0.96 - ETA: 13:35 - loss: 0.0876 - acc: 0.96 - ETA: 13:33 - loss: 0.0875 - acc: 0.96 - ETA: 13:31 - loss: 0.0873 - acc: 0.96 - ETA: 13:30 - loss: 0.0877 - acc: 0.96 - ETA: 13:28 - loss: 0.0874 - acc: 0.96 - ETA: 13:29 - loss: 0.0872 - acc: 0.96 - ETA: 13:30 - loss: 0.0874 - acc: 0.96 - ETA: 13:27 - loss: 0.0872 - acc: 0.96 - ETA: 13:24 - loss: 0.0869 - acc: 0.96 - ETA: 13:22 - loss: 0.0868 - acc: 0.97 - ETA: 13:20 - loss: 0.0867 - acc: 0.97 - ETA: 13:17 - loss: 0.0868 - acc: 0.970126112/32249 [=======================>......] - ETA: 13:15 - loss: 0.0867 - acc: 0.97 - ETA: 13:13 - loss: 0.0865 - acc: 0.97 - ETA: 13:11 - loss: 0.0871 - acc: 0.97 - ETA: 13:08 - loss: 0.0871 - acc: 0.97 - ETA: 13:06 - loss: 0.0876 - acc: 0.96 - ETA: 13:03 - loss: 0.0878 - acc: 0.96 - ETA: 13:01 - loss: 0.0879 - acc: 0.96 - ETA: 13:00 - loss: 0.0878 - acc: 0.96 - ETA: 12:58 - loss: 0.0878 - acc: 0.96 - ETA: 12:55 - loss: 0.0877 - acc: 0.96 - ETA: 12:52 - loss: 0.0878 - acc: 0.96 - ETA: 12:50 - loss: 0.0878 - acc: 0.96 - ETA: 12:48 - loss: 0.0885 - acc: 0.96 - ETA: 12:46 - loss: 0.0883 - acc: 0.96 - ETA: 12:43 - loss: 0.0881 - acc: 0.96 - ETA: 12:41 - loss: 0.0884 - acc: 0.96 - ETA: 12:37 - loss: 0.0888 - acc: 0.96 - ETA: 12:34 - loss: 0.0888 - acc: 0.96 - ETA: 12:32 - loss: 0.0887 - acc: 0.96 - ETA: 12:31 - loss: 0.0886 - acc: 0.96 - ETA: 12:27 - loss: 0.0889 - acc: 0.96 - ETA: 12:23 - loss: 0.0894 - acc: 0.96 - ETA: 12:20 - loss: 0.0892 - acc: 0.96 - ETA: 12:16 - loss: 0.0890 - acc: 0.96 - ETA: 12:14 - loss: 0.0891 - acc: 0.96 - ETA: 12:12 - loss: 0.0890 - acc: 0.96 - ETA: 12:09 - loss: 0.0889 - acc: 0.96 - ETA: 12:07 - loss: 0.0892 - acc: 0.96 - ETA: 12:04 - loss: 0.0895 - acc: 0.96 - ETA: 12:01 - loss: 0.0895 - acc: 0.96 - ETA: 11:58 - loss: 0.0893 - acc: 0.96 - ETA: 11:56 - loss: 0.0895 - acc: 0.96 - ETA: 11:54 - loss: 0.0894 - acc: 0.96 - ETA: 11:52 - loss: 0.0895 - acc: 0.96 - ETA: 11:50 - loss: 0.0895 - acc: 0.96 - ETA: 11:48 - loss: 0.0895 - acc: 0.96 - ETA: 11:46 - loss: 0.0896 - acc: 0.96 - ETA: 11:43 - loss: 0.0896 - acc: 0.96 - ETA: 11:39 - loss: 0.0895 - acc: 0.96 - ETA: 11:36 - loss: 0.0901 - acc: 0.96 - ETA: 11:33 - loss: 0.0901 - acc: 0.96 - ETA: 11:30 - loss: 0.0902 - acc: 0.96 - ETA: 11:27 - loss: 0.0900 - acc: 0.96 - ETA: 11:25 - loss: 0.0900 - acc: 0.96 - ETA: 11:24 - loss: 0.0901 - acc: 0.96 - ETA: 11:22 - loss: 0.0901 - acc: 0.96 - ETA: 11:19 - loss: 0.0900 - acc: 0.96 - ETA: 11:15 - loss: 0.0899 - acc: 0.96 - ETA: 11:12 - loss: 0.0898 - acc: 0.96 - ETA: 11:10 - loss: 0.0901 - acc: 0.96 - ETA: 11:08 - loss: 0.0901 - acc: 0.96 - ETA: 11:05 - loss: 0.0903 - acc: 0.96 - ETA: 11:03 - loss: 0.0906 - acc: 0.96 - ETA: 11:00 - loss: 0.0904 - acc: 0.96 - ETA: 10:57 - loss: 0.0903 - acc: 0.96 - ETA: 10:54 - loss: 0.0900 - acc: 0.96 - ETA: 10:51 - loss: 0.0898 - acc: 0.96 - ETA: 10:48 - loss: 0.0898 - acc: 0.96 - ETA: 10:46 - loss: 0.0897 - acc: 0.96 - ETA: 10:43 - loss: 0.0901 - acc: 0.96 - ETA: 10:40 - loss: 0.0900 - acc: 0.96 - ETA: 10:37 - loss: 0.0901 - acc: 0.96 - ETA: 10:34 - loss: 0.0900 - acc: 0.96 - ETA: 10:31 - loss: 0.0898 - acc: 0.96 - ETA: 10:28 - loss: 0.0896 - acc: 0.96 - ETA: 10:25 - loss: 0.0896 - acc: 0.96 - ETA: 10:22 - loss: 0.0894 - acc: 0.96 - ETA: 10:19 - loss: 0.0898 - acc: 0.96 - ETA: 10:16 - loss: 0.0900 - acc: 0.96 - ETA: 10:12 - loss: 0.0899 - acc: 0.96 - ETA: 10:10 - loss: 0.0902 - acc: 0.96 - ETA: 10:07 - loss: 0.0901 - acc: 0.96 - ETA: 10:04 - loss: 0.0900 - acc: 0.96 - ETA: 10:01 - loss: 0.0901 - acc: 0.96 - ETA: 9:58 - loss: 0.0901 - acc: 0.9689 - ETA: 9:55 - loss: 0.0899 - acc: 0.969 - ETA: 9:52 - loss: 0.0898 - acc: 0.969 - ETA: 9:49 - loss: 0.0898 - acc: 0.968 - ETA: 9:46 - loss: 0.0897 - acc: 0.969 - ETA: 9:43 - loss: 0.0896 - acc: 0.969 - ETA: 9:40 - loss: 0.0895 - acc: 0.969 - ETA: 9:37 - loss: 0.0894 - acc: 0.969 - ETA: 9:34 - loss: 0.0897 - acc: 0.969 - ETA: 9:31 - loss: 0.0896 - acc: 0.969 - ETA: 9:29 - loss: 0.0897 - acc: 0.969 - ETA: 9:27 - loss: 0.0896 - acc: 0.969 - ETA: 9:24 - loss: 0.0895 - acc: 0.969 - ETA: 9:21 - loss: 0.0897 - acc: 0.969 - ETA: 9:19 - loss: 0.0897 - acc: 0.969 - ETA: 9:16 - loss: 0.0895 - acc: 0.969 - ETA: 9:14 - loss: 0.0895 - acc: 0.969 - ETA: 9:11 - loss: 0.0897 - acc: 0.969 - ETA: 9:09 - loss: 0.0896 - acc: 0.969 - ETA: 9:06 - loss: 0.0898 - acc: 0.969 - ETA: 9:03 - loss: 0.0895 - acc: 0.969 - ETA: 9:00 - loss: 0.0897 - acc: 0.969 - ETA: 8:57 - loss: 0.0896 - acc: 0.969 - ETA: 8:54 - loss: 0.0894 - acc: 0.969 - ETA: 8:51 - loss: 0.0893 - acc: 0.969 - ETA: 8:48 - loss: 0.0893 - acc: 0.969 - ETA: 8:45 - loss: 0.0893 - acc: 0.969 - ETA: 8:42 - loss: 0.0894 - acc: 0.969 - ETA: 8:39 - loss: 0.0898 - acc: 0.968 - ETA: 8:36 - loss: 0.0898 - acc: 0.968 - ETA: 8:33 - loss: 0.0897 - acc: 0.968 - ETA: 8:30 - loss: 0.0896 - acc: 0.968 - ETA: 8:27 - loss: 0.0894 - acc: 0.968 - ETA: 8:24 - loss: 0.0894 - acc: 0.968 - ETA: 8:21 - loss: 0.0894 - acc: 0.968 - ETA: 8:19 - loss: 0.0894 - acc: 0.968 - ETA: 8:16 - loss: 0.0893 - acc: 0.968 - ETA: 8:13 - loss: 0.0893 - acc: 0.968 - ETA: 8:10 - loss: 0.0891 - acc: 0.969 - ETA: 8:07 - loss: 0.0890 - acc: 0.969 - ETA: 8:04 - loss: 0.0892 - acc: 0.969 - ETA: 8:01 - loss: 0.0891 - acc: 0.969 - ETA: 7:58 - loss: 0.0893 - acc: 0.969 - ETA: 7:56 - loss: 0.0892 - acc: 0.969 - ETA: 7:53 - loss: 0.0890 - acc: 0.969 - ETA: 7:50 - loss: 0.0891 - acc: 0.969 - ETA: 7:47 - loss: 0.0891 - acc: 0.969 - ETA: 7:44 - loss: 0.0895 - acc: 0.968 - ETA: 7:41 - loss: 0.0895 - acc: 0.968 - ETA: 7:39 - loss: 0.0898 - acc: 0.968 - ETA: 7:36 - loss: 0.0900 - acc: 0.968 - ETA: 7:33 - loss: 0.0899 - acc: 0.968 - ETA: 7:31 - loss: 0.0900 - acc: 0.968 - ETA: 7:29 - loss: 0.0900 - acc: 0.968 - ETA: 7:26 - loss: 0.0900 - acc: 0.968 - ETA: 7:23 - loss: 0.0901 - acc: 0.968 - ETA: 7:22 - loss: 0.0899 - acc: 0.968 - ETA: 7:20 - loss: 0.0899 - acc: 0.968 - ETA: 7:17 - loss: 0.0901 - acc: 0.968 - ETA: 7:14 - loss: 0.0900 - acc: 0.968 - ETA: 7:11 - loss: 0.0902 - acc: 0.968 - ETA: 7:08 - loss: 0.0901 - acc: 0.968 - ETA: 7:06 - loss: 0.0901 - acc: 0.968 - ETA: 7:03 - loss: 0.0901 - acc: 0.968 - ETA: 7:00 - loss: 0.0902 - acc: 0.968 - ETA: 6:58 - loss: 0.0900 - acc: 0.968 - ETA: 6:55 - loss: 0.0901 - acc: 0.968 - ETA: 6:52 - loss: 0.0901 - acc: 0.968 - ETA: 6:50 - loss: 0.0902 - acc: 0.968 - ETA: 6:47 - loss: 0.0901 - acc: 0.968 - ETA: 6:44 - loss: 0.0902 - acc: 0.968 - ETA: 6:42 - loss: 0.0900 - acc: 0.968 - ETA: 6:39 - loss: 0.0902 - acc: 0.968 - ETA: 6:36 - loss: 0.0902 - acc: 0.968 - ETA: 6:33 - loss: 0.0901 - acc: 0.968 - ETA: 6:31 - loss: 0.0900 - acc: 0.968 - ETA: 6:28 - loss: 0.0901 - acc: 0.968 - ETA: 6:25 - loss: 0.0900 - acc: 0.968 - ETA: 6:22 - loss: 0.0900 - acc: 0.968 - ETA: 6:19 - loss: 0.0901 - acc: 0.968 - ETA: 6:17 - loss: 0.0900 - acc: 0.968 - ETA: 6:14 - loss: 0.0901 - acc: 0.968 - ETA: 6:11 - loss: 0.0902 - acc: 0.968 - ETA: 6:09 - loss: 0.0903 - acc: 0.968 - ETA: 6:06 - loss: 0.0902 - acc: 0.968 - ETA: 6:04 - loss: 0.0902 - acc: 0.968 - ETA: 6:01 - loss: 0.0906 - acc: 0.968 - ETA: 5:59 - loss: 0.0905 - acc: 0.968 - ETA: 5:56 - loss: 0.0904 - acc: 0.968 - ETA: 5:53 - loss: 0.0907 - acc: 0.968 - ETA: 5:50 - loss: 0.0905 - acc: 0.968 - ETA: 5:47 - loss: 0.0905 - acc: 0.968 - ETA: 5:44 - loss: 0.0911 - acc: 0.968 - ETA: 5:41 - loss: 0.0911 - acc: 0.968 - ETA: 5:39 - loss: 0.0911 - acc: 0.968 - ETA: 5:36 - loss: 0.0911 - acc: 0.968 - ETA: 5:33 - loss: 0.0910 - acc: 0.968 - ETA: 5:30 - loss: 0.0911 - acc: 0.968 - ETA: 5:27 - loss: 0.0914 - acc: 0.967 - ETA: 5:25 - loss: 0.0915 - acc: 0.967 - ETA: 5:22 - loss: 0.0916 - acc: 0.967 - ETA: 5:19 - loss: 0.0917 - acc: 0.967 - ETA: 5:16 - loss: 0.0917 - acc: 0.967 - ETA: 5:13 - loss: 0.0918 - acc: 0.967 - ETA: 5:10 - loss: 0.0917 - acc: 0.967 - ETA: 5:08 - loss: 0.0920 - acc: 0.967 - ETA: 5:05 - loss: 0.0919 - acc: 0.967 - ETA: 5:02 - loss: 0.0919 - acc: 0.967 - ETA: 4:59 - loss: 0.0922 - acc: 0.967 - ETA: 4:57 - loss: 0.0923 - acc: 0.967 - ETA: 4:54 - loss: 0.0924 - acc: 0.967 - ETA: 4:51 - loss: 0.0923 - acc: 0.967 - ETA: 4:48 - loss: 0.0922 - acc: 0.967 - ETA: 4:46 - loss: 0.0923 - acc: 0.967 - ETA: 4:43 - loss: 0.0924 - acc: 0.967 - ETA: 4:40 - loss: 0.0923 - acc: 0.967 - ETA: 4:37 - loss: 0.0922 - acc: 0.967 - ETA: 4:35 - loss: 0.0923 - acc: 0.967 - ETA: 4:32 - loss: 0.0925 - acc: 0.967 - ETA: 4:29 - loss: 0.0924 - acc: 0.967 - ETA: 4:27 - loss: 0.0923 - acc: 0.967 - ETA: 4:24 - loss: 0.0923 - acc: 0.967 - ETA: 4:21 - loss: 0.0925 - acc: 0.967 - ETA: 4:18 - loss: 0.0927 - acc: 0.967 - ETA: 4:16 - loss: 0.0926 - acc: 0.967 - ETA: 4:13 - loss: 0.0927 - acc: 0.967 - ETA: 4:10 - loss: 0.0927 - acc: 0.967 - ETA: 4:08 - loss: 0.0926 - acc: 0.967 - ETA: 4:05 - loss: 0.0925 - acc: 0.967 - ETA: 4:02 - loss: 0.0925 - acc: 0.9672"
     ]
    },
    {
     "name": "stdout",
     "output_type": "stream",
     "text": [
      "32249/32249 [==============================] - ETA: 4:00 - loss: 0.0924 - acc: 0.967 - ETA: 3:57 - loss: 0.0924 - acc: 0.967 - ETA: 3:54 - loss: 0.0923 - acc: 0.967 - ETA: 3:52 - loss: 0.0922 - acc: 0.967 - ETA: 3:49 - loss: 0.0921 - acc: 0.967 - ETA: 3:46 - loss: 0.0921 - acc: 0.967 - ETA: 3:44 - loss: 0.0922 - acc: 0.967 - ETA: 3:41 - loss: 0.0922 - acc: 0.967 - ETA: 3:38 - loss: 0.0921 - acc: 0.967 - ETA: 3:36 - loss: 0.0921 - acc: 0.967 - ETA: 3:33 - loss: 0.0922 - acc: 0.967 - ETA: 3:30 - loss: 0.0924 - acc: 0.967 - ETA: 3:28 - loss: 0.0923 - acc: 0.967 - ETA: 3:25 - loss: 0.0924 - acc: 0.967 - ETA: 3:22 - loss: 0.0924 - acc: 0.967 - ETA: 3:20 - loss: 0.0927 - acc: 0.967 - ETA: 3:17 - loss: 0.0929 - acc: 0.967 - ETA: 3:14 - loss: 0.0928 - acc: 0.967 - ETA: 3:12 - loss: 0.0929 - acc: 0.967 - ETA: 3:09 - loss: 0.0928 - acc: 0.967 - ETA: 3:07 - loss: 0.0929 - acc: 0.967 - ETA: 3:04 - loss: 0.0929 - acc: 0.967 - ETA: 3:01 - loss: 0.0930 - acc: 0.967 - ETA: 2:59 - loss: 0.0929 - acc: 0.967 - ETA: 2:56 - loss: 0.0928 - acc: 0.967 - ETA: 2:53 - loss: 0.0928 - acc: 0.967 - ETA: 2:51 - loss: 0.0928 - acc: 0.967 - ETA: 2:48 - loss: 0.0927 - acc: 0.967 - ETA: 2:46 - loss: 0.0926 - acc: 0.967 - ETA: 2:43 - loss: 0.0928 - acc: 0.967 - ETA: 2:41 - loss: 0.0930 - acc: 0.966 - ETA: 2:38 - loss: 0.0930 - acc: 0.966 - ETA: 2:35 - loss: 0.0929 - acc: 0.966 - ETA: 2:33 - loss: 0.0929 - acc: 0.966 - ETA: 2:30 - loss: 0.0929 - acc: 0.966 - ETA: 2:28 - loss: 0.0929 - acc: 0.966 - ETA: 2:25 - loss: 0.0928 - acc: 0.966 - ETA: 2:23 - loss: 0.0927 - acc: 0.966 - ETA: 2:20 - loss: 0.0927 - acc: 0.966 - ETA: 2:18 - loss: 0.0926 - acc: 0.966 - ETA: 2:15 - loss: 0.0925 - acc: 0.967 - ETA: 2:12 - loss: 0.0925 - acc: 0.967 - ETA: 2:10 - loss: 0.0926 - acc: 0.966 - ETA: 2:07 - loss: 0.0925 - acc: 0.967 - ETA: 2:05 - loss: 0.0924 - acc: 0.967 - ETA: 2:02 - loss: 0.0924 - acc: 0.967 - ETA: 2:00 - loss: 0.0924 - acc: 0.967 - ETA: 1:57 - loss: 0.0925 - acc: 0.966 - ETA: 1:55 - loss: 0.0924 - acc: 0.966 - ETA: 1:52 - loss: 0.0925 - acc: 0.966 - ETA: 1:50 - loss: 0.0925 - acc: 0.966 - ETA: 1:47 - loss: 0.0927 - acc: 0.966 - ETA: 1:45 - loss: 0.0926 - acc: 0.966 - ETA: 1:42 - loss: 0.0926 - acc: 0.966 - ETA: 1:40 - loss: 0.0927 - acc: 0.966 - ETA: 1:37 - loss: 0.0928 - acc: 0.966 - ETA: 1:35 - loss: 0.0928 - acc: 0.966 - ETA: 1:32 - loss: 0.0927 - acc: 0.966 - ETA: 1:30 - loss: 0.0928 - acc: 0.966 - ETA: 1:27 - loss: 0.0927 - acc: 0.966 - ETA: 1:25 - loss: 0.0927 - acc: 0.966 - ETA: 1:22 - loss: 0.0926 - acc: 0.966 - ETA: 1:20 - loss: 0.0929 - acc: 0.966 - ETA: 1:17 - loss: 0.0928 - acc: 0.966 - ETA: 1:15 - loss: 0.0927 - acc: 0.966 - ETA: 1:12 - loss: 0.0927 - acc: 0.966 - ETA: 1:10 - loss: 0.0928 - acc: 0.966 - ETA: 1:07 - loss: 0.0928 - acc: 0.966 - ETA: 1:05 - loss: 0.0927 - acc: 0.966 - ETA: 1:02 - loss: 0.0929 - acc: 0.966 - ETA: 1:00 - loss: 0.0928 - acc: 0.966 - ETA: 58s - loss: 0.0928 - acc: 0.966 - ETA: 55s - loss: 0.0927 - acc: 0.96 - ETA: 53s - loss: 0.0927 - acc: 0.96 - ETA: 50s - loss: 0.0927 - acc: 0.96 - ETA: 48s - loss: 0.0927 - acc: 0.96 - ETA: 45s - loss: 0.0927 - acc: 0.96 - ETA: 43s - loss: 0.0930 - acc: 0.96 - ETA: 40s - loss: 0.0930 - acc: 0.96 - ETA: 38s - loss: 0.0929 - acc: 0.96 - ETA: 36s - loss: 0.0937 - acc: 0.96 - ETA: 33s - loss: 0.0937 - acc: 0.96 - ETA: 31s - loss: 0.0936 - acc: 0.96 - ETA: 28s - loss: 0.0935 - acc: 0.96 - ETA: 26s - loss: 0.0934 - acc: 0.96 - ETA: 23s - loss: 0.0934 - acc: 0.96 - ETA: 21s - loss: 0.0935 - acc: 0.96 - ETA: 19s - loss: 0.0935 - acc: 0.96 - ETA: 16s - loss: 0.0937 - acc: 0.96 - ETA: 14s - loss: 0.0938 - acc: 0.96 - ETA: 11s - loss: 0.0938 - acc: 0.96 - ETA: 9s - loss: 0.0937 - acc: 0.9663 - ETA: 6s - loss: 0.0937 - acc: 0.966 - ETA: 4s - loss: 0.0936 - acc: 0.966 - ETA: 2s - loss: 0.0936 - acc: 0.966 - 1340s 42ms/step - loss: 0.0935 - acc: 0.9664 - val_loss: 0.2667 - val_acc: 0.9104\n",
      "Epoch 3/5\n"
     ]
    },
    {
     "name": "stdout",
     "output_type": "stream",
     "text": [
      "13056/32249 [===========>..................] - ETA: 26:18 - loss: 0.0345 - acc: 1.00 - ETA: 27:39 - loss: 0.0770 - acc: 0.97 - ETA: 25:53 - loss: 0.0806 - acc: 0.97 - ETA: 24:21 - loss: 0.0767 - acc: 0.98 - ETA: 24:06 - loss: 0.0694 - acc: 0.98 - ETA: 24:55 - loss: 0.0647 - acc: 0.98 - ETA: 25:56 - loss: 0.0607 - acc: 0.98 - ETA: 26:58 - loss: 0.0566 - acc: 0.98 - ETA: 28:07 - loss: 0.0598 - acc: 0.98 - ETA: 29:14 - loss: 0.0559 - acc: 0.98 - ETA: 30:17 - loss: 0.0559 - acc: 0.98 - ETA: 30:34 - loss: 0.0533 - acc: 0.98 - ETA: 30:18 - loss: 0.0531 - acc: 0.98 - ETA: 30:00 - loss: 0.0529 - acc: 0.98 - ETA: 29:36 - loss: 0.0524 - acc: 0.98 - ETA: 29:31 - loss: 0.0544 - acc: 0.98 - ETA: 29:11 - loss: 0.0553 - acc: 0.98 - ETA: 28:56 - loss: 0.0554 - acc: 0.98 - ETA: 28:39 - loss: 0.0545 - acc: 0.98 - ETA: 28:27 - loss: 0.0534 - acc: 0.98 - ETA: 28:17 - loss: 0.0556 - acc: 0.98 - ETA: 28:15 - loss: 0.0576 - acc: 0.98 - ETA: 28:05 - loss: 0.0570 - acc: 0.98 - ETA: 27:55 - loss: 0.0559 - acc: 0.98 - ETA: 27:45 - loss: 0.0561 - acc: 0.98 - ETA: 27:35 - loss: 0.0574 - acc: 0.98 - ETA: 27:24 - loss: 0.0571 - acc: 0.98 - ETA: 27:21 - loss: 0.0570 - acc: 0.98 - ETA: 27:18 - loss: 0.0562 - acc: 0.98 - ETA: 27:13 - loss: 0.0564 - acc: 0.98 - ETA: 27:05 - loss: 0.0581 - acc: 0.98 - ETA: 26:56 - loss: 0.0584 - acc: 0.98 - ETA: 26:48 - loss: 0.0608 - acc: 0.98 - ETA: 26:41 - loss: 0.0628 - acc: 0.98 - ETA: 26:38 - loss: 0.0633 - acc: 0.98 - ETA: 26:31 - loss: 0.0627 - acc: 0.98 - ETA: 26:23 - loss: 0.0616 - acc: 0.98 - ETA: 26:15 - loss: 0.0606 - acc: 0.98 - ETA: 26:07 - loss: 0.0619 - acc: 0.98 - ETA: 26:01 - loss: 0.0612 - acc: 0.98 - ETA: 25:56 - loss: 0.0602 - acc: 0.98 - ETA: 25:50 - loss: 0.0593 - acc: 0.98 - ETA: 25:43 - loss: 0.0596 - acc: 0.98 - ETA: 25:36 - loss: 0.0586 - acc: 0.98 - ETA: 25:29 - loss: 0.0583 - acc: 0.98 - ETA: 25:22 - loss: 0.0620 - acc: 0.98 - ETA: 25:15 - loss: 0.0610 - acc: 0.98 - ETA: 25:08 - loss: 0.0624 - acc: 0.98 - ETA: 25:09 - loss: 0.0616 - acc: 0.98 - ETA: 25:14 - loss: 0.0621 - acc: 0.98 - ETA: 25:16 - loss: 0.0617 - acc: 0.98 - ETA: 25:14 - loss: 0.0627 - acc: 0.98 - ETA: 25:04 - loss: 0.0635 - acc: 0.98 - ETA: 24:54 - loss: 0.0629 - acc: 0.98 - ETA: 24:44 - loss: 0.0633 - acc: 0.98 - ETA: 24:39 - loss: 0.0651 - acc: 0.98 - ETA: 24:32 - loss: 0.0669 - acc: 0.98 - ETA: 24:27 - loss: 0.0674 - acc: 0.97 - ETA: 24:22 - loss: 0.0686 - acc: 0.97 - ETA: 24:17 - loss: 0.0679 - acc: 0.98 - ETA: 24:12 - loss: 0.0678 - acc: 0.98 - ETA: 24:06 - loss: 0.0671 - acc: 0.98 - ETA: 24:00 - loss: 0.0668 - acc: 0.98 - ETA: 23:54 - loss: 0.0665 - acc: 0.98 - ETA: 23:47 - loss: 0.0662 - acc: 0.98 - ETA: 23:41 - loss: 0.0655 - acc: 0.98 - ETA: 23:34 - loss: 0.0649 - acc: 0.98 - ETA: 23:28 - loss: 0.0649 - acc: 0.98 - ETA: 23:21 - loss: 0.0646 - acc: 0.98 - ETA: 23:16 - loss: 0.0640 - acc: 0.98 - ETA: 23:09 - loss: 0.0643 - acc: 0.98 - ETA: 23:03 - loss: 0.0640 - acc: 0.98 - ETA: 22:57 - loss: 0.0636 - acc: 0.98 - ETA: 22:51 - loss: 0.0644 - acc: 0.98 - ETA: 22:44 - loss: 0.0646 - acc: 0.98 - ETA: 22:38 - loss: 0.0641 - acc: 0.98 - ETA: 22:35 - loss: 0.0637 - acc: 0.98 - ETA: 22:31 - loss: 0.0630 - acc: 0.98 - ETA: 22:24 - loss: 0.0625 - acc: 0.98 - ETA: 22:16 - loss: 0.0632 - acc: 0.98 - ETA: 22:09 - loss: 0.0629 - acc: 0.98 - ETA: 22:03 - loss: 0.0623 - acc: 0.98 - ETA: 21:56 - loss: 0.0618 - acc: 0.98 - ETA: 21:49 - loss: 0.0620 - acc: 0.98 - ETA: 21:42 - loss: 0.0624 - acc: 0.98 - ETA: 21:35 - loss: 0.0622 - acc: 0.98 - ETA: 21:28 - loss: 0.0622 - acc: 0.98 - ETA: 21:24 - loss: 0.0619 - acc: 0.98 - ETA: 21:16 - loss: 0.0624 - acc: 0.98 - ETA: 21:09 - loss: 0.0626 - acc: 0.98 - ETA: 21:02 - loss: 0.0624 - acc: 0.98 - ETA: 20:54 - loss: 0.0621 - acc: 0.98 - ETA: 20:47 - loss: 0.0631 - acc: 0.98 - ETA: 20:40 - loss: 0.0630 - acc: 0.98 - ETA: 20:33 - loss: 0.0642 - acc: 0.98 - ETA: 20:25 - loss: 0.0647 - acc: 0.98 - ETA: 20:18 - loss: 0.0650 - acc: 0.98 - ETA: 20:11 - loss: 0.0652 - acc: 0.98 - ETA: 20:04 - loss: 0.0650 - acc: 0.98 - ETA: 19:57 - loss: 0.0649 - acc: 0.98 - ETA: 19:51 - loss: 0.0652 - acc: 0.98 - ETA: 19:45 - loss: 0.0661 - acc: 0.97 - ETA: 19:37 - loss: 0.0655 - acc: 0.98 - ETA: 19:30 - loss: 0.0666 - acc: 0.98 - ETA: 19:23 - loss: 0.0670 - acc: 0.97 - ETA: 19:17 - loss: 0.0671 - acc: 0.98 - ETA: 19:11 - loss: 0.0668 - acc: 0.98 - ETA: 19:05 - loss: 0.0666 - acc: 0.98 - ETA: 18:59 - loss: 0.0662 - acc: 0.98 - ETA: 18:54 - loss: 0.0658 - acc: 0.98 - ETA: 18:49 - loss: 0.0661 - acc: 0.98 - ETA: 18:45 - loss: 0.0659 - acc: 0.98 - ETA: 18:41 - loss: 0.0654 - acc: 0.98 - ETA: 18:37 - loss: 0.0664 - acc: 0.98 - ETA: 18:32 - loss: 0.0664 - acc: 0.98 - ETA: 18:27 - loss: 0.0662 - acc: 0.98 - ETA: 18:21 - loss: 0.0660 - acc: 0.98 - ETA: 18:16 - loss: 0.0664 - acc: 0.98 - ETA: 18:11 - loss: 0.0665 - acc: 0.98 - ETA: 18:06 - loss: 0.0663 - acc: 0.98 - ETA: 18:00 - loss: 0.0670 - acc: 0.98 - ETA: 17:54 - loss: 0.0669 - acc: 0.98 - ETA: 17:49 - loss: 0.0678 - acc: 0.98 - ETA: 17:44 - loss: 0.0679 - acc: 0.98 - ETA: 17:38 - loss: 0.0676 - acc: 0.98 - ETA: 17:33 - loss: 0.0673 - acc: 0.98 - ETA: 17:28 - loss: 0.0670 - acc: 0.98 - ETA: 17:23 - loss: 0.0672 - acc: 0.98 - ETA: 17:18 - loss: 0.0669 - acc: 0.98 - ETA: 17:14 - loss: 0.0670 - acc: 0.98 - ETA: 17:12 - loss: 0.0673 - acc: 0.98 - ETA: 17:11 - loss: 0.0673 - acc: 0.98 - ETA: 17:08 - loss: 0.0669 - acc: 0.98 - ETA: 17:07 - loss: 0.0669 - acc: 0.98 - ETA: 17:06 - loss: 0.0667 - acc: 0.98 - ETA: 17:04 - loss: 0.0666 - acc: 0.98 - ETA: 17:02 - loss: 0.0663 - acc: 0.98 - ETA: 16:58 - loss: 0.0670 - acc: 0.98 - ETA: 16:54 - loss: 0.0669 - acc: 0.98 - ETA: 16:50 - loss: 0.0671 - acc: 0.98 - ETA: 16:47 - loss: 0.0673 - acc: 0.98 - ETA: 16:44 - loss: 0.0677 - acc: 0.98 - ETA: 16:39 - loss: 0.0686 - acc: 0.97 - ETA: 16:34 - loss: 0.0688 - acc: 0.97 - ETA: 16:29 - loss: 0.0690 - acc: 0.97 - ETA: 16:24 - loss: 0.0697 - acc: 0.97 - ETA: 16:21 - loss: 0.0698 - acc: 0.97 - ETA: 16:16 - loss: 0.0703 - acc: 0.97 - ETA: 16:12 - loss: 0.0704 - acc: 0.97 - ETA: 16:09 - loss: 0.0705 - acc: 0.97 - ETA: 16:07 - loss: 0.0711 - acc: 0.97 - ETA: 16:03 - loss: 0.0710 - acc: 0.97 - ETA: 15:59 - loss: 0.0711 - acc: 0.97 - ETA: 15:56 - loss: 0.0710 - acc: 0.97 - ETA: 15:52 - loss: 0.0711 - acc: 0.97 - ETA: 15:50 - loss: 0.0713 - acc: 0.97 - ETA: 15:46 - loss: 0.0715 - acc: 0.97 - ETA: 15:41 - loss: 0.0716 - acc: 0.97 - ETA: 15:37 - loss: 0.0716 - acc: 0.97 - ETA: 15:32 - loss: 0.0717 - acc: 0.97 - ETA: 15:28 - loss: 0.0717 - acc: 0.97 - ETA: 15:23 - loss: 0.0718 - acc: 0.97 - ETA: 15:19 - loss: 0.0717 - acc: 0.97 - ETA: 15:15 - loss: 0.0722 - acc: 0.97 - ETA: 15:10 - loss: 0.0725 - acc: 0.97 - ETA: 15:07 - loss: 0.0725 - acc: 0.97 - ETA: 15:03 - loss: 0.0724 - acc: 0.97 - ETA: 15:00 - loss: 0.0723 - acc: 0.97 - ETA: 14:56 - loss: 0.0721 - acc: 0.97 - ETA: 14:52 - loss: 0.0722 - acc: 0.97 - ETA: 14:48 - loss: 0.0729 - acc: 0.97 - ETA: 14:44 - loss: 0.0735 - acc: 0.97 - ETA: 14:40 - loss: 0.0735 - acc: 0.97 - ETA: 14:36 - loss: 0.0733 - acc: 0.97 - ETA: 14:32 - loss: 0.0731 - acc: 0.97 - ETA: 14:28 - loss: 0.0730 - acc: 0.97 - ETA: 14:24 - loss: 0.0728 - acc: 0.97 - ETA: 14:20 - loss: 0.0728 - acc: 0.97 - ETA: 14:17 - loss: 0.0725 - acc: 0.97 - ETA: 14:13 - loss: 0.0725 - acc: 0.97 - ETA: 14:09 - loss: 0.0723 - acc: 0.97 - ETA: 14:05 - loss: 0.0726 - acc: 0.97 - ETA: 14:02 - loss: 0.0724 - acc: 0.97 - ETA: 13:58 - loss: 0.0726 - acc: 0.97 - ETA: 13:54 - loss: 0.0724 - acc: 0.97 - ETA: 13:51 - loss: 0.0724 - acc: 0.97 - ETA: 13:47 - loss: 0.0723 - acc: 0.97 - ETA: 13:43 - loss: 0.0734 - acc: 0.97 - ETA: 13:40 - loss: 0.0732 - acc: 0.97 - ETA: 13:36 - loss: 0.0732 - acc: 0.97 - ETA: 13:33 - loss: 0.0732 - acc: 0.97 - ETA: 13:31 - loss: 0.0733 - acc: 0.97 - ETA: 13:29 - loss: 0.0732 - acc: 0.97 - ETA: 13:27 - loss: 0.0734 - acc: 0.97 - ETA: 13:25 - loss: 0.0733 - acc: 0.97 - ETA: 13:24 - loss: 0.0731 - acc: 0.97 - ETA: 13:22 - loss: 0.0734 - acc: 0.97 - ETA: 13:19 - loss: 0.0732 - acc: 0.97 - ETA: 13:17 - loss: 0.0733 - acc: 0.97 - ETA: 13:14 - loss: 0.0737 - acc: 0.97 - ETA: 13:10 - loss: 0.0740 - acc: 0.97 - ETA: 13:08 - loss: 0.0745 - acc: 0.97 - ETA: 13:05 - loss: 0.0747 - acc: 0.97 - ETA: 13:03 - loss: 0.0744 - acc: 0.977026112/32249 [=======================>......] - ETA: 13:01 - loss: 0.0742 - acc: 0.97 - ETA: 12:59 - loss: 0.0741 - acc: 0.97 - ETA: 12:56 - loss: 0.0738 - acc: 0.97 - ETA: 12:53 - loss: 0.0741 - acc: 0.97 - ETA: 12:49 - loss: 0.0748 - acc: 0.97 - ETA: 12:46 - loss: 0.0745 - acc: 0.97 - ETA: 12:43 - loss: 0.0745 - acc: 0.97 - ETA: 12:42 - loss: 0.0743 - acc: 0.97 - ETA: 12:41 - loss: 0.0742 - acc: 0.97 - ETA: 12:38 - loss: 0.0741 - acc: 0.97 - ETA: 12:35 - loss: 0.0741 - acc: 0.97 - ETA: 12:32 - loss: 0.0740 - acc: 0.97 - ETA: 12:31 - loss: 0.0739 - acc: 0.97 - ETA: 12:29 - loss: 0.0739 - acc: 0.97 - ETA: 12:27 - loss: 0.0740 - acc: 0.97 - ETA: 12:25 - loss: 0.0741 - acc: 0.97 - ETA: 12:23 - loss: 0.0741 - acc: 0.97 - ETA: 12:20 - loss: 0.0740 - acc: 0.97 - ETA: 12:17 - loss: 0.0737 - acc: 0.97 - ETA: 12:14 - loss: 0.0738 - acc: 0.97 - ETA: 12:11 - loss: 0.0739 - acc: 0.97 - ETA: 12:08 - loss: 0.0740 - acc: 0.97 - ETA: 12:05 - loss: 0.0738 - acc: 0.97 - ETA: 12:02 - loss: 0.0740 - acc: 0.97 - ETA: 11:58 - loss: 0.0740 - acc: 0.97 - ETA: 11:55 - loss: 0.0741 - acc: 0.97 - ETA: 11:52 - loss: 0.0742 - acc: 0.97 - ETA: 11:48 - loss: 0.0744 - acc: 0.97 - ETA: 11:45 - loss: 0.0744 - acc: 0.97 - ETA: 11:42 - loss: 0.0746 - acc: 0.97 - ETA: 11:38 - loss: 0.0746 - acc: 0.97 - ETA: 11:35 - loss: 0.0743 - acc: 0.97 - ETA: 11:32 - loss: 0.0742 - acc: 0.97 - ETA: 11:29 - loss: 0.0740 - acc: 0.97 - ETA: 11:25 - loss: 0.0743 - acc: 0.97 - ETA: 11:22 - loss: 0.0747 - acc: 0.97 - ETA: 11:20 - loss: 0.0747 - acc: 0.97 - ETA: 11:17 - loss: 0.0748 - acc: 0.97 - ETA: 11:14 - loss: 0.0747 - acc: 0.97 - ETA: 11:10 - loss: 0.0752 - acc: 0.97 - ETA: 11:08 - loss: 0.0752 - acc: 0.97 - ETA: 11:05 - loss: 0.0753 - acc: 0.97 - ETA: 11:02 - loss: 0.0751 - acc: 0.97 - ETA: 10:59 - loss: 0.0751 - acc: 0.97 - ETA: 10:56 - loss: 0.0749 - acc: 0.97 - ETA: 10:52 - loss: 0.0747 - acc: 0.97 - ETA: 10:49 - loss: 0.0747 - acc: 0.97 - ETA: 10:46 - loss: 0.0746 - acc: 0.97 - ETA: 10:43 - loss: 0.0744 - acc: 0.97 - ETA: 10:40 - loss: 0.0745 - acc: 0.97 - ETA: 10:36 - loss: 0.0745 - acc: 0.97 - ETA: 10:33 - loss: 0.0743 - acc: 0.97 - ETA: 10:30 - loss: 0.0745 - acc: 0.97 - ETA: 10:27 - loss: 0.0748 - acc: 0.97 - ETA: 10:24 - loss: 0.0748 - acc: 0.97 - ETA: 10:21 - loss: 0.0750 - acc: 0.97 - ETA: 10:18 - loss: 0.0748 - acc: 0.97 - ETA: 10:15 - loss: 0.0750 - acc: 0.97 - ETA: 10:12 - loss: 0.0753 - acc: 0.97 - ETA: 10:09 - loss: 0.0754 - acc: 0.97 - ETA: 10:06 - loss: 0.0753 - acc: 0.97 - ETA: 10:03 - loss: 0.0753 - acc: 0.97 - ETA: 10:00 - loss: 0.0751 - acc: 0.97 - ETA: 9:58 - loss: 0.0750 - acc: 0.9762 - ETA: 9:56 - loss: 0.0750 - acc: 0.976 - ETA: 9:54 - loss: 0.0751 - acc: 0.976 - ETA: 9:51 - loss: 0.0750 - acc: 0.976 - ETA: 9:48 - loss: 0.0752 - acc: 0.976 - ETA: 9:45 - loss: 0.0753 - acc: 0.976 - ETA: 9:42 - loss: 0.0754 - acc: 0.975 - ETA: 9:39 - loss: 0.0755 - acc: 0.975 - ETA: 9:36 - loss: 0.0756 - acc: 0.975 - ETA: 9:33 - loss: 0.0755 - acc: 0.975 - ETA: 9:30 - loss: 0.0758 - acc: 0.975 - ETA: 9:27 - loss: 0.0757 - acc: 0.975 - ETA: 9:24 - loss: 0.0756 - acc: 0.975 - ETA: 9:21 - loss: 0.0756 - acc: 0.975 - ETA: 9:19 - loss: 0.0758 - acc: 0.975 - ETA: 9:16 - loss: 0.0761 - acc: 0.975 - ETA: 9:13 - loss: 0.0761 - acc: 0.975 - ETA: 9:10 - loss: 0.0763 - acc: 0.975 - ETA: 9:07 - loss: 0.0762 - acc: 0.975 - ETA: 9:04 - loss: 0.0765 - acc: 0.975 - ETA: 9:01 - loss: 0.0767 - acc: 0.975 - ETA: 8:59 - loss: 0.0766 - acc: 0.975 - ETA: 8:57 - loss: 0.0766 - acc: 0.975 - ETA: 8:54 - loss: 0.0764 - acc: 0.975 - ETA: 8:52 - loss: 0.0763 - acc: 0.975 - ETA: 8:49 - loss: 0.0766 - acc: 0.975 - ETA: 8:47 - loss: 0.0766 - acc: 0.975 - ETA: 8:44 - loss: 0.0771 - acc: 0.975 - ETA: 8:41 - loss: 0.0770 - acc: 0.975 - ETA: 8:38 - loss: 0.0771 - acc: 0.975 - ETA: 8:36 - loss: 0.0774 - acc: 0.975 - ETA: 8:33 - loss: 0.0775 - acc: 0.975 - ETA: 8:30 - loss: 0.0776 - acc: 0.975 - ETA: 8:27 - loss: 0.0776 - acc: 0.975 - ETA: 8:24 - loss: 0.0775 - acc: 0.975 - ETA: 8:21 - loss: 0.0776 - acc: 0.975 - ETA: 8:18 - loss: 0.0776 - acc: 0.975 - ETA: 8:15 - loss: 0.0775 - acc: 0.975 - ETA: 8:12 - loss: 0.0773 - acc: 0.975 - ETA: 8:09 - loss: 0.0774 - acc: 0.975 - ETA: 8:06 - loss: 0.0775 - acc: 0.975 - ETA: 8:03 - loss: 0.0774 - acc: 0.975 - ETA: 8:01 - loss: 0.0774 - acc: 0.975 - ETA: 7:58 - loss: 0.0774 - acc: 0.975 - ETA: 7:55 - loss: 0.0774 - acc: 0.975 - ETA: 7:52 - loss: 0.0776 - acc: 0.975 - ETA: 7:49 - loss: 0.0776 - acc: 0.975 - ETA: 7:46 - loss: 0.0776 - acc: 0.975 - ETA: 7:43 - loss: 0.0776 - acc: 0.975 - ETA: 7:41 - loss: 0.0778 - acc: 0.975 - ETA: 7:38 - loss: 0.0777 - acc: 0.975 - ETA: 7:35 - loss: 0.0777 - acc: 0.975 - ETA: 7:32 - loss: 0.0776 - acc: 0.975 - ETA: 7:29 - loss: 0.0775 - acc: 0.975 - ETA: 7:27 - loss: 0.0776 - acc: 0.975 - ETA: 7:24 - loss: 0.0776 - acc: 0.974 - ETA: 7:21 - loss: 0.0778 - acc: 0.974 - ETA: 7:18 - loss: 0.0780 - acc: 0.974 - ETA: 7:15 - loss: 0.0780 - acc: 0.974 - ETA: 7:13 - loss: 0.0778 - acc: 0.974 - ETA: 7:10 - loss: 0.0781 - acc: 0.974 - ETA: 7:07 - loss: 0.0780 - acc: 0.974 - ETA: 7:04 - loss: 0.0782 - acc: 0.974 - ETA: 7:02 - loss: 0.0782 - acc: 0.974 - ETA: 6:59 - loss: 0.0783 - acc: 0.974 - ETA: 6:56 - loss: 0.0782 - acc: 0.974 - ETA: 6:53 - loss: 0.0784 - acc: 0.974 - ETA: 6:51 - loss: 0.0784 - acc: 0.974 - ETA: 6:48 - loss: 0.0788 - acc: 0.974 - ETA: 6:45 - loss: 0.0790 - acc: 0.974 - ETA: 6:42 - loss: 0.0789 - acc: 0.974 - ETA: 6:40 - loss: 0.0789 - acc: 0.974 - ETA: 6:37 - loss: 0.0790 - acc: 0.974 - ETA: 6:34 - loss: 0.0789 - acc: 0.974 - ETA: 6:32 - loss: 0.0791 - acc: 0.974 - ETA: 6:29 - loss: 0.0791 - acc: 0.974 - ETA: 6:26 - loss: 0.0791 - acc: 0.974 - ETA: 6:24 - loss: 0.0790 - acc: 0.974 - ETA: 6:21 - loss: 0.0790 - acc: 0.974 - ETA: 6:18 - loss: 0.0791 - acc: 0.974 - ETA: 6:16 - loss: 0.0793 - acc: 0.974 - ETA: 6:13 - loss: 0.0792 - acc: 0.974 - ETA: 6:10 - loss: 0.0790 - acc: 0.974 - ETA: 6:08 - loss: 0.0790 - acc: 0.974 - ETA: 6:05 - loss: 0.0791 - acc: 0.974 - ETA: 6:02 - loss: 0.0790 - acc: 0.974 - ETA: 6:00 - loss: 0.0790 - acc: 0.974 - ETA: 5:57 - loss: 0.0789 - acc: 0.974 - ETA: 5:54 - loss: 0.0788 - acc: 0.974 - ETA: 5:52 - loss: 0.0790 - acc: 0.974 - ETA: 5:49 - loss: 0.0790 - acc: 0.974 - ETA: 5:47 - loss: 0.0790 - acc: 0.974 - ETA: 5:44 - loss: 0.0789 - acc: 0.974 - ETA: 5:41 - loss: 0.0789 - acc: 0.974 - ETA: 5:39 - loss: 0.0788 - acc: 0.974 - ETA: 5:36 - loss: 0.0788 - acc: 0.974 - ETA: 5:34 - loss: 0.0787 - acc: 0.974 - ETA: 5:31 - loss: 0.0788 - acc: 0.974 - ETA: 5:29 - loss: 0.0789 - acc: 0.974 - ETA: 5:26 - loss: 0.0789 - acc: 0.974 - ETA: 5:24 - loss: 0.0788 - acc: 0.974 - ETA: 5:21 - loss: 0.0788 - acc: 0.974 - ETA: 5:18 - loss: 0.0787 - acc: 0.974 - ETA: 5:16 - loss: 0.0787 - acc: 0.974 - ETA: 5:13 - loss: 0.0786 - acc: 0.974 - ETA: 5:11 - loss: 0.0785 - acc: 0.974 - ETA: 5:08 - loss: 0.0784 - acc: 0.974 - ETA: 5:06 - loss: 0.0788 - acc: 0.974 - ETA: 5:03 - loss: 0.0789 - acc: 0.974 - ETA: 5:01 - loss: 0.0787 - acc: 0.974 - ETA: 4:58 - loss: 0.0786 - acc: 0.974 - ETA: 4:56 - loss: 0.0784 - acc: 0.974 - ETA: 4:53 - loss: 0.0783 - acc: 0.974 - ETA: 4:51 - loss: 0.0782 - acc: 0.974 - ETA: 4:48 - loss: 0.0780 - acc: 0.974 - ETA: 4:46 - loss: 0.0785 - acc: 0.974 - ETA: 4:44 - loss: 0.0785 - acc: 0.974 - ETA: 4:41 - loss: 0.0785 - acc: 0.974 - ETA: 4:39 - loss: 0.0788 - acc: 0.974 - ETA: 4:37 - loss: 0.0787 - acc: 0.974 - ETA: 4:34 - loss: 0.0788 - acc: 0.974 - ETA: 4:32 - loss: 0.0787 - acc: 0.974 - ETA: 4:29 - loss: 0.0786 - acc: 0.974 - ETA: 4:27 - loss: 0.0789 - acc: 0.974 - ETA: 4:25 - loss: 0.0789 - acc: 0.974 - ETA: 4:22 - loss: 0.0788 - acc: 0.974 - ETA: 4:20 - loss: 0.0787 - acc: 0.974 - ETA: 4:17 - loss: 0.0786 - acc: 0.974 - ETA: 4:15 - loss: 0.0788 - acc: 0.974 - ETA: 4:13 - loss: 0.0788 - acc: 0.974 - ETA: 4:11 - loss: 0.0790 - acc: 0.974 - ETA: 4:08 - loss: 0.0790 - acc: 0.974 - ETA: 4:06 - loss: 0.0790 - acc: 0.974 - ETA: 4:03 - loss: 0.0789 - acc: 0.974 - ETA: 4:01 - loss: 0.0789 - acc: 0.974 - ETA: 3:59 - loss: 0.0788 - acc: 0.974 - ETA: 3:57 - loss: 0.0787 - acc: 0.974 - ETA: 3:55 - loss: 0.0787 - acc: 0.974 - ETA: 3:52 - loss: 0.0786 - acc: 0.974 - ETA: 3:50 - loss: 0.0785 - acc: 0.974 - ETA: 3:47 - loss: 0.0786 - acc: 0.9743"
     ]
    },
    {
     "name": "stdout",
     "output_type": "stream",
     "text": [
      "32249/32249 [==============================] - ETA: 3:45 - loss: 0.0786 - acc: 0.974 - ETA: 3:43 - loss: 0.0786 - acc: 0.974 - ETA: 3:40 - loss: 0.0787 - acc: 0.974 - ETA: 3:38 - loss: 0.0790 - acc: 0.974 - ETA: 3:36 - loss: 0.0789 - acc: 0.974 - ETA: 3:33 - loss: 0.0788 - acc: 0.974 - ETA: 3:31 - loss: 0.0788 - acc: 0.974 - ETA: 3:28 - loss: 0.0787 - acc: 0.974 - ETA: 3:26 - loss: 0.0787 - acc: 0.974 - ETA: 3:23 - loss: 0.0788 - acc: 0.974 - ETA: 3:21 - loss: 0.0786 - acc: 0.974 - ETA: 3:18 - loss: 0.0787 - acc: 0.974 - ETA: 3:16 - loss: 0.0786 - acc: 0.974 - ETA: 3:14 - loss: 0.0787 - acc: 0.974 - ETA: 3:11 - loss: 0.0785 - acc: 0.974 - ETA: 3:09 - loss: 0.0786 - acc: 0.974 - ETA: 3:06 - loss: 0.0788 - acc: 0.974 - ETA: 3:04 - loss: 0.0787 - acc: 0.974 - ETA: 3:02 - loss: 0.0787 - acc: 0.974 - ETA: 2:59 - loss: 0.0788 - acc: 0.9741 - ETA: 53s - loss: 0.0794 - acc: 0.97 - ETA: 50s - loss: 0.0795 - acc: 0.97 - ETA: 48s - loss: 0.0795 - acc: 0.97 - ETA: 46s - loss: 0.0796 - acc: 0.97 - ETA: 43s - loss: 0.0796 - acc: 0.97 - ETA: 41s - loss: 0.0799 - acc: 0.97 - ETA: 39s - loss: 0.0800 - acc: 0.97 - ETA: 36s - loss: 0.0800 - acc: 0.97 - ETA: 34s - loss: 0.0799 - acc: 0.97 - ETA: 32s - loss: 0.0800 - acc: 0.97 - ETA: 29s - loss: 0.0801 - acc: 0.97 - ETA: 27s - loss: 0.0800 - acc: 0.97 - ETA: 25s - loss: 0.0801 - acc: 0.97 - ETA: 22s - loss: 0.0801 - acc: 0.97 - ETA: 20s - loss: 0.0800 - acc: 0.97 - ETA: 18s - loss: 0.0799 - acc: 0.97 - ETA: 15s - loss: 0.0801 - acc: 0.97 - ETA: 13s - loss: 0.0803 - acc: 0.97 - ETA: 11s - loss: 0.0803 - acc: 0.97 - ETA: 8s - loss: 0.0802 - acc: 0.9733 - ETA: 6s - loss: 0.0804 - acc: 0.973 - ETA: 4s - loss: 0.0803 - acc: 0.973 - ETA: 2s - loss: 0.0802 - acc: 0.973 - 1276s 40ms/step - loss: 0.0802 - acc: 0.9733 - val_loss: 0.2952 - val_acc: 0.9036\n",
      "Epoch 4/5\n"
     ]
    },
    {
     "name": "stdout",
     "output_type": "stream",
     "text": [
      "13056/32249 [===========>..................] - ETA: 17:05 - loss: 0.0220 - acc: 1.00 - ETA: 17:18 - loss: 0.0377 - acc: 0.98 - ETA: 17:33 - loss: 0.0520 - acc: 0.97 - ETA: 17:12 - loss: 0.0683 - acc: 0.97 - ETA: 17:01 - loss: 0.0736 - acc: 0.96 - ETA: 16:51 - loss: 0.0684 - acc: 0.97 - ETA: 16:43 - loss: 0.0652 - acc: 0.97 - ETA: 16:38 - loss: 0.0626 - acc: 0.97 - ETA: 16:32 - loss: 0.0577 - acc: 0.97 - ETA: 16:28 - loss: 0.0554 - acc: 0.97 - ETA: 16:23 - loss: 0.0584 - acc: 0.98 - ETA: 16:18 - loss: 0.0573 - acc: 0.98 - ETA: 16:14 - loss: 0.0558 - acc: 0.98 - ETA: 16:09 - loss: 0.0556 - acc: 0.97 - ETA: 16:05 - loss: 0.0542 - acc: 0.98 - ETA: 16:01 - loss: 0.0518 - acc: 0.98 - ETA: 15:59 - loss: 0.0604 - acc: 0.98 - ETA: 15:55 - loss: 0.0596 - acc: 0.98 - ETA: 15:51 - loss: 0.0572 - acc: 0.98 - ETA: 15:47 - loss: 0.0571 - acc: 0.98 - ETA: 15:45 - loss: 0.0564 - acc: 0.98 - ETA: 15:42 - loss: 0.0550 - acc: 0.98 - ETA: 15:40 - loss: 0.0532 - acc: 0.98 - ETA: 15:37 - loss: 0.0539 - acc: 0.98 - ETA: 15:35 - loss: 0.0538 - acc: 0.98 - ETA: 15:32 - loss: 0.0521 - acc: 0.98 - ETA: 15:30 - loss: 0.0513 - acc: 0.98 - ETA: 15:27 - loss: 0.0497 - acc: 0.98 - ETA: 15:27 - loss: 0.0495 - acc: 0.98 - ETA: 15:25 - loss: 0.0508 - acc: 0.98 - ETA: 15:24 - loss: 0.0500 - acc: 0.98 - ETA: 15:26 - loss: 0.0489 - acc: 0.98 - ETA: 15:24 - loss: 0.0493 - acc: 0.98 - ETA: 15:22 - loss: 0.0496 - acc: 0.98 - ETA: 15:19 - loss: 0.0491 - acc: 0.98 - ETA: 15:17 - loss: 0.0486 - acc: 0.98 - ETA: 15:14 - loss: 0.0483 - acc: 0.98 - ETA: 15:12 - loss: 0.0490 - acc: 0.98 - ETA: 15:10 - loss: 0.0524 - acc: 0.98 - ETA: 15:08 - loss: 0.0523 - acc: 0.98 - ETA: 15:06 - loss: 0.0528 - acc: 0.98 - ETA: 15:04 - loss: 0.0556 - acc: 0.98 - ETA: 15:02 - loss: 0.0554 - acc: 0.98 - ETA: 15:00 - loss: 0.0549 - acc: 0.98 - ETA: 14:58 - loss: 0.0551 - acc: 0.98 - ETA: 14:56 - loss: 0.0549 - acc: 0.98 - ETA: 14:57 - loss: 0.0540 - acc: 0.98 - ETA: 14:57 - loss: 0.0537 - acc: 0.98 - ETA: 14:56 - loss: 0.0534 - acc: 0.98 - ETA: 14:54 - loss: 0.0529 - acc: 0.98 - ETA: 14:52 - loss: 0.0527 - acc: 0.98 - ETA: 14:50 - loss: 0.0530 - acc: 0.98 - ETA: 14:48 - loss: 0.0532 - acc: 0.98 - ETA: 14:46 - loss: 0.0531 - acc: 0.98 - ETA: 14:45 - loss: 0.0525 - acc: 0.98 - ETA: 14:43 - loss: 0.0527 - acc: 0.98 - ETA: 14:41 - loss: 0.0538 - acc: 0.98 - ETA: 14:39 - loss: 0.0536 - acc: 0.98 - ETA: 14:37 - loss: 0.0533 - acc: 0.98 - ETA: 14:36 - loss: 0.0535 - acc: 0.98 - ETA: 14:34 - loss: 0.0530 - acc: 0.98 - ETA: 14:32 - loss: 0.0531 - acc: 0.98 - ETA: 14:32 - loss: 0.0540 - acc: 0.98 - ETA: 14:30 - loss: 0.0540 - acc: 0.98 - ETA: 14:28 - loss: 0.0548 - acc: 0.98 - ETA: 14:26 - loss: 0.0548 - acc: 0.98 - ETA: 14:24 - loss: 0.0550 - acc: 0.98 - ETA: 14:22 - loss: 0.0558 - acc: 0.98 - ETA: 14:21 - loss: 0.0559 - acc: 0.98 - ETA: 14:18 - loss: 0.0559 - acc: 0.98 - ETA: 14:16 - loss: 0.0555 - acc: 0.98 - ETA: 14:16 - loss: 0.0552 - acc: 0.98 - ETA: 14:15 - loss: 0.0551 - acc: 0.98 - ETA: 14:13 - loss: 0.0549 - acc: 0.98 - ETA: 14:10 - loss: 0.0545 - acc: 0.98 - ETA: 14:07 - loss: 0.0546 - acc: 0.98 - ETA: 14:05 - loss: 0.0542 - acc: 0.98 - ETA: 14:03 - loss: 0.0543 - acc: 0.98 - ETA: 14:00 - loss: 0.0542 - acc: 0.98 - ETA: 13:58 - loss: 0.0539 - acc: 0.98 - ETA: 13:56 - loss: 0.0534 - acc: 0.98 - ETA: 13:54 - loss: 0.0530 - acc: 0.98 - ETA: 13:51 - loss: 0.0525 - acc: 0.98 - ETA: 13:49 - loss: 0.0521 - acc: 0.98 - ETA: 13:48 - loss: 0.0518 - acc: 0.98 - ETA: 13:46 - loss: 0.0517 - acc: 0.98 - ETA: 13:44 - loss: 0.0518 - acc: 0.98 - ETA: 13:42 - loss: 0.0518 - acc: 0.98 - ETA: 13:39 - loss: 0.0537 - acc: 0.98 - ETA: 13:38 - loss: 0.0534 - acc: 0.98 - ETA: 13:37 - loss: 0.0560 - acc: 0.98 - ETA: 13:35 - loss: 0.0562 - acc: 0.98 - ETA: 13:32 - loss: 0.0559 - acc: 0.98 - ETA: 13:30 - loss: 0.0559 - acc: 0.98 - ETA: 13:28 - loss: 0.0556 - acc: 0.98 - ETA: 13:26 - loss: 0.0557 - acc: 0.98 - ETA: 13:23 - loss: 0.0556 - acc: 0.98 - ETA: 13:21 - loss: 0.0557 - acc: 0.98 - ETA: 13:20 - loss: 0.0560 - acc: 0.98 - ETA: 13:18 - loss: 0.0557 - acc: 0.98 - ETA: 13:16 - loss: 0.0557 - acc: 0.98 - ETA: 13:14 - loss: 0.0557 - acc: 0.98 - ETA: 13:12 - loss: 0.0554 - acc: 0.98 - ETA: 13:10 - loss: 0.0551 - acc: 0.98 - ETA: 13:08 - loss: 0.0549 - acc: 0.98 - ETA: 13:07 - loss: 0.0547 - acc: 0.98 - ETA: 13:06 - loss: 0.0547 - acc: 0.98 - ETA: 13:04 - loss: 0.0544 - acc: 0.98 - ETA: 13:02 - loss: 0.0543 - acc: 0.98 - ETA: 13:00 - loss: 0.0543 - acc: 0.98 - ETA: 12:57 - loss: 0.0540 - acc: 0.98 - ETA: 12:55 - loss: 0.0538 - acc: 0.98 - ETA: 12:53 - loss: 0.0537 - acc: 0.98 - ETA: 12:51 - loss: 0.0544 - acc: 0.98 - ETA: 12:49 - loss: 0.0541 - acc: 0.98 - ETA: 12:48 - loss: 0.0538 - acc: 0.98 - ETA: 12:48 - loss: 0.0535 - acc: 0.98 - ETA: 12:48 - loss: 0.0533 - acc: 0.98 - ETA: 12:46 - loss: 0.0532 - acc: 0.98 - ETA: 12:45 - loss: 0.0534 - acc: 0.98 - ETA: 12:44 - loss: 0.0538 - acc: 0.98 - ETA: 12:43 - loss: 0.0536 - acc: 0.98 - ETA: 12:41 - loss: 0.0533 - acc: 0.98 - ETA: 12:39 - loss: 0.0532 - acc: 0.98 - ETA: 12:36 - loss: 0.0535 - acc: 0.98 - ETA: 12:34 - loss: 0.0537 - acc: 0.98 - ETA: 12:32 - loss: 0.0534 - acc: 0.98 - ETA: 12:30 - loss: 0.0532 - acc: 0.98 - ETA: 12:28 - loss: 0.0530 - acc: 0.98 - ETA: 12:26 - loss: 0.0528 - acc: 0.98 - ETA: 12:24 - loss: 0.0531 - acc: 0.98 - ETA: 12:22 - loss: 0.0538 - acc: 0.98 - ETA: 12:21 - loss: 0.0538 - acc: 0.98 - ETA: 12:20 - loss: 0.0539 - acc: 0.98 - ETA: 12:20 - loss: 0.0536 - acc: 0.98 - ETA: 12:20 - loss: 0.0535 - acc: 0.98 - ETA: 12:20 - loss: 0.0536 - acc: 0.98 - ETA: 12:18 - loss: 0.0536 - acc: 0.98 - ETA: 12:17 - loss: 0.0539 - acc: 0.98 - ETA: 12:15 - loss: 0.0537 - acc: 0.98 - ETA: 12:13 - loss: 0.0537 - acc: 0.98 - ETA: 12:10 - loss: 0.0538 - acc: 0.98 - ETA: 12:08 - loss: 0.0537 - acc: 0.98 - ETA: 12:06 - loss: 0.0537 - acc: 0.98 - ETA: 12:03 - loss: 0.0539 - acc: 0.98 - ETA: 12:01 - loss: 0.0545 - acc: 0.98 - ETA: 11:59 - loss: 0.0546 - acc: 0.98 - ETA: 11:56 - loss: 0.0548 - acc: 0.98 - ETA: 11:54 - loss: 0.0548 - acc: 0.98 - ETA: 11:53 - loss: 0.0545 - acc: 0.98 - ETA: 11:51 - loss: 0.0546 - acc: 0.98 - ETA: 11:48 - loss: 0.0544 - acc: 0.98 - ETA: 11:46 - loss: 0.0549 - acc: 0.98 - ETA: 11:44 - loss: 0.0548 - acc: 0.98 - ETA: 11:41 - loss: 0.0547 - acc: 0.98 - ETA: 11:39 - loss: 0.0549 - acc: 0.98 - ETA: 11:37 - loss: 0.0551 - acc: 0.98 - ETA: 11:34 - loss: 0.0549 - acc: 0.98 - ETA: 11:32 - loss: 0.0549 - acc: 0.98 - ETA: 11:29 - loss: 0.0554 - acc: 0.98 - ETA: 11:27 - loss: 0.0553 - acc: 0.98 - ETA: 11:25 - loss: 0.0552 - acc: 0.98 - ETA: 11:23 - loss: 0.0552 - acc: 0.98 - ETA: 11:21 - loss: 0.0553 - acc: 0.98 - ETA: 11:19 - loss: 0.0556 - acc: 0.98 - ETA: 11:16 - loss: 0.0554 - acc: 0.98 - ETA: 11:14 - loss: 0.0552 - acc: 0.98 - ETA: 11:11 - loss: 0.0553 - acc: 0.98 - ETA: 11:09 - loss: 0.0554 - acc: 0.98 - ETA: 11:07 - loss: 0.0557 - acc: 0.98 - ETA: 11:04 - loss: 0.0556 - acc: 0.98 - ETA: 11:02 - loss: 0.0559 - acc: 0.98 - ETA: 11:00 - loss: 0.0558 - acc: 0.98 - ETA: 10:58 - loss: 0.0558 - acc: 0.98 - ETA: 10:55 - loss: 0.0560 - acc: 0.98 - ETA: 10:53 - loss: 0.0560 - acc: 0.98 - ETA: 10:51 - loss: 0.0558 - acc: 0.98 - ETA: 10:49 - loss: 0.0558 - acc: 0.98 - ETA: 10:46 - loss: 0.0558 - acc: 0.98 - ETA: 10:44 - loss: 0.0560 - acc: 0.98 - ETA: 10:42 - loss: 0.0559 - acc: 0.98 - ETA: 10:40 - loss: 0.0559 - acc: 0.98 - ETA: 10:38 - loss: 0.0557 - acc: 0.98 - ETA: 10:35 - loss: 0.0558 - acc: 0.98 - ETA: 10:33 - loss: 0.0559 - acc: 0.98 - ETA: 10:31 - loss: 0.0559 - acc: 0.98 - ETA: 10:29 - loss: 0.0561 - acc: 0.98 - ETA: 10:27 - loss: 0.0559 - acc: 0.98 - ETA: 10:25 - loss: 0.0561 - acc: 0.98 - ETA: 10:23 - loss: 0.0559 - acc: 0.98 - ETA: 10:20 - loss: 0.0557 - acc: 0.98 - ETA: 10:18 - loss: 0.0555 - acc: 0.98 - ETA: 10:17 - loss: 0.0554 - acc: 0.98 - ETA: 10:16 - loss: 0.0555 - acc: 0.98 - ETA: 10:14 - loss: 0.0553 - acc: 0.98 - ETA: 10:11 - loss: 0.0557 - acc: 0.98 - ETA: 10:09 - loss: 0.0560 - acc: 0.98 - ETA: 10:07 - loss: 0.0564 - acc: 0.98 - ETA: 10:05 - loss: 0.0563 - acc: 0.98 - ETA: 10:03 - loss: 0.0562 - acc: 0.98 - ETA: 10:00 - loss: 0.0560 - acc: 0.98 - ETA: 9:58 - loss: 0.0560 - acc: 0.9815 - ETA: 9:56 - loss: 0.0558 - acc: 0.981 - ETA: 9:54 - loss: 0.0561 - acc: 0.981526112/32249 [=======================>......] - ETA: 9:52 - loss: 0.0563 - acc: 0.981 - ETA: 9:50 - loss: 0.0564 - acc: 0.981 - ETA: 9:48 - loss: 0.0567 - acc: 0.981 - ETA: 9:46 - loss: 0.0565 - acc: 0.981 - ETA: 9:44 - loss: 0.0565 - acc: 0.981 - ETA: 9:42 - loss: 0.0563 - acc: 0.981 - ETA: 9:41 - loss: 0.0562 - acc: 0.981 - ETA: 9:39 - loss: 0.0568 - acc: 0.981 - ETA: 9:37 - loss: 0.0567 - acc: 0.981 - ETA: 9:35 - loss: 0.0567 - acc: 0.981 - ETA: 9:33 - loss: 0.0565 - acc: 0.981 - ETA: 9:31 - loss: 0.0564 - acc: 0.981 - ETA: 9:28 - loss: 0.0563 - acc: 0.981 - ETA: 9:26 - loss: 0.0562 - acc: 0.981 - ETA: 9:24 - loss: 0.0560 - acc: 0.981 - ETA: 9:22 - loss: 0.0560 - acc: 0.981 - ETA: 9:20 - loss: 0.0559 - acc: 0.981 - ETA: 9:18 - loss: 0.0559 - acc: 0.981 - ETA: 9:15 - loss: 0.0560 - acc: 0.981 - ETA: 9:13 - loss: 0.0561 - acc: 0.981 - ETA: 9:11 - loss: 0.0560 - acc: 0.981 - ETA: 9:09 - loss: 0.0562 - acc: 0.981 - ETA: 9:07 - loss: 0.0563 - acc: 0.981 - ETA: 9:05 - loss: 0.0563 - acc: 0.981 - ETA: 9:02 - loss: 0.0569 - acc: 0.980 - ETA: 9:00 - loss: 0.0568 - acc: 0.980 - ETA: 8:58 - loss: 0.0568 - acc: 0.980 - ETA: 8:56 - loss: 0.0569 - acc: 0.980 - ETA: 8:54 - loss: 0.0575 - acc: 0.980 - ETA: 8:51 - loss: 0.0574 - acc: 0.980 - ETA: 8:49 - loss: 0.0575 - acc: 0.980 - ETA: 8:47 - loss: 0.0575 - acc: 0.980 - ETA: 8:45 - loss: 0.0576 - acc: 0.980 - ETA: 8:43 - loss: 0.0576 - acc: 0.980 - ETA: 8:41 - loss: 0.0574 - acc: 0.980 - ETA: 8:39 - loss: 0.0575 - acc: 0.980 - ETA: 8:36 - loss: 0.0579 - acc: 0.980 - ETA: 8:34 - loss: 0.0580 - acc: 0.980 - ETA: 8:32 - loss: 0.0578 - acc: 0.980 - ETA: 8:30 - loss: 0.0578 - acc: 0.980 - ETA: 8:28 - loss: 0.0579 - acc: 0.980 - ETA: 8:26 - loss: 0.0581 - acc: 0.980 - ETA: 8:24 - loss: 0.0580 - acc: 0.980 - ETA: 8:22 - loss: 0.0580 - acc: 0.980 - ETA: 8:20 - loss: 0.0579 - acc: 0.980 - ETA: 8:17 - loss: 0.0579 - acc: 0.980 - ETA: 8:15 - loss: 0.0582 - acc: 0.980 - ETA: 8:13 - loss: 0.0582 - acc: 0.980 - ETA: 8:11 - loss: 0.0585 - acc: 0.980 - ETA: 8:10 - loss: 0.0586 - acc: 0.980 - ETA: 8:08 - loss: 0.0588 - acc: 0.980 - ETA: 8:06 - loss: 0.0593 - acc: 0.980 - ETA: 8:04 - loss: 0.0593 - acc: 0.980 - ETA: 8:02 - loss: 0.0592 - acc: 0.980 - ETA: 8:00 - loss: 0.0592 - acc: 0.980 - ETA: 7:58 - loss: 0.0595 - acc: 0.979 - ETA: 7:56 - loss: 0.0599 - acc: 0.979 - ETA: 7:55 - loss: 0.0598 - acc: 0.979 - ETA: 7:53 - loss: 0.0598 - acc: 0.979 - ETA: 7:51 - loss: 0.0597 - acc: 0.979 - ETA: 7:49 - loss: 0.0597 - acc: 0.979 - ETA: 7:46 - loss: 0.0596 - acc: 0.979 - ETA: 7:44 - loss: 0.0595 - acc: 0.979 - ETA: 7:42 - loss: 0.0596 - acc: 0.979 - ETA: 7:41 - loss: 0.0596 - acc: 0.979 - ETA: 7:39 - loss: 0.0596 - acc: 0.979 - ETA: 7:36 - loss: 0.0596 - acc: 0.979 - ETA: 7:34 - loss: 0.0595 - acc: 0.979 - ETA: 7:32 - loss: 0.0594 - acc: 0.980 - ETA: 7:30 - loss: 0.0592 - acc: 0.980 - ETA: 7:27 - loss: 0.0595 - acc: 0.979 - ETA: 7:25 - loss: 0.0594 - acc: 0.980 - ETA: 7:23 - loss: 0.0593 - acc: 0.980 - ETA: 7:21 - loss: 0.0595 - acc: 0.980 - ETA: 7:19 - loss: 0.0594 - acc: 0.980 - ETA: 7:16 - loss: 0.0593 - acc: 0.980 - ETA: 7:14 - loss: 0.0594 - acc: 0.980 - ETA: 7:12 - loss: 0.0593 - acc: 0.980 - ETA: 7:10 - loss: 0.0592 - acc: 0.980 - ETA: 7:08 - loss: 0.0592 - acc: 0.980 - ETA: 7:05 - loss: 0.0593 - acc: 0.980 - ETA: 7:03 - loss: 0.0592 - acc: 0.980 - ETA: 7:01 - loss: 0.0593 - acc: 0.980 - ETA: 6:59 - loss: 0.0592 - acc: 0.980 - ETA: 6:56 - loss: 0.0594 - acc: 0.980 - ETA: 6:54 - loss: 0.0593 - acc: 0.980 - ETA: 6:52 - loss: 0.0592 - acc: 0.980 - ETA: 6:50 - loss: 0.0591 - acc: 0.980 - ETA: 6:47 - loss: 0.0591 - acc: 0.980 - ETA: 6:45 - loss: 0.0591 - acc: 0.980 - ETA: 6:43 - loss: 0.0590 - acc: 0.980 - ETA: 6:41 - loss: 0.0590 - acc: 0.980 - ETA: 6:39 - loss: 0.0589 - acc: 0.980 - ETA: 6:36 - loss: 0.0588 - acc: 0.980 - ETA: 6:34 - loss: 0.0587 - acc: 0.980 - ETA: 6:32 - loss: 0.0586 - acc: 0.980 - ETA: 6:30 - loss: 0.0586 - acc: 0.980 - ETA: 6:28 - loss: 0.0586 - acc: 0.980 - ETA: 6:25 - loss: 0.0591 - acc: 0.980 - ETA: 6:23 - loss: 0.0592 - acc: 0.980 - ETA: 6:21 - loss: 0.0591 - acc: 0.980 - ETA: 6:19 - loss: 0.0595 - acc: 0.980 - ETA: 6:17 - loss: 0.0594 - acc: 0.980 - ETA: 6:15 - loss: 0.0594 - acc: 0.980 - ETA: 6:13 - loss: 0.0593 - acc: 0.980 - ETA: 6:10 - loss: 0.0596 - acc: 0.980 - ETA: 6:08 - loss: 0.0597 - acc: 0.980 - ETA: 6:06 - loss: 0.0599 - acc: 0.979 - ETA: 6:04 - loss: 0.0601 - acc: 0.979 - ETA: 6:02 - loss: 0.0600 - acc: 0.979 - ETA: 6:00 - loss: 0.0599 - acc: 0.980 - ETA: 5:58 - loss: 0.0599 - acc: 0.980 - ETA: 5:55 - loss: 0.0600 - acc: 0.980 - ETA: 5:53 - loss: 0.0601 - acc: 0.979 - ETA: 5:51 - loss: 0.0600 - acc: 0.979 - ETA: 5:49 - loss: 0.0601 - acc: 0.979 - ETA: 5:47 - loss: 0.0600 - acc: 0.979 - ETA: 5:45 - loss: 0.0601 - acc: 0.979 - ETA: 5:43 - loss: 0.0601 - acc: 0.979 - ETA: 5:41 - loss: 0.0600 - acc: 0.979 - ETA: 5:39 - loss: 0.0602 - acc: 0.980 - ETA: 5:37 - loss: 0.0602 - acc: 0.980 - ETA: 5:35 - loss: 0.0603 - acc: 0.980 - ETA: 5:33 - loss: 0.0603 - acc: 0.979 - ETA: 5:30 - loss: 0.0602 - acc: 0.980 - ETA: 5:28 - loss: 0.0606 - acc: 0.979 - ETA: 5:27 - loss: 0.0606 - acc: 0.979 - ETA: 5:25 - loss: 0.0606 - acc: 0.980 - ETA: 5:23 - loss: 0.0607 - acc: 0.979 - ETA: 5:21 - loss: 0.0606 - acc: 0.980 - ETA: 5:19 - loss: 0.0605 - acc: 0.980 - ETA: 5:17 - loss: 0.0605 - acc: 0.980 - ETA: 5:15 - loss: 0.0609 - acc: 0.979 - ETA: 5:13 - loss: 0.0611 - acc: 0.979 - ETA: 5:10 - loss: 0.0610 - acc: 0.979 - ETA: 5:08 - loss: 0.0611 - acc: 0.979 - ETA: 5:07 - loss: 0.0613 - acc: 0.979 - ETA: 5:05 - loss: 0.0614 - acc: 0.979 - ETA: 5:03 - loss: 0.0614 - acc: 0.979 - ETA: 5:01 - loss: 0.0613 - acc: 0.979 - ETA: 4:59 - loss: 0.0614 - acc: 0.979 - ETA: 4:57 - loss: 0.0613 - acc: 0.979 - ETA: 4:55 - loss: 0.0611 - acc: 0.979 - ETA: 4:53 - loss: 0.0611 - acc: 0.979 - ETA: 4:51 - loss: 0.0616 - acc: 0.979 - ETA: 4:49 - loss: 0.0618 - acc: 0.979 - ETA: 4:47 - loss: 0.0617 - acc: 0.979 - ETA: 4:45 - loss: 0.0617 - acc: 0.979 - ETA: 4:43 - loss: 0.0615 - acc: 0.979 - ETA: 4:41 - loss: 0.0615 - acc: 0.979 - ETA: 4:39 - loss: 0.0614 - acc: 0.979 - ETA: 4:37 - loss: 0.0615 - acc: 0.979 - ETA: 4:35 - loss: 0.0616 - acc: 0.979 - ETA: 4:33 - loss: 0.0617 - acc: 0.979 - ETA: 4:31 - loss: 0.0616 - acc: 0.979 - ETA: 4:29 - loss: 0.0617 - acc: 0.979 - ETA: 4:27 - loss: 0.0617 - acc: 0.979 - ETA: 4:25 - loss: 0.0620 - acc: 0.979 - ETA: 4:23 - loss: 0.0619 - acc: 0.979 - ETA: 4:21 - loss: 0.0619 - acc: 0.979 - ETA: 4:19 - loss: 0.0619 - acc: 0.979 - ETA: 4:17 - loss: 0.0622 - acc: 0.979 - ETA: 4:15 - loss: 0.0622 - acc: 0.979 - ETA: 4:13 - loss: 0.0622 - acc: 0.979 - ETA: 4:11 - loss: 0.0621 - acc: 0.979 - ETA: 4:09 - loss: 0.0621 - acc: 0.979 - ETA: 4:07 - loss: 0.0621 - acc: 0.979 - ETA: 4:05 - loss: 0.0620 - acc: 0.979 - ETA: 4:03 - loss: 0.0619 - acc: 0.979 - ETA: 4:01 - loss: 0.0621 - acc: 0.979 - ETA: 3:59 - loss: 0.0621 - acc: 0.979 - ETA: 3:58 - loss: 0.0622 - acc: 0.979 - ETA: 3:56 - loss: 0.0622 - acc: 0.979 - ETA: 3:54 - loss: 0.0623 - acc: 0.979 - ETA: 3:52 - loss: 0.0623 - acc: 0.979 - ETA: 3:50 - loss: 0.0622 - acc: 0.979 - ETA: 3:48 - loss: 0.0624 - acc: 0.979 - ETA: 3:46 - loss: 0.0624 - acc: 0.979 - ETA: 3:44 - loss: 0.0624 - acc: 0.979 - ETA: 3:42 - loss: 0.0624 - acc: 0.979 - ETA: 3:40 - loss: 0.0624 - acc: 0.979 - ETA: 3:38 - loss: 0.0624 - acc: 0.979 - ETA: 3:36 - loss: 0.0624 - acc: 0.979 - ETA: 3:34 - loss: 0.0624 - acc: 0.979 - ETA: 3:32 - loss: 0.0623 - acc: 0.979 - ETA: 3:30 - loss: 0.0622 - acc: 0.979 - ETA: 3:28 - loss: 0.0622 - acc: 0.979 - ETA: 3:27 - loss: 0.0621 - acc: 0.979 - ETA: 3:25 - loss: 0.0622 - acc: 0.979 - ETA: 3:23 - loss: 0.0622 - acc: 0.979 - ETA: 3:21 - loss: 0.0624 - acc: 0.979 - ETA: 3:19 - loss: 0.0624 - acc: 0.979 - ETA: 3:17 - loss: 0.0623 - acc: 0.979 - ETA: 3:15 - loss: 0.0629 - acc: 0.979 - ETA: 3:14 - loss: 0.0629 - acc: 0.979 - ETA: 3:12 - loss: 0.0630 - acc: 0.979 - ETA: 3:10 - loss: 0.0633 - acc: 0.978 - ETA: 3:08 - loss: 0.0632 - acc: 0.978 - ETA: 3:06 - loss: 0.0631 - acc: 0.978 - ETA: 3:04 - loss: 0.0633 - acc: 0.978 - ETA: 3:02 - loss: 0.0633 - acc: 0.978 - ETA: 3:01 - loss: 0.0635 - acc: 0.978 - ETA: 2:59 - loss: 0.0634 - acc: 0.978 - ETA: 2:57 - loss: 0.0633 - acc: 0.9789"
     ]
    },
    {
     "name": "stdout",
     "output_type": "stream",
     "text": [
      "32249/32249 [==============================] - ETA: 2:55 - loss: 0.0633 - acc: 0.979 - ETA: 2:53 - loss: 0.0633 - acc: 0.979 - ETA: 2:51 - loss: 0.0635 - acc: 0.978 - ETA: 2:50 - loss: 0.0637 - acc: 0.978 - ETA: 2:48 - loss: 0.0639 - acc: 0.978 - ETA: 2:46 - loss: 0.0640 - acc: 0.978 - ETA: 2:44 - loss: 0.0640 - acc: 0.978 - ETA: 2:42 - loss: 0.0639 - acc: 0.978 - ETA: 2:41 - loss: 0.0639 - acc: 0.978 - ETA: 2:39 - loss: 0.0639 - acc: 0.978 - ETA: 2:37 - loss: 0.0640 - acc: 0.978 - ETA: 2:35 - loss: 0.0639 - acc: 0.978 - ETA: 2:33 - loss: 0.0639 - acc: 0.978 - ETA: 2:31 - loss: 0.0641 - acc: 0.978 - ETA: 2:29 - loss: 0.0641 - acc: 0.978 - ETA: 2:27 - loss: 0.0641 - acc: 0.978 - ETA: 2:26 - loss: 0.0640 - acc: 0.978 - ETA: 2:24 - loss: 0.0641 - acc: 0.978 - ETA: 2:22 - loss: 0.0640 - acc: 0.978 - ETA: 2:20 - loss: 0.0640 - acc: 0.978 - ETA: 2:18 - loss: 0.0643 - acc: 0.978 - ETA: 2:16 - loss: 0.0642 - acc: 0.978 - ETA: 2:14 - loss: 0.0642 - acc: 0.978 - ETA: 2:12 - loss: 0.0641 - acc: 0.978 - ETA: 2:10 - loss: 0.0641 - acc: 0.978 - ETA: 2:09 - loss: 0.0642 - acc: 0.978 - ETA: 2:07 - loss: 0.0643 - acc: 0.978 - ETA: 2:05 - loss: 0.0642 - acc: 0.978 - ETA: 2:03 - loss: 0.0641 - acc: 0.978 - ETA: 2:01 - loss: 0.0642 - acc: 0.978 - ETA: 2:00 - loss: 0.0644 - acc: 0.978 - ETA: 1:58 - loss: 0.0643 - acc: 0.978 - ETA: 1:56 - loss: 0.0644 - acc: 0.978 - ETA: 1:54 - loss: 0.0645 - acc: 0.978 - ETA: 1:52 - loss: 0.0645 - acc: 0.978 - ETA: 1:50 - loss: 0.0644 - acc: 0.978 - ETA: 1:48 - loss: 0.0644 - acc: 0.978 - ETA: 1:46 - loss: 0.0645 - acc: 0.978 - ETA: 1:45 - loss: 0.0644 - acc: 0.978 - ETA: 1:43 - loss: 0.0644 - acc: 0.978 - ETA: 1:41 - loss: 0.0643 - acc: 0.978 - ETA: 1:39 - loss: 0.0644 - acc: 0.978 - ETA: 1:37 - loss: 0.0644 - acc: 0.978 - ETA: 1:35 - loss: 0.0643 - acc: 0.978 - ETA: 1:33 - loss: 0.0643 - acc: 0.978 - ETA: 1:32 - loss: 0.0642 - acc: 0.978 - ETA: 1:30 - loss: 0.0642 - acc: 0.978 - ETA: 1:28 - loss: 0.0642 - acc: 0.978 - ETA: 1:26 - loss: 0.0641 - acc: 0.978 - ETA: 1:24 - loss: 0.0641 - acc: 0.978 - ETA: 1:22 - loss: 0.0642 - acc: 0.978 - ETA: 1:21 - loss: 0.0642 - acc: 0.978 - ETA: 1:19 - loss: 0.0642 - acc: 0.978 - ETA: 1:17 - loss: 0.0641 - acc: 0.978 - ETA: 1:15 - loss: 0.0640 - acc: 0.978 - ETA: 1:13 - loss: 0.0641 - acc: 0.978 - ETA: 1:11 - loss: 0.0640 - acc: 0.978 - ETA: 1:09 - loss: 0.0640 - acc: 0.978 - ETA: 1:07 - loss: 0.0642 - acc: 0.978 - ETA: 1:06 - loss: 0.0642 - acc: 0.978 - ETA: 1:04 - loss: 0.0642 - acc: 0.978 - ETA: 1:02 - loss: 0.0642 - acc: 0.978 - ETA: 1:00 - loss: 0.0641 - acc: 0.978 - ETA: 58s - loss: 0.0642 - acc: 0.978 - ETA: 56s - loss: 0.0641 - acc: 0.97 - ETA: 55s - loss: 0.0641 - acc: 0.97 - ETA: 53s - loss: 0.0640 - acc: 0.97 - ETA: 51s - loss: 0.0639 - acc: 0.97 - ETA: 49s - loss: 0.0638 - acc: 0.97 - ETA: 47s - loss: 0.0638 - acc: 0.97 - ETA: 45s - loss: 0.0637 - acc: 0.97 - ETA: 43s - loss: 0.0638 - acc: 0.97 - ETA: 42s - loss: 0.0638 - acc: 0.97 - ETA: 40s - loss: 0.0637 - acc: 0.97 - ETA: 38s - loss: 0.0638 - acc: 0.97 - ETA: 36s - loss: 0.0638 - acc: 0.97 - ETA: 34s - loss: 0.0638 - acc: 0.97 - ETA: 32s - loss: 0.0639 - acc: 0.97 - ETA: 30s - loss: 0.0638 - acc: 0.97 - ETA: 29s - loss: 0.0637 - acc: 0.97 - ETA: 27s - loss: 0.0636 - acc: 0.97 - ETA: 25s - loss: 0.0637 - acc: 0.97 - ETA: 23s - loss: 0.0637 - acc: 0.97 - ETA: 21s - loss: 0.0637 - acc: 0.97 - ETA: 19s - loss: 0.0636 - acc: 0.97 - ETA: 18s - loss: 0.0636 - acc: 0.97 - ETA: 16s - loss: 0.0635 - acc: 0.97 - ETA: 14s - loss: 0.0635 - acc: 0.97 - ETA: 12s - loss: 0.0635 - acc: 0.97 - ETA: 10s - loss: 0.0635 - acc: 0.97 - ETA: 8s - loss: 0.0638 - acc: 0.9788 - ETA: 7s - loss: 0.0637 - acc: 0.978 - ETA: 5s - loss: 0.0637 - acc: 0.978 - ETA: 3s - loss: 0.0638 - acc: 0.978 - ETA: 1s - loss: 0.0639 - acc: 0.978 - 1009s 31ms/step - loss: 0.0639 - acc: 0.9788 - val_loss: 0.3319 - val_acc: 0.9067\n",
      "Epoch 5/5\n"
     ]
    },
    {
     "name": "stdout",
     "output_type": "stream",
     "text": [
      "13056/32249 [===========>..................] - ETA: 13:26 - loss: 0.0204 - acc: 1.00 - ETA: 13:19 - loss: 0.0272 - acc: 0.99 - ETA: 13:12 - loss: 0.0547 - acc: 0.98 - ETA: 13:10 - loss: 0.0545 - acc: 0.98 - ETA: 13:07 - loss: 0.0567 - acc: 0.98 - ETA: 13:04 - loss: 0.0505 - acc: 0.98 - ETA: 13:02 - loss: 0.0505 - acc: 0.98 - ETA: 13:02 - loss: 0.0500 - acc: 0.98 - ETA: 13:00 - loss: 0.0464 - acc: 0.98 - ETA: 12:59 - loss: 0.0462 - acc: 0.98 - ETA: 12:59 - loss: 0.0442 - acc: 0.99 - ETA: 12:57 - loss: 0.0473 - acc: 0.98 - ETA: 12:57 - loss: 0.0449 - acc: 0.99 - ETA: 12:56 - loss: 0.0429 - acc: 0.99 - ETA: 12:55 - loss: 0.0416 - acc: 0.99 - ETA: 12:55 - loss: 0.0410 - acc: 0.99 - ETA: 12:55 - loss: 0.0392 - acc: 0.99 - ETA: 12:53 - loss: 0.0374 - acc: 0.99 - ETA: 12:51 - loss: 0.0367 - acc: 0.99 - ETA: 12:49 - loss: 0.0372 - acc: 0.99 - ETA: 12:48 - loss: 0.0362 - acc: 0.99 - ETA: 12:47 - loss: 0.0363 - acc: 0.99 - ETA: 12:46 - loss: 0.0354 - acc: 0.99 - ETA: 12:45 - loss: 0.0348 - acc: 0.99 - ETA: 12:48 - loss: 0.0354 - acc: 0.99 - ETA: 12:49 - loss: 0.0347 - acc: 0.99 - ETA: 12:48 - loss: 0.0368 - acc: 0.99 - ETA: 12:46 - loss: 0.0371 - acc: 0.99 - ETA: 12:45 - loss: 0.0377 - acc: 0.99 - ETA: 12:45 - loss: 0.0386 - acc: 0.99 - ETA: 12:45 - loss: 0.0379 - acc: 0.99 - ETA: 12:44 - loss: 0.0384 - acc: 0.99 - ETA: 12:47 - loss: 0.0376 - acc: 0.99 - ETA: 12:45 - loss: 0.0383 - acc: 0.99 - ETA: 12:43 - loss: 0.0392 - acc: 0.99 - ETA: 12:41 - loss: 0.0384 - acc: 0.99 - ETA: 12:38 - loss: 0.0390 - acc: 0.99 - ETA: 12:36 - loss: 0.0385 - acc: 0.99 - ETA: 12:34 - loss: 0.0386 - acc: 0.99 - ETA: 12:32 - loss: 0.0385 - acc: 0.99 - ETA: 12:30 - loss: 0.0393 - acc: 0.98 - ETA: 12:28 - loss: 0.0392 - acc: 0.98 - ETA: 12:26 - loss: 0.0386 - acc: 0.98 - ETA: 12:24 - loss: 0.0382 - acc: 0.99 - ETA: 12:22 - loss: 0.0390 - acc: 0.98 - ETA: 12:20 - loss: 0.0383 - acc: 0.98 - ETA: 12:17 - loss: 0.0380 - acc: 0.99 - ETA: 12:15 - loss: 0.0378 - acc: 0.98 - ETA: 12:13 - loss: 0.0381 - acc: 0.98 - ETA: 12:12 - loss: 0.0383 - acc: 0.98 - ETA: 12:10 - loss: 0.0380 - acc: 0.98 - ETA: 12:08 - loss: 0.0377 - acc: 0.99 - ETA: 12:07 - loss: 0.0378 - acc: 0.99 - ETA: 12:07 - loss: 0.0374 - acc: 0.99 - ETA: 12:06 - loss: 0.0368 - acc: 0.99 - ETA: 12:05 - loss: 0.0374 - acc: 0.98 - ETA: 12:03 - loss: 0.0376 - acc: 0.98 - ETA: 12:01 - loss: 0.0373 - acc: 0.98 - ETA: 11:59 - loss: 0.0372 - acc: 0.98 - ETA: 11:57 - loss: 0.0375 - acc: 0.98 - ETA: 11:56 - loss: 0.0375 - acc: 0.98 - ETA: 11:54 - loss: 0.0383 - acc: 0.98 - ETA: 11:53 - loss: 0.0381 - acc: 0.98 - ETA: 11:51 - loss: 0.0385 - acc: 0.98 - ETA: 11:49 - loss: 0.0382 - acc: 0.98 - ETA: 11:47 - loss: 0.0378 - acc: 0.98 - ETA: 11:45 - loss: 0.0375 - acc: 0.98 - ETA: 11:43 - loss: 0.0384 - acc: 0.98 - ETA: 11:42 - loss: 0.0399 - acc: 0.98 - ETA: 11:40 - loss: 0.0395 - acc: 0.98 - ETA: 11:38 - loss: 0.0395 - acc: 0.98 - ETA: 11:36 - loss: 0.0399 - acc: 0.98 - ETA: 11:35 - loss: 0.0396 - acc: 0.98 - ETA: 11:33 - loss: 0.0400 - acc: 0.98 - ETA: 11:31 - loss: 0.0397 - acc: 0.98 - ETA: 11:32 - loss: 0.0409 - acc: 0.98 - ETA: 11:33 - loss: 0.0421 - acc: 0.98 - ETA: 11:32 - loss: 0.0423 - acc: 0.98 - ETA: 11:31 - loss: 0.0426 - acc: 0.98 - ETA: 11:30 - loss: 0.0422 - acc: 0.98 - ETA: 11:28 - loss: 0.0440 - acc: 0.98 - ETA: 11:26 - loss: 0.0436 - acc: 0.98 - ETA: 11:24 - loss: 0.0432 - acc: 0.98 - ETA: 11:23 - loss: 0.0430 - acc: 0.98 - ETA: 11:21 - loss: 0.0442 - acc: 0.98 - ETA: 11:19 - loss: 0.0438 - acc: 0.98 - ETA: 11:17 - loss: 0.0454 - acc: 0.98 - ETA: 11:15 - loss: 0.0451 - acc: 0.98 - ETA: 11:14 - loss: 0.0452 - acc: 0.98 - ETA: 11:12 - loss: 0.0450 - acc: 0.98 - ETA: 11:10 - loss: 0.0454 - acc: 0.98 - ETA: 11:08 - loss: 0.0459 - acc: 0.98 - ETA: 11:06 - loss: 0.0460 - acc: 0.98 - ETA: 11:04 - loss: 0.0463 - acc: 0.98 - ETA: 11:02 - loss: 0.0462 - acc: 0.98 - ETA: 11:00 - loss: 0.0458 - acc: 0.98 - ETA: 10:59 - loss: 0.0455 - acc: 0.98 - ETA: 10:57 - loss: 0.0453 - acc: 0.98 - ETA: 10:55 - loss: 0.0459 - acc: 0.98 - ETA: 10:53 - loss: 0.0459 - acc: 0.98 - ETA: 10:51 - loss: 0.0456 - acc: 0.98 - ETA: 10:49 - loss: 0.0452 - acc: 0.98 - ETA: 10:48 - loss: 0.0463 - acc: 0.98 - ETA: 10:46 - loss: 0.0460 - acc: 0.98 - ETA: 10:44 - loss: 0.0466 - acc: 0.98 - ETA: 10:42 - loss: 0.0463 - acc: 0.98 - ETA: 10:40 - loss: 0.0467 - acc: 0.98 - ETA: 10:39 - loss: 0.0469 - acc: 0.98 - ETA: 10:37 - loss: 0.0467 - acc: 0.98 - ETA: 10:35 - loss: 0.0472 - acc: 0.98 - ETA: 10:33 - loss: 0.0473 - acc: 0.98 - ETA: 10:31 - loss: 0.0472 - acc: 0.98 - ETA: 10:30 - loss: 0.0470 - acc: 0.98 - ETA: 10:28 - loss: 0.0477 - acc: 0.98 - ETA: 10:26 - loss: 0.0474 - acc: 0.98 - ETA: 10:24 - loss: 0.0475 - acc: 0.98 - ETA: 10:23 - loss: 0.0474 - acc: 0.98 - ETA: 10:21 - loss: 0.0474 - acc: 0.98 - ETA: 10:19 - loss: 0.0478 - acc: 0.98 - ETA: 10:17 - loss: 0.0478 - acc: 0.98 - ETA: 10:16 - loss: 0.0489 - acc: 0.98 - ETA: 10:14 - loss: 0.0487 - acc: 0.98 - ETA: 10:12 - loss: 0.0484 - acc: 0.98 - ETA: 10:10 - loss: 0.0482 - acc: 0.98 - ETA: 10:09 - loss: 0.0480 - acc: 0.98 - ETA: 10:07 - loss: 0.0482 - acc: 0.98 - ETA: 10:05 - loss: 0.0481 - acc: 0.98 - ETA: 10:04 - loss: 0.0480 - acc: 0.98 - ETA: 10:02 - loss: 0.0477 - acc: 0.98 - ETA: 10:00 - loss: 0.0476 - acc: 0.98 - ETA: 9:59 - loss: 0.0474 - acc: 0.9860 - ETA: 9:57 - loss: 0.0475 - acc: 0.985 - ETA: 9:55 - loss: 0.0475 - acc: 0.985 - ETA: 9:54 - loss: 0.0472 - acc: 0.985 - ETA: 9:52 - loss: 0.0471 - acc: 0.985 - ETA: 9:50 - loss: 0.0472 - acc: 0.985 - ETA: 9:48 - loss: 0.0472 - acc: 0.985 - ETA: 9:47 - loss: 0.0472 - acc: 0.985 - ETA: 9:45 - loss: 0.0475 - acc: 0.985 - ETA: 9:43 - loss: 0.0472 - acc: 0.985 - ETA: 9:42 - loss: 0.0470 - acc: 0.985 - ETA: 9:40 - loss: 0.0468 - acc: 0.985 - ETA: 9:39 - loss: 0.0476 - acc: 0.985 - ETA: 9:38 - loss: 0.0475 - acc: 0.985 - ETA: 9:37 - loss: 0.0475 - acc: 0.985 - ETA: 9:38 - loss: 0.0476 - acc: 0.985 - ETA: 9:36 - loss: 0.0481 - acc: 0.985 - ETA: 9:35 - loss: 0.0489 - acc: 0.985 - ETA: 9:35 - loss: 0.0494 - acc: 0.984 - ETA: 9:34 - loss: 0.0493 - acc: 0.984 - ETA: 9:32 - loss: 0.0494 - acc: 0.984 - ETA: 9:31 - loss: 0.0499 - acc: 0.984 - ETA: 9:29 - loss: 0.0503 - acc: 0.984 - ETA: 9:28 - loss: 0.0509 - acc: 0.984 - ETA: 9:26 - loss: 0.0514 - acc: 0.983 - ETA: 9:25 - loss: 0.0520 - acc: 0.983 - ETA: 9:24 - loss: 0.0521 - acc: 0.983 - ETA: 9:23 - loss: 0.0519 - acc: 0.983 - ETA: 9:22 - loss: 0.0519 - acc: 0.984 - ETA: 9:20 - loss: 0.0521 - acc: 0.984 - ETA: 9:19 - loss: 0.0527 - acc: 0.983 - ETA: 9:18 - loss: 0.0530 - acc: 0.983 - ETA: 9:18 - loss: 0.0535 - acc: 0.983 - ETA: 9:17 - loss: 0.0534 - acc: 0.983 - ETA: 9:16 - loss: 0.0533 - acc: 0.983 - ETA: 9:14 - loss: 0.0535 - acc: 0.983 - ETA: 9:14 - loss: 0.0535 - acc: 0.983 - ETA: 9:15 - loss: 0.0535 - acc: 0.983 - ETA: 9:15 - loss: 0.0534 - acc: 0.983 - ETA: 9:15 - loss: 0.0536 - acc: 0.983 - ETA: 9:16 - loss: 0.0535 - acc: 0.983 - ETA: 9:16 - loss: 0.0533 - acc: 0.983 - ETA: 9:16 - loss: 0.0536 - acc: 0.983 - ETA: 9:14 - loss: 0.0534 - acc: 0.983 - ETA: 9:12 - loss: 0.0536 - acc: 0.983 - ETA: 9:11 - loss: 0.0536 - acc: 0.983 - ETA: 9:09 - loss: 0.0538 - acc: 0.983 - ETA: 9:09 - loss: 0.0537 - acc: 0.983 - ETA: 9:09 - loss: 0.0537 - acc: 0.983 - ETA: 9:08 - loss: 0.0536 - acc: 0.983 - ETA: 9:08 - loss: 0.0534 - acc: 0.983 - ETA: 9:08 - loss: 0.0533 - acc: 0.983 - ETA: 9:08 - loss: 0.0531 - acc: 0.983 - ETA: 9:07 - loss: 0.0528 - acc: 0.983 - ETA: 9:06 - loss: 0.0526 - acc: 0.984 - ETA: 9:05 - loss: 0.0526 - acc: 0.984 - ETA: 9:04 - loss: 0.0526 - acc: 0.984 - ETA: 9:04 - loss: 0.0526 - acc: 0.984 - ETA: 9:03 - loss: 0.0525 - acc: 0.983 - ETA: 9:03 - loss: 0.0526 - acc: 0.983 - ETA: 9:01 - loss: 0.0527 - acc: 0.983 - ETA: 9:00 - loss: 0.0527 - acc: 0.983 - ETA: 8:58 - loss: 0.0525 - acc: 0.983 - ETA: 8:57 - loss: 0.0526 - acc: 0.983 - ETA: 8:55 - loss: 0.0527 - acc: 0.983 - ETA: 8:54 - loss: 0.0530 - acc: 0.983 - ETA: 8:53 - loss: 0.0530 - acc: 0.983 - ETA: 8:51 - loss: 0.0530 - acc: 0.983 - ETA: 8:49 - loss: 0.0529 - acc: 0.983 - ETA: 8:48 - loss: 0.0528 - acc: 0.983 - ETA: 8:46 - loss: 0.0527 - acc: 0.983 - ETA: 8:45 - loss: 0.0527 - acc: 0.983 - ETA: 8:44 - loss: 0.0528 - acc: 0.983 - ETA: 8:42 - loss: 0.0527 - acc: 0.983526112/32249 [=======================>......] - ETA: 8:40 - loss: 0.0531 - acc: 0.983 - ETA: 8:39 - loss: 0.0531 - acc: 0.983 - ETA: 8:37 - loss: 0.0530 - acc: 0.983 - ETA: 8:35 - loss: 0.0530 - acc: 0.983 - ETA: 8:34 - loss: 0.0529 - acc: 0.983 - ETA: 8:33 - loss: 0.0526 - acc: 0.983 - ETA: 8:33 - loss: 0.0525 - acc: 0.983 - ETA: 8:33 - loss: 0.0524 - acc: 0.983 - ETA: 8:33 - loss: 0.0524 - acc: 0.983 - ETA: 8:32 - loss: 0.0523 - acc: 0.983 - ETA: 8:30 - loss: 0.0523 - acc: 0.983 - ETA: 8:29 - loss: 0.0526 - acc: 0.983 - ETA: 8:27 - loss: 0.0528 - acc: 0.983 - ETA: 8:26 - loss: 0.0529 - acc: 0.983 - ETA: 8:25 - loss: 0.0527 - acc: 0.983 - ETA: 8:24 - loss: 0.0526 - acc: 0.983 - ETA: 8:22 - loss: 0.0526 - acc: 0.983 - ETA: 8:21 - loss: 0.0524 - acc: 0.983 - ETA: 8:20 - loss: 0.0524 - acc: 0.983 - ETA: 8:19 - loss: 0.0523 - acc: 0.983 - ETA: 8:19 - loss: 0.0526 - acc: 0.983 - ETA: 8:18 - loss: 0.0530 - acc: 0.983 - ETA: 8:17 - loss: 0.0530 - acc: 0.983 - ETA: 8:16 - loss: 0.0531 - acc: 0.983 - ETA: 8:15 - loss: 0.0532 - acc: 0.982 - ETA: 8:15 - loss: 0.0532 - acc: 0.982 - ETA: 8:15 - loss: 0.0531 - acc: 0.983 - ETA: 8:13 - loss: 0.0532 - acc: 0.983 - ETA: 8:12 - loss: 0.0531 - acc: 0.983 - ETA: 8:12 - loss: 0.0531 - acc: 0.983 - ETA: 8:12 - loss: 0.0531 - acc: 0.983 - ETA: 8:11 - loss: 0.0532 - acc: 0.982 - ETA: 8:11 - loss: 0.0530 - acc: 0.983 - ETA: 8:10 - loss: 0.0532 - acc: 0.983 - ETA: 8:09 - loss: 0.0530 - acc: 0.983 - ETA: 8:08 - loss: 0.0529 - acc: 0.983 - ETA: 8:07 - loss: 0.0528 - acc: 0.983 - ETA: 8:06 - loss: 0.0529 - acc: 0.983 - ETA: 8:05 - loss: 0.0527 - acc: 0.983 - ETA: 8:03 - loss: 0.0528 - acc: 0.983 - ETA: 8:02 - loss: 0.0527 - acc: 0.983 - ETA: 8:00 - loss: 0.0527 - acc: 0.983 - ETA: 7:59 - loss: 0.0528 - acc: 0.983 - ETA: 7:58 - loss: 0.0528 - acc: 0.983 - ETA: 7:57 - loss: 0.0529 - acc: 0.983 - ETA: 7:56 - loss: 0.0530 - acc: 0.983 - ETA: 7:55 - loss: 0.0531 - acc: 0.983 - ETA: 7:53 - loss: 0.0530 - acc: 0.983 - ETA: 7:52 - loss: 0.0528 - acc: 0.983 - ETA: 7:51 - loss: 0.0527 - acc: 0.983 - ETA: 7:51 - loss: 0.0527 - acc: 0.983 - ETA: 7:50 - loss: 0.0526 - acc: 0.983 - ETA: 7:50 - loss: 0.0527 - acc: 0.983 - ETA: 7:49 - loss: 0.0526 - acc: 0.983 - ETA: 7:48 - loss: 0.0527 - acc: 0.983 - ETA: 7:47 - loss: 0.0528 - acc: 0.983 - ETA: 7:46 - loss: 0.0527 - acc: 0.983 - ETA: 7:46 - loss: 0.0526 - acc: 0.983 - ETA: 7:44 - loss: 0.0525 - acc: 0.983 - ETA: 7:43 - loss: 0.0527 - acc: 0.983 - ETA: 7:42 - loss: 0.0526 - acc: 0.983 - ETA: 7:41 - loss: 0.0526 - acc: 0.982 - ETA: 7:40 - loss: 0.0526 - acc: 0.982 - ETA: 7:39 - loss: 0.0528 - acc: 0.982 - ETA: 7:38 - loss: 0.0529 - acc: 0.982 - ETA: 7:38 - loss: 0.0527 - acc: 0.982 - ETA: 7:36 - loss: 0.0526 - acc: 0.982 - ETA: 7:35 - loss: 0.0527 - acc: 0.982 - ETA: 7:33 - loss: 0.0527 - acc: 0.982 - ETA: 7:31 - loss: 0.0526 - acc: 0.982 - ETA: 7:29 - loss: 0.0527 - acc: 0.982 - ETA: 7:28 - loss: 0.0526 - acc: 0.982 - ETA: 7:26 - loss: 0.0526 - acc: 0.982 - ETA: 7:24 - loss: 0.0524 - acc: 0.982 - ETA: 7:22 - loss: 0.0527 - acc: 0.982 - ETA: 7:20 - loss: 0.0526 - acc: 0.982 - ETA: 7:19 - loss: 0.0528 - acc: 0.982 - ETA: 7:17 - loss: 0.0527 - acc: 0.982 - ETA: 7:16 - loss: 0.0526 - acc: 0.982 - ETA: 7:14 - loss: 0.0527 - acc: 0.982 - ETA: 7:13 - loss: 0.0525 - acc: 0.982 - ETA: 7:11 - loss: 0.0524 - acc: 0.982 - ETA: 7:09 - loss: 0.0523 - acc: 0.982 - ETA: 7:07 - loss: 0.0523 - acc: 0.982 - ETA: 7:05 - loss: 0.0522 - acc: 0.982 - ETA: 7:03 - loss: 0.0530 - acc: 0.982 - ETA: 7:02 - loss: 0.0531 - acc: 0.982 - ETA: 7:00 - loss: 0.0531 - acc: 0.982 - ETA: 6:58 - loss: 0.0530 - acc: 0.982 - ETA: 6:57 - loss: 0.0531 - acc: 0.982 - ETA: 6:55 - loss: 0.0530 - acc: 0.982 - ETA: 6:54 - loss: 0.0533 - acc: 0.982 - ETA: 6:52 - loss: 0.0537 - acc: 0.982 - ETA: 6:50 - loss: 0.0537 - acc: 0.982 - ETA: 6:49 - loss: 0.0537 - acc: 0.982 - ETA: 6:48 - loss: 0.0536 - acc: 0.982 - ETA: 6:46 - loss: 0.0535 - acc: 0.982 - ETA: 6:44 - loss: 0.0536 - acc: 0.982 - ETA: 6:42 - loss: 0.0535 - acc: 0.982 - ETA: 6:40 - loss: 0.0536 - acc: 0.982 - ETA: 6:38 - loss: 0.0536 - acc: 0.982 - ETA: 6:36 - loss: 0.0536 - acc: 0.982 - ETA: 6:34 - loss: 0.0536 - acc: 0.982 - ETA: 6:31 - loss: 0.0536 - acc: 0.982 - ETA: 6:29 - loss: 0.0535 - acc: 0.982 - ETA: 6:27 - loss: 0.0534 - acc: 0.982 - ETA: 6:25 - loss: 0.0537 - acc: 0.982 - ETA: 6:23 - loss: 0.0537 - acc: 0.982 - ETA: 6:21 - loss: 0.0536 - acc: 0.982 - ETA: 6:19 - loss: 0.0535 - acc: 0.982 - ETA: 6:17 - loss: 0.0536 - acc: 0.982 - ETA: 6:14 - loss: 0.0537 - acc: 0.982 - ETA: 6:12 - loss: 0.0537 - acc: 0.982 - ETA: 6:10 - loss: 0.0536 - acc: 0.982 - ETA: 6:08 - loss: 0.0536 - acc: 0.982 - ETA: 6:06 - loss: 0.0537 - acc: 0.982 - ETA: 6:04 - loss: 0.0537 - acc: 0.982 - ETA: 6:01 - loss: 0.0537 - acc: 0.982 - ETA: 5:59 - loss: 0.0538 - acc: 0.982 - ETA: 5:57 - loss: 0.0537 - acc: 0.982 - ETA: 5:55 - loss: 0.0536 - acc: 0.982 - ETA: 5:53 - loss: 0.0535 - acc: 0.982 - ETA: 5:50 - loss: 0.0535 - acc: 0.982 - ETA: 5:48 - loss: 0.0536 - acc: 0.982 - ETA: 5:46 - loss: 0.0535 - acc: 0.982 - ETA: 5:44 - loss: 0.0534 - acc: 0.982 - ETA: 5:42 - loss: 0.0534 - acc: 0.982 - ETA: 5:40 - loss: 0.0533 - acc: 0.982 - ETA: 5:37 - loss: 0.0532 - acc: 0.982 - ETA: 5:35 - loss: 0.0531 - acc: 0.982 - ETA: 5:33 - loss: 0.0533 - acc: 0.982 - ETA: 5:31 - loss: 0.0533 - acc: 0.982 - ETA: 5:29 - loss: 0.0533 - acc: 0.982 - ETA: 5:27 - loss: 0.0532 - acc: 0.982 - ETA: 5:24 - loss: 0.0532 - acc: 0.982 - ETA: 5:22 - loss: 0.0530 - acc: 0.982 - ETA: 5:20 - loss: 0.0531 - acc: 0.982 - ETA: 5:18 - loss: 0.0531 - acc: 0.982 - ETA: 5:16 - loss: 0.0530 - acc: 0.982 - ETA: 5:14 - loss: 0.0529 - acc: 0.982 - ETA: 5:12 - loss: 0.0530 - acc: 0.982 - ETA: 5:10 - loss: 0.0529 - acc: 0.982 - ETA: 5:07 - loss: 0.0530 - acc: 0.982 - ETA: 5:05 - loss: 0.0529 - acc: 0.982 - ETA: 5:03 - loss: 0.0528 - acc: 0.982 - ETA: 5:01 - loss: 0.0527 - acc: 0.982 - ETA: 4:59 - loss: 0.0525 - acc: 0.982 - ETA: 4:57 - loss: 0.0524 - acc: 0.982 - ETA: 4:55 - loss: 0.0523 - acc: 0.982 - ETA: 4:53 - loss: 0.0523 - acc: 0.982 - ETA: 4:51 - loss: 0.0523 - acc: 0.982 - ETA: 4:49 - loss: 0.0524 - acc: 0.982 - ETA: 4:47 - loss: 0.0523 - acc: 0.982 - ETA: 4:44 - loss: 0.0523 - acc: 0.982 - ETA: 4:42 - loss: 0.0523 - acc: 0.982 - ETA: 4:40 - loss: 0.0524 - acc: 0.982 - ETA: 4:38 - loss: 0.0528 - acc: 0.982 - ETA: 4:36 - loss: 0.0527 - acc: 0.982 - ETA: 4:34 - loss: 0.0529 - acc: 0.982 - ETA: 4:32 - loss: 0.0531 - acc: 0.982 - ETA: 4:30 - loss: 0.0532 - acc: 0.982 - ETA: 4:28 - loss: 0.0531 - acc: 0.982 - ETA: 4:26 - loss: 0.0531 - acc: 0.982 - ETA: 4:24 - loss: 0.0532 - acc: 0.982 - ETA: 4:22 - loss: 0.0532 - acc: 0.982 - ETA: 4:20 - loss: 0.0532 - acc: 0.982 - ETA: 4:18 - loss: 0.0533 - acc: 0.982 - ETA: 4:16 - loss: 0.0532 - acc: 0.982 - ETA: 4:13 - loss: 0.0534 - acc: 0.982 - ETA: 4:11 - loss: 0.0534 - acc: 0.982 - ETA: 4:09 - loss: 0.0535 - acc: 0.981 - ETA: 4:07 - loss: 0.0534 - acc: 0.981 - ETA: 4:05 - loss: 0.0535 - acc: 0.981 - ETA: 4:03 - loss: 0.0538 - acc: 0.981 - ETA: 4:01 - loss: 0.0539 - acc: 0.981 - ETA: 3:59 - loss: 0.0540 - acc: 0.981 - ETA: 3:57 - loss: 0.0539 - acc: 0.981 - ETA: 3:55 - loss: 0.0539 - acc: 0.981 - ETA: 3:53 - loss: 0.0539 - acc: 0.981 - ETA: 3:51 - loss: 0.0539 - acc: 0.981 - ETA: 3:49 - loss: 0.0539 - acc: 0.981 - ETA: 3:47 - loss: 0.0541 - acc: 0.981 - ETA: 3:45 - loss: 0.0542 - acc: 0.981 - ETA: 3:43 - loss: 0.0542 - acc: 0.981 - ETA: 3:41 - loss: 0.0542 - acc: 0.981 - ETA: 3:39 - loss: 0.0543 - acc: 0.981 - ETA: 3:37 - loss: 0.0542 - acc: 0.981 - ETA: 3:35 - loss: 0.0542 - acc: 0.981 - ETA: 3:33 - loss: 0.0541 - acc: 0.981 - ETA: 3:31 - loss: 0.0540 - acc: 0.981 - ETA: 3:29 - loss: 0.0539 - acc: 0.981 - ETA: 3:27 - loss: 0.0538 - acc: 0.981 - ETA: 3:25 - loss: 0.0542 - acc: 0.981 - ETA: 3:23 - loss: 0.0542 - acc: 0.981 - ETA: 3:21 - loss: 0.0542 - acc: 0.981 - ETA: 3:19 - loss: 0.0543 - acc: 0.981 - ETA: 3:17 - loss: 0.0542 - acc: 0.981 - ETA: 3:15 - loss: 0.0541 - acc: 0.981 - ETA: 3:13 - loss: 0.0542 - acc: 0.981 - ETA: 3:11 - loss: 0.0542 - acc: 0.981 - ETA: 3:09 - loss: 0.0543 - acc: 0.981 - ETA: 3:07 - loss: 0.0544 - acc: 0.981 - ETA: 3:05 - loss: 0.0543 - acc: 0.981 - ETA: 3:03 - loss: 0.0543 - acc: 0.9816"
     ]
    },
    {
     "name": "stdout",
     "output_type": "stream",
     "text": [
      "32249/32249 [==============================] - ETA: 3:01 - loss: 0.0544 - acc: 0.981 - ETA: 2:59 - loss: 0.0543 - acc: 0.981 - ETA: 2:57 - loss: 0.0544 - acc: 0.981 - ETA: 2:55 - loss: 0.0545 - acc: 0.981 - ETA: 2:53 - loss: 0.0545 - acc: 0.981 - ETA: 2:51 - loss: 0.0546 - acc: 0.981 - ETA: 2:49 - loss: 0.0545 - acc: 0.981 - ETA: 2:47 - loss: 0.0545 - acc: 0.981 - ETA: 2:45 - loss: 0.0545 - acc: 0.981 - ETA: 2:43 - loss: 0.0545 - acc: 0.981 - ETA: 2:41 - loss: 0.0545 - acc: 0.981 - ETA: 2:39 - loss: 0.0545 - acc: 0.981 - ETA: 2:37 - loss: 0.0547 - acc: 0.981 - ETA: 2:35 - loss: 0.0549 - acc: 0.981 - ETA: 2:33 - loss: 0.0549 - acc: 0.981 - ETA: 2:31 - loss: 0.0551 - acc: 0.981 - ETA: 2:29 - loss: 0.0555 - acc: 0.981 - ETA: 2:27 - loss: 0.0554 - acc: 0.981 - ETA: 2:25 - loss: 0.0554 - acc: 0.981 - ETA: 2:23 - loss: 0.0554 - acc: 0.981 - ETA: 2:21 - loss: 0.0554 - acc: 0.981 - ETA: 2:19 - loss: 0.0555 - acc: 0.980 - ETA: 2:18 - loss: 0.0555 - acc: 0.980 - ETA: 2:16 - loss: 0.0554 - acc: 0.980 - ETA: 2:14 - loss: 0.0554 - acc: 0.980 - ETA: 2:12 - loss: 0.0557 - acc: 0.980 - ETA: 2:10 - loss: 0.0557 - acc: 0.980 - ETA: 2:08 - loss: 0.0556 - acc: 0.980 - ETA: 2:06 - loss: 0.0556 - acc: 0.980 - ETA: 2:04 - loss: 0.0557 - acc: 0.980 - ETA: 2:02 - loss: 0.0556 - acc: 0.980 - ETA: 2:00 - loss: 0.0558 - acc: 0.980 - ETA: 1:58 - loss: 0.0558 - acc: 0.980 - ETA: 1:56 - loss: 0.0557 - acc: 0.980 - ETA: 1:54 - loss: 0.0556 - acc: 0.980 - ETA: 1:52 - loss: 0.0556 - acc: 0.980 - ETA: 1:50 - loss: 0.0559 - acc: 0.980 - ETA: 1:48 - loss: 0.0558 - acc: 0.980 - ETA: 1:47 - loss: 0.0559 - acc: 0.980 - ETA: 1:45 - loss: 0.0561 - acc: 0.980 - ETA: 1:43 - loss: 0.0560 - acc: 0.980 - ETA: 1:41 - loss: 0.0560 - acc: 0.980 - ETA: 1:39 - loss: 0.0560 - acc: 0.980 - ETA: 1:37 - loss: 0.0560 - acc: 0.980 - ETA: 1:35 - loss: 0.0560 - acc: 0.980 - ETA: 1:33 - loss: 0.0563 - acc: 0.980 - ETA: 1:31 - loss: 0.0565 - acc: 0.980 - ETA: 1:29 - loss: 0.0565 - acc: 0.980 - ETA: 1:27 - loss: 0.0564 - acc: 0.980 - ETA: 1:25 - loss: 0.0568 - acc: 0.980 - ETA: 1:24 - loss: 0.0568 - acc: 0.980 - ETA: 1:22 - loss: 0.0567 - acc: 0.980 - ETA: 1:20 - loss: 0.0567 - acc: 0.980 - ETA: 1:18 - loss: 0.0567 - acc: 0.980 - ETA: 1:16 - loss: 0.0566 - acc: 0.980 - ETA: 1:14 - loss: 0.0566 - acc: 0.980 - ETA: 1:12 - loss: 0.0567 - acc: 0.980 - ETA: 1:10 - loss: 0.0566 - acc: 0.980 - ETA: 1:08 - loss: 0.0565 - acc: 0.980 - ETA: 1:07 - loss: 0.0565 - acc: 0.980 - ETA: 1:05 - loss: 0.0565 - acc: 0.980 - ETA: 1:03 - loss: 0.0567 - acc: 0.980 - ETA: 1:01 - loss: 0.0570 - acc: 0.980 - ETA: 59s - loss: 0.0569 - acc: 0.980 - ETA: 57s - loss: 0.0569 - acc: 0.98 - ETA: 55s - loss: 0.0569 - acc: 0.98 - ETA: 53s - loss: 0.0571 - acc: 0.98 - ETA: 51s - loss: 0.0572 - acc: 0.98 - ETA: 50s - loss: 0.0572 - acc: 0.98 - ETA: 48s - loss: 0.0571 - acc: 0.98 - ETA: 46s - loss: 0.0572 - acc: 0.98 - ETA: 44s - loss: 0.0571 - acc: 0.98 - ETA: 42s - loss: 0.0571 - acc: 0.98 - ETA: 40s - loss: 0.0570 - acc: 0.98 - ETA: 38s - loss: 0.0572 - acc: 0.98 - ETA: 36s - loss: 0.0572 - acc: 0.98 - ETA: 35s - loss: 0.0572 - acc: 0.98 - ETA: 33s - loss: 0.0572 - acc: 0.98 - ETA: 31s - loss: 0.0573 - acc: 0.98 - ETA: 29s - loss: 0.0575 - acc: 0.98 - ETA: 27s - loss: 0.0574 - acc: 0.98 - ETA: 25s - loss: 0.0574 - acc: 0.98 - ETA: 23s - loss: 0.0577 - acc: 0.98 - ETA: 22s - loss: 0.0576 - acc: 0.98 - ETA: 20s - loss: 0.0576 - acc: 0.98 - ETA: 18s - loss: 0.0577 - acc: 0.98 - ETA: 16s - loss: 0.0577 - acc: 0.98 - ETA: 14s - loss: 0.0577 - acc: 0.98 - ETA: 12s - loss: 0.0577 - acc: 0.98 - ETA: 10s - loss: 0.0578 - acc: 0.98 - ETA: 9s - loss: 0.0577 - acc: 0.9804 - ETA: 7s - loss: 0.0577 - acc: 0.980 - ETA: 5s - loss: 0.0576 - acc: 0.980 - ETA: 3s - loss: 0.0575 - acc: 0.980 - ETA: 1s - loss: 0.0576 - acc: 0.980 - 1020s 32ms/step - loss: 0.0576 - acc: 0.9804 - val_loss: 0.3790 - val_acc: 0.8994\n",
      "Test loss: 0.3790015470634889\n",
      "Test accuracy: 0.8994356821939476\n"
     ]
    },
    {
     "data": {
      "image/png": "[encoded data removed]",
      "text/plain": [
       "<matplotlib.figure.Figure at 0x1efc10c0eb8>"
      ]
     },
     "metadata": {},
     "output_type": "display_data"
    }
   ],
   "source": [
    "epochs = 5\n",
    "train=model.fit(X_train, y_tr,\n",
    "          batch_size=64,\n",
    "          epochs=epochs,\n",
    "          verbose=1,\n",
    "          validation_data=(X_test, y_test))\n",
    "score = model.evaluate(X_test, y_test, verbose=0)\n",
    "print('Test loss:', score[0])\n",
    "print('Test accuracy:', score[1])\n",
    "fig, ax = plt.subplots(1,1)    \n",
    "ax.set_xlabel('epoch') \n",
    "ax.set_ylabel('Categorical Crossentropy Loss')\n",
    "x_axis_values = list(range(1,epochs+1))\n",
    "\n",
    "validation_loss = train.history['val_loss']\n",
    "train_loss = train.history['loss']   \n",
    "    \n",
    "ax.plot(x_axis_values, validation_loss, 'b', label=\"Validation Loss\")\n",
    "ax.plot(x_axis_values, train_loss, 'r', label=\"Train Loss\")\n",
    "plt.legend()\n",
    "plt.grid()\n",
    "fig.canvas.draw()\n"
   ]
  },
  {
   "cell_type": "markdown",
   "metadata": {},
   "source": [
    "# Model with Two hidden layers"
   ]
  },
  {
   "cell_type": "code",
   "execution_count": 42,
   "metadata": {},
   "outputs": [
    {
     "name": "stdout",
     "output_type": "stream",
     "text": [
      "_________________________________________________________________\n",
      "Layer (type)                 Output Shape              Param #   \n",
      "=================================================================\n",
      "embedding_4 (Embedding)      (None, 600, 32)           160000    \n",
      "_________________________________________________________________\n",
      "lstm_5 (LSTM)                (None, 600, 100)          53200     \n",
      "_________________________________________________________________\n",
      "lstm_6 (LSTM)                (None, 100)               80400     \n",
      "_________________________________________________________________\n",
      "dense_4 (Dense)              (None, 1)                 101       \n",
      "=================================================================\n",
      "Total params: 293,701\n",
      "Trainable params: 293,701\n",
      "Non-trainable params: 0\n",
      "_________________________________________________________________\n",
      "None\n"
     ]
    }
   ],
   "source": [
    "embedding_vecor_length = 32\n",
    "model1 = Sequential()\n",
    "model1.add(Embedding(5000, embedding_vecor_length, input_length=max_review_length))\n",
    "model1.add(LSTM(100, return_sequences=True))\n",
    "model1.add(LSTM(100))\n",
    "model1.add(Dense(1, activation='sigmoid'))\n",
    "model1.compile(loss='binary_crossentropy', optimizer='adam', metrics=['accuracy'])\n",
    "print(model1.summary())\n"
   ]
  },
  {
   "cell_type": "code",
   "execution_count": 43,
   "metadata": {},
   "outputs": [
    {
     "name": "stdout",
     "output_type": "stream",
     "text": [
      "Train on 32249 samples, validate on 13822 samples\n",
      "Epoch 1/5\n"
     ]
    },
    {
     "name": "stdout",
     "output_type": "stream",
     "text": [
      "12992/32249 [===========>..................] - ETA: 1:31:05 - loss: 0.6930 - acc: 0.50 - ETA: 1:00:55 - loss: 0.6895 - acc: 0.65 - ETA: 50:50 - loss: 0.6847 - acc: 0.7292 - ETA: 46:30 - loss: 0.6794 - acc: 0.75 - ETA: 43:44 - loss: 0.6723 - acc: 0.77 - ETA: 41:31 - loss: 0.6636 - acc: 0.78 - ETA: 39:55 - loss: 0.6493 - acc: 0.79 - ETA: 38:34 - loss: 0.6317 - acc: 0.81 - ETA: 37:28 - loss: 0.6162 - acc: 0.81 - ETA: 36:36 - loss: 0.6018 - acc: 0.81 - ETA: 35:50 - loss: 0.5725 - acc: 0.82 - ETA: 35:13 - loss: 0.5579 - acc: 0.82 - ETA: 34:44 - loss: 0.5577 - acc: 0.82 - ETA: 34:15 - loss: 0.5606 - acc: 0.82 - ETA: 33:51 - loss: 0.5425 - acc: 0.82 - ETA: 33:30 - loss: 0.5369 - acc: 0.82 - ETA: 33:10 - loss: 0.5247 - acc: 0.83 - ETA: 32:51 - loss: 0.5221 - acc: 0.83 - ETA: 32:37 - loss: 0.5207 - acc: 0.83 - ETA: 32:22 - loss: 0.5155 - acc: 0.83 - ETA: 32:08 - loss: 0.5136 - acc: 0.83 - ETA: 31:55 - loss: 0.5108 - acc: 0.83 - ETA: 31:42 - loss: 0.5060 - acc: 0.83 - ETA: 31:29 - loss: 0.5047 - acc: 0.83 - ETA: 31:17 - loss: 0.5026 - acc: 0.83 - ETA: 31:08 - loss: 0.5005 - acc: 0.83 - ETA: 30:58 - loss: 0.5006 - acc: 0.83 - ETA: 30:48 - loss: 0.4997 - acc: 0.83 - ETA: 30:40 - loss: 0.5027 - acc: 0.82 - ETA: 30:32 - loss: 0.5032 - acc: 0.82 - ETA: 30:24 - loss: 0.5030 - acc: 0.82 - ETA: 30:16 - loss: 0.4994 - acc: 0.82 - ETA: 30:08 - loss: 0.4966 - acc: 0.82 - ETA: 30:01 - loss: 0.4991 - acc: 0.82 - ETA: 29:54 - loss: 0.4989 - acc: 0.82 - ETA: 29:47 - loss: 0.4944 - acc: 0.82 - ETA: 29:41 - loss: 0.4907 - acc: 0.82 - ETA: 29:36 - loss: 0.4872 - acc: 0.83 - ETA: 29:30 - loss: 0.4869 - acc: 0.82 - ETA: 29:24 - loss: 0.4838 - acc: 0.83 - ETA: 29:18 - loss: 0.4821 - acc: 0.83 - ETA: 29:13 - loss: 0.4790 - acc: 0.83 - ETA: 29:08 - loss: 0.4822 - acc: 0.82 - ETA: 29:03 - loss: 0.4786 - acc: 0.83 - ETA: 28:58 - loss: 0.4748 - acc: 0.83 - ETA: 28:53 - loss: 0.4722 - acc: 0.83 - ETA: 28:48 - loss: 0.4702 - acc: 0.83 - ETA: 28:43 - loss: 0.4710 - acc: 0.83 - ETA: 28:37 - loss: 0.4708 - acc: 0.83 - ETA: 28:32 - loss: 0.4735 - acc: 0.83 - ETA: 28:27 - loss: 0.4729 - acc: 0.83 - ETA: 28:23 - loss: 0.4738 - acc: 0.82 - ETA: 28:18 - loss: 0.4722 - acc: 0.82 - ETA: 28:13 - loss: 0.4728 - acc: 0.82 - ETA: 28:09 - loss: 0.4717 - acc: 0.82 - ETA: 28:04 - loss: 0.4709 - acc: 0.82 - ETA: 28:00 - loss: 0.4705 - acc: 0.82 - ETA: 27:56 - loss: 0.4695 - acc: 0.82 - ETA: 27:52 - loss: 0.4686 - acc: 0.82 - ETA: 27:49 - loss: 0.4682 - acc: 0.82 - ETA: 27:46 - loss: 0.4664 - acc: 0.82 - ETA: 27:41 - loss: 0.4641 - acc: 0.83 - ETA: 27:36 - loss: 0.4631 - acc: 0.83 - ETA: 27:32 - loss: 0.4628 - acc: 0.82 - ETA: 27:29 - loss: 0.4609 - acc: 0.83 - ETA: 27:27 - loss: 0.4606 - acc: 0.82 - ETA: 27:24 - loss: 0.4597 - acc: 0.82 - ETA: 27:20 - loss: 0.4596 - acc: 0.82 - ETA: 27:16 - loss: 0.4576 - acc: 0.82 - ETA: 27:11 - loss: 0.4552 - acc: 0.83 - ETA: 27:07 - loss: 0.4541 - acc: 0.83 - ETA: 27:03 - loss: 0.4528 - acc: 0.83 - ETA: 26:58 - loss: 0.4514 - acc: 0.83 - ETA: 26:53 - loss: 0.4490 - acc: 0.83 - ETA: 26:49 - loss: 0.4471 - acc: 0.83 - ETA: 26:45 - loss: 0.4466 - acc: 0.83 - ETA: 26:41 - loss: 0.4460 - acc: 0.83 - ETA: 26:38 - loss: 0.4453 - acc: 0.83 - ETA: 26:33 - loss: 0.4438 - acc: 0.83 - ETA: 26:30 - loss: 0.4420 - acc: 0.83 - ETA: 26:26 - loss: 0.4402 - acc: 0.83 - ETA: 26:21 - loss: 0.4381 - acc: 0.83 - ETA: 26:17 - loss: 0.4356 - acc: 0.83 - ETA: 26:12 - loss: 0.4343 - acc: 0.83 - ETA: 26:07 - loss: 0.4341 - acc: 0.83 - ETA: 26:03 - loss: 0.4321 - acc: 0.83 - ETA: 25:59 - loss: 0.4305 - acc: 0.83 - ETA: 25:54 - loss: 0.4285 - acc: 0.83 - ETA: 25:50 - loss: 0.4268 - acc: 0.83 - ETA: 25:45 - loss: 0.4248 - acc: 0.83 - ETA: 25:41 - loss: 0.4220 - acc: 0.83 - ETA: 25:37 - loss: 0.4215 - acc: 0.83 - ETA: 25:32 - loss: 0.4177 - acc: 0.83 - ETA: 25:28 - loss: 0.4158 - acc: 0.84 - ETA: 25:24 - loss: 0.4143 - acc: 0.84 - ETA: 25:20 - loss: 0.4126 - acc: 0.84 - ETA: 25:16 - loss: 0.4099 - acc: 0.84 - ETA: 25:13 - loss: 0.4089 - acc: 0.84 - ETA: 25:09 - loss: 0.4076 - acc: 0.84 - ETA: 25:05 - loss: 0.4057 - acc: 0.84 - ETA: 25:01 - loss: 0.4043 - acc: 0.84 - ETA: 24:56 - loss: 0.4034 - acc: 0.84 - ETA: 24:52 - loss: 0.4016 - acc: 0.84 - ETA: 24:48 - loss: 0.3990 - acc: 0.84 - ETA: 24:44 - loss: 0.3978 - acc: 0.84 - ETA: 24:39 - loss: 0.3984 - acc: 0.84 - ETA: 24:35 - loss: 0.3969 - acc: 0.84 - ETA: 24:31 - loss: 0.3961 - acc: 0.84 - ETA: 24:27 - loss: 0.3947 - acc: 0.84 - ETA: 24:23 - loss: 0.3935 - acc: 0.84 - ETA: 24:19 - loss: 0.3921 - acc: 0.84 - ETA: 24:14 - loss: 0.3905 - acc: 0.85 - ETA: 24:10 - loss: 0.3890 - acc: 0.85 - ETA: 24:06 - loss: 0.3891 - acc: 0.85 - ETA: 24:02 - loss: 0.3874 - acc: 0.85 - ETA: 23:58 - loss: 0.3862 - acc: 0.85 - ETA: 23:54 - loss: 0.3851 - acc: 0.85 - ETA: 23:49 - loss: 0.3844 - acc: 0.85 - ETA: 23:45 - loss: 0.3840 - acc: 0.85 - ETA: 23:41 - loss: 0.3831 - acc: 0.85 - ETA: 23:37 - loss: 0.3821 - acc: 0.85 - ETA: 23:33 - loss: 0.3820 - acc: 0.85 - ETA: 23:29 - loss: 0.3819 - acc: 0.85 - ETA: 23:25 - loss: 0.3806 - acc: 0.85 - ETA: 23:21 - loss: 0.3790 - acc: 0.85 - ETA: 23:17 - loss: 0.3779 - acc: 0.85 - ETA: 23:13 - loss: 0.3768 - acc: 0.85 - ETA: 23:09 - loss: 0.3748 - acc: 0.85 - ETA: 23:05 - loss: 0.3744 - acc: 0.85 - ETA: 23:01 - loss: 0.3735 - acc: 0.85 - ETA: 22:57 - loss: 0.3722 - acc: 0.85 - ETA: 22:53 - loss: 0.3713 - acc: 0.85 - ETA: 22:49 - loss: 0.3705 - acc: 0.85 - ETA: 22:45 - loss: 0.3697 - acc: 0.85 - ETA: 22:41 - loss: 0.3688 - acc: 0.85 - ETA: 22:37 - loss: 0.3683 - acc: 0.85 - ETA: 22:33 - loss: 0.3677 - acc: 0.85 - ETA: 22:29 - loss: 0.3670 - acc: 0.85 - ETA: 22:25 - loss: 0.3665 - acc: 0.85 - ETA: 22:21 - loss: 0.3656 - acc: 0.85 - ETA: 22:16 - loss: 0.3649 - acc: 0.85 - ETA: 22:13 - loss: 0.3637 - acc: 0.85 - ETA: 22:09 - loss: 0.3628 - acc: 0.85 - ETA: 22:05 - loss: 0.3619 - acc: 0.85 - ETA: 22:01 - loss: 0.3612 - acc: 0.85 - ETA: 21:57 - loss: 0.3603 - acc: 0.85 - ETA: 21:53 - loss: 0.3597 - acc: 0.86 - ETA: 21:49 - loss: 0.3588 - acc: 0.86 - ETA: 21:46 - loss: 0.3588 - acc: 0.86 - ETA: 21:43 - loss: 0.3593 - acc: 0.86 - ETA: 21:40 - loss: 0.3586 - acc: 0.86 - ETA: 21:37 - loss: 0.3575 - acc: 0.86 - ETA: 21:33 - loss: 0.3582 - acc: 0.86 - ETA: 21:29 - loss: 0.3573 - acc: 0.86 - ETA: 21:25 - loss: 0.3566 - acc: 0.86 - ETA: 21:21 - loss: 0.3566 - acc: 0.86 - ETA: 21:17 - loss: 0.3560 - acc: 0.86 - ETA: 21:13 - loss: 0.3553 - acc: 0.86 - ETA: 21:10 - loss: 0.3544 - acc: 0.86 - ETA: 21:06 - loss: 0.3542 - acc: 0.86 - ETA: 21:02 - loss: 0.3542 - acc: 0.86 - ETA: 20:58 - loss: 0.3536 - acc: 0.86 - ETA: 20:54 - loss: 0.3530 - acc: 0.86 - ETA: 20:50 - loss: 0.3528 - acc: 0.86 - ETA: 20:46 - loss: 0.3527 - acc: 0.86 - ETA: 20:42 - loss: 0.3525 - acc: 0.86 - ETA: 20:38 - loss: 0.3513 - acc: 0.86 - ETA: 20:34 - loss: 0.3514 - acc: 0.86 - ETA: 20:30 - loss: 0.3505 - acc: 0.86 - ETA: 20:27 - loss: 0.3501 - acc: 0.86 - ETA: 20:23 - loss: 0.3502 - acc: 0.86 - ETA: 20:19 - loss: 0.3501 - acc: 0.86 - ETA: 20:15 - loss: 0.3487 - acc: 0.86 - ETA: 20:11 - loss: 0.3480 - acc: 0.86 - ETA: 20:08 - loss: 0.3474 - acc: 0.86 - ETA: 20:04 - loss: 0.3469 - acc: 0.86 - ETA: 20:00 - loss: 0.3463 - acc: 0.86 - ETA: 19:57 - loss: 0.3454 - acc: 0.86 - ETA: 19:53 - loss: 0.3445 - acc: 0.86 - ETA: 19:50 - loss: 0.3445 - acc: 0.86 - ETA: 19:47 - loss: 0.3451 - acc: 0.86 - ETA: 19:43 - loss: 0.3443 - acc: 0.86 - ETA: 19:39 - loss: 0.3437 - acc: 0.86 - ETA: 19:36 - loss: 0.3430 - acc: 0.86 - ETA: 19:32 - loss: 0.3426 - acc: 0.86 - ETA: 19:28 - loss: 0.3422 - acc: 0.86 - ETA: 19:24 - loss: 0.3422 - acc: 0.86 - ETA: 19:20 - loss: 0.3414 - acc: 0.86 - ETA: 19:20 - loss: 0.3408 - acc: 0.86 - ETA: 19:19 - loss: 0.3409 - acc: 0.86 - ETA: 19:16 - loss: 0.3404 - acc: 0.86 - ETA: 19:14 - loss: 0.3401 - acc: 0.86 - ETA: 19:11 - loss: 0.3396 - acc: 0.86 - ETA: 19:08 - loss: 0.3389 - acc: 0.86 - ETA: 19:06 - loss: 0.3393 - acc: 0.86 - ETA: 19:03 - loss: 0.3387 - acc: 0.86 - ETA: 19:00 - loss: 0.3378 - acc: 0.86 - ETA: 18:57 - loss: 0.3379 - acc: 0.86 - ETA: 18:54 - loss: 0.3372 - acc: 0.86 - ETA: 18:51 - loss: 0.3364 - acc: 0.86 - ETA: 18:48 - loss: 0.3357 - acc: 0.86 - ETA: 18:45 - loss: 0.3354 - acc: 0.86 - ETA: 18:42 - loss: 0.3348 - acc: 0.8626048/32249 [=======================>......] - ETA: 18:39 - loss: 0.3341 - acc: 0.86 - ETA: 18:36 - loss: 0.3336 - acc: 0.86 - ETA: 18:32 - loss: 0.3331 - acc: 0.86 - ETA: 18:29 - loss: 0.3325 - acc: 0.86 - ETA: 18:26 - loss: 0.3322 - acc: 0.86 - ETA: 18:23 - loss: 0.3320 - acc: 0.86 - ETA: 18:20 - loss: 0.3312 - acc: 0.87 - ETA: 18:17 - loss: 0.3303 - acc: 0.87 - ETA: 18:15 - loss: 0.3297 - acc: 0.87 - ETA: 18:12 - loss: 0.3296 - acc: 0.87 - ETA: 18:09 - loss: 0.3296 - acc: 0.87 - ETA: 18:05 - loss: 0.3294 - acc: 0.87 - ETA: 18:02 - loss: 0.3290 - acc: 0.87 - ETA: 17:59 - loss: 0.3285 - acc: 0.87 - ETA: 17:56 - loss: 0.3281 - acc: 0.87 - ETA: 17:53 - loss: 0.3280 - acc: 0.87 - ETA: 17:49 - loss: 0.3277 - acc: 0.87 - ETA: 17:46 - loss: 0.3275 - acc: 0.87 - ETA: 17:43 - loss: 0.3271 - acc: 0.87 - ETA: 17:39 - loss: 0.3269 - acc: 0.87 - ETA: 17:36 - loss: 0.3268 - acc: 0.87 - ETA: 17:33 - loss: 0.3263 - acc: 0.87 - ETA: 17:30 - loss: 0.3264 - acc: 0.87 - ETA: 17:27 - loss: 0.3262 - acc: 0.87 - ETA: 17:24 - loss: 0.3256 - acc: 0.87 - ETA: 17:21 - loss: 0.3253 - acc: 0.87 - ETA: 17:17 - loss: 0.3246 - acc: 0.87 - ETA: 17:14 - loss: 0.3242 - acc: 0.87 - ETA: 17:10 - loss: 0.3239 - acc: 0.87 - ETA: 17:07 - loss: 0.3235 - acc: 0.87 - ETA: 17:04 - loss: 0.3235 - acc: 0.87 - ETA: 17:00 - loss: 0.3229 - acc: 0.87 - ETA: 16:57 - loss: 0.3226 - acc: 0.87 - ETA: 16:53 - loss: 0.3222 - acc: 0.87 - ETA: 16:50 - loss: 0.3217 - acc: 0.87 - ETA: 16:47 - loss: 0.3212 - acc: 0.87 - ETA: 16:44 - loss: 0.3204 - acc: 0.87 - ETA: 16:40 - loss: 0.3200 - acc: 0.87 - ETA: 16:37 - loss: 0.3195 - acc: 0.87 - ETA: 16:33 - loss: 0.3190 - acc: 0.87 - ETA: 16:30 - loss: 0.3184 - acc: 0.87 - ETA: 16:27 - loss: 0.3180 - acc: 0.87 - ETA: 16:24 - loss: 0.3182 - acc: 0.87 - ETA: 16:20 - loss: 0.3176 - acc: 0.87 - ETA: 16:17 - loss: 0.3172 - acc: 0.87 - ETA: 16:13 - loss: 0.3170 - acc: 0.87 - ETA: 16:10 - loss: 0.3169 - acc: 0.87 - ETA: 16:06 - loss: 0.3165 - acc: 0.87 - ETA: 16:03 - loss: 0.3164 - acc: 0.87 - ETA: 15:59 - loss: 0.3161 - acc: 0.87 - ETA: 15:56 - loss: 0.3160 - acc: 0.87 - ETA: 15:52 - loss: 0.3155 - acc: 0.87 - ETA: 15:49 - loss: 0.3152 - acc: 0.87 - ETA: 15:45 - loss: 0.3147 - acc: 0.87 - ETA: 15:42 - loss: 0.3145 - acc: 0.87 - ETA: 15:38 - loss: 0.3140 - acc: 0.87 - ETA: 15:35 - loss: 0.3140 - acc: 0.87 - ETA: 15:31 - loss: 0.3139 - acc: 0.87 - ETA: 15:28 - loss: 0.3133 - acc: 0.87 - ETA: 15:24 - loss: 0.3131 - acc: 0.87 - ETA: 15:21 - loss: 0.3125 - acc: 0.87 - ETA: 15:17 - loss: 0.3122 - acc: 0.87 - ETA: 15:13 - loss: 0.3119 - acc: 0.87 - ETA: 15:10 - loss: 0.3116 - acc: 0.87 - ETA: 15:06 - loss: 0.3115 - acc: 0.87 - ETA: 15:03 - loss: 0.3113 - acc: 0.87 - ETA: 14:59 - loss: 0.3109 - acc: 0.87 - ETA: 14:56 - loss: 0.3106 - acc: 0.87 - ETA: 14:52 - loss: 0.3106 - acc: 0.87 - ETA: 14:48 - loss: 0.3103 - acc: 0.87 - ETA: 14:45 - loss: 0.3104 - acc: 0.87 - ETA: 14:41 - loss: 0.3102 - acc: 0.87 - ETA: 14:38 - loss: 0.3099 - acc: 0.87 - ETA: 14:34 - loss: 0.3095 - acc: 0.87 - ETA: 14:30 - loss: 0.3091 - acc: 0.87 - ETA: 14:27 - loss: 0.3087 - acc: 0.87 - ETA: 14:23 - loss: 0.3086 - acc: 0.87 - ETA: 14:19 - loss: 0.3079 - acc: 0.87 - ETA: 14:16 - loss: 0.3074 - acc: 0.87 - ETA: 14:12 - loss: 0.3067 - acc: 0.87 - ETA: 14:08 - loss: 0.3069 - acc: 0.87 - ETA: 14:05 - loss: 0.3071 - acc: 0.87 - ETA: 14:01 - loss: 0.3069 - acc: 0.87 - ETA: 13:57 - loss: 0.3070 - acc: 0.87 - ETA: 13:54 - loss: 0.3065 - acc: 0.87 - ETA: 13:50 - loss: 0.3061 - acc: 0.87 - ETA: 13:47 - loss: 0.3059 - acc: 0.87 - ETA: 13:43 - loss: 0.3056 - acc: 0.87 - ETA: 13:39 - loss: 0.3054 - acc: 0.87 - ETA: 13:36 - loss: 0.3051 - acc: 0.87 - ETA: 13:32 - loss: 0.3050 - acc: 0.87 - ETA: 13:28 - loss: 0.3046 - acc: 0.87 - ETA: 13:25 - loss: 0.3043 - acc: 0.87 - ETA: 13:21 - loss: 0.3039 - acc: 0.87 - ETA: 13:18 - loss: 0.3035 - acc: 0.88 - ETA: 13:14 - loss: 0.3039 - acc: 0.87 - ETA: 13:10 - loss: 0.3036 - acc: 0.87 - ETA: 13:07 - loss: 0.3031 - acc: 0.88 - ETA: 13:03 - loss: 0.3029 - acc: 0.88 - ETA: 12:59 - loss: 0.3028 - acc: 0.88 - ETA: 12:56 - loss: 0.3029 - acc: 0.88 - ETA: 12:52 - loss: 0.3035 - acc: 0.87 - ETA: 12:48 - loss: 0.3030 - acc: 0.88 - ETA: 12:45 - loss: 0.3026 - acc: 0.88 - ETA: 12:41 - loss: 0.3023 - acc: 0.88 - ETA: 12:37 - loss: 0.3024 - acc: 0.88 - ETA: 12:33 - loss: 0.3021 - acc: 0.88 - ETA: 12:30 - loss: 0.3018 - acc: 0.88 - ETA: 12:26 - loss: 0.3014 - acc: 0.88 - ETA: 12:22 - loss: 0.3010 - acc: 0.88 - ETA: 12:19 - loss: 0.3006 - acc: 0.88 - ETA: 12:15 - loss: 0.3003 - acc: 0.88 - ETA: 12:11 - loss: 0.3006 - acc: 0.88 - ETA: 12:07 - loss: 0.3004 - acc: 0.88 - ETA: 12:04 - loss: 0.3004 - acc: 0.88 - ETA: 12:00 - loss: 0.3001 - acc: 0.88 - ETA: 11:56 - loss: 0.2999 - acc: 0.88 - ETA: 11:52 - loss: 0.2995 - acc: 0.88 - ETA: 11:49 - loss: 0.2995 - acc: 0.88 - ETA: 11:45 - loss: 0.2995 - acc: 0.88 - ETA: 11:41 - loss: 0.2988 - acc: 0.88 - ETA: 11:37 - loss: 0.2983 - acc: 0.88 - ETA: 11:34 - loss: 0.2984 - acc: 0.88 - ETA: 11:30 - loss: 0.2984 - acc: 0.88 - ETA: 11:26 - loss: 0.2980 - acc: 0.88 - ETA: 11:23 - loss: 0.2987 - acc: 0.88 - ETA: 11:19 - loss: 0.2982 - acc: 0.88 - ETA: 11:15 - loss: 0.2980 - acc: 0.88 - ETA: 11:11 - loss: 0.2980 - acc: 0.88 - ETA: 11:07 - loss: 0.2974 - acc: 0.88 - ETA: 11:04 - loss: 0.2973 - acc: 0.88 - ETA: 11:00 - loss: 0.2974 - acc: 0.88 - ETA: 10:56 - loss: 0.2972 - acc: 0.88 - ETA: 10:52 - loss: 0.2971 - acc: 0.88 - ETA: 10:48 - loss: 0.2969 - acc: 0.88 - ETA: 10:45 - loss: 0.2966 - acc: 0.88 - ETA: 10:41 - loss: 0.2965 - acc: 0.88 - ETA: 10:37 - loss: 0.2963 - acc: 0.88 - ETA: 10:33 - loss: 0.2963 - acc: 0.88 - ETA: 10:29 - loss: 0.2962 - acc: 0.88 - ETA: 10:26 - loss: 0.2960 - acc: 0.88 - ETA: 10:22 - loss: 0.2959 - acc: 0.88 - ETA: 10:18 - loss: 0.2956 - acc: 0.88 - ETA: 10:14 - loss: 0.2956 - acc: 0.88 - ETA: 10:10 - loss: 0.2956 - acc: 0.88 - ETA: 10:07 - loss: 0.2952 - acc: 0.88 - ETA: 10:03 - loss: 0.2952 - acc: 0.88 - ETA: 9:59 - loss: 0.2950 - acc: 0.8832 - ETA: 9:55 - loss: 0.2948 - acc: 0.883 - ETA: 9:51 - loss: 0.2946 - acc: 0.883 - ETA: 9:47 - loss: 0.2942 - acc: 0.883 - ETA: 9:44 - loss: 0.2939 - acc: 0.883 - ETA: 9:40 - loss: 0.2938 - acc: 0.883 - ETA: 9:36 - loss: 0.2935 - acc: 0.883 - ETA: 9:32 - loss: 0.2931 - acc: 0.883 - ETA: 9:28 - loss: 0.2927 - acc: 0.884 - ETA: 9:24 - loss: 0.2929 - acc: 0.884 - ETA: 9:21 - loss: 0.2926 - acc: 0.884 - ETA: 9:17 - loss: 0.2921 - acc: 0.884 - ETA: 9:13 - loss: 0.2916 - acc: 0.884 - ETA: 9:09 - loss: 0.2915 - acc: 0.884 - ETA: 9:05 - loss: 0.2914 - acc: 0.884 - ETA: 9:01 - loss: 0.2913 - acc: 0.884 - ETA: 8:57 - loss: 0.2908 - acc: 0.884 - ETA: 8:54 - loss: 0.2910 - acc: 0.884 - ETA: 8:50 - loss: 0.2909 - acc: 0.884 - ETA: 8:46 - loss: 0.2905 - acc: 0.885 - ETA: 8:42 - loss: 0.2903 - acc: 0.885 - ETA: 8:39 - loss: 0.2903 - acc: 0.885 - ETA: 8:35 - loss: 0.2900 - acc: 0.885 - ETA: 8:31 - loss: 0.2898 - acc: 0.885 - ETA: 8:27 - loss: 0.2894 - acc: 0.885 - ETA: 8:23 - loss: 0.2890 - acc: 0.885 - ETA: 8:19 - loss: 0.2886 - acc: 0.885 - ETA: 8:15 - loss: 0.2885 - acc: 0.885 - ETA: 8:11 - loss: 0.2880 - acc: 0.886 - ETA: 8:07 - loss: 0.2878 - acc: 0.886 - ETA: 8:03 - loss: 0.2877 - acc: 0.886 - ETA: 7:59 - loss: 0.2876 - acc: 0.886 - ETA: 7:55 - loss: 0.2876 - acc: 0.886 - ETA: 7:51 - loss: 0.2875 - acc: 0.886 - ETA: 7:48 - loss: 0.2876 - acc: 0.886 - ETA: 7:44 - loss: 0.2874 - acc: 0.886 - ETA: 7:40 - loss: 0.2873 - acc: 0.886 - ETA: 7:36 - loss: 0.2873 - acc: 0.886 - ETA: 7:32 - loss: 0.2872 - acc: 0.886 - ETA: 7:28 - loss: 0.2871 - acc: 0.886 - ETA: 7:24 - loss: 0.2871 - acc: 0.886 - ETA: 7:20 - loss: 0.2871 - acc: 0.886 - ETA: 7:16 - loss: 0.2871 - acc: 0.886 - ETA: 7:12 - loss: 0.2869 - acc: 0.886 - ETA: 7:08 - loss: 0.2865 - acc: 0.886 - ETA: 7:04 - loss: 0.2863 - acc: 0.887 - ETA: 7:00 - loss: 0.2860 - acc: 0.887 - ETA: 6:57 - loss: 0.2860 - acc: 0.887 - ETA: 6:53 - loss: 0.2860 - acc: 0.887 - ETA: 6:49 - loss: 0.2859 - acc: 0.887 - ETA: 6:45 - loss: 0.2857 - acc: 0.887 - ETA: 6:41 - loss: 0.2856 - acc: 0.887 - ETA: 6:38 - loss: 0.2851 - acc: 0.887 - ETA: 6:34 - loss: 0.2852 - acc: 0.887 - ETA: 6:30 - loss: 0.2849 - acc: 0.887 - ETA: 6:26 - loss: 0.2846 - acc: 0.887 - ETA: 6:22 - loss: 0.2842 - acc: 0.8878"
     ]
    },
    {
     "name": "stdout",
     "output_type": "stream",
     "text": [
      "32249/32249 [==============================] - ETA: 6:18 - loss: 0.2841 - acc: 0.887 - ETA: 6:14 - loss: 0.2837 - acc: 0.888 - ETA: 6:11 - loss: 0.2836 - acc: 0.888 - ETA: 6:07 - loss: 0.2834 - acc: 0.888 - ETA: 6:03 - loss: 0.2832 - acc: 0.888 - ETA: 5:59 - loss: 0.2828 - acc: 0.888 - ETA: 5:55 - loss: 0.2824 - acc: 0.888 - ETA: 5:51 - loss: 0.2821 - acc: 0.888 - ETA: 5:47 - loss: 0.2818 - acc: 0.888 - ETA: 5:43 - loss: 0.2815 - acc: 0.888 - ETA: 5:39 - loss: 0.2814 - acc: 0.888 - ETA: 5:35 - loss: 0.2814 - acc: 0.888 - ETA: 5:31 - loss: 0.2813 - acc: 0.889 - ETA: 5:28 - loss: 0.2810 - acc: 0.889 - ETA: 5:24 - loss: 0.2806 - acc: 0.889 - ETA: 5:20 - loss: 0.2802 - acc: 0.889 - ETA: 5:16 - loss: 0.2800 - acc: 0.889 - ETA: 5:12 - loss: 0.2799 - acc: 0.889 - ETA: 5:08 - loss: 0.2797 - acc: 0.889 - ETA: 5:04 - loss: 0.2799 - acc: 0.889 - ETA: 5:00 - loss: 0.2797 - acc: 0.889 - ETA: 4:57 - loss: 0.2795 - acc: 0.889 - ETA: 4:53 - loss: 0.2794 - acc: 0.889 - ETA: 4:49 - loss: 0.2794 - acc: 0.889 - ETA: 4:45 - loss: 0.2790 - acc: 0.889 - ETA: 4:41 - loss: 0.2787 - acc: 0.889 - ETA: 4:37 - loss: 0.2785 - acc: 0.889 - ETA: 4:33 - loss: 0.2787 - acc: 0.889 - ETA: 4:29 - loss: 0.2785 - acc: 0.889 - ETA: 4:25 - loss: 0.2785 - acc: 0.889 - ETA: 4:21 - loss: 0.2783 - acc: 0.890 - ETA: 4:17 - loss: 0.2781 - acc: 0.890 - ETA: 4:14 - loss: 0.2781 - acc: 0.890 - ETA: 4:10 - loss: 0.2780 - acc: 0.890 - ETA: 4:06 - loss: 0.2781 - acc: 0.890 - ETA: 4:02 - loss: 0.2782 - acc: 0.890 - ETA: 3:58 - loss: 0.2781 - acc: 0.890 - ETA: 3:54 - loss: 0.2778 - acc: 0.890 - ETA: 3:50 - loss: 0.2777 - acc: 0.890 - ETA: 3:46 - loss: 0.2775 - acc: 0.890 - ETA: 3:42 - loss: 0.2774 - acc: 0.890 - ETA: 3:38 - loss: 0.2772 - acc: 0.890 - ETA: 3:34 - loss: 0.2772 - acc: 0.890 - ETA: 3:30 - loss: 0.2768 - acc: 0.890 - ETA: 3:26 - loss: 0.2770 - acc: 0.890 - ETA: 3:22 - loss: 0.2769 - acc: 0.890 - ETA: 3:18 - loss: 0.2767 - acc: 0.890 - ETA: 3:14 - loss: 0.2766 - acc: 0.890 - ETA: 3:10 - loss: 0.2765 - acc: 0.890 - ETA: 3:06 - loss: 0.2767 - acc: 0.890 - ETA: 3:02 - loss: 0.2767 - acc: 0.890 - ETA: 2:58 - loss: 0.2764 - acc: 0.890 - ETA: 2:54 - loss: 0.2763 - acc: 0.890 - ETA: 2:50 - loss: 0.2762 - acc: 0.890 - ETA: 2:46 - loss: 0.2761 - acc: 0.890 - ETA: 2:43 - loss: 0.2762 - acc: 0.890 - ETA: 2:39 - loss: 0.2761 - acc: 0.890 - ETA: 2:35 - loss: 0.2760 - acc: 0.890 - ETA: 2:31 - loss: 0.2760 - acc: 0.890 - ETA: 2:27 - loss: 0.2759 - acc: 0.891 - ETA: 2:23 - loss: 0.2758 - acc: 0.891 - ETA: 2:19 - loss: 0.2758 - acc: 0.891 - ETA: 2:15 - loss: 0.2757 - acc: 0.891 - ETA: 2:11 - loss: 0.2755 - acc: 0.891 - ETA: 2:07 - loss: 0.2753 - acc: 0.891 - ETA: 2:03 - loss: 0.2752 - acc: 0.891 - ETA: 1:59 - loss: 0.2747 - acc: 0.891 - ETA: 1:55 - loss: 0.2748 - acc: 0.891 - ETA: 1:51 - loss: 0.2743 - acc: 0.891 - ETA: 1:47 - loss: 0.2742 - acc: 0.891 - ETA: 1:43 - loss: 0.2741 - acc: 0.891 - ETA: 1:39 - loss: 0.2741 - acc: 0.891 - ETA: 1:35 - loss: 0.2740 - acc: 0.891 - ETA: 1:31 - loss: 0.2738 - acc: 0.892 - ETA: 1:27 - loss: 0.2737 - acc: 0.892 - ETA: 1:23 - loss: 0.2736 - acc: 0.892 - ETA: 1:19 - loss: 0.2737 - acc: 0.892 - ETA: 1:15 - loss: 0.2736 - acc: 0.892 - ETA: 1:11 - loss: 0.2734 - acc: 0.892 - ETA: 1:07 - loss: 0.2731 - acc: 0.892 - ETA: 1:03 - loss: 0.2732 - acc: 0.892 - ETA: 59s - loss: 0.2731 - acc: 0.892 - ETA: 55s - loss: 0.2729 - acc: 0.89 - ETA: 51s - loss: 0.2726 - acc: 0.89 - ETA: 47s - loss: 0.2725 - acc: 0.89 - ETA: 43s - loss: 0.2722 - acc: 0.89 - ETA: 39s - loss: 0.2722 - acc: 0.89 - ETA: 35s - loss: 0.2722 - acc: 0.89 - ETA: 31s - loss: 0.2722 - acc: 0.89 - ETA: 27s - loss: 0.2721 - acc: 0.89 - ETA: 23s - loss: 0.2722 - acc: 0.89 - ETA: 19s - loss: 0.2723 - acc: 0.89 - ETA: 15s - loss: 0.2720 - acc: 0.89 - ETA: 11s - loss: 0.2717 - acc: 0.89 - ETA: 7s - loss: 0.2716 - acc: 0.8931 - ETA: 3s - loss: 0.2716 - acc: 0.893 - 2228s 69ms/step - loss: 0.2715 - acc: 0.8931 - val_loss: 0.2355 - val_acc: 0.9081\n",
      "Epoch 2/5\n"
     ]
    },
    {
     "name": "stdout",
     "output_type": "stream",
     "text": [
      "13056/32249 [===========>..................] - ETA: 34:59 - loss: 0.2313 - acc: 0.90 - ETA: 34:59 - loss: 0.2162 - acc: 0.91 - ETA: 34:30 - loss: 0.1930 - acc: 0.92 - ETA: 34:24 - loss: 0.2129 - acc: 0.91 - ETA: 34:18 - loss: 0.1996 - acc: 0.92 - ETA: 34:15 - loss: 0.1900 - acc: 0.92 - ETA: 34:12 - loss: 0.1975 - acc: 0.92 - ETA: 34:08 - loss: 0.1923 - acc: 0.91 - ETA: 34:01 - loss: 0.1925 - acc: 0.92 - ETA: 33:56 - loss: 0.1879 - acc: 0.92 - ETA: 33:59 - loss: 0.1891 - acc: 0.92 - ETA: 34:37 - loss: 0.1870 - acc: 0.92 - ETA: 35:02 - loss: 0.1805 - acc: 0.92 - ETA: 35:08 - loss: 0.1729 - acc: 0.93 - ETA: 35:11 - loss: 0.1715 - acc: 0.93 - ETA: 35:14 - loss: 0.1687 - acc: 0.93 - ETA: 35:13 - loss: 0.1762 - acc: 0.92 - ETA: 35:46 - loss: 0.1728 - acc: 0.92 - ETA: 36:18 - loss: 0.1753 - acc: 0.92 - ETA: 36:07 - loss: 0.1737 - acc: 0.92 - ETA: 35:56 - loss: 0.1697 - acc: 0.93 - ETA: 35:46 - loss: 0.1708 - acc: 0.93 - ETA: 35:31 - loss: 0.1702 - acc: 0.93 - ETA: 35:18 - loss: 0.1670 - acc: 0.93 - ETA: 35:02 - loss: 0.1669 - acc: 0.93 - ETA: 34:47 - loss: 0.1638 - acc: 0.93 - ETA: 34:32 - loss: 0.1704 - acc: 0.93 - ETA: 34:24 - loss: 0.1759 - acc: 0.93 - ETA: 34:10 - loss: 0.1787 - acc: 0.93 - ETA: 33:57 - loss: 0.1754 - acc: 0.93 - ETA: 33:46 - loss: 0.1768 - acc: 0.93 - ETA: 33:34 - loss: 0.1762 - acc: 0.93 - ETA: 33:23 - loss: 0.1749 - acc: 0.93 - ETA: 33:12 - loss: 0.1770 - acc: 0.93 - ETA: 33:01 - loss: 0.1780 - acc: 0.93 - ETA: 32:50 - loss: 0.1782 - acc: 0.93 - ETA: 32:40 - loss: 0.1765 - acc: 0.93 - ETA: 32:30 - loss: 0.1751 - acc: 0.93 - ETA: 32:20 - loss: 0.1737 - acc: 0.93 - ETA: 32:11 - loss: 0.1736 - acc: 0.93 - ETA: 32:03 - loss: 0.1765 - acc: 0.93 - ETA: 31:54 - loss: 0.1741 - acc: 0.93 - ETA: 31:45 - loss: 0.1748 - acc: 0.93 - ETA: 31:37 - loss: 0.1734 - acc: 0.93 - ETA: 31:27 - loss: 0.1706 - acc: 0.93 - ETA: 31:17 - loss: 0.1687 - acc: 0.93 - ETA: 31:08 - loss: 0.1689 - acc: 0.93 - ETA: 30:59 - loss: 0.1698 - acc: 0.93 - ETA: 30:50 - loss: 0.1682 - acc: 0.93 - ETA: 30:42 - loss: 0.1677 - acc: 0.93 - ETA: 30:36 - loss: 0.1668 - acc: 0.93 - ETA: 30:29 - loss: 0.1659 - acc: 0.93 - ETA: 30:21 - loss: 0.1671 - acc: 0.93 - ETA: 30:14 - loss: 0.1695 - acc: 0.93 - ETA: 30:06 - loss: 0.1708 - acc: 0.93 - ETA: 29:58 - loss: 0.1700 - acc: 0.93 - ETA: 29:51 - loss: 0.1691 - acc: 0.93 - ETA: 29:43 - loss: 0.1698 - acc: 0.93 - ETA: 29:36 - loss: 0.1691 - acc: 0.93 - ETA: 29:29 - loss: 0.1692 - acc: 0.93 - ETA: 29:22 - loss: 0.1679 - acc: 0.93 - ETA: 29:15 - loss: 0.1680 - acc: 0.93 - ETA: 29:08 - loss: 0.1684 - acc: 0.93 - ETA: 29:03 - loss: 0.1691 - acc: 0.93 - ETA: 28:57 - loss: 0.1697 - acc: 0.93 - ETA: 28:51 - loss: 0.1686 - acc: 0.93 - ETA: 28:45 - loss: 0.1695 - acc: 0.93 - ETA: 28:40 - loss: 0.1697 - acc: 0.93 - ETA: 28:34 - loss: 0.1714 - acc: 0.93 - ETA: 28:28 - loss: 0.1727 - acc: 0.93 - ETA: 28:22 - loss: 0.1728 - acc: 0.93 - ETA: 28:16 - loss: 0.1741 - acc: 0.93 - ETA: 28:10 - loss: 0.1738 - acc: 0.93 - ETA: 28:04 - loss: 0.1742 - acc: 0.93 - ETA: 27:58 - loss: 0.1730 - acc: 0.93 - ETA: 27:52 - loss: 0.1725 - acc: 0.93 - ETA: 27:46 - loss: 0.1720 - acc: 0.93 - ETA: 27:40 - loss: 0.1711 - acc: 0.93 - ETA: 27:35 - loss: 0.1700 - acc: 0.93 - ETA: 27:29 - loss: 0.1706 - acc: 0.93 - ETA: 27:23 - loss: 0.1713 - acc: 0.93 - ETA: 27:18 - loss: 0.1715 - acc: 0.93 - ETA: 27:13 - loss: 0.1703 - acc: 0.93 - ETA: 27:07 - loss: 0.1694 - acc: 0.93 - ETA: 27:02 - loss: 0.1694 - acc: 0.93 - ETA: 26:57 - loss: 0.1699 - acc: 0.93 - ETA: 26:51 - loss: 0.1707 - acc: 0.93 - ETA: 26:47 - loss: 0.1712 - acc: 0.93 - ETA: 26:48 - loss: 0.1725 - acc: 0.93 - ETA: 26:55 - loss: 0.1720 - acc: 0.93 - ETA: 26:57 - loss: 0.1708 - acc: 0.93 - ETA: 27:01 - loss: 0.1710 - acc: 0.93 - ETA: 26:59 - loss: 0.1721 - acc: 0.93 - ETA: 26:56 - loss: 0.1714 - acc: 0.93 - ETA: 26:52 - loss: 0.1723 - acc: 0.93 - ETA: 26:48 - loss: 0.1728 - acc: 0.93 - ETA: 26:44 - loss: 0.1720 - acc: 0.93 - ETA: 26:47 - loss: 0.1714 - acc: 0.93 - ETA: 26:50 - loss: 0.1706 - acc: 0.93 - ETA: 26:46 - loss: 0.1710 - acc: 0.93 - ETA: 26:43 - loss: 0.1715 - acc: 0.93 - ETA: 26:38 - loss: 0.1716 - acc: 0.93 - ETA: 26:34 - loss: 0.1717 - acc: 0.93 - ETA: 26:31 - loss: 0.1723 - acc: 0.93 - ETA: 26:27 - loss: 0.1728 - acc: 0.93 - ETA: 26:25 - loss: 0.1739 - acc: 0.93 - ETA: 26:22 - loss: 0.1743 - acc: 0.93 - ETA: 26:19 - loss: 0.1748 - acc: 0.93 - ETA: 26:14 - loss: 0.1744 - acc: 0.93 - ETA: 26:11 - loss: 0.1750 - acc: 0.93 - ETA: 26:07 - loss: 0.1748 - acc: 0.93 - ETA: 26:06 - loss: 0.1758 - acc: 0.93 - ETA: 26:03 - loss: 0.1750 - acc: 0.93 - ETA: 25:59 - loss: 0.1744 - acc: 0.93 - ETA: 25:56 - loss: 0.1748 - acc: 0.93 - ETA: 25:52 - loss: 0.1741 - acc: 0.93 - ETA: 25:46 - loss: 0.1742 - acc: 0.93 - ETA: 25:41 - loss: 0.1734 - acc: 0.93 - ETA: 25:36 - loss: 0.1737 - acc: 0.93 - ETA: 25:31 - loss: 0.1737 - acc: 0.93 - ETA: 25:26 - loss: 0.1731 - acc: 0.93 - ETA: 25:20 - loss: 0.1745 - acc: 0.93 - ETA: 25:15 - loss: 0.1743 - acc: 0.93 - ETA: 25:10 - loss: 0.1738 - acc: 0.93 - ETA: 25:05 - loss: 0.1743 - acc: 0.93 - ETA: 25:03 - loss: 0.1745 - acc: 0.93 - ETA: 25:01 - loss: 0.1749 - acc: 0.93 - ETA: 24:56 - loss: 0.1753 - acc: 0.93 - ETA: 24:51 - loss: 0.1767 - acc: 0.93 - ETA: 24:46 - loss: 0.1763 - acc: 0.93 - ETA: 24:41 - loss: 0.1772 - acc: 0.93 - ETA: 24:36 - loss: 0.1774 - acc: 0.93 - ETA: 24:31 - loss: 0.1775 - acc: 0.92 - ETA: 24:26 - loss: 0.1771 - acc: 0.93 - ETA: 24:21 - loss: 0.1772 - acc: 0.93 - ETA: 24:17 - loss: 0.1779 - acc: 0.92 - ETA: 24:12 - loss: 0.1783 - acc: 0.92 - ETA: 24:07 - loss: 0.1792 - acc: 0.92 - ETA: 24:05 - loss: 0.1785 - acc: 0.92 - ETA: 24:03 - loss: 0.1778 - acc: 0.92 - ETA: 23:59 - loss: 0.1776 - acc: 0.92 - ETA: 23:55 - loss: 0.1774 - acc: 0.92 - ETA: 23:50 - loss: 0.1766 - acc: 0.93 - ETA: 23:46 - loss: 0.1768 - acc: 0.93 - ETA: 23:41 - loss: 0.1777 - acc: 0.92 - ETA: 23:36 - loss: 0.1780 - acc: 0.92 - ETA: 23:31 - loss: 0.1774 - acc: 0.92 - ETA: 23:27 - loss: 0.1775 - acc: 0.92 - ETA: 23:22 - loss: 0.1778 - acc: 0.92 - ETA: 23:18 - loss: 0.1773 - acc: 0.93 - ETA: 23:13 - loss: 0.1782 - acc: 0.92 - ETA: 23:08 - loss: 0.1778 - acc: 0.93 - ETA: 23:04 - loss: 0.1778 - acc: 0.93 - ETA: 23:00 - loss: 0.1775 - acc: 0.93 - ETA: 22:55 - loss: 0.1775 - acc: 0.93 - ETA: 22:50 - loss: 0.1773 - acc: 0.93 - ETA: 22:46 - loss: 0.1777 - acc: 0.93 - ETA: 22:41 - loss: 0.1773 - acc: 0.93 - ETA: 22:36 - loss: 0.1770 - acc: 0.93 - ETA: 22:31 - loss: 0.1770 - acc: 0.93 - ETA: 22:27 - loss: 0.1772 - acc: 0.93 - ETA: 22:22 - loss: 0.1769 - acc: 0.93 - ETA: 22:17 - loss: 0.1767 - acc: 0.93 - ETA: 22:13 - loss: 0.1764 - acc: 0.93 - ETA: 22:09 - loss: 0.1773 - acc: 0.93 - ETA: 22:05 - loss: 0.1769 - acc: 0.93 - ETA: 22:00 - loss: 0.1779 - acc: 0.93 - ETA: 21:56 - loss: 0.1781 - acc: 0.93 - ETA: 21:51 - loss: 0.1780 - acc: 0.93 - ETA: 21:46 - loss: 0.1775 - acc: 0.93 - ETA: 21:42 - loss: 0.1772 - acc: 0.93 - ETA: 21:37 - loss: 0.1765 - acc: 0.93 - ETA: 21:33 - loss: 0.1765 - acc: 0.93 - ETA: 21:28 - loss: 0.1765 - acc: 0.93 - ETA: 21:24 - loss: 0.1764 - acc: 0.93 - ETA: 21:19 - loss: 0.1762 - acc: 0.93 - ETA: 21:14 - loss: 0.1765 - acc: 0.93 - ETA: 21:10 - loss: 0.1764 - acc: 0.93 - ETA: 21:05 - loss: 0.1769 - acc: 0.93 - ETA: 21:01 - loss: 0.1769 - acc: 0.93 - ETA: 20:56 - loss: 0.1774 - acc: 0.93 - ETA: 20:52 - loss: 0.1777 - acc: 0.93 - ETA: 20:48 - loss: 0.1773 - acc: 0.93 - ETA: 20:43 - loss: 0.1767 - acc: 0.93 - ETA: 20:39 - loss: 0.1770 - acc: 0.93 - ETA: 20:35 - loss: 0.1771 - acc: 0.93 - ETA: 20:31 - loss: 0.1772 - acc: 0.93 - ETA: 20:27 - loss: 0.1770 - acc: 0.93 - ETA: 20:22 - loss: 0.1774 - acc: 0.93 - ETA: 20:18 - loss: 0.1780 - acc: 0.93 - ETA: 20:13 - loss: 0.1785 - acc: 0.92 - ETA: 20:09 - loss: 0.1785 - acc: 0.92 - ETA: 20:05 - loss: 0.1783 - acc: 0.92 - ETA: 20:01 - loss: 0.1782 - acc: 0.92 - ETA: 19:56 - loss: 0.1783 - acc: 0.92 - ETA: 19:52 - loss: 0.1784 - acc: 0.92 - ETA: 19:48 - loss: 0.1789 - acc: 0.92 - ETA: 19:43 - loss: 0.1787 - acc: 0.92 - ETA: 19:39 - loss: 0.1792 - acc: 0.92 - ETA: 19:35 - loss: 0.1798 - acc: 0.92 - ETA: 19:30 - loss: 0.1797 - acc: 0.92 - ETA: 19:26 - loss: 0.1801 - acc: 0.92 - ETA: 19:22 - loss: 0.1798 - acc: 0.92 - ETA: 19:17 - loss: 0.1797 - acc: 0.929026112/32249 [=======================>......] - ETA: 19:13 - loss: 0.1799 - acc: 0.92 - ETA: 19:09 - loss: 0.1800 - acc: 0.92 - ETA: 19:04 - loss: 0.1799 - acc: 0.92 - ETA: 19:00 - loss: 0.1797 - acc: 0.92 - ETA: 18:56 - loss: 0.1798 - acc: 0.92 - ETA: 18:51 - loss: 0.1796 - acc: 0.92 - ETA: 18:47 - loss: 0.1795 - acc: 0.92 - ETA: 18:43 - loss: 0.1801 - acc: 0.92 - ETA: 18:39 - loss: 0.1801 - acc: 0.92 - ETA: 18:34 - loss: 0.1801 - acc: 0.92 - ETA: 18:30 - loss: 0.1800 - acc: 0.92 - ETA: 18:26 - loss: 0.1802 - acc: 0.92 - ETA: 18:21 - loss: 0.1809 - acc: 0.92 - ETA: 18:17 - loss: 0.1811 - acc: 0.92 - ETA: 18:13 - loss: 0.1806 - acc: 0.92 - ETA: 18:09 - loss: 0.1805 - acc: 0.92 - ETA: 18:04 - loss: 0.1802 - acc: 0.92 - ETA: 18:00 - loss: 0.1797 - acc: 0.92 - ETA: 17:56 - loss: 0.1795 - acc: 0.92 - ETA: 17:53 - loss: 0.1796 - acc: 0.92 - ETA: 17:50 - loss: 0.1802 - acc: 0.92 - ETA: 17:46 - loss: 0.1797 - acc: 0.92 - ETA: 17:41 - loss: 0.1798 - acc: 0.92 - ETA: 17:37 - loss: 0.1798 - acc: 0.92 - ETA: 17:33 - loss: 0.1797 - acc: 0.92 - ETA: 17:29 - loss: 0.1799 - acc: 0.92 - ETA: 17:25 - loss: 0.1798 - acc: 0.92 - ETA: 17:21 - loss: 0.1796 - acc: 0.92 - ETA: 17:17 - loss: 0.1798 - acc: 0.92 - ETA: 17:13 - loss: 0.1800 - acc: 0.92 - ETA: 17:09 - loss: 0.1800 - acc: 0.92 - ETA: 17:05 - loss: 0.1797 - acc: 0.92 - ETA: 17:01 - loss: 0.1797 - acc: 0.92 - ETA: 16:57 - loss: 0.1797 - acc: 0.92 - ETA: 16:53 - loss: 0.1795 - acc: 0.92 - ETA: 16:49 - loss: 0.1793 - acc: 0.92 - ETA: 16:45 - loss: 0.1793 - acc: 0.92 - ETA: 16:41 - loss: 0.1794 - acc: 0.92 - ETA: 16:37 - loss: 0.1796 - acc: 0.92 - ETA: 16:33 - loss: 0.1794 - acc: 0.92 - ETA: 16:29 - loss: 0.1796 - acc: 0.92 - ETA: 16:25 - loss: 0.1793 - acc: 0.92 - ETA: 16:21 - loss: 0.1792 - acc: 0.92 - ETA: 16:17 - loss: 0.1791 - acc: 0.92 - ETA: 16:13 - loss: 0.1791 - acc: 0.92 - ETA: 16:09 - loss: 0.1788 - acc: 0.92 - ETA: 16:05 - loss: 0.1784 - acc: 0.92 - ETA: 16:01 - loss: 0.1783 - acc: 0.92 - ETA: 15:57 - loss: 0.1786 - acc: 0.92 - ETA: 15:52 - loss: 0.1784 - acc: 0.92 - ETA: 15:48 - loss: 0.1781 - acc: 0.92 - ETA: 15:44 - loss: 0.1781 - acc: 0.92 - ETA: 15:40 - loss: 0.1778 - acc: 0.92 - ETA: 15:36 - loss: 0.1781 - acc: 0.92 - ETA: 15:32 - loss: 0.1780 - acc: 0.92 - ETA: 15:28 - loss: 0.1782 - acc: 0.92 - ETA: 15:24 - loss: 0.1785 - acc: 0.92 - ETA: 15:20 - loss: 0.1783 - acc: 0.92 - ETA: 15:16 - loss: 0.1786 - acc: 0.92 - ETA: 15:11 - loss: 0.1792 - acc: 0.92 - ETA: 15:07 - loss: 0.1792 - acc: 0.92 - ETA: 15:03 - loss: 0.1792 - acc: 0.92 - ETA: 14:59 - loss: 0.1790 - acc: 0.92 - ETA: 14:56 - loss: 0.1789 - acc: 0.92 - ETA: 14:52 - loss: 0.1789 - acc: 0.92 - ETA: 14:48 - loss: 0.1788 - acc: 0.92 - ETA: 14:44 - loss: 0.1790 - acc: 0.92 - ETA: 14:40 - loss: 0.1790 - acc: 0.92 - ETA: 14:36 - loss: 0.1789 - acc: 0.92 - ETA: 14:32 - loss: 0.1789 - acc: 0.92 - ETA: 14:28 - loss: 0.1786 - acc: 0.92 - ETA: 14:24 - loss: 0.1787 - acc: 0.92 - ETA: 14:20 - loss: 0.1790 - acc: 0.92 - ETA: 14:16 - loss: 0.1789 - acc: 0.92 - ETA: 14:12 - loss: 0.1790 - acc: 0.92 - ETA: 14:08 - loss: 0.1790 - acc: 0.92 - ETA: 14:04 - loss: 0.1787 - acc: 0.92 - ETA: 14:00 - loss: 0.1786 - acc: 0.92 - ETA: 13:56 - loss: 0.1787 - acc: 0.92 - ETA: 13:52 - loss: 0.1787 - acc: 0.93 - ETA: 13:48 - loss: 0.1784 - acc: 0.93 - ETA: 13:44 - loss: 0.1793 - acc: 0.92 - ETA: 13:40 - loss: 0.1794 - acc: 0.92 - ETA: 13:36 - loss: 0.1793 - acc: 0.92 - ETA: 13:32 - loss: 0.1794 - acc: 0.92 - ETA: 13:28 - loss: 0.1793 - acc: 0.92 - ETA: 13:24 - loss: 0.1798 - acc: 0.92 - ETA: 13:20 - loss: 0.1798 - acc: 0.92 - ETA: 13:16 - loss: 0.1799 - acc: 0.92 - ETA: 13:12 - loss: 0.1800 - acc: 0.92 - ETA: 13:08 - loss: 0.1802 - acc: 0.92 - ETA: 13:04 - loss: 0.1804 - acc: 0.92 - ETA: 13:01 - loss: 0.1809 - acc: 0.92 - ETA: 12:57 - loss: 0.1810 - acc: 0.92 - ETA: 12:53 - loss: 0.1811 - acc: 0.92 - ETA: 12:49 - loss: 0.1810 - acc: 0.92 - ETA: 12:45 - loss: 0.1807 - acc: 0.92 - ETA: 12:41 - loss: 0.1809 - acc: 0.92 - ETA: 12:37 - loss: 0.1811 - acc: 0.92 - ETA: 12:33 - loss: 0.1811 - acc: 0.92 - ETA: 12:29 - loss: 0.1814 - acc: 0.92 - ETA: 12:25 - loss: 0.1812 - acc: 0.92 - ETA: 12:21 - loss: 0.1813 - acc: 0.92 - ETA: 12:17 - loss: 0.1813 - acc: 0.92 - ETA: 12:13 - loss: 0.1814 - acc: 0.92 - ETA: 12:09 - loss: 0.1818 - acc: 0.92 - ETA: 12:06 - loss: 0.1817 - acc: 0.92 - ETA: 12:02 - loss: 0.1815 - acc: 0.92 - ETA: 11:58 - loss: 0.1820 - acc: 0.92 - ETA: 11:54 - loss: 0.1821 - acc: 0.92 - ETA: 11:50 - loss: 0.1821 - acc: 0.92 - ETA: 11:46 - loss: 0.1820 - acc: 0.92 - ETA: 11:42 - loss: 0.1819 - acc: 0.92 - ETA: 11:39 - loss: 0.1825 - acc: 0.92 - ETA: 11:35 - loss: 0.1827 - acc: 0.92 - ETA: 11:31 - loss: 0.1828 - acc: 0.92 - ETA: 11:27 - loss: 0.1829 - acc: 0.92 - ETA: 11:23 - loss: 0.1829 - acc: 0.92 - ETA: 11:19 - loss: 0.1830 - acc: 0.92 - ETA: 11:15 - loss: 0.1830 - acc: 0.92 - ETA: 11:12 - loss: 0.1828 - acc: 0.92 - ETA: 11:08 - loss: 0.1826 - acc: 0.92 - ETA: 11:04 - loss: 0.1830 - acc: 0.92 - ETA: 11:00 - loss: 0.1829 - acc: 0.92 - ETA: 10:56 - loss: 0.1827 - acc: 0.92 - ETA: 10:52 - loss: 0.1832 - acc: 0.92 - ETA: 10:48 - loss: 0.1835 - acc: 0.92 - ETA: 10:44 - loss: 0.1836 - acc: 0.92 - ETA: 10:41 - loss: 0.1837 - acc: 0.92 - ETA: 10:37 - loss: 0.1840 - acc: 0.92 - ETA: 10:33 - loss: 0.1838 - acc: 0.92 - ETA: 10:29 - loss: 0.1841 - acc: 0.92 - ETA: 10:25 - loss: 0.1840 - acc: 0.92 - ETA: 10:21 - loss: 0.1839 - acc: 0.92 - ETA: 10:17 - loss: 0.1837 - acc: 0.92 - ETA: 10:14 - loss: 0.1838 - acc: 0.92 - ETA: 10:10 - loss: 0.1841 - acc: 0.92 - ETA: 10:06 - loss: 0.1840 - acc: 0.92 - ETA: 10:02 - loss: 0.1840 - acc: 0.92 - ETA: 9:58 - loss: 0.1842 - acc: 0.9272 - ETA: 9:54 - loss: 0.1841 - acc: 0.927 - ETA: 9:50 - loss: 0.1843 - acc: 0.927 - ETA: 9:47 - loss: 0.1840 - acc: 0.927 - ETA: 9:43 - loss: 0.1840 - acc: 0.927 - ETA: 9:39 - loss: 0.1841 - acc: 0.927 - ETA: 9:35 - loss: 0.1840 - acc: 0.927 - ETA: 9:31 - loss: 0.1843 - acc: 0.927 - ETA: 9:27 - loss: 0.1843 - acc: 0.927 - ETA: 9:24 - loss: 0.1843 - acc: 0.926 - ETA: 9:20 - loss: 0.1843 - acc: 0.926 - ETA: 9:16 - loss: 0.1841 - acc: 0.926 - ETA: 9:12 - loss: 0.1842 - acc: 0.926 - ETA: 9:09 - loss: 0.1841 - acc: 0.926 - ETA: 9:05 - loss: 0.1837 - acc: 0.927 - ETA: 9:01 - loss: 0.1837 - acc: 0.927 - ETA: 8:57 - loss: 0.1837 - acc: 0.927 - ETA: 8:53 - loss: 0.1835 - acc: 0.927 - ETA: 8:50 - loss: 0.1838 - acc: 0.927 - ETA: 8:46 - loss: 0.1842 - acc: 0.926 - ETA: 8:42 - loss: 0.1842 - acc: 0.926 - ETA: 8:38 - loss: 0.1843 - acc: 0.926 - ETA: 8:34 - loss: 0.1841 - acc: 0.927 - ETA: 8:30 - loss: 0.1843 - acc: 0.926 - ETA: 8:27 - loss: 0.1841 - acc: 0.927 - ETA: 8:23 - loss: 0.1840 - acc: 0.927 - ETA: 8:19 - loss: 0.1839 - acc: 0.927 - ETA: 8:15 - loss: 0.1840 - acc: 0.927 - ETA: 8:11 - loss: 0.1839 - acc: 0.927 - ETA: 8:08 - loss: 0.1837 - acc: 0.927 - ETA: 8:04 - loss: 0.1835 - acc: 0.927 - ETA: 8:00 - loss: 0.1834 - acc: 0.927 - ETA: 7:56 - loss: 0.1837 - acc: 0.927 - ETA: 7:52 - loss: 0.1836 - acc: 0.927 - ETA: 7:49 - loss: 0.1836 - acc: 0.927 - ETA: 7:45 - loss: 0.1834 - acc: 0.927 - ETA: 7:41 - loss: 0.1838 - acc: 0.927 - ETA: 7:37 - loss: 0.1840 - acc: 0.927 - ETA: 7:34 - loss: 0.1840 - acc: 0.927 - ETA: 7:30 - loss: 0.1841 - acc: 0.927 - ETA: 7:26 - loss: 0.1842 - acc: 0.927 - ETA: 7:22 - loss: 0.1841 - acc: 0.926 - ETA: 7:18 - loss: 0.1840 - acc: 0.927 - ETA: 7:15 - loss: 0.1841 - acc: 0.926 - ETA: 7:11 - loss: 0.1842 - acc: 0.926 - ETA: 7:07 - loss: 0.1842 - acc: 0.926 - ETA: 7:03 - loss: 0.1843 - acc: 0.926 - ETA: 7:00 - loss: 0.1844 - acc: 0.926 - ETA: 6:56 - loss: 0.1845 - acc: 0.926 - ETA: 6:52 - loss: 0.1849 - acc: 0.926 - ETA: 6:48 - loss: 0.1848 - acc: 0.926 - ETA: 6:44 - loss: 0.1846 - acc: 0.926 - ETA: 6:41 - loss: 0.1846 - acc: 0.926 - ETA: 6:37 - loss: 0.1845 - acc: 0.927 - ETA: 6:33 - loss: 0.1845 - acc: 0.926 - ETA: 6:29 - loss: 0.1845 - acc: 0.926 - ETA: 6:26 - loss: 0.1845 - acc: 0.926 - ETA: 6:22 - loss: 0.1844 - acc: 0.926 - ETA: 6:18 - loss: 0.1842 - acc: 0.927 - ETA: 6:14 - loss: 0.1840 - acc: 0.927 - ETA: 6:11 - loss: 0.1839 - acc: 0.927 - ETA: 6:07 - loss: 0.1839 - acc: 0.927 - ETA: 6:03 - loss: 0.1840 - acc: 0.927 - ETA: 5:59 - loss: 0.1840 - acc: 0.927 - ETA: 5:56 - loss: 0.1839 - acc: 0.9272"
     ]
    },
    {
     "name": "stdout",
     "output_type": "stream",
     "text": [
      "32249/32249 [==============================] - ETA: 5:52 - loss: 0.1839 - acc: 0.927 - ETA: 5:48 - loss: 0.1840 - acc: 0.927 - ETA: 5:44 - loss: 0.1840 - acc: 0.927 - ETA: 5:41 - loss: 0.1839 - acc: 0.927 - ETA: 5:37 - loss: 0.1840 - acc: 0.927 - ETA: 5:33 - loss: 0.1837 - acc: 0.927 - ETA: 5:30 - loss: 0.1834 - acc: 0.927 - ETA: 5:26 - loss: 0.1832 - acc: 0.927 - ETA: 5:22 - loss: 0.1829 - acc: 0.927 - ETA: 5:18 - loss: 0.1827 - acc: 0.927 - ETA: 5:15 - loss: 0.1829 - acc: 0.927 - ETA: 5:11 - loss: 0.1832 - acc: 0.927 - ETA: 5:07 - loss: 0.1829 - acc: 0.927 - ETA: 5:03 - loss: 0.1830 - acc: 0.927 - ETA: 5:00 - loss: 0.1829 - acc: 0.927 - ETA: 4:56 - loss: 0.1828 - acc: 0.927 - ETA: 4:52 - loss: 0.1826 - acc: 0.927 - ETA: 4:49 - loss: 0.1826 - acc: 0.927 - ETA: 4:45 - loss: 0.1827 - acc: 0.927 - ETA: 4:41 - loss: 0.1828 - acc: 0.927 - ETA: 4:38 - loss: 0.1830 - acc: 0.927 - ETA: 4:34 - loss: 0.1830 - acc: 0.927 - ETA: 4:30 - loss: 0.1832 - acc: 0.927 - ETA: 4:26 - loss: 0.1833 - acc: 0.927 - ETA: 4:23 - loss: 0.1833 - acc: 0.927 - ETA: 4:19 - loss: 0.1831 - acc: 0.927 - ETA: 4:15 - loss: 0.1830 - acc: 0.927 - ETA: 4:12 - loss: 0.1829 - acc: 0.927 - ETA: 4:08 - loss: 0.1830 - acc: 0.927 - ETA: 4:04 - loss: 0.1828 - acc: 0.927 - ETA: 4:00 - loss: 0.1829 - acc: 0.927 - ETA: 3:57 - loss: 0.1828 - acc: 0.927 - ETA: 3:53 - loss: 0.1829 - acc: 0.927 - ETA: 3:49 - loss: 0.1827 - acc: 0.927 - ETA: 3:46 - loss: 0.1826 - acc: 0.927 - ETA: 3:42 - loss: 0.1828 - acc: 0.927 - ETA: 3:38 - loss: 0.1827 - acc: 0.927 - ETA: 3:34 - loss: 0.1825 - acc: 0.928 - ETA: 3:31 - loss: 0.1826 - acc: 0.927 - ETA: 3:27 - loss: 0.1825 - acc: 0.927 - ETA: 3:23 - loss: 0.1822 - acc: 0.928 - ETA: 3:19 - loss: 0.1820 - acc: 0.928 - ETA: 3:16 - loss: 0.1820 - acc: 0.928 - ETA: 3:12 - loss: 0.1821 - acc: 0.928 - ETA: 3:08 - loss: 0.1822 - acc: 0.928 - ETA: 3:05 - loss: 0.1822 - acc: 0.928 - ETA: 3:01 - loss: 0.1823 - acc: 0.928 - ETA: 2:57 - loss: 0.1821 - acc: 0.928 - ETA: 2:53 - loss: 0.1820 - acc: 0.928 - ETA: 2:50 - loss: 0.1818 - acc: 0.928 - ETA: 2:46 - loss: 0.1817 - acc: 0.928 - ETA: 2:42 - loss: 0.1816 - acc: 0.928 - ETA: 2:38 - loss: 0.1817 - acc: 0.928 - ETA: 2:35 - loss: 0.1817 - acc: 0.928 - ETA: 2:31 - loss: 0.1817 - acc: 0.928 - ETA: 2:27 - loss: 0.1814 - acc: 0.928 - ETA: 2:24 - loss: 0.1815 - acc: 0.928 - ETA: 2:20 - loss: 0.1820 - acc: 0.928 - ETA: 2:16 - loss: 0.1819 - acc: 0.928 - ETA: 2:12 - loss: 0.1817 - acc: 0.928 - ETA: 2:09 - loss: 0.1815 - acc: 0.928 - ETA: 2:05 - loss: 0.1814 - acc: 0.928 - ETA: 2:01 - loss: 0.1817 - acc: 0.928 - ETA: 1:58 - loss: 0.1815 - acc: 0.928 - ETA: 1:54 - loss: 0.1816 - acc: 0.928 - ETA: 1:50 - loss: 0.1814 - acc: 0.928 - ETA: 1:47 - loss: 0.1811 - acc: 0.928 - ETA: 1:43 - loss: 0.1812 - acc: 0.928 - ETA: 1:39 - loss: 0.1813 - acc: 0.928 - ETA: 1:35 - loss: 0.1813 - acc: 0.928 - ETA: 1:32 - loss: 0.1813 - acc: 0.928 - ETA: 1:28 - loss: 0.1812 - acc: 0.928 - ETA: 1:24 - loss: 0.1811 - acc: 0.928 - ETA: 1:21 - loss: 0.1811 - acc: 0.928 - ETA: 1:17 - loss: 0.1813 - acc: 0.928 - ETA: 1:13 - loss: 0.1811 - acc: 0.928 - ETA: 1:09 - loss: 0.1813 - acc: 0.928 - ETA: 1:06 - loss: 0.1813 - acc: 0.928 - ETA: 1:02 - loss: 0.1813 - acc: 0.928 - ETA: 58s - loss: 0.1813 - acc: 0.928 - ETA: 55s - loss: 0.1812 - acc: 0.92 - ETA: 51s - loss: 0.1811 - acc: 0.92 - ETA: 47s - loss: 0.1809 - acc: 0.92 - ETA: 43s - loss: 0.1810 - acc: 0.92 - ETA: 40s - loss: 0.1813 - acc: 0.92 - ETA: 36s - loss: 0.1811 - acc: 0.92 - ETA: 32s - loss: 0.1812 - acc: 0.92 - ETA: 29s - loss: 0.1814 - acc: 0.92 - ETA: 25s - loss: 0.1814 - acc: 0.92 - ETA: 21s - loss: 0.1812 - acc: 0.92 - ETA: 18s - loss: 0.1811 - acc: 0.92 - ETA: 14s - loss: 0.1812 - acc: 0.92 - ETA: 10s - loss: 0.1813 - acc: 0.92 - ETA: 6s - loss: 0.1813 - acc: 0.9286 - ETA: 3s - loss: 0.1814 - acc: 0.928 - 2044s 63ms/step - loss: 0.1813 - acc: 0.9286 - val_loss: 0.2159 - val_acc: 0.9164\n",
      "Epoch 3/5\n"
     ]
    },
    {
     "name": "stdout",
     "output_type": "stream",
     "text": [
      "13056/32249 [===========>..................] - ETA: 28:27 - loss: 0.1132 - acc: 0.93 - ETA: 28:16 - loss: 0.1463 - acc: 0.92 - ETA: 28:11 - loss: 0.1747 - acc: 0.92 - ETA: 28:07 - loss: 0.1612 - acc: 0.93 - ETA: 28:01 - loss: 0.1500 - acc: 0.94 - ETA: 27:56 - loss: 0.1537 - acc: 0.93 - ETA: 27:52 - loss: 0.1467 - acc: 0.93 - ETA: 27:47 - loss: 0.1437 - acc: 0.93 - ETA: 27:43 - loss: 0.1332 - acc: 0.94 - ETA: 27:39 - loss: 0.1310 - acc: 0.94 - ETA: 27:35 - loss: 0.1313 - acc: 0.94 - ETA: 27:33 - loss: 0.1392 - acc: 0.94 - ETA: 27:30 - loss: 0.1351 - acc: 0.94 - ETA: 27:27 - loss: 0.1366 - acc: 0.94 - ETA: 27:24 - loss: 0.1347 - acc: 0.94 - ETA: 27:21 - loss: 0.1374 - acc: 0.94 - ETA: 27:18 - loss: 0.1363 - acc: 0.94 - ETA: 27:14 - loss: 0.1318 - acc: 0.94 - ETA: 27:11 - loss: 0.1322 - acc: 0.94 - ETA: 27:08 - loss: 0.1355 - acc: 0.94 - ETA: 27:04 - loss: 0.1350 - acc: 0.94 - ETA: 27:01 - loss: 0.1365 - acc: 0.94 - ETA: 26:57 - loss: 0.1377 - acc: 0.94 - ETA: 26:54 - loss: 0.1372 - acc: 0.94 - ETA: 26:50 - loss: 0.1363 - acc: 0.94 - ETA: 26:48 - loss: 0.1364 - acc: 0.94 - ETA: 26:46 - loss: 0.1394 - acc: 0.94 - ETA: 26:43 - loss: 0.1400 - acc: 0.94 - ETA: 26:39 - loss: 0.1393 - acc: 0.94 - ETA: 26:36 - loss: 0.1417 - acc: 0.94 - ETA: 26:32 - loss: 0.1395 - acc: 0.94 - ETA: 26:28 - loss: 0.1367 - acc: 0.94 - ETA: 26:25 - loss: 0.1354 - acc: 0.94 - ETA: 26:21 - loss: 0.1369 - acc: 0.94 - ETA: 26:18 - loss: 0.1364 - acc: 0.94 - ETA: 26:14 - loss: 0.1357 - acc: 0.94 - ETA: 26:11 - loss: 0.1348 - acc: 0.94 - ETA: 26:08 - loss: 0.1346 - acc: 0.94 - ETA: 26:04 - loss: 0.1359 - acc: 0.94 - ETA: 26:00 - loss: 0.1351 - acc: 0.94 - ETA: 25:57 - loss: 0.1360 - acc: 0.94 - ETA: 25:54 - loss: 0.1340 - acc: 0.94 - ETA: 25:51 - loss: 0.1359 - acc: 0.94 - ETA: 25:47 - loss: 0.1378 - acc: 0.94 - ETA: 25:44 - loss: 0.1406 - acc: 0.94 - ETA: 25:40 - loss: 0.1410 - acc: 0.94 - ETA: 25:37 - loss: 0.1412 - acc: 0.94 - ETA: 25:34 - loss: 0.1415 - acc: 0.94 - ETA: 25:32 - loss: 0.1424 - acc: 0.94 - ETA: 25:31 - loss: 0.1427 - acc: 0.94 - ETA: 25:29 - loss: 0.1416 - acc: 0.94 - ETA: 25:28 - loss: 0.1402 - acc: 0.94 - ETA: 25:26 - loss: 0.1401 - acc: 0.94 - ETA: 25:24 - loss: 0.1401 - acc: 0.94 - ETA: 25:20 - loss: 0.1389 - acc: 0.94 - ETA: 25:17 - loss: 0.1392 - acc: 0.94 - ETA: 25:13 - loss: 0.1398 - acc: 0.94 - ETA: 25:10 - loss: 0.1420 - acc: 0.94 - ETA: 25:07 - loss: 0.1425 - acc: 0.94 - ETA: 25:04 - loss: 0.1415 - acc: 0.94 - ETA: 25:00 - loss: 0.1407 - acc: 0.94 - ETA: 24:57 - loss: 0.1405 - acc: 0.94 - ETA: 24:53 - loss: 0.1408 - acc: 0.94 - ETA: 24:50 - loss: 0.1403 - acc: 0.94 - ETA: 24:46 - loss: 0.1397 - acc: 0.94 - ETA: 24:43 - loss: 0.1387 - acc: 0.94 - ETA: 24:39 - loss: 0.1387 - acc: 0.94 - ETA: 24:36 - loss: 0.1374 - acc: 0.94 - ETA: 24:34 - loss: 0.1359 - acc: 0.94 - ETA: 24:31 - loss: 0.1356 - acc: 0.94 - ETA: 24:27 - loss: 0.1363 - acc: 0.94 - ETA: 24:24 - loss: 0.1370 - acc: 0.94 - ETA: 24:20 - loss: 0.1376 - acc: 0.94 - ETA: 24:16 - loss: 0.1392 - acc: 0.94 - ETA: 24:13 - loss: 0.1391 - acc: 0.94 - ETA: 24:09 - loss: 0.1388 - acc: 0.94 - ETA: 24:06 - loss: 0.1387 - acc: 0.94 - ETA: 24:02 - loss: 0.1379 - acc: 0.94 - ETA: 23:59 - loss: 0.1382 - acc: 0.94 - ETA: 23:55 - loss: 0.1380 - acc: 0.94 - ETA: 23:52 - loss: 0.1372 - acc: 0.94 - ETA: 23:48 - loss: 0.1373 - acc: 0.94 - ETA: 23:45 - loss: 0.1368 - acc: 0.94 - ETA: 23:41 - loss: 0.1371 - acc: 0.94 - ETA: 23:38 - loss: 0.1373 - acc: 0.94 - ETA: 23:34 - loss: 0.1381 - acc: 0.94 - ETA: 23:31 - loss: 0.1380 - acc: 0.94 - ETA: 23:27 - loss: 0.1395 - acc: 0.94 - ETA: 23:24 - loss: 0.1402 - acc: 0.94 - ETA: 23:20 - loss: 0.1412 - acc: 0.94 - ETA: 23:17 - loss: 0.1412 - acc: 0.94 - ETA: 23:13 - loss: 0.1410 - acc: 0.94 - ETA: 23:10 - loss: 0.1411 - acc: 0.94 - ETA: 23:07 - loss: 0.1410 - acc: 0.94 - ETA: 23:03 - loss: 0.1408 - acc: 0.94 - ETA: 23:00 - loss: 0.1425 - acc: 0.94 - ETA: 22:56 - loss: 0.1427 - acc: 0.94 - ETA: 22:53 - loss: 0.1438 - acc: 0.94 - ETA: 22:49 - loss: 0.1432 - acc: 0.94 - ETA: 22:46 - loss: 0.1430 - acc: 0.94 - ETA: 22:43 - loss: 0.1431 - acc: 0.94 - ETA: 22:39 - loss: 0.1432 - acc: 0.94 - ETA: 22:36 - loss: 0.1427 - acc: 0.94 - ETA: 22:33 - loss: 0.1430 - acc: 0.94 - ETA: 22:29 - loss: 0.1439 - acc: 0.94 - ETA: 22:26 - loss: 0.1443 - acc: 0.94 - ETA: 22:22 - loss: 0.1447 - acc: 0.94 - ETA: 22:19 - loss: 0.1443 - acc: 0.94 - ETA: 22:15 - loss: 0.1435 - acc: 0.94 - ETA: 22:12 - loss: 0.1428 - acc: 0.94 - ETA: 22:09 - loss: 0.1422 - acc: 0.94 - ETA: 22:05 - loss: 0.1419 - acc: 0.94 - ETA: 22:02 - loss: 0.1415 - acc: 0.94 - ETA: 21:59 - loss: 0.1409 - acc: 0.94 - ETA: 21:56 - loss: 0.1418 - acc: 0.94 - ETA: 21:52 - loss: 0.1428 - acc: 0.94 - ETA: 21:49 - loss: 0.1429 - acc: 0.94 - ETA: 21:46 - loss: 0.1427 - acc: 0.94 - ETA: 21:43 - loss: 0.1421 - acc: 0.94 - ETA: 21:39 - loss: 0.1422 - acc: 0.94 - ETA: 21:36 - loss: 0.1417 - acc: 0.94 - ETA: 21:32 - loss: 0.1414 - acc: 0.94 - ETA: 21:29 - loss: 0.1410 - acc: 0.94 - ETA: 21:26 - loss: 0.1410 - acc: 0.94 - ETA: 21:22 - loss: 0.1416 - acc: 0.94 - ETA: 21:19 - loss: 0.1420 - acc: 0.94 - ETA: 21:15 - loss: 0.1420 - acc: 0.94 - ETA: 21:12 - loss: 0.1426 - acc: 0.94 - ETA: 21:09 - loss: 0.1425 - acc: 0.94 - ETA: 21:05 - loss: 0.1422 - acc: 0.94 - ETA: 21:02 - loss: 0.1422 - acc: 0.94 - ETA: 20:58 - loss: 0.1425 - acc: 0.94 - ETA: 20:55 - loss: 0.1424 - acc: 0.94 - ETA: 20:52 - loss: 0.1436 - acc: 0.94 - ETA: 20:48 - loss: 0.1433 - acc: 0.94 - ETA: 20:45 - loss: 0.1431 - acc: 0.94 - ETA: 20:41 - loss: 0.1435 - acc: 0.94 - ETA: 20:38 - loss: 0.1433 - acc: 0.94 - ETA: 20:34 - loss: 0.1436 - acc: 0.94 - ETA: 20:32 - loss: 0.1435 - acc: 0.94 - ETA: 20:29 - loss: 0.1441 - acc: 0.94 - ETA: 20:26 - loss: 0.1450 - acc: 0.94 - ETA: 20:23 - loss: 0.1445 - acc: 0.94 - ETA: 20:20 - loss: 0.1440 - acc: 0.94 - ETA: 20:16 - loss: 0.1437 - acc: 0.94 - ETA: 20:13 - loss: 0.1437 - acc: 0.94 - ETA: 20:10 - loss: 0.1439 - acc: 0.94 - ETA: 20:07 - loss: 0.1436 - acc: 0.94 - ETA: 20:03 - loss: 0.1435 - acc: 0.94 - ETA: 20:00 - loss: 0.1437 - acc: 0.94 - ETA: 19:56 - loss: 0.1438 - acc: 0.94 - ETA: 19:53 - loss: 0.1442 - acc: 0.94 - ETA: 19:50 - loss: 0.1437 - acc: 0.94 - ETA: 19:46 - loss: 0.1439 - acc: 0.94 - ETA: 19:43 - loss: 0.1435 - acc: 0.94 - ETA: 19:40 - loss: 0.1448 - acc: 0.94 - ETA: 19:37 - loss: 0.1448 - acc: 0.94 - ETA: 19:33 - loss: 0.1446 - acc: 0.94 - ETA: 19:30 - loss: 0.1444 - acc: 0.94 - ETA: 19:27 - loss: 0.1450 - acc: 0.94 - ETA: 19:23 - loss: 0.1451 - acc: 0.94 - ETA: 19:20 - loss: 0.1449 - acc: 0.94 - ETA: 19:17 - loss: 0.1444 - acc: 0.94 - ETA: 19:13 - loss: 0.1438 - acc: 0.94 - ETA: 19:10 - loss: 0.1442 - acc: 0.94 - ETA: 19:06 - loss: 0.1446 - acc: 0.94 - ETA: 19:03 - loss: 0.1450 - acc: 0.94 - ETA: 19:00 - loss: 0.1447 - acc: 0.94 - ETA: 18:57 - loss: 0.1446 - acc: 0.94 - ETA: 18:53 - loss: 0.1444 - acc: 0.94 - ETA: 18:50 - loss: 0.1446 - acc: 0.94 - ETA: 18:47 - loss: 0.1444 - acc: 0.94 - ETA: 18:43 - loss: 0.1438 - acc: 0.94 - ETA: 18:40 - loss: 0.1442 - acc: 0.94 - ETA: 18:37 - loss: 0.1440 - acc: 0.94 - ETA: 18:33 - loss: 0.1440 - acc: 0.94 - ETA: 18:30 - loss: 0.1438 - acc: 0.94 - ETA: 18:27 - loss: 0.1435 - acc: 0.94 - ETA: 18:23 - loss: 0.1430 - acc: 0.94 - ETA: 18:20 - loss: 0.1430 - acc: 0.94 - ETA: 18:17 - loss: 0.1427 - acc: 0.94 - ETA: 18:13 - loss: 0.1422 - acc: 0.94 - ETA: 18:10 - loss: 0.1422 - acc: 0.94 - ETA: 18:06 - loss: 0.1425 - acc: 0.94 - ETA: 18:03 - loss: 0.1425 - acc: 0.94 - ETA: 18:00 - loss: 0.1431 - acc: 0.94 - ETA: 17:56 - loss: 0.1435 - acc: 0.94 - ETA: 17:53 - loss: 0.1435 - acc: 0.94 - ETA: 17:50 - loss: 0.1437 - acc: 0.94 - ETA: 17:46 - loss: 0.1437 - acc: 0.94 - ETA: 17:43 - loss: 0.1436 - acc: 0.94 - ETA: 17:40 - loss: 0.1439 - acc: 0.94 - ETA: 17:36 - loss: 0.1440 - acc: 0.94 - ETA: 17:33 - loss: 0.1440 - acc: 0.94 - ETA: 17:30 - loss: 0.1440 - acc: 0.94 - ETA: 17:26 - loss: 0.1440 - acc: 0.94 - ETA: 17:23 - loss: 0.1437 - acc: 0.94 - ETA: 17:20 - loss: 0.1438 - acc: 0.94 - ETA: 17:16 - loss: 0.1436 - acc: 0.94 - ETA: 17:13 - loss: 0.1438 - acc: 0.94 - ETA: 17:10 - loss: 0.1435 - acc: 0.94 - ETA: 17:06 - loss: 0.1435 - acc: 0.94 - ETA: 17:03 - loss: 0.1433 - acc: 0.94 - ETA: 16:59 - loss: 0.1430 - acc: 0.946026112/32249 [=======================>......] - ETA: 16:56 - loss: 0.1430 - acc: 0.94 - ETA: 16:53 - loss: 0.1424 - acc: 0.94 - ETA: 16:49 - loss: 0.1422 - acc: 0.94 - ETA: 16:46 - loss: 0.1424 - acc: 0.94 - ETA: 16:43 - loss: 0.1421 - acc: 0.94 - ETA: 16:39 - loss: 0.1420 - acc: 0.94 - ETA: 16:36 - loss: 0.1425 - acc: 0.94 - ETA: 16:33 - loss: 0.1423 - acc: 0.94 - ETA: 16:29 - loss: 0.1422 - acc: 0.94 - ETA: 16:26 - loss: 0.1423 - acc: 0.94 - ETA: 16:23 - loss: 0.1420 - acc: 0.94 - ETA: 16:19 - loss: 0.1424 - acc: 0.94 - ETA: 16:16 - loss: 0.1425 - acc: 0.94 - ETA: 16:12 - loss: 0.1423 - acc: 0.94 - ETA: 16:09 - loss: 0.1426 - acc: 0.94 - ETA: 16:06 - loss: 0.1422 - acc: 0.94 - ETA: 16:02 - loss: 0.1418 - acc: 0.94 - ETA: 15:59 - loss: 0.1419 - acc: 0.94 - ETA: 15:55 - loss: 0.1417 - acc: 0.94 - ETA: 15:52 - loss: 0.1417 - acc: 0.94 - ETA: 15:49 - loss: 0.1416 - acc: 0.94 - ETA: 15:45 - loss: 0.1419 - acc: 0.94 - ETA: 15:42 - loss: 0.1421 - acc: 0.94 - ETA: 15:39 - loss: 0.1421 - acc: 0.94 - ETA: 15:36 - loss: 0.1422 - acc: 0.94 - ETA: 15:33 - loss: 0.1425 - acc: 0.94 - ETA: 15:30 - loss: 0.1427 - acc: 0.94 - ETA: 15:26 - loss: 0.1428 - acc: 0.94 - ETA: 15:23 - loss: 0.1429 - acc: 0.94 - ETA: 15:19 - loss: 0.1426 - acc: 0.94 - ETA: 15:16 - loss: 0.1430 - acc: 0.94 - ETA: 15:13 - loss: 0.1431 - acc: 0.94 - ETA: 15:09 - loss: 0.1430 - acc: 0.94 - ETA: 15:06 - loss: 0.1429 - acc: 0.94 - ETA: 15:02 - loss: 0.1428 - acc: 0.94 - ETA: 14:59 - loss: 0.1429 - acc: 0.94 - ETA: 14:56 - loss: 0.1430 - acc: 0.94 - ETA: 14:52 - loss: 0.1428 - acc: 0.94 - ETA: 14:49 - loss: 0.1427 - acc: 0.94 - ETA: 14:45 - loss: 0.1428 - acc: 0.94 - ETA: 14:42 - loss: 0.1430 - acc: 0.94 - ETA: 14:39 - loss: 0.1431 - acc: 0.94 - ETA: 14:36 - loss: 0.1430 - acc: 0.94 - ETA: 14:32 - loss: 0.1428 - acc: 0.94 - ETA: 14:29 - loss: 0.1431 - acc: 0.94 - ETA: 14:25 - loss: 0.1433 - acc: 0.94 - ETA: 14:22 - loss: 0.1434 - acc: 0.94 - ETA: 14:19 - loss: 0.1433 - acc: 0.94 - ETA: 14:15 - loss: 0.1444 - acc: 0.94 - ETA: 14:12 - loss: 0.1445 - acc: 0.94 - ETA: 14:09 - loss: 0.1442 - acc: 0.94 - ETA: 14:05 - loss: 0.1442 - acc: 0.94 - ETA: 14:02 - loss: 0.1441 - acc: 0.94 - ETA: 13:58 - loss: 0.1443 - acc: 0.94 - ETA: 13:55 - loss: 0.1441 - acc: 0.94 - ETA: 13:52 - loss: 0.1440 - acc: 0.94 - ETA: 13:48 - loss: 0.1439 - acc: 0.94 - ETA: 13:45 - loss: 0.1438 - acc: 0.94 - ETA: 13:42 - loss: 0.1439 - acc: 0.94 - ETA: 13:38 - loss: 0.1439 - acc: 0.94 - ETA: 13:35 - loss: 0.1440 - acc: 0.94 - ETA: 13:31 - loss: 0.1441 - acc: 0.94 - ETA: 13:28 - loss: 0.1442 - acc: 0.94 - ETA: 13:25 - loss: 0.1442 - acc: 0.94 - ETA: 13:21 - loss: 0.1440 - acc: 0.94 - ETA: 13:18 - loss: 0.1443 - acc: 0.94 - ETA: 13:14 - loss: 0.1443 - acc: 0.94 - ETA: 13:11 - loss: 0.1441 - acc: 0.94 - ETA: 13:08 - loss: 0.1446 - acc: 0.94 - ETA: 13:04 - loss: 0.1447 - acc: 0.94 - ETA: 13:01 - loss: 0.1454 - acc: 0.94 - ETA: 12:57 - loss: 0.1452 - acc: 0.94 - ETA: 12:54 - loss: 0.1456 - acc: 0.94 - ETA: 12:50 - loss: 0.1457 - acc: 0.94 - ETA: 12:47 - loss: 0.1456 - acc: 0.94 - ETA: 12:44 - loss: 0.1458 - acc: 0.94 - ETA: 12:40 - loss: 0.1461 - acc: 0.94 - ETA: 12:37 - loss: 0.1459 - acc: 0.94 - ETA: 12:33 - loss: 0.1458 - acc: 0.94 - ETA: 12:30 - loss: 0.1457 - acc: 0.94 - ETA: 12:26 - loss: 0.1459 - acc: 0.94 - ETA: 12:23 - loss: 0.1459 - acc: 0.94 - ETA: 12:20 - loss: 0.1459 - acc: 0.94 - ETA: 12:16 - loss: 0.1457 - acc: 0.94 - ETA: 12:13 - loss: 0.1457 - acc: 0.94 - ETA: 12:09 - loss: 0.1462 - acc: 0.94 - ETA: 12:06 - loss: 0.1463 - acc: 0.94 - ETA: 12:03 - loss: 0.1464 - acc: 0.94 - ETA: 11:59 - loss: 0.1464 - acc: 0.94 - ETA: 11:56 - loss: 0.1463 - acc: 0.94 - ETA: 11:53 - loss: 0.1462 - acc: 0.94 - ETA: 11:49 - loss: 0.1462 - acc: 0.94 - ETA: 11:46 - loss: 0.1465 - acc: 0.94 - ETA: 11:42 - loss: 0.1463 - acc: 0.94 - ETA: 11:39 - loss: 0.1467 - acc: 0.94 - ETA: 11:35 - loss: 0.1469 - acc: 0.94 - ETA: 11:32 - loss: 0.1471 - acc: 0.94 - ETA: 11:29 - loss: 0.1470 - acc: 0.94 - ETA: 11:25 - loss: 0.1470 - acc: 0.94 - ETA: 11:22 - loss: 0.1468 - acc: 0.94 - ETA: 11:18 - loss: 0.1472 - acc: 0.94 - ETA: 11:15 - loss: 0.1473 - acc: 0.94 - ETA: 11:11 - loss: 0.1475 - acc: 0.94 - ETA: 11:08 - loss: 0.1475 - acc: 0.94 - ETA: 11:04 - loss: 0.1476 - acc: 0.94 - ETA: 11:01 - loss: 0.1477 - acc: 0.94 - ETA: 10:58 - loss: 0.1482 - acc: 0.94 - ETA: 10:55 - loss: 0.1480 - acc: 0.94 - ETA: 10:51 - loss: 0.1484 - acc: 0.94 - ETA: 10:48 - loss: 0.1484 - acc: 0.94 - ETA: 10:45 - loss: 0.1483 - acc: 0.94 - ETA: 10:41 - loss: 0.1484 - acc: 0.94 - ETA: 10:38 - loss: 0.1484 - acc: 0.94 - ETA: 10:35 - loss: 0.1486 - acc: 0.94 - ETA: 10:31 - loss: 0.1495 - acc: 0.94 - ETA: 10:28 - loss: 0.1494 - acc: 0.94 - ETA: 10:24 - loss: 0.1493 - acc: 0.94 - ETA: 10:21 - loss: 0.1497 - acc: 0.94 - ETA: 10:17 - loss: 0.1495 - acc: 0.94 - ETA: 10:14 - loss: 0.1496 - acc: 0.94 - ETA: 10:11 - loss: 0.1496 - acc: 0.94 - ETA: 10:07 - loss: 0.1495 - acc: 0.94 - ETA: 10:04 - loss: 0.1497 - acc: 0.94 - ETA: 10:00 - loss: 0.1496 - acc: 0.94 - ETA: 9:57 - loss: 0.1497 - acc: 0.9441 - ETA: 9:54 - loss: 0.1500 - acc: 0.943 - ETA: 9:50 - loss: 0.1500 - acc: 0.943 - ETA: 9:47 - loss: 0.1498 - acc: 0.943 - ETA: 9:43 - loss: 0.1499 - acc: 0.943 - ETA: 9:40 - loss: 0.1499 - acc: 0.943 - ETA: 9:37 - loss: 0.1498 - acc: 0.943 - ETA: 9:33 - loss: 0.1497 - acc: 0.944 - ETA: 9:30 - loss: 0.1496 - acc: 0.944 - ETA: 9:26 - loss: 0.1497 - acc: 0.944 - ETA: 9:23 - loss: 0.1497 - acc: 0.944 - ETA: 9:19 - loss: 0.1495 - acc: 0.944 - ETA: 9:16 - loss: 0.1495 - acc: 0.944 - ETA: 9:13 - loss: 0.1497 - acc: 0.943 - ETA: 9:09 - loss: 0.1500 - acc: 0.943 - ETA: 9:06 - loss: 0.1499 - acc: 0.943 - ETA: 9:02 - loss: 0.1498 - acc: 0.943 - ETA: 8:59 - loss: 0.1496 - acc: 0.943 - ETA: 8:56 - loss: 0.1496 - acc: 0.943 - ETA: 8:52 - loss: 0.1495 - acc: 0.943 - ETA: 8:49 - loss: 0.1497 - acc: 0.943 - ETA: 8:45 - loss: 0.1496 - acc: 0.943 - ETA: 8:42 - loss: 0.1496 - acc: 0.943 - ETA: 8:38 - loss: 0.1496 - acc: 0.943 - ETA: 8:35 - loss: 0.1494 - acc: 0.943 - ETA: 8:32 - loss: 0.1493 - acc: 0.943 - ETA: 8:28 - loss: 0.1494 - acc: 0.943 - ETA: 8:25 - loss: 0.1495 - acc: 0.943 - ETA: 8:21 - loss: 0.1495 - acc: 0.943 - ETA: 8:18 - loss: 0.1492 - acc: 0.943 - ETA: 8:14 - loss: 0.1489 - acc: 0.944 - ETA: 8:11 - loss: 0.1488 - acc: 0.944 - ETA: 8:07 - loss: 0.1486 - acc: 0.944 - ETA: 8:04 - loss: 0.1485 - acc: 0.944 - ETA: 8:01 - loss: 0.1485 - acc: 0.944 - ETA: 7:57 - loss: 0.1487 - acc: 0.944 - ETA: 7:54 - loss: 0.1485 - acc: 0.944 - ETA: 7:50 - loss: 0.1486 - acc: 0.944 - ETA: 7:47 - loss: 0.1487 - acc: 0.944 - ETA: 7:43 - loss: 0.1488 - acc: 0.944 - ETA: 7:40 - loss: 0.1487 - acc: 0.944 - ETA: 7:37 - loss: 0.1486 - acc: 0.944 - ETA: 7:33 - loss: 0.1486 - acc: 0.944 - ETA: 7:30 - loss: 0.1488 - acc: 0.944 - ETA: 7:26 - loss: 0.1490 - acc: 0.944 - ETA: 7:23 - loss: 0.1489 - acc: 0.944 - ETA: 7:19 - loss: 0.1488 - acc: 0.944 - ETA: 7:16 - loss: 0.1486 - acc: 0.944 - ETA: 7:13 - loss: 0.1486 - acc: 0.944 - ETA: 7:09 - loss: 0.1488 - acc: 0.944 - ETA: 7:06 - loss: 0.1492 - acc: 0.944 - ETA: 7:02 - loss: 0.1495 - acc: 0.943 - ETA: 6:59 - loss: 0.1493 - acc: 0.944 - ETA: 6:55 - loss: 0.1494 - acc: 0.944 - ETA: 6:52 - loss: 0.1496 - acc: 0.943 - ETA: 6:49 - loss: 0.1497 - acc: 0.943 - ETA: 6:45 - loss: 0.1496 - acc: 0.943 - ETA: 6:42 - loss: 0.1495 - acc: 0.943 - ETA: 6:38 - loss: 0.1494 - acc: 0.944 - ETA: 6:35 - loss: 0.1494 - acc: 0.944 - ETA: 6:31 - loss: 0.1494 - acc: 0.944 - ETA: 6:28 - loss: 0.1497 - acc: 0.943 - ETA: 6:25 - loss: 0.1501 - acc: 0.943 - ETA: 6:21 - loss: 0.1502 - acc: 0.943 - ETA: 6:18 - loss: 0.1506 - acc: 0.943 - ETA: 6:14 - loss: 0.1504 - acc: 0.943 - ETA: 6:11 - loss: 0.1503 - acc: 0.943 - ETA: 6:08 - loss: 0.1503 - acc: 0.943 - ETA: 6:04 - loss: 0.1503 - acc: 0.943 - ETA: 6:01 - loss: 0.1503 - acc: 0.943 - ETA: 5:57 - loss: 0.1504 - acc: 0.943 - ETA: 5:54 - loss: 0.1502 - acc: 0.943 - ETA: 5:50 - loss: 0.1501 - acc: 0.943 - ETA: 5:47 - loss: 0.1499 - acc: 0.943 - ETA: 5:44 - loss: 0.1499 - acc: 0.943 - ETA: 5:40 - loss: 0.1502 - acc: 0.943 - ETA: 5:37 - loss: 0.1505 - acc: 0.943 - ETA: 5:34 - loss: 0.1505 - acc: 0.943 - ETA: 5:30 - loss: 0.1503 - acc: 0.943 - ETA: 5:27 - loss: 0.1503 - acc: 0.9433"
     ]
    },
    {
     "name": "stdout",
     "output_type": "stream",
     "text": [
      "32249/32249 [==============================] - ETA: 5:23 - loss: 0.1502 - acc: 0.943 - ETA: 5:20 - loss: 0.1505 - acc: 0.943 - ETA: 5:16 - loss: 0.1507 - acc: 0.943 - ETA: 5:13 - loss: 0.1507 - acc: 0.943 - ETA: 5:10 - loss: 0.1506 - acc: 0.943 - ETA: 5:06 - loss: 0.1504 - acc: 0.943 - ETA: 5:03 - loss: 0.1505 - acc: 0.943 - ETA: 4:59 - loss: 0.1504 - acc: 0.943 - ETA: 4:56 - loss: 0.1504 - acc: 0.943 - ETA: 4:53 - loss: 0.1503 - acc: 0.943 - ETA: 4:49 - loss: 0.1505 - acc: 0.943 - ETA: 4:46 - loss: 0.1505 - acc: 0.943 - ETA: 4:42 - loss: 0.1502 - acc: 0.943 - ETA: 4:39 - loss: 0.1501 - acc: 0.943 - ETA: 4:35 - loss: 0.1500 - acc: 0.943 - ETA: 4:32 - loss: 0.1501 - acc: 0.943 - ETA: 4:29 - loss: 0.1500 - acc: 0.943 - ETA: 4:25 - loss: 0.1499 - acc: 0.943 - ETA: 4:22 - loss: 0.1498 - acc: 0.943 - ETA: 4:18 - loss: 0.1498 - acc: 0.943 - ETA: 4:15 - loss: 0.1497 - acc: 0.943 - ETA: 4:12 - loss: 0.1496 - acc: 0.943 - ETA: 4:08 - loss: 0.1496 - acc: 0.943 - ETA: 4:05 - loss: 0.1496 - acc: 0.943 - ETA: 4:01 - loss: 0.1500 - acc: 0.943 - ETA: 3:58 - loss: 0.1501 - acc: 0.943 - ETA: 3:55 - loss: 0.1503 - acc: 0.943 - ETA: 3:51 - loss: 0.1503 - acc: 0.943 - ETA: 3:48 - loss: 0.1502 - acc: 0.943 - ETA: 3:44 - loss: 0.1503 - acc: 0.943 - ETA: 3:41 - loss: 0.1503 - acc: 0.943 - ETA: 3:37 - loss: 0.1503 - acc: 0.943 - ETA: 3:34 - loss: 0.1502 - acc: 0.943 - ETA: 3:31 - loss: 0.1501 - acc: 0.943 - ETA: 3:27 - loss: 0.1505 - acc: 0.943 - ETA: 3:24 - loss: 0.1505 - acc: 0.943 - ETA: 3:20 - loss: 0.1506 - acc: 0.943 - ETA: 3:17 - loss: 0.1509 - acc: 0.943 - ETA: 3:14 - loss: 0.1508 - acc: 0.943 - ETA: 3:10 - loss: 0.1507 - acc: 0.943 - ETA: 3:07 - loss: 0.1507 - acc: 0.943 - ETA: 3:03 - loss: 0.1507 - acc: 0.943 - ETA: 3:00 - loss: 0.1506 - acc: 0.943 - ETA: 2:56 - loss: 0.1506 - acc: 0.943 - ETA: 2:53 - loss: 0.1505 - acc: 0.943 - ETA: 2:50 - loss: 0.1505 - acc: 0.943 - ETA: 2:46 - loss: 0.1506 - acc: 0.943 - ETA: 2:43 - loss: 0.1505 - acc: 0.943 - ETA: 2:39 - loss: 0.1505 - acc: 0.943 - ETA: 2:36 - loss: 0.1506 - acc: 0.943 - ETA: 2:33 - loss: 0.1507 - acc: 0.943 - ETA: 2:29 - loss: 0.1507 - acc: 0.943 - ETA: 2:26 - loss: 0.1508 - acc: 0.943 - ETA: 2:22 - loss: 0.1508 - acc: 0.943 - ETA: 2:19 - loss: 0.1509 - acc: 0.943 - ETA: 2:16 - loss: 0.1509 - acc: 0.943 - ETA: 2:12 - loss: 0.1506 - acc: 0.943 - ETA: 2:09 - loss: 0.1510 - acc: 0.943 - ETA: 2:05 - loss: 0.1512 - acc: 0.943 - ETA: 2:02 - loss: 0.1513 - acc: 0.943 - ETA: 1:58 - loss: 0.1512 - acc: 0.943 - ETA: 1:55 - loss: 0.1513 - acc: 0.943 - ETA: 1:52 - loss: 0.1512 - acc: 0.943 - ETA: 1:48 - loss: 0.1510 - acc: 0.943 - ETA: 1:45 - loss: 0.1510 - acc: 0.943 - ETA: 1:41 - loss: 0.1514 - acc: 0.943 - ETA: 1:38 - loss: 0.1513 - acc: 0.943 - ETA: 1:35 - loss: 0.1515 - acc: 0.943 - ETA: 1:31 - loss: 0.1515 - acc: 0.943 - ETA: 1:28 - loss: 0.1515 - acc: 0.943 - ETA: 1:24 - loss: 0.1515 - acc: 0.943 - ETA: 1:21 - loss: 0.1517 - acc: 0.943 - ETA: 1:18 - loss: 0.1517 - acc: 0.943 - ETA: 1:14 - loss: 0.1519 - acc: 0.943 - ETA: 1:11 - loss: 0.1518 - acc: 0.943 - ETA: 1:07 - loss: 0.1519 - acc: 0.943 - ETA: 1:04 - loss: 0.1518 - acc: 0.943 - ETA: 1:01 - loss: 0.1518 - acc: 0.943 - ETA: 57s - loss: 0.1517 - acc: 0.943 - ETA: 54s - loss: 0.1517 - acc: 0.94 - ETA: 50s - loss: 0.1518 - acc: 0.94 - ETA: 47s - loss: 0.1517 - acc: 0.94 - ETA: 43s - loss: 0.1521 - acc: 0.94 - ETA: 40s - loss: 0.1523 - acc: 0.94 - ETA: 37s - loss: 0.1525 - acc: 0.94 - ETA: 33s - loss: 0.1525 - acc: 0.94 - ETA: 30s - loss: 0.1525 - acc: 0.94 - ETA: 26s - loss: 0.1523 - acc: 0.94 - ETA: 23s - loss: 0.1524 - acc: 0.94 - ETA: 20s - loss: 0.1523 - acc: 0.94 - ETA: 16s - loss: 0.1523 - acc: 0.94 - ETA: 13s - loss: 0.1524 - acc: 0.94 - ETA: 9s - loss: 0.1523 - acc: 0.9432 - ETA: 6s - loss: 0.1522 - acc: 0.943 - ETA: 3s - loss: 0.1523 - acc: 0.943 - 1896s 59ms/step - loss: 0.1524 - acc: 0.9431 - val_loss: 0.2266 - val_acc: 0.9120\n",
      "Epoch 4/5\n"
     ]
    },
    {
     "name": "stdout",
     "output_type": "stream",
     "text": [
      "13056/32249 [===========>..................] - ETA: 28:29 - loss: 0.0844 - acc: 0.98 - ETA: 28:25 - loss: 0.1134 - acc: 0.97 - ETA: 28:18 - loss: 0.1043 - acc: 0.96 - ETA: 28:13 - loss: 0.0975 - acc: 0.96 - ETA: 28:12 - loss: 0.0966 - acc: 0.96 - ETA: 28:07 - loss: 0.0882 - acc: 0.96 - ETA: 28:05 - loss: 0.0949 - acc: 0.96 - ETA: 28:01 - loss: 0.1029 - acc: 0.96 - ETA: 27:57 - loss: 0.1058 - acc: 0.96 - ETA: 27:53 - loss: 0.1033 - acc: 0.96 - ETA: 27:48 - loss: 0.1146 - acc: 0.95 - ETA: 27:43 - loss: 0.1125 - acc: 0.95 - ETA: 27:39 - loss: 0.1100 - acc: 0.95 - ETA: 27:34 - loss: 0.1138 - acc: 0.95 - ETA: 27:30 - loss: 0.1174 - acc: 0.95 - ETA: 27:27 - loss: 0.1177 - acc: 0.95 - ETA: 27:24 - loss: 0.1173 - acc: 0.95 - ETA: 27:19 - loss: 0.1172 - acc: 0.95 - ETA: 27:16 - loss: 0.1183 - acc: 0.95 - ETA: 27:12 - loss: 0.1150 - acc: 0.95 - ETA: 27:08 - loss: 0.1122 - acc: 0.95 - ETA: 27:05 - loss: 0.1141 - acc: 0.95 - ETA: 27:08 - loss: 0.1124 - acc: 0.95 - ETA: 27:10 - loss: 0.1096 - acc: 0.95 - ETA: 27:12 - loss: 0.1095 - acc: 0.95 - ETA: 27:13 - loss: 0.1084 - acc: 0.95 - ETA: 27:12 - loss: 0.1106 - acc: 0.95 - ETA: 27:10 - loss: 0.1108 - acc: 0.95 - ETA: 27:08 - loss: 0.1127 - acc: 0.95 - ETA: 27:04 - loss: 0.1140 - acc: 0.95 - ETA: 26:59 - loss: 0.1143 - acc: 0.95 - ETA: 26:55 - loss: 0.1144 - acc: 0.95 - ETA: 26:51 - loss: 0.1128 - acc: 0.95 - ETA: 26:47 - loss: 0.1114 - acc: 0.95 - ETA: 26:42 - loss: 0.1120 - acc: 0.95 - ETA: 26:38 - loss: 0.1111 - acc: 0.95 - ETA: 26:34 - loss: 0.1107 - acc: 0.95 - ETA: 26:30 - loss: 0.1092 - acc: 0.95 - ETA: 26:25 - loss: 0.1078 - acc: 0.95 - ETA: 26:22 - loss: 0.1090 - acc: 0.95 - ETA: 26:19 - loss: 0.1080 - acc: 0.95 - ETA: 26:15 - loss: 0.1073 - acc: 0.95 - ETA: 26:11 - loss: 0.1096 - acc: 0.95 - ETA: 26:07 - loss: 0.1090 - acc: 0.95 - ETA: 26:04 - loss: 0.1091 - acc: 0.95 - ETA: 26:00 - loss: 0.1110 - acc: 0.95 - ETA: 25:56 - loss: 0.1106 - acc: 0.95 - ETA: 25:52 - loss: 0.1092 - acc: 0.96 - ETA: 25:48 - loss: 0.1099 - acc: 0.95 - ETA: 25:44 - loss: 0.1104 - acc: 0.96 - ETA: 25:40 - loss: 0.1112 - acc: 0.95 - ETA: 25:36 - loss: 0.1110 - acc: 0.95 - ETA: 25:32 - loss: 0.1109 - acc: 0.95 - ETA: 25:29 - loss: 0.1103 - acc: 0.95 - ETA: 25:25 - loss: 0.1106 - acc: 0.95 - ETA: 25:21 - loss: 0.1108 - acc: 0.95 - ETA: 25:17 - loss: 0.1139 - acc: 0.95 - ETA: 25:14 - loss: 0.1144 - acc: 0.95 - ETA: 25:10 - loss: 0.1145 - acc: 0.95 - ETA: 25:06 - loss: 0.1146 - acc: 0.95 - ETA: 25:02 - loss: 0.1157 - acc: 0.95 - ETA: 24:59 - loss: 0.1151 - acc: 0.95 - ETA: 24:56 - loss: 0.1138 - acc: 0.95 - ETA: 24:52 - loss: 0.1138 - acc: 0.95 - ETA: 24:49 - loss: 0.1135 - acc: 0.95 - ETA: 24:45 - loss: 0.1127 - acc: 0.95 - ETA: 24:41 - loss: 0.1130 - acc: 0.95 - ETA: 24:38 - loss: 0.1121 - acc: 0.95 - ETA: 24:35 - loss: 0.1124 - acc: 0.95 - ETA: 24:31 - loss: 0.1121 - acc: 0.95 - ETA: 24:27 - loss: 0.1127 - acc: 0.95 - ETA: 24:23 - loss: 0.1125 - acc: 0.95 - ETA: 24:20 - loss: 0.1133 - acc: 0.95 - ETA: 24:16 - loss: 0.1133 - acc: 0.95 - ETA: 24:12 - loss: 0.1138 - acc: 0.95 - ETA: 24:09 - loss: 0.1134 - acc: 0.95 - ETA: 24:05 - loss: 0.1136 - acc: 0.95 - ETA: 24:03 - loss: 0.1140 - acc: 0.95 - ETA: 24:01 - loss: 0.1141 - acc: 0.95 - ETA: 23:58 - loss: 0.1140 - acc: 0.95 - ETA: 23:54 - loss: 0.1147 - acc: 0.95 - ETA: 23:51 - loss: 0.1144 - acc: 0.95 - ETA: 23:48 - loss: 0.1139 - acc: 0.95 - ETA: 23:45 - loss: 0.1150 - acc: 0.95 - ETA: 23:41 - loss: 0.1148 - acc: 0.95 - ETA: 23:39 - loss: 0.1148 - acc: 0.95 - ETA: 23:35 - loss: 0.1155 - acc: 0.95 - ETA: 23:32 - loss: 0.1157 - acc: 0.95 - ETA: 23:28 - loss: 0.1152 - acc: 0.95 - ETA: 23:25 - loss: 0.1156 - acc: 0.95 - ETA: 23:22 - loss: 0.1169 - acc: 0.95 - ETA: 23:18 - loss: 0.1166 - acc: 0.95 - ETA: 23:14 - loss: 0.1172 - acc: 0.95 - ETA: 23:11 - loss: 0.1173 - acc: 0.95 - ETA: 23:07 - loss: 0.1171 - acc: 0.95 - ETA: 23:04 - loss: 0.1171 - acc: 0.95 - ETA: 23:00 - loss: 0.1174 - acc: 0.95 - ETA: 22:57 - loss: 0.1164 - acc: 0.95 - ETA: 22:54 - loss: 0.1162 - acc: 0.95 - ETA: 22:50 - loss: 0.1160 - acc: 0.95 - ETA: 22:47 - loss: 0.1159 - acc: 0.95 - ETA: 22:44 - loss: 0.1158 - acc: 0.95 - ETA: 22:41 - loss: 0.1153 - acc: 0.95 - ETA: 22:37 - loss: 0.1148 - acc: 0.95 - ETA: 22:34 - loss: 0.1146 - acc: 0.95 - ETA: 22:31 - loss: 0.1142 - acc: 0.95 - ETA: 22:28 - loss: 0.1141 - acc: 0.95 - ETA: 22:25 - loss: 0.1136 - acc: 0.95 - ETA: 22:21 - loss: 0.1139 - acc: 0.95 - ETA: 22:18 - loss: 0.1144 - acc: 0.95 - ETA: 22:16 - loss: 0.1141 - acc: 0.95 - ETA: 22:13 - loss: 0.1138 - acc: 0.95 - ETA: 22:10 - loss: 0.1132 - acc: 0.95 - ETA: 22:07 - loss: 0.1128 - acc: 0.95 - ETA: 22:04 - loss: 0.1137 - acc: 0.95 - ETA: 22:01 - loss: 0.1137 - acc: 0.95 - ETA: 21:57 - loss: 0.1143 - acc: 0.95 - ETA: 21:54 - loss: 0.1146 - acc: 0.95 - ETA: 21:51 - loss: 0.1140 - acc: 0.95 - ETA: 21:47 - loss: 0.1135 - acc: 0.95 - ETA: 21:44 - loss: 0.1138 - acc: 0.95 - ETA: 21:41 - loss: 0.1136 - acc: 0.95 - ETA: 21:38 - loss: 0.1134 - acc: 0.95 - ETA: 21:34 - loss: 0.1138 - acc: 0.95 - ETA: 21:31 - loss: 0.1133 - acc: 0.95 - ETA: 21:27 - loss: 0.1131 - acc: 0.95 - ETA: 21:24 - loss: 0.1132 - acc: 0.95 - ETA: 21:20 - loss: 0.1127 - acc: 0.95 - ETA: 21:17 - loss: 0.1128 - acc: 0.95 - ETA: 21:13 - loss: 0.1124 - acc: 0.95 - ETA: 21:09 - loss: 0.1123 - acc: 0.95 - ETA: 21:06 - loss: 0.1129 - acc: 0.95 - ETA: 21:02 - loss: 0.1126 - acc: 0.95 - ETA: 20:59 - loss: 0.1130 - acc: 0.95 - ETA: 20:55 - loss: 0.1134 - acc: 0.95 - ETA: 20:52 - loss: 0.1138 - acc: 0.95 - ETA: 20:48 - loss: 0.1140 - acc: 0.95 - ETA: 20:45 - loss: 0.1151 - acc: 0.95 - ETA: 20:41 - loss: 0.1148 - acc: 0.95 - ETA: 20:38 - loss: 0.1145 - acc: 0.95 - ETA: 20:34 - loss: 0.1146 - acc: 0.95 - ETA: 20:31 - loss: 0.1154 - acc: 0.95 - ETA: 20:27 - loss: 0.1160 - acc: 0.95 - ETA: 20:24 - loss: 0.1158 - acc: 0.95 - ETA: 20:20 - loss: 0.1162 - acc: 0.95 - ETA: 20:17 - loss: 0.1166 - acc: 0.95 - ETA: 20:14 - loss: 0.1165 - acc: 0.95 - ETA: 20:10 - loss: 0.1165 - acc: 0.95 - ETA: 20:07 - loss: 0.1164 - acc: 0.95 - ETA: 20:03 - loss: 0.1170 - acc: 0.95 - ETA: 20:00 - loss: 0.1166 - acc: 0.95 - ETA: 19:56 - loss: 0.1167 - acc: 0.95 - ETA: 19:53 - loss: 0.1170 - acc: 0.95 - ETA: 19:50 - loss: 0.1168 - acc: 0.95 - ETA: 19:46 - loss: 0.1168 - acc: 0.95 - ETA: 19:43 - loss: 0.1166 - acc: 0.95 - ETA: 19:39 - loss: 0.1162 - acc: 0.95 - ETA: 19:36 - loss: 0.1163 - acc: 0.95 - ETA: 19:32 - loss: 0.1162 - acc: 0.95 - ETA: 19:29 - loss: 0.1160 - acc: 0.95 - ETA: 19:25 - loss: 0.1159 - acc: 0.95 - ETA: 19:22 - loss: 0.1157 - acc: 0.95 - ETA: 19:18 - loss: 0.1152 - acc: 0.95 - ETA: 19:15 - loss: 0.1165 - acc: 0.95 - ETA: 19:11 - loss: 0.1168 - acc: 0.95 - ETA: 19:08 - loss: 0.1180 - acc: 0.95 - ETA: 19:04 - loss: 0.1180 - acc: 0.95 - ETA: 19:01 - loss: 0.1181 - acc: 0.95 - ETA: 18:57 - loss: 0.1182 - acc: 0.95 - ETA: 18:54 - loss: 0.1186 - acc: 0.95 - ETA: 18:50 - loss: 0.1189 - acc: 0.95 - ETA: 18:47 - loss: 0.1186 - acc: 0.95 - ETA: 18:43 - loss: 0.1185 - acc: 0.95 - ETA: 18:40 - loss: 0.1183 - acc: 0.95 - ETA: 18:37 - loss: 0.1182 - acc: 0.95 - ETA: 18:33 - loss: 0.1184 - acc: 0.95 - ETA: 18:30 - loss: 0.1189 - acc: 0.95 - ETA: 18:27 - loss: 0.1194 - acc: 0.95 - ETA: 18:23 - loss: 0.1191 - acc: 0.95 - ETA: 18:20 - loss: 0.1190 - acc: 0.95 - ETA: 18:17 - loss: 0.1196 - acc: 0.95 - ETA: 18:13 - loss: 0.1194 - acc: 0.95 - ETA: 18:10 - loss: 0.1193 - acc: 0.95 - ETA: 18:06 - loss: 0.1195 - acc: 0.95 - ETA: 18:03 - loss: 0.1196 - acc: 0.95 - ETA: 17:59 - loss: 0.1199 - acc: 0.95 - ETA: 17:56 - loss: 0.1196 - acc: 0.95 - ETA: 17:53 - loss: 0.1194 - acc: 0.95 - ETA: 17:49 - loss: 0.1197 - acc: 0.95 - ETA: 17:46 - loss: 0.1196 - acc: 0.95 - ETA: 17:42 - loss: 0.1200 - acc: 0.95 - ETA: 17:39 - loss: 0.1200 - acc: 0.95 - ETA: 17:35 - loss: 0.1198 - acc: 0.95 - ETA: 17:32 - loss: 0.1203 - acc: 0.95 - ETA: 17:28 - loss: 0.1204 - acc: 0.95 - ETA: 17:25 - loss: 0.1211 - acc: 0.95 - ETA: 17:22 - loss: 0.1211 - acc: 0.95 - ETA: 17:18 - loss: 0.1218 - acc: 0.95 - ETA: 17:15 - loss: 0.1216 - acc: 0.95 - ETA: 17:12 - loss: 0.1217 - acc: 0.95 - ETA: 17:09 - loss: 0.1219 - acc: 0.95 - ETA: 17:05 - loss: 0.1218 - acc: 0.95 - ETA: 17:02 - loss: 0.1215 - acc: 0.95 - ETA: 16:59 - loss: 0.1218 - acc: 0.955526112/32249 [=======================>......] - ETA: 16:55 - loss: 0.1216 - acc: 0.95 - ETA: 16:52 - loss: 0.1218 - acc: 0.95 - ETA: 16:49 - loss: 0.1217 - acc: 0.95 - ETA: 16:45 - loss: 0.1216 - acc: 0.95 - ETA: 16:42 - loss: 0.1217 - acc: 0.95 - ETA: 16:38 - loss: 0.1220 - acc: 0.95 - ETA: 16:35 - loss: 0.1223 - acc: 0.95 - ETA: 16:31 - loss: 0.1230 - acc: 0.95 - ETA: 16:28 - loss: 0.1226 - acc: 0.95 - ETA: 16:25 - loss: 0.1226 - acc: 0.95 - ETA: 16:21 - loss: 0.1224 - acc: 0.95 - ETA: 16:18 - loss: 0.1226 - acc: 0.95 - ETA: 16:14 - loss: 0.1228 - acc: 0.95 - ETA: 16:11 - loss: 0.1227 - acc: 0.95 - ETA: 16:08 - loss: 0.1230 - acc: 0.95 - ETA: 16:04 - loss: 0.1230 - acc: 0.95 - ETA: 16:01 - loss: 0.1228 - acc: 0.95 - ETA: 15:57 - loss: 0.1225 - acc: 0.95 - ETA: 15:54 - loss: 0.1223 - acc: 0.95 - ETA: 15:50 - loss: 0.1223 - acc: 0.95 - ETA: 15:47 - loss: 0.1220 - acc: 0.95 - ETA: 15:44 - loss: 0.1227 - acc: 0.95 - ETA: 15:40 - loss: 0.1229 - acc: 0.95 - ETA: 15:37 - loss: 0.1234 - acc: 0.95 - ETA: 15:34 - loss: 0.1235 - acc: 0.95 - ETA: 15:31 - loss: 0.1234 - acc: 0.95 - ETA: 15:27 - loss: 0.1237 - acc: 0.95 - ETA: 15:24 - loss: 0.1238 - acc: 0.95 - ETA: 15:21 - loss: 0.1238 - acc: 0.95 - ETA: 15:17 - loss: 0.1235 - acc: 0.95 - ETA: 15:14 - loss: 0.1234 - acc: 0.95 - ETA: 15:11 - loss: 0.1234 - acc: 0.95 - ETA: 15:07 - loss: 0.1234 - acc: 0.95 - ETA: 15:04 - loss: 0.1233 - acc: 0.95 - ETA: 15:01 - loss: 0.1234 - acc: 0.95 - ETA: 14:57 - loss: 0.1233 - acc: 0.95 - ETA: 14:54 - loss: 0.1234 - acc: 0.95 - ETA: 14:50 - loss: 0.1246 - acc: 0.95 - ETA: 14:47 - loss: 0.1246 - acc: 0.95 - ETA: 14:43 - loss: 0.1243 - acc: 0.95 - ETA: 14:40 - loss: 0.1242 - acc: 0.95 - ETA: 14:37 - loss: 0.1242 - acc: 0.95 - ETA: 14:33 - loss: 0.1240 - acc: 0.95 - ETA: 14:30 - loss: 0.1240 - acc: 0.95 - ETA: 14:26 - loss: 0.1243 - acc: 0.95 - ETA: 14:23 - loss: 0.1246 - acc: 0.95 - ETA: 14:19 - loss: 0.1246 - acc: 0.95 - ETA: 14:16 - loss: 0.1250 - acc: 0.95 - ETA: 14:13 - loss: 0.1249 - acc: 0.95 - ETA: 14:09 - loss: 0.1246 - acc: 0.95 - ETA: 14:06 - loss: 0.1248 - acc: 0.95 - ETA: 14:02 - loss: 0.1250 - acc: 0.95 - ETA: 13:59 - loss: 0.1248 - acc: 0.95 - ETA: 13:55 - loss: 0.1248 - acc: 0.95 - ETA: 13:52 - loss: 0.1246 - acc: 0.95 - ETA: 13:49 - loss: 0.1249 - acc: 0.95 - ETA: 13:45 - loss: 0.1246 - acc: 0.95 - ETA: 13:42 - loss: 0.1245 - acc: 0.95 - ETA: 13:38 - loss: 0.1245 - acc: 0.95 - ETA: 13:35 - loss: 0.1244 - acc: 0.95 - ETA: 13:31 - loss: 0.1244 - acc: 0.95 - ETA: 13:28 - loss: 0.1250 - acc: 0.95 - ETA: 13:25 - loss: 0.1248 - acc: 0.95 - ETA: 13:21 - loss: 0.1248 - acc: 0.95 - ETA: 13:18 - loss: 0.1246 - acc: 0.95 - ETA: 13:14 - loss: 0.1247 - acc: 0.95 - ETA: 13:11 - loss: 0.1247 - acc: 0.95 - ETA: 13:08 - loss: 0.1243 - acc: 0.95 - ETA: 13:04 - loss: 0.1239 - acc: 0.95 - ETA: 13:01 - loss: 0.1236 - acc: 0.95 - ETA: 12:58 - loss: 0.1237 - acc: 0.95 - ETA: 12:54 - loss: 0.1238 - acc: 0.95 - ETA: 12:51 - loss: 0.1240 - acc: 0.95 - ETA: 12:47 - loss: 0.1241 - acc: 0.95 - ETA: 12:44 - loss: 0.1239 - acc: 0.95 - ETA: 12:41 - loss: 0.1239 - acc: 0.95 - ETA: 12:37 - loss: 0.1242 - acc: 0.95 - ETA: 12:34 - loss: 0.1240 - acc: 0.95 - ETA: 12:31 - loss: 0.1243 - acc: 0.95 - ETA: 12:27 - loss: 0.1240 - acc: 0.95 - ETA: 12:24 - loss: 0.1239 - acc: 0.95 - ETA: 12:20 - loss: 0.1240 - acc: 0.95 - ETA: 12:17 - loss: 0.1241 - acc: 0.95 - ETA: 12:14 - loss: 0.1239 - acc: 0.95 - ETA: 12:11 - loss: 0.1242 - acc: 0.95 - ETA: 12:07 - loss: 0.1241 - acc: 0.95 - ETA: 12:04 - loss: 0.1240 - acc: 0.95 - ETA: 12:01 - loss: 0.1238 - acc: 0.95 - ETA: 11:57 - loss: 0.1239 - acc: 0.95 - ETA: 11:54 - loss: 0.1237 - acc: 0.95 - ETA: 11:51 - loss: 0.1236 - acc: 0.95 - ETA: 11:47 - loss: 0.1235 - acc: 0.95 - ETA: 11:44 - loss: 0.1237 - acc: 0.95 - ETA: 11:41 - loss: 0.1235 - acc: 0.95 - ETA: 11:37 - loss: 0.1234 - acc: 0.95 - ETA: 11:34 - loss: 0.1236 - acc: 0.95 - ETA: 11:30 - loss: 0.1237 - acc: 0.95 - ETA: 11:27 - loss: 0.1239 - acc: 0.95 - ETA: 11:23 - loss: 0.1241 - acc: 0.95 - ETA: 11:20 - loss: 0.1240 - acc: 0.95 - ETA: 11:17 - loss: 0.1243 - acc: 0.95 - ETA: 11:13 - loss: 0.1245 - acc: 0.95 - ETA: 11:10 - loss: 0.1246 - acc: 0.95 - ETA: 11:06 - loss: 0.1245 - acc: 0.95 - ETA: 11:03 - loss: 0.1244 - acc: 0.95 - ETA: 11:00 - loss: 0.1244 - acc: 0.95 - ETA: 10:56 - loss: 0.1245 - acc: 0.95 - ETA: 10:53 - loss: 0.1243 - acc: 0.95 - ETA: 10:49 - loss: 0.1241 - acc: 0.95 - ETA: 10:46 - loss: 0.1244 - acc: 0.95 - ETA: 10:42 - loss: 0.1243 - acc: 0.95 - ETA: 10:39 - loss: 0.1242 - acc: 0.95 - ETA: 10:36 - loss: 0.1242 - acc: 0.95 - ETA: 10:32 - loss: 0.1243 - acc: 0.95 - ETA: 10:29 - loss: 0.1245 - acc: 0.95 - ETA: 10:25 - loss: 0.1243 - acc: 0.95 - ETA: 10:22 - loss: 0.1241 - acc: 0.95 - ETA: 10:18 - loss: 0.1242 - acc: 0.95 - ETA: 10:15 - loss: 0.1242 - acc: 0.95 - ETA: 10:12 - loss: 0.1240 - acc: 0.95 - ETA: 10:08 - loss: 0.1240 - acc: 0.95 - ETA: 10:05 - loss: 0.1239 - acc: 0.95 - ETA: 10:01 - loss: 0.1241 - acc: 0.95 - ETA: 9:58 - loss: 0.1241 - acc: 0.9551 - ETA: 9:55 - loss: 0.1239 - acc: 0.955 - ETA: 9:51 - loss: 0.1237 - acc: 0.955 - ETA: 9:48 - loss: 0.1237 - acc: 0.955 - ETA: 9:44 - loss: 0.1238 - acc: 0.955 - ETA: 9:41 - loss: 0.1238 - acc: 0.955 - ETA: 9:37 - loss: 0.1238 - acc: 0.955 - ETA: 9:34 - loss: 0.1237 - acc: 0.955 - ETA: 9:31 - loss: 0.1236 - acc: 0.955 - ETA: 9:27 - loss: 0.1235 - acc: 0.955 - ETA: 9:24 - loss: 0.1236 - acc: 0.955 - ETA: 9:20 - loss: 0.1234 - acc: 0.955 - ETA: 9:17 - loss: 0.1234 - acc: 0.955 - ETA: 9:14 - loss: 0.1237 - acc: 0.955 - ETA: 9:10 - loss: 0.1235 - acc: 0.955 - ETA: 9:07 - loss: 0.1238 - acc: 0.955 - ETA: 9:03 - loss: 0.1240 - acc: 0.955 - ETA: 9:00 - loss: 0.1239 - acc: 0.955 - ETA: 8:57 - loss: 0.1239 - acc: 0.955 - ETA: 8:53 - loss: 0.1242 - acc: 0.955 - ETA: 8:50 - loss: 0.1243 - acc: 0.955 - ETA: 8:46 - loss: 0.1245 - acc: 0.955 - ETA: 8:43 - loss: 0.1246 - acc: 0.954 - ETA: 8:39 - loss: 0.1245 - acc: 0.954 - ETA: 8:36 - loss: 0.1246 - acc: 0.954 - ETA: 8:33 - loss: 0.1245 - acc: 0.954 - ETA: 8:29 - loss: 0.1245 - acc: 0.954 - ETA: 8:26 - loss: 0.1245 - acc: 0.954 - ETA: 8:22 - loss: 0.1245 - acc: 0.954 - ETA: 8:19 - loss: 0.1248 - acc: 0.954 - ETA: 8:16 - loss: 0.1247 - acc: 0.954 - ETA: 8:12 - loss: 0.1248 - acc: 0.954 - ETA: 8:09 - loss: 0.1248 - acc: 0.954 - ETA: 8:06 - loss: 0.1251 - acc: 0.954 - ETA: 8:02 - loss: 0.1249 - acc: 0.954 - ETA: 7:59 - loss: 0.1249 - acc: 0.954 - ETA: 7:55 - loss: 0.1248 - acc: 0.954 - ETA: 7:52 - loss: 0.1248 - acc: 0.954 - ETA: 7:49 - loss: 0.1248 - acc: 0.954 - ETA: 7:45 - loss: 0.1248 - acc: 0.954 - ETA: 7:42 - loss: 0.1247 - acc: 0.954 - ETA: 7:38 - loss: 0.1246 - acc: 0.954 - ETA: 7:35 - loss: 0.1246 - acc: 0.954 - ETA: 7:32 - loss: 0.1247 - acc: 0.954 - ETA: 7:28 - loss: 0.1247 - acc: 0.954 - ETA: 7:25 - loss: 0.1246 - acc: 0.954 - ETA: 7:21 - loss: 0.1245 - acc: 0.954 - ETA: 7:18 - loss: 0.1246 - acc: 0.954 - ETA: 7:15 - loss: 0.1248 - acc: 0.954 - ETA: 7:11 - loss: 0.1249 - acc: 0.954 - ETA: 7:08 - loss: 0.1249 - acc: 0.954 - ETA: 7:05 - loss: 0.1250 - acc: 0.954 - ETA: 7:01 - loss: 0.1249 - acc: 0.954 - ETA: 6:58 - loss: 0.1249 - acc: 0.954 - ETA: 6:54 - loss: 0.1248 - acc: 0.954 - ETA: 6:51 - loss: 0.1246 - acc: 0.954 - ETA: 6:48 - loss: 0.1248 - acc: 0.954 - ETA: 6:44 - loss: 0.1249 - acc: 0.954 - ETA: 6:41 - loss: 0.1250 - acc: 0.954 - ETA: 6:37 - loss: 0.1249 - acc: 0.954 - ETA: 6:34 - loss: 0.1250 - acc: 0.954 - ETA: 6:31 - loss: 0.1249 - acc: 0.954 - ETA: 6:27 - loss: 0.1249 - acc: 0.954 - ETA: 6:24 - loss: 0.1247 - acc: 0.954 - ETA: 6:20 - loss: 0.1247 - acc: 0.954 - ETA: 6:17 - loss: 0.1246 - acc: 0.954 - ETA: 6:13 - loss: 0.1251 - acc: 0.954 - ETA: 6:10 - loss: 0.1255 - acc: 0.954 - ETA: 6:07 - loss: 0.1254 - acc: 0.954 - ETA: 6:03 - loss: 0.1253 - acc: 0.954 - ETA: 6:00 - loss: 0.1252 - acc: 0.954 - ETA: 5:56 - loss: 0.1252 - acc: 0.954 - ETA: 5:53 - loss: 0.1251 - acc: 0.954 - ETA: 5:50 - loss: 0.1249 - acc: 0.954 - ETA: 5:46 - loss: 0.1247 - acc: 0.954 - ETA: 5:43 - loss: 0.1246 - acc: 0.954 - ETA: 5:39 - loss: 0.1245 - acc: 0.954 - ETA: 5:36 - loss: 0.1247 - acc: 0.954 - ETA: 5:33 - loss: 0.1247 - acc: 0.954 - ETA: 5:29 - loss: 0.1247 - acc: 0.954 - ETA: 5:26 - loss: 0.1246 - acc: 0.9545"
     ]
    },
    {
     "name": "stdout",
     "output_type": "stream",
     "text": [
      "32249/32249 [==============================] - ETA: 5:22 - loss: 0.1248 - acc: 0.954 - ETA: 5:19 - loss: 0.1247 - acc: 0.954 - ETA: 5:16 - loss: 0.1245 - acc: 0.954 - ETA: 5:12 - loss: 0.1245 - acc: 0.954 - ETA: 5:09 - loss: 0.1247 - acc: 0.954 - ETA: 5:05 - loss: 0.1247 - acc: 0.954 - ETA: 5:02 - loss: 0.1249 - acc: 0.954 - ETA: 4:59 - loss: 0.1249 - acc: 0.954 - ETA: 4:55 - loss: 0.1248 - acc: 0.954 - ETA: 4:52 - loss: 0.1247 - acc: 0.954 - ETA: 4:48 - loss: 0.1247 - acc: 0.954 - ETA: 4:45 - loss: 0.1246 - acc: 0.954 - ETA: 4:42 - loss: 0.1246 - acc: 0.954 - ETA: 4:38 - loss: 0.1246 - acc: 0.954 - ETA: 4:35 - loss: 0.1246 - acc: 0.954 - ETA: 4:31 - loss: 0.1245 - acc: 0.954 - ETA: 4:28 - loss: 0.1248 - acc: 0.954 - ETA: 4:25 - loss: 0.1247 - acc: 0.954 - ETA: 4:21 - loss: 0.1249 - acc: 0.954 - ETA: 4:18 - loss: 0.1250 - acc: 0.954 - ETA: 4:14 - loss: 0.1252 - acc: 0.954 - ETA: 4:11 - loss: 0.1252 - acc: 0.954 - ETA: 4:07 - loss: 0.1254 - acc: 0.954 - ETA: 4:04 - loss: 0.1254 - acc: 0.954 - ETA: 4:01 - loss: 0.1254 - acc: 0.954 - ETA: 3:57 - loss: 0.1253 - acc: 0.954 - ETA: 3:54 - loss: 0.1252 - acc: 0.954 - ETA: 3:50 - loss: 0.1251 - acc: 0.954 - ETA: 3:47 - loss: 0.1254 - acc: 0.954 - ETA: 3:44 - loss: 0.1256 - acc: 0.954 - ETA: 3:40 - loss: 0.1257 - acc: 0.954 - ETA: 3:37 - loss: 0.1257 - acc: 0.954 - ETA: 3:33 - loss: 0.1257 - acc: 0.954 - ETA: 3:30 - loss: 0.1259 - acc: 0.954 - ETA: 3:27 - loss: 0.1260 - acc: 0.954 - ETA: 3:23 - loss: 0.1258 - acc: 0.954 - ETA: 3:20 - loss: 0.1259 - acc: 0.954 - ETA: 3:16 - loss: 0.1259 - acc: 0.954 - ETA: 3:13 - loss: 0.1261 - acc: 0.954 - ETA: 3:10 - loss: 0.1261 - acc: 0.953 - ETA: 3:06 - loss: 0.1261 - acc: 0.953 - ETA: 3:03 - loss: 0.1261 - acc: 0.953 - ETA: 2:59 - loss: 0.1261 - acc: 0.953 - ETA: 2:56 - loss: 0.1263 - acc: 0.953 - ETA: 2:53 - loss: 0.1264 - acc: 0.953 - ETA: 2:49 - loss: 0.1264 - acc: 0.953 - ETA: 2:46 - loss: 0.1263 - acc: 0.953 - ETA: 2:42 - loss: 0.1263 - acc: 0.953 - ETA: 2:39 - loss: 0.1263 - acc: 0.953 - ETA: 2:36 - loss: 0.1263 - acc: 0.953 - ETA: 2:32 - loss: 0.1262 - acc: 0.953 - ETA: 2:29 - loss: 0.1262 - acc: 0.953 - ETA: 2:25 - loss: 0.1262 - acc: 0.953 - ETA: 2:22 - loss: 0.1261 - acc: 0.953 - ETA: 2:19 - loss: 0.1261 - acc: 0.953 - ETA: 2:15 - loss: 0.1264 - acc: 0.953 - ETA: 2:12 - loss: 0.1265 - acc: 0.953 - ETA: 2:08 - loss: 0.1264 - acc: 0.953 - ETA: 2:05 - loss: 0.1263 - acc: 0.953 - ETA: 2:02 - loss: 0.1265 - acc: 0.953 - ETA: 1:58 - loss: 0.1263 - acc: 0.953 - ETA: 1:55 - loss: 0.1265 - acc: 0.953 - ETA: 1:51 - loss: 0.1265 - acc: 0.953 - ETA: 1:48 - loss: 0.1264 - acc: 0.953 - ETA: 1:45 - loss: 0.1265 - acc: 0.953 - ETA: 1:41 - loss: 0.1266 - acc: 0.953 - ETA: 1:38 - loss: 0.1269 - acc: 0.953 - ETA: 1:34 - loss: 0.1269 - acc: 0.953 - ETA: 1:31 - loss: 0.1269 - acc: 0.953 - ETA: 1:28 - loss: 0.1267 - acc: 0.953 - ETA: 1:24 - loss: 0.1269 - acc: 0.953 - ETA: 1:21 - loss: 0.1270 - acc: 0.953 - ETA: 1:17 - loss: 0.1271 - acc: 0.953 - ETA: 1:14 - loss: 0.1272 - acc: 0.953 - ETA: 1:11 - loss: 0.1272 - acc: 0.953 - ETA: 1:07 - loss: 0.1271 - acc: 0.953 - ETA: 1:04 - loss: 0.1273 - acc: 0.953 - ETA: 1:00 - loss: 0.1271 - acc: 0.953 - ETA: 57s - loss: 0.1270 - acc: 0.953 - ETA: 54s - loss: 0.1269 - acc: 0.95 - ETA: 50s - loss: 0.1270 - acc: 0.95 - ETA: 47s - loss: 0.1270 - acc: 0.95 - ETA: 43s - loss: 0.1270 - acc: 0.95 - ETA: 40s - loss: 0.1270 - acc: 0.95 - ETA: 37s - loss: 0.1271 - acc: 0.95 - ETA: 33s - loss: 0.1270 - acc: 0.95 - ETA: 30s - loss: 0.1273 - acc: 0.95 - ETA: 26s - loss: 0.1273 - acc: 0.95 - ETA: 23s - loss: 0.1273 - acc: 0.95 - ETA: 20s - loss: 0.1274 - acc: 0.95 - ETA: 16s - loss: 0.1273 - acc: 0.95 - ETA: 13s - loss: 0.1273 - acc: 0.95 - ETA: 9s - loss: 0.1272 - acc: 0.9533 - ETA: 6s - loss: 0.1274 - acc: 0.953 - ETA: 3s - loss: 0.1273 - acc: 0.953 - 1893s 59ms/step - loss: 0.1272 - acc: 0.9533 - val_loss: 0.2599 - val_acc: 0.9122\n",
      "Epoch 5/5\n"
     ]
    },
    {
     "name": "stdout",
     "output_type": "stream",
     "text": [
      "13056/32249 [===========>..................] - ETA: 29:15 - loss: 0.0761 - acc: 0.98 - ETA: 29:11 - loss: 0.0832 - acc: 0.97 - ETA: 29:01 - loss: 0.0631 - acc: 0.98 - ETA: 28:50 - loss: 0.0708 - acc: 0.98 - ETA: 28:40 - loss: 0.0678 - acc: 0.98 - ETA: 28:28 - loss: 0.0615 - acc: 0.98 - ETA: 28:20 - loss: 0.0605 - acc: 0.98 - ETA: 28:15 - loss: 0.0696 - acc: 0.97 - ETA: 28:12 - loss: 0.0737 - acc: 0.97 - ETA: 28:06 - loss: 0.0726 - acc: 0.97 - ETA: 28:05 - loss: 0.0770 - acc: 0.97 - ETA: 28:00 - loss: 0.0833 - acc: 0.97 - ETA: 27:57 - loss: 0.0900 - acc: 0.97 - ETA: 27:56 - loss: 0.0851 - acc: 0.97 - ETA: 27:51 - loss: 0.0829 - acc: 0.97 - ETA: 27:47 - loss: 0.0823 - acc: 0.97 - ETA: 27:41 - loss: 0.0822 - acc: 0.97 - ETA: 27:37 - loss: 0.0825 - acc: 0.97 - ETA: 27:32 - loss: 0.0816 - acc: 0.97 - ETA: 27:28 - loss: 0.0783 - acc: 0.97 - ETA: 27:23 - loss: 0.0762 - acc: 0.97 - ETA: 27:19 - loss: 0.0815 - acc: 0.97 - ETA: 27:14 - loss: 0.0841 - acc: 0.97 - ETA: 27:10 - loss: 0.0889 - acc: 0.97 - ETA: 27:06 - loss: 0.0872 - acc: 0.97 - ETA: 27:02 - loss: 0.0852 - acc: 0.97 - ETA: 27:00 - loss: 0.0833 - acc: 0.97 - ETA: 26:56 - loss: 0.0861 - acc: 0.97 - ETA: 26:52 - loss: 0.0858 - acc: 0.97 - ETA: 26:48 - loss: 0.0850 - acc: 0.97 - ETA: 26:45 - loss: 0.0868 - acc: 0.97 - ETA: 26:41 - loss: 0.0849 - acc: 0.97 - ETA: 26:38 - loss: 0.0847 - acc: 0.97 - ETA: 26:34 - loss: 0.0826 - acc: 0.97 - ETA: 26:30 - loss: 0.0828 - acc: 0.97 - ETA: 26:26 - loss: 0.0826 - acc: 0.97 - ETA: 26:23 - loss: 0.0822 - acc: 0.97 - ETA: 26:20 - loss: 0.0833 - acc: 0.97 - ETA: 26:16 - loss: 0.0836 - acc: 0.97 - ETA: 26:13 - loss: 0.0825 - acc: 0.97 - ETA: 26:10 - loss: 0.0808 - acc: 0.97 - ETA: 26:06 - loss: 0.0799 - acc: 0.97 - ETA: 26:03 - loss: 0.0797 - acc: 0.97 - ETA: 25:59 - loss: 0.0801 - acc: 0.97 - ETA: 25:56 - loss: 0.0794 - acc: 0.97 - ETA: 25:52 - loss: 0.0790 - acc: 0.97 - ETA: 25:49 - loss: 0.0783 - acc: 0.97 - ETA: 25:45 - loss: 0.0797 - acc: 0.97 - ETA: 25:41 - loss: 0.0798 - acc: 0.97 - ETA: 25:38 - loss: 0.0803 - acc: 0.97 - ETA: 25:34 - loss: 0.0802 - acc: 0.97 - ETA: 25:31 - loss: 0.0805 - acc: 0.97 - ETA: 25:27 - loss: 0.0803 - acc: 0.97 - ETA: 25:23 - loss: 0.0802 - acc: 0.97 - ETA: 25:20 - loss: 0.0806 - acc: 0.97 - ETA: 25:17 - loss: 0.0834 - acc: 0.97 - ETA: 25:13 - loss: 0.0843 - acc: 0.97 - ETA: 25:10 - loss: 0.0836 - acc: 0.97 - ETA: 25:06 - loss: 0.0842 - acc: 0.97 - ETA: 25:03 - loss: 0.0840 - acc: 0.97 - ETA: 24:59 - loss: 0.0848 - acc: 0.97 - ETA: 24:56 - loss: 0.0848 - acc: 0.97 - ETA: 24:52 - loss: 0.0875 - acc: 0.97 - ETA: 24:49 - loss: 0.0873 - acc: 0.97 - ETA: 24:45 - loss: 0.0868 - acc: 0.97 - ETA: 24:42 - loss: 0.0862 - acc: 0.97 - ETA: 24:39 - loss: 0.0864 - acc: 0.97 - ETA: 24:35 - loss: 0.0869 - acc: 0.97 - ETA: 24:32 - loss: 0.0867 - acc: 0.97 - ETA: 24:28 - loss: 0.0882 - acc: 0.97 - ETA: 24:24 - loss: 0.0884 - acc: 0.97 - ETA: 24:21 - loss: 0.0874 - acc: 0.97 - ETA: 24:18 - loss: 0.0868 - acc: 0.97 - ETA: 24:15 - loss: 0.0862 - acc: 0.97 - ETA: 24:11 - loss: 0.0856 - acc: 0.97 - ETA: 24:08 - loss: 0.0883 - acc: 0.97 - ETA: 24:04 - loss: 0.0883 - acc: 0.97 - ETA: 24:01 - loss: 0.0897 - acc: 0.97 - ETA: 23:57 - loss: 0.0891 - acc: 0.97 - ETA: 23:54 - loss: 0.0889 - acc: 0.97 - ETA: 23:51 - loss: 0.0881 - acc: 0.97 - ETA: 23:47 - loss: 0.0874 - acc: 0.97 - ETA: 23:44 - loss: 0.0866 - acc: 0.97 - ETA: 23:41 - loss: 0.0861 - acc: 0.97 - ETA: 23:40 - loss: 0.0854 - acc: 0.97 - ETA: 23:37 - loss: 0.0854 - acc: 0.97 - ETA: 23:34 - loss: 0.0848 - acc: 0.97 - ETA: 23:30 - loss: 0.0854 - acc: 0.97 - ETA: 23:27 - loss: 0.0859 - acc: 0.97 - ETA: 23:24 - loss: 0.0863 - acc: 0.97 - ETA: 23:21 - loss: 0.0865 - acc: 0.97 - ETA: 23:18 - loss: 0.0867 - acc: 0.97 - ETA: 23:14 - loss: 0.0863 - acc: 0.97 - ETA: 23:11 - loss: 0.0856 - acc: 0.97 - ETA: 23:08 - loss: 0.0863 - acc: 0.97 - ETA: 23:05 - loss: 0.0862 - acc: 0.97 - ETA: 23:02 - loss: 0.0869 - acc: 0.97 - ETA: 22:59 - loss: 0.0864 - acc: 0.97 - ETA: 22:56 - loss: 0.0859 - acc: 0.97 - ETA: 22:53 - loss: 0.0867 - acc: 0.97 - ETA: 22:50 - loss: 0.0867 - acc: 0.97 - ETA: 22:46 - loss: 0.0869 - acc: 0.97 - ETA: 22:43 - loss: 0.0865 - acc: 0.97 - ETA: 22:39 - loss: 0.0862 - acc: 0.97 - ETA: 22:36 - loss: 0.0856 - acc: 0.97 - ETA: 22:32 - loss: 0.0857 - acc: 0.97 - ETA: 22:29 - loss: 0.0863 - acc: 0.97 - ETA: 22:26 - loss: 0.0859 - acc: 0.97 - ETA: 22:22 - loss: 0.0855 - acc: 0.97 - ETA: 22:19 - loss: 0.0855 - acc: 0.97 - ETA: 22:15 - loss: 0.0854 - acc: 0.97 - ETA: 22:12 - loss: 0.0850 - acc: 0.97 - ETA: 22:08 - loss: 0.0849 - acc: 0.97 - ETA: 22:05 - loss: 0.0846 - acc: 0.97 - ETA: 22:01 - loss: 0.0844 - acc: 0.97 - ETA: 21:58 - loss: 0.0839 - acc: 0.97 - ETA: 21:54 - loss: 0.0841 - acc: 0.97 - ETA: 21:51 - loss: 0.0835 - acc: 0.97 - ETA: 21:48 - loss: 0.0837 - acc: 0.97 - ETA: 21:44 - loss: 0.0834 - acc: 0.97 - ETA: 21:40 - loss: 0.0838 - acc: 0.97 - ETA: 21:37 - loss: 0.0853 - acc: 0.97 - ETA: 21:34 - loss: 0.0853 - acc: 0.97 - ETA: 21:31 - loss: 0.0850 - acc: 0.97 - ETA: 21:28 - loss: 0.0853 - acc: 0.97 - ETA: 21:25 - loss: 0.0862 - acc: 0.97 - ETA: 21:22 - loss: 0.0865 - acc: 0.97 - ETA: 21:19 - loss: 0.0864 - acc: 0.97 - ETA: 21:15 - loss: 0.0862 - acc: 0.97 - ETA: 21:12 - loss: 0.0859 - acc: 0.97 - ETA: 21:09 - loss: 0.0858 - acc: 0.97 - ETA: 21:05 - loss: 0.0866 - acc: 0.97 - ETA: 21:02 - loss: 0.0861 - acc: 0.97 - ETA: 20:58 - loss: 0.0858 - acc: 0.97 - ETA: 20:55 - loss: 0.0863 - acc: 0.97 - ETA: 20:52 - loss: 0.0864 - acc: 0.97 - ETA: 20:48 - loss: 0.0869 - acc: 0.97 - ETA: 20:45 - loss: 0.0869 - acc: 0.97 - ETA: 20:42 - loss: 0.0871 - acc: 0.97 - ETA: 20:39 - loss: 0.0867 - acc: 0.97 - ETA: 20:35 - loss: 0.0866 - acc: 0.97 - ETA: 20:32 - loss: 0.0863 - acc: 0.97 - ETA: 20:28 - loss: 0.0866 - acc: 0.97 - ETA: 20:25 - loss: 0.0875 - acc: 0.97 - ETA: 20:21 - loss: 0.0870 - acc: 0.97 - ETA: 20:18 - loss: 0.0868 - acc: 0.97 - ETA: 20:14 - loss: 0.0867 - acc: 0.97 - ETA: 20:11 - loss: 0.0868 - acc: 0.97 - ETA: 20:07 - loss: 0.0867 - acc: 0.97 - ETA: 20:04 - loss: 0.0867 - acc: 0.97 - ETA: 20:00 - loss: 0.0867 - acc: 0.97 - ETA: 19:57 - loss: 0.0866 - acc: 0.97 - ETA: 19:53 - loss: 0.0869 - acc: 0.97 - ETA: 19:50 - loss: 0.0870 - acc: 0.97 - ETA: 19:46 - loss: 0.0869 - acc: 0.97 - ETA: 19:43 - loss: 0.0867 - acc: 0.97 - ETA: 19:39 - loss: 0.0873 - acc: 0.97 - ETA: 19:36 - loss: 0.0879 - acc: 0.97 - ETA: 19:32 - loss: 0.0877 - acc: 0.97 - ETA: 19:29 - loss: 0.0878 - acc: 0.97 - ETA: 19:26 - loss: 0.0882 - acc: 0.97 - ETA: 19:22 - loss: 0.0889 - acc: 0.97 - ETA: 19:19 - loss: 0.0889 - acc: 0.97 - ETA: 19:15 - loss: 0.0886 - acc: 0.97 - ETA: 19:12 - loss: 0.0895 - acc: 0.97 - ETA: 19:09 - loss: 0.0896 - acc: 0.97 - ETA: 19:05 - loss: 0.0894 - acc: 0.97 - ETA: 19:02 - loss: 0.0891 - acc: 0.97 - ETA: 18:58 - loss: 0.0889 - acc: 0.97 - ETA: 18:55 - loss: 0.0886 - acc: 0.97 - ETA: 18:51 - loss: 0.0884 - acc: 0.97 - ETA: 18:48 - loss: 0.0884 - acc: 0.97 - ETA: 18:45 - loss: 0.0880 - acc: 0.97 - ETA: 18:42 - loss: 0.0880 - acc: 0.97 - ETA: 18:39 - loss: 0.0877 - acc: 0.97 - ETA: 18:36 - loss: 0.0880 - acc: 0.97 - ETA: 18:33 - loss: 0.0886 - acc: 0.97 - ETA: 18:29 - loss: 0.0882 - acc: 0.97 - ETA: 18:26 - loss: 0.0888 - acc: 0.97 - ETA: 18:22 - loss: 0.0893 - acc: 0.97 - ETA: 18:19 - loss: 0.0901 - acc: 0.97 - ETA: 18:16 - loss: 0.0901 - acc: 0.97 - ETA: 18:12 - loss: 0.0901 - acc: 0.97 - ETA: 18:09 - loss: 0.0898 - acc: 0.97 - ETA: 18:05 - loss: 0.0897 - acc: 0.97 - ETA: 18:02 - loss: 0.0900 - acc: 0.97 - ETA: 17:58 - loss: 0.0900 - acc: 0.97 - ETA: 17:55 - loss: 0.0906 - acc: 0.97 - ETA: 17:52 - loss: 0.0903 - acc: 0.97 - ETA: 17:48 - loss: 0.0901 - acc: 0.97 - ETA: 17:45 - loss: 0.0902 - acc: 0.97 - ETA: 17:41 - loss: 0.0906 - acc: 0.97 - ETA: 17:38 - loss: 0.0914 - acc: 0.97 - ETA: 17:35 - loss: 0.0913 - acc: 0.97 - ETA: 17:31 - loss: 0.0913 - acc: 0.97 - ETA: 17:28 - loss: 0.0917 - acc: 0.96 - ETA: 17:24 - loss: 0.0918 - acc: 0.96 - ETA: 17:21 - loss: 0.0919 - acc: 0.96 - ETA: 17:18 - loss: 0.0921 - acc: 0.96 - ETA: 17:14 - loss: 0.0921 - acc: 0.96 - ETA: 17:11 - loss: 0.0924 - acc: 0.96 - ETA: 17:07 - loss: 0.0926 - acc: 0.96 - ETA: 17:04 - loss: 0.0925 - acc: 0.96 - ETA: 17:00 - loss: 0.0924 - acc: 0.969726112/32249 [=======================>......] - ETA: 16:57 - loss: 0.0923 - acc: 0.96 - ETA: 16:54 - loss: 0.0925 - acc: 0.96 - ETA: 16:50 - loss: 0.0921 - acc: 0.96 - ETA: 16:47 - loss: 0.0922 - acc: 0.96 - ETA: 16:44 - loss: 0.0922 - acc: 0.96 - ETA: 16:40 - loss: 0.0920 - acc: 0.96 - ETA: 16:37 - loss: 0.0927 - acc: 0.96 - ETA: 16:33 - loss: 0.0927 - acc: 0.96 - ETA: 16:30 - loss: 0.0925 - acc: 0.96 - ETA: 16:27 - loss: 0.0924 - acc: 0.96 - ETA: 16:23 - loss: 0.0928 - acc: 0.96 - ETA: 16:20 - loss: 0.0929 - acc: 0.96 - ETA: 16:16 - loss: 0.0928 - acc: 0.96 - ETA: 16:13 - loss: 0.0929 - acc: 0.96 - ETA: 16:09 - loss: 0.0927 - acc: 0.96 - ETA: 16:06 - loss: 0.0924 - acc: 0.96 - ETA: 16:02 - loss: 0.0925 - acc: 0.96 - ETA: 15:59 - loss: 0.0924 - acc: 0.96 - ETA: 15:56 - loss: 0.0924 - acc: 0.96 - ETA: 15:52 - loss: 0.0924 - acc: 0.96 - ETA: 15:49 - loss: 0.0921 - acc: 0.96 - ETA: 15:45 - loss: 0.0930 - acc: 0.96 - ETA: 15:42 - loss: 0.0928 - acc: 0.96 - ETA: 15:39 - loss: 0.0930 - acc: 0.96 - ETA: 15:35 - loss: 0.0928 - acc: 0.96 - ETA: 15:32 - loss: 0.0930 - acc: 0.96 - ETA: 15:28 - loss: 0.0933 - acc: 0.96 - ETA: 15:25 - loss: 0.0932 - acc: 0.96 - ETA: 15:21 - loss: 0.0938 - acc: 0.96 - ETA: 15:18 - loss: 0.0939 - acc: 0.96 - ETA: 15:14 - loss: 0.0939 - acc: 0.96 - ETA: 15:11 - loss: 0.0943 - acc: 0.96 - ETA: 15:08 - loss: 0.0942 - acc: 0.96 - ETA: 15:04 - loss: 0.0940 - acc: 0.96 - ETA: 15:01 - loss: 0.0939 - acc: 0.96 - ETA: 14:57 - loss: 0.0941 - acc: 0.96 - ETA: 14:54 - loss: 0.0942 - acc: 0.96 - ETA: 14:51 - loss: 0.0941 - acc: 0.96 - ETA: 14:47 - loss: 0.0939 - acc: 0.96 - ETA: 14:44 - loss: 0.0944 - acc: 0.96 - ETA: 14:41 - loss: 0.0946 - acc: 0.96 - ETA: 14:37 - loss: 0.0945 - acc: 0.96 - ETA: 14:34 - loss: 0.0945 - acc: 0.96 - ETA: 14:30 - loss: 0.0944 - acc: 0.96 - ETA: 14:27 - loss: 0.0943 - acc: 0.96 - ETA: 14:24 - loss: 0.0942 - acc: 0.96 - ETA: 14:20 - loss: 0.0941 - acc: 0.96 - ETA: 14:17 - loss: 0.0939 - acc: 0.96 - ETA: 14:13 - loss: 0.0937 - acc: 0.96 - ETA: 14:10 - loss: 0.0934 - acc: 0.96 - ETA: 14:06 - loss: 0.0933 - acc: 0.96 - ETA: 14:03 - loss: 0.0932 - acc: 0.96 - ETA: 14:00 - loss: 0.0929 - acc: 0.96 - ETA: 13:56 - loss: 0.0933 - acc: 0.96 - ETA: 13:53 - loss: 0.0936 - acc: 0.96 - ETA: 13:50 - loss: 0.0939 - acc: 0.96 - ETA: 13:46 - loss: 0.0937 - acc: 0.96 - ETA: 13:43 - loss: 0.0938 - acc: 0.96 - ETA: 13:40 - loss: 0.0941 - acc: 0.96 - ETA: 13:36 - loss: 0.0939 - acc: 0.96 - ETA: 13:33 - loss: 0.0942 - acc: 0.96 - ETA: 13:30 - loss: 0.0943 - acc: 0.96 - ETA: 13:26 - loss: 0.0947 - acc: 0.96 - ETA: 13:23 - loss: 0.0946 - acc: 0.96 - ETA: 13:19 - loss: 0.0948 - acc: 0.96 - ETA: 13:16 - loss: 0.0953 - acc: 0.96 - ETA: 13:12 - loss: 0.0955 - acc: 0.96 - ETA: 13:09 - loss: 0.0955 - acc: 0.96 - ETA: 13:06 - loss: 0.0958 - acc: 0.96 - ETA: 13:03 - loss: 0.0961 - acc: 0.96 - ETA: 13:00 - loss: 0.0960 - acc: 0.96 - ETA: 12:56 - loss: 0.0960 - acc: 0.96 - ETA: 12:53 - loss: 0.0959 - acc: 0.96 - ETA: 12:50 - loss: 0.0957 - acc: 0.96 - ETA: 12:46 - loss: 0.0957 - acc: 0.96 - ETA: 12:43 - loss: 0.0956 - acc: 0.96 - ETA: 12:40 - loss: 0.0957 - acc: 0.96 - ETA: 12:36 - loss: 0.0960 - acc: 0.96 - ETA: 12:33 - loss: 0.0960 - acc: 0.96 - ETA: 12:29 - loss: 0.0963 - acc: 0.96 - ETA: 12:26 - loss: 0.0962 - acc: 0.96 - ETA: 12:23 - loss: 0.0963 - acc: 0.96 - ETA: 12:19 - loss: 0.0962 - acc: 0.96 - ETA: 12:16 - loss: 0.0964 - acc: 0.96 - ETA: 12:12 - loss: 0.0964 - acc: 0.96 - ETA: 12:09 - loss: 0.0964 - acc: 0.96 - ETA: 12:06 - loss: 0.0962 - acc: 0.96 - ETA: 12:02 - loss: 0.0963 - acc: 0.96 - ETA: 11:59 - loss: 0.0966 - acc: 0.96 - ETA: 11:55 - loss: 0.0965 - acc: 0.96 - ETA: 11:52 - loss: 0.0964 - acc: 0.96 - ETA: 11:49 - loss: 0.0968 - acc: 0.96 - ETA: 11:45 - loss: 0.0969 - acc: 0.96 - ETA: 11:42 - loss: 0.0969 - acc: 0.96 - ETA: 11:38 - loss: 0.0968 - acc: 0.96 - ETA: 11:35 - loss: 0.0969 - acc: 0.96 - ETA: 11:32 - loss: 0.0971 - acc: 0.96 - ETA: 11:28 - loss: 0.0971 - acc: 0.96 - ETA: 11:25 - loss: 0.0970 - acc: 0.96 - ETA: 11:21 - loss: 0.0970 - acc: 0.96 - ETA: 11:18 - loss: 0.0971 - acc: 0.96 - ETA: 11:14 - loss: 0.0972 - acc: 0.96 - ETA: 11:11 - loss: 0.0971 - acc: 0.96 - ETA: 11:08 - loss: 0.0969 - acc: 0.96 - ETA: 11:04 - loss: 0.0969 - acc: 0.96 - ETA: 11:01 - loss: 0.0971 - acc: 0.96 - ETA: 10:57 - loss: 0.0973 - acc: 0.96 - ETA: 10:54 - loss: 0.0975 - acc: 0.96 - ETA: 10:51 - loss: 0.0975 - acc: 0.96 - ETA: 10:47 - loss: 0.0973 - acc: 0.96 - ETA: 10:44 - loss: 0.0974 - acc: 0.96 - ETA: 10:40 - loss: 0.0974 - acc: 0.96 - ETA: 10:37 - loss: 0.0979 - acc: 0.96 - ETA: 10:33 - loss: 0.0982 - acc: 0.96 - ETA: 10:30 - loss: 0.0982 - acc: 0.96 - ETA: 10:27 - loss: 0.0982 - acc: 0.96 - ETA: 10:23 - loss: 0.0981 - acc: 0.96 - ETA: 10:20 - loss: 0.0984 - acc: 0.96 - ETA: 10:16 - loss: 0.0984 - acc: 0.96 - ETA: 10:13 - loss: 0.0985 - acc: 0.96 - ETA: 10:10 - loss: 0.0984 - acc: 0.96 - ETA: 10:06 - loss: 0.0983 - acc: 0.96 - ETA: 10:03 - loss: 0.0985 - acc: 0.96 - ETA: 9:59 - loss: 0.0984 - acc: 0.9653 - ETA: 9:56 - loss: 0.0983 - acc: 0.965 - ETA: 9:52 - loss: 0.0981 - acc: 0.965 - ETA: 9:49 - loss: 0.0982 - acc: 0.965 - ETA: 9:46 - loss: 0.0981 - acc: 0.965 - ETA: 9:42 - loss: 0.0982 - acc: 0.965 - ETA: 9:39 - loss: 0.0979 - acc: 0.965 - ETA: 9:35 - loss: 0.0981 - acc: 0.965 - ETA: 9:32 - loss: 0.0979 - acc: 0.965 - ETA: 9:28 - loss: 0.0982 - acc: 0.965 - ETA: 9:25 - loss: 0.0983 - acc: 0.965 - ETA: 9:22 - loss: 0.0982 - acc: 0.965 - ETA: 9:18 - loss: 0.0986 - acc: 0.965 - ETA: 9:15 - loss: 0.0987 - acc: 0.965 - ETA: 9:11 - loss: 0.0991 - acc: 0.965 - ETA: 9:08 - loss: 0.0990 - acc: 0.965 - ETA: 9:05 - loss: 0.0989 - acc: 0.965 - ETA: 9:01 - loss: 0.0990 - acc: 0.965 - ETA: 8:58 - loss: 0.0991 - acc: 0.965 - ETA: 8:54 - loss: 0.0994 - acc: 0.965 - ETA: 8:51 - loss: 0.1000 - acc: 0.965 - ETA: 8:48 - loss: 0.1003 - acc: 0.964 - ETA: 8:44 - loss: 0.1006 - acc: 0.964 - ETA: 8:41 - loss: 0.1006 - acc: 0.964 - ETA: 8:38 - loss: 0.1007 - acc: 0.964 - ETA: 8:34 - loss: 0.1007 - acc: 0.964 - ETA: 8:31 - loss: 0.1008 - acc: 0.964 - ETA: 8:28 - loss: 0.1011 - acc: 0.964 - ETA: 8:24 - loss: 0.1010 - acc: 0.964 - ETA: 8:21 - loss: 0.1014 - acc: 0.964 - ETA: 8:17 - loss: 0.1017 - acc: 0.964 - ETA: 8:14 - loss: 0.1016 - acc: 0.964 - ETA: 8:10 - loss: 0.1019 - acc: 0.964 - ETA: 8:07 - loss: 0.1020 - acc: 0.964 - ETA: 8:04 - loss: 0.1018 - acc: 0.964 - ETA: 8:00 - loss: 0.1018 - acc: 0.964 - ETA: 7:57 - loss: 0.1021 - acc: 0.964 - ETA: 7:53 - loss: 0.1024 - acc: 0.964 - ETA: 7:50 - loss: 0.1025 - acc: 0.964 - ETA: 7:47 - loss: 0.1026 - acc: 0.964 - ETA: 7:43 - loss: 0.1027 - acc: 0.964 - ETA: 7:40 - loss: 0.1028 - acc: 0.964 - ETA: 7:36 - loss: 0.1031 - acc: 0.963 - ETA: 7:33 - loss: 0.1029 - acc: 0.964 - ETA: 7:30 - loss: 0.1028 - acc: 0.964 - ETA: 7:26 - loss: 0.1030 - acc: 0.964 - ETA: 7:23 - loss: 0.1029 - acc: 0.964 - ETA: 7:19 - loss: 0.1031 - acc: 0.964 - ETA: 7:16 - loss: 0.1030 - acc: 0.963 - ETA: 7:12 - loss: 0.1035 - acc: 0.963 - ETA: 7:09 - loss: 0.1034 - acc: 0.963 - ETA: 7:06 - loss: 0.1035 - acc: 0.963 - ETA: 7:02 - loss: 0.1036 - acc: 0.963 - ETA: 6:59 - loss: 0.1035 - acc: 0.963 - ETA: 6:55 - loss: 0.1038 - acc: 0.963 - ETA: 6:52 - loss: 0.1038 - acc: 0.963 - ETA: 6:48 - loss: 0.1041 - acc: 0.963 - ETA: 6:45 - loss: 0.1041 - acc: 0.963 - ETA: 6:42 - loss: 0.1040 - acc: 0.963 - ETA: 6:38 - loss: 0.1040 - acc: 0.963 - ETA: 6:35 - loss: 0.1040 - acc: 0.963 - ETA: 6:31 - loss: 0.1040 - acc: 0.963 - ETA: 6:28 - loss: 0.1040 - acc: 0.963 - ETA: 6:25 - loss: 0.1041 - acc: 0.963 - ETA: 6:21 - loss: 0.1043 - acc: 0.963 - ETA: 6:18 - loss: 0.1043 - acc: 0.963 - ETA: 6:14 - loss: 0.1043 - acc: 0.963 - ETA: 6:11 - loss: 0.1044 - acc: 0.963 - ETA: 6:08 - loss: 0.1042 - acc: 0.963 - ETA: 6:04 - loss: 0.1042 - acc: 0.963 - ETA: 6:01 - loss: 0.1042 - acc: 0.963 - ETA: 5:57 - loss: 0.1043 - acc: 0.963 - ETA: 5:54 - loss: 0.1045 - acc: 0.963 - ETA: 5:51 - loss: 0.1043 - acc: 0.963 - ETA: 5:47 - loss: 0.1042 - acc: 0.963 - ETA: 5:44 - loss: 0.1042 - acc: 0.963 - ETA: 5:40 - loss: 0.1044 - acc: 0.963 - ETA: 5:37 - loss: 0.1043 - acc: 0.963 - ETA: 5:33 - loss: 0.1043 - acc: 0.963 - ETA: 5:30 - loss: 0.1043 - acc: 0.963 - ETA: 5:27 - loss: 0.1043 - acc: 0.9634"
     ]
    },
    {
     "name": "stdout",
     "output_type": "stream",
     "text": [
      "32249/32249 [==============================] - ETA: 5:23 - loss: 0.1045 - acc: 0.963 - ETA: 5:20 - loss: 0.1044 - acc: 0.963 - ETA: 5:16 - loss: 0.1044 - acc: 0.963 - ETA: 5:13 - loss: 0.1044 - acc: 0.963 - ETA: 5:10 - loss: 0.1044 - acc: 0.963 - ETA: 5:06 - loss: 0.1044 - acc: 0.963 - ETA: 5:03 - loss: 0.1043 - acc: 0.963 - ETA: 4:59 - loss: 0.1043 - acc: 0.963 - ETA: 4:56 - loss: 0.1047 - acc: 0.963 - ETA: 4:52 - loss: 0.1049 - acc: 0.963 - ETA: 4:49 - loss: 0.1048 - acc: 0.963 - ETA: 4:46 - loss: 0.1049 - acc: 0.963 - ETA: 4:42 - loss: 0.1047 - acc: 0.963 - ETA: 4:39 - loss: 0.1047 - acc: 0.963 - ETA: 4:35 - loss: 0.1047 - acc: 0.963 - ETA: 4:32 - loss: 0.1047 - acc: 0.963 - ETA: 4:29 - loss: 0.1051 - acc: 0.963 - ETA: 4:25 - loss: 0.1051 - acc: 0.963 - ETA: 4:22 - loss: 0.1050 - acc: 0.963 - ETA: 4:18 - loss: 0.1053 - acc: 0.963 - ETA: 4:15 - loss: 0.1054 - acc: 0.963 - ETA: 4:12 - loss: 0.1054 - acc: 0.963 - ETA: 4:08 - loss: 0.1053 - acc: 0.963 - ETA: 4:05 - loss: 0.1052 - acc: 0.963 - ETA: 4:01 - loss: 0.1053 - acc: 0.963 - ETA: 3:58 - loss: 0.1056 - acc: 0.962 - ETA: 3:55 - loss: 0.1056 - acc: 0.962 - ETA: 3:51 - loss: 0.1057 - acc: 0.962 - ETA: 3:48 - loss: 0.1056 - acc: 0.962 - ETA: 3:45 - loss: 0.1057 - acc: 0.962 - ETA: 3:41 - loss: 0.1056 - acc: 0.962 - ETA: 3:38 - loss: 0.1056 - acc: 0.962 - ETA: 3:34 - loss: 0.1057 - acc: 0.962 - ETA: 3:31 - loss: 0.1056 - acc: 0.962 - ETA: 3:28 - loss: 0.1059 - acc: 0.962 - ETA: 3:24 - loss: 0.1061 - acc: 0.962 - ETA: 3:21 - loss: 0.1060 - acc: 0.962 - ETA: 3:17 - loss: 0.1062 - acc: 0.962 - ETA: 3:14 - loss: 0.1060 - acc: 0.962 - ETA: 3:11 - loss: 0.1061 - acc: 0.962 - ETA: 3:07 - loss: 0.1060 - acc: 0.962 - ETA: 3:04 - loss: 0.1060 - acc: 0.962 - ETA: 3:00 - loss: 0.1059 - acc: 0.962 - ETA: 2:57 - loss: 0.1059 - acc: 0.962 - ETA: 2:54 - loss: 0.1061 - acc: 0.962 - ETA: 2:50 - loss: 0.1060 - acc: 0.962 - ETA: 2:47 - loss: 0.1061 - acc: 0.962 - ETA: 2:43 - loss: 0.1060 - acc: 0.962 - ETA: 2:40 - loss: 0.1061 - acc: 0.962 - ETA: 2:36 - loss: 0.1060 - acc: 0.962 - ETA: 2:33 - loss: 0.1063 - acc: 0.962 - ETA: 2:30 - loss: 0.1065 - acc: 0.962 - ETA: 2:26 - loss: 0.1064 - acc: 0.962 - ETA: 2:23 - loss: 0.1064 - acc: 0.962 - ETA: 2:19 - loss: 0.1064 - acc: 0.962 - ETA: 2:16 - loss: 0.1065 - acc: 0.962 - ETA: 2:13 - loss: 0.1065 - acc: 0.962 - ETA: 2:09 - loss: 0.1065 - acc: 0.962 - ETA: 2:06 - loss: 0.1067 - acc: 0.962 - ETA: 2:02 - loss: 0.1068 - acc: 0.962 - ETA: 1:59 - loss: 0.1068 - acc: 0.962 - ETA: 1:55 - loss: 0.1068 - acc: 0.962 - ETA: 1:52 - loss: 0.1067 - acc: 0.962 - ETA: 1:49 - loss: 0.1067 - acc: 0.962 - ETA: 1:45 - loss: 0.1067 - acc: 0.962 - ETA: 1:42 - loss: 0.1067 - acc: 0.962 - ETA: 1:38 - loss: 0.1068 - acc: 0.962 - ETA: 1:35 - loss: 0.1067 - acc: 0.962 - ETA: 1:31 - loss: 0.1067 - acc: 0.962 - ETA: 1:28 - loss: 0.1068 - acc: 0.962 - ETA: 1:25 - loss: 0.1067 - acc: 0.962 - ETA: 1:21 - loss: 0.1069 - acc: 0.962 - ETA: 1:18 - loss: 0.1070 - acc: 0.962 - ETA: 1:14 - loss: 0.1073 - acc: 0.962 - ETA: 1:11 - loss: 0.1072 - acc: 0.962 - ETA: 1:08 - loss: 0.1072 - acc: 0.962 - ETA: 1:04 - loss: 0.1071 - acc: 0.962 - ETA: 1:01 - loss: 0.1073 - acc: 0.962 - ETA: 57s - loss: 0.1073 - acc: 0.962 - ETA: 54s - loss: 0.1074 - acc: 0.96 - ETA: 50s - loss: 0.1073 - acc: 0.96 - ETA: 47s - loss: 0.1075 - acc: 0.96 - ETA: 44s - loss: 0.1075 - acc: 0.96 - ETA: 40s - loss: 0.1075 - acc: 0.96 - ETA: 37s - loss: 0.1075 - acc: 0.96 - ETA: 33s - loss: 0.1076 - acc: 0.96 - ETA: 30s - loss: 0.1075 - acc: 0.96 - ETA: 26s - loss: 0.1076 - acc: 0.96 - ETA: 23s - loss: 0.1076 - acc: 0.96 - ETA: 20s - loss: 0.1075 - acc: 0.96 - ETA: 16s - loss: 0.1074 - acc: 0.96 - ETA: 13s - loss: 0.1073 - acc: 0.96 - ETA: 9s - loss: 0.1072 - acc: 0.9620 - ETA: 6s - loss: 0.1073 - acc: 0.962 - ETA: 3s - loss: 0.1071 - acc: 0.962 - 1916s 59ms/step - loss: 0.1070 - acc: 0.9621 - val_loss: 0.2699 - val_acc: 0.9104\n",
      "Test loss: 0.2699009344992978\n",
      "Test accuracy: 0.910432643559886\n"
     ]
    },
    {
     "data": {
      "image/png": "[encoded data removed]",
      "text/plain": [
       "<matplotlib.figure.Figure at 0x1efd132f9b0>"
      ]
     },
     "metadata": {},
     "output_type": "display_data"
    }
   ],
   "source": [
    "epochs = 5\n",
    "train=model1.fit(X_train, y_tr,\n",
    "          batch_size=64,\n",
    "          epochs=epochs,\n",
    "          verbose=1,\n",
    "          validation_data=(X_test, y_test))\n",
    "score = model1.evaluate(X_test, y_test, verbose=0)\n",
    "print('Test loss:', score[0])\n",
    "print('Test accuracy:', score[1])\n",
    "fig, ax = plt.subplots(1,1)    \n",
    "ax.set_xlabel('epoch') \n",
    "ax.set_ylabel('Categorical Crossentropy Loss')\n",
    "x_axis_values = list(range(1,epochs+1))\n",
    "\n",
    "validation_loss = train.history['val_loss']\n",
    "train_loss = train.history['loss']   \n",
    "    \n",
    "ax.plot(x_axis_values, validation_loss, 'b', label=\"Validation Loss\")\n",
    "ax.plot(x_axis_values, train_loss, 'r', label=\"Train Loss\")\n",
    "plt.legend()\n",
    "plt.grid()\n",
    "fig.canvas.draw()\n"
   ]
  },
  {
   "cell_type": "code",
   "execution_count": 44,
   "metadata": {},
   "outputs": [
    {
     "name": "stdout",
     "output_type": "stream",
     "text": [
      "Test loss: 0.2699009344992978\n",
      "Test accuracy: 0.910432643559886\n"
     ]
    },
    {
     "data": {
      "image/png": "[encoded data removed]",
      "text/plain": [
       "<matplotlib.figure.Figure at 0x1efe54a2080>"
      ]
     },
     "metadata": {},
     "output_type": "display_data"
    }
   ],
   "source": [
    "print('Test loss:', score[0])\n",
    "print('Test accuracy:', score[1])\n",
    "fig, ax = plt.subplots(1,1)    \n",
    "ax.set_xlabel('epoch') \n",
    "ax.set_ylabel('Categorical Crossentropy Loss')\n",
    "x_axis_values = list(range(1,epochs+1))\n",
    "\n",
    "validation_loss = train.history['val_loss']\n",
    "train_loss = train.history['loss']   \n",
    "    \n",
    "ax.plot(x_axis_values, validation_loss, 'b', label=\"Validation Loss\")\n",
    "ax.plot(x_axis_values, train_loss, 'r', label=\"Train Loss\")\n",
    "plt.legend()\n",
    "plt.grid()\n",
    "fig.canvas.draw()"
   ]
  },
  {
   "cell_type": "code",
   "execution_count": 47,
   "metadata": {},
   "outputs": [
    {
     "name": "stdout",
     "output_type": "stream",
     "text": [
      "+--------+-----------------------+----------+\n",
      "| epochs | number of lstm layers | accuracy |\n",
      "+--------+-----------------------+----------+\n",
      "|   5    |           1           |  89.94   |\n",
      "|   5    |           2           |  91.04   |\n",
      "+--------+-----------------------+----------+\n"
     ]
    }
   ],
   "source": [
    "#Observation\n",
    "from prettytable import PrettyTable\n",
    "x = PrettyTable()\n",
    "x.field_names = [\"epochs\", \"number of lstm layers\", \"accuracy\"]\n",
    "x.add_row([\"5\", \"1\",89.94])\n",
    "x.add_row([\"5\", \"2\",91.04])\n",
    "print(x)"
   ]
  },
  {
   "cell_type": "code",
   "execution_count": null,
   "metadata": {},
   "outputs": [],
   "source": [
    "embedding_vecor_length = 45\n",
    "model = Sequential()\n",
    "model.add(Embedding(top_words+1, embedding_vecor_length, input_length=max_review_length))\n",
    "model.add(LSTM(100))\n",
    "model.add(Dense(1, activation='sigmoid'))\n",
    "model.compile(loss='binary_crossentropy', optimizer='adam', metrics=['accuracy'])\n",
    "print(model.summary())"
   ]
  },
  {
   "cell_type": "code",
   "execution_count": null,
   "metadata": {},
   "outputs": [],
   "source": []
  },
  {
   "cell_type": "code",
   "execution_count": null,
   "metadata": {},
   "outputs": [],
   "source": []
  },
  {
   "cell_type": "code",
   "execution_count": null,
   "metadata": {},
   "outputs": [],
   "source": []
  },
  {
   "cell_type": "code",
   "execution_count": null,
   "metadata": {},
   "outputs": [],
   "source": []
  }
 ],
 "metadata": {
  "colab": {
   "collapsed_sections": [
    "9amw6tMZCAaL",
    "1dhfJZ7ZCAaR",
    "F--Xk5fhCAaV",
    "XnzP-eZdCAaa",
    "EPjGCg7UCAag",
    "oPxfYXhMCAag",
    "sKAEsZZLCAam",
    "ejF91OEjCAaw",
    "b_-boR2SCAay",
    "zln2L0SUCAa0",
    "RBaVF4aHCAa4"
   ],
   "name": "02 Amazon Fine Food Reviews Analysis_TSNE.ipynb",
   "provenance": [],
   "version": "0.3.2"
  },
  "kernelspec": {
   "display_name": "Python 3",
   "language": "python",
   "name": "python3"
  },
  "language_info": {
   "codemirror_mode": {
    "name": "ipython",
    "version": 3
   },
   "file_extension": ".py",
   "mimetype": "text/x-python",
   "name": "python",
   "nbconvert_exporter": "python",
   "pygments_lexer": "ipython3",
   "version": "3.6.4"
  }
 },
 "nbformat": 4,
 "nbformat_minor": 1
}
